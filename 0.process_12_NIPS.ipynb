{
 "cells": [
  {
   "cell_type": "code",
   "execution_count": 4,
   "id": "8c4f4a1e-bd53-4d02-b947-c13a34e1f26e",
   "metadata": {},
   "outputs": [],
   "source": [
    "import pandas as pd\n",
    "import re"
   ]
  },
  {
   "attachments": {},
   "cell_type": "markdown",
   "id": "71d2b7db-f9e5-4499-885b-9943c990f232",
   "metadata": {
    "tags": []
   },
   "source": [
    "# NIPS"
   ]
  },
  {
   "attachments": {},
   "cell_type": "markdown",
   "id": "8612ef4a-74ed-4372-b4ec-baf7e7f8572a",
   "metadata": {},
   "source": [
    "## NIPS 2021"
   ]
  },
  {
   "cell_type": "code",
   "execution_count": 5,
   "id": "565eeb25-7d69-4f33-a324-fb72ec0ec8de",
   "metadata": {
    "tags": []
   },
   "outputs": [],
   "source": [
    "def format_NIPS_data_to_df(raw_path, source='NIPS', year=2021, present='oral'):\n",
    "    save_path = raw_path + '_df.csv'\n",
    "    \n",
    "    file1 = open(raw_path, 'r')\n",
    "    Lines = file1.readlines()\n",
    "\n",
    "    title, authors = [], []\n",
    "\n",
    "    record_counter = 1\n",
    "    # Strips the newline character\n",
    "    for line in Lines:\n",
    "        if record_counter == 1:\n",
    "            title.append(line.strip())\n",
    "        elif record_counter == 2:\n",
    "            authors.append(line.strip())\n",
    "        elif 'Show details' in line:\n",
    "            record_counter = 0\n",
    "        record_counter += 1\n",
    "\n",
    "    article_year = [year] * len(title)\n",
    "    article_source = [source] * len(title)\n",
    "    article_class = [present] * len(title)\n",
    "\n",
    "\n",
    "    data_frame = pd.DataFrame({'Title':title, 'Year': article_year, 'Source': article_source, 'Authors': authors, 'Class': article_class})\n",
    "    return data_frame\n",
    "\n",
    "def remove_duplicates(data_frame):\n",
    "    raw_length = len(data_frame)\n",
    "    data_frame = data_frame.drop_duplicates(subset = \"Title\")\n",
    "    print(f\"Totally {raw_length} papers, {len(data_frame)} left after remve duplicates.\")\n",
    "    return data_frame\n",
    "\n",
    "def merge_data2df(oral='./data/ICLR/2022-ICLR-oral.txt', poster='./data/ICLR/2022-ICLR-poster.txt', spotlight='./data/ICLR/2022-ICLR-spotlight.txt'):\n",
    "    df_ICLR_oral = format_NIPS_data_to_df(oral, present='oral')    \n",
    "    df_ICLR_poster = format_NIPS_data_to_df(poster, present='poster')\n",
    "    df_ICLR_spotlight = format_NIPS_data_to_df(spotlight, present='spotlight')\n",
    "\n",
    "    df_ICLR = pd.concat([df_ICLR_oral, df_ICLR_spotlight, df_ICLR_poster])\n",
    "    df_ICLR = remove_duplicates(df_ICLR)\n",
    "    return df_ICLR"
   ]
  },
  {
   "cell_type": "code",
   "execution_count": 6,
   "id": "c1608cd5-d7cb-4875-bc22-69eb291b48d3",
   "metadata": {},
   "outputs": [
    {
     "name": "stdout",
     "output_type": "stream",
     "text": [
      "Totally 2630 papers, 2333 left after remve duplicates.\n"
     ]
    }
   ],
   "source": [
    "df_NIPS21 = merge_data2df(oral='./data/raw/NIPS/21-NIPS-oral.txt', poster='./data/raw/NIPS/21-NIPS-poster.txt', spotlight='./data/raw/NIPS/21-NIPS-spotlight.txt')\n",
    "df_NIPS21[['Title', 'Year', 'Source', 'Authors', 'Class']].to_csv('data/2021/NIPS_21.csv', index=False)"
   ]
  },
  {
   "cell_type": "code",
   "execution_count": null,
   "id": "4e7e140f-eac6-4437-be07-beee0e75ec6e",
   "metadata": {},
   "outputs": [],
   "source": []
  }
 ],
 "metadata": {
  "kernelspec": {
   "display_name": "Python 3 (ipykernel)",
   "language": "python",
   "name": "python3"
  },
  "language_info": {
   "codemirror_mode": {
    "name": "ipython",
    "version": 3
   },
   "file_extension": ".py",
   "mimetype": "text/x-python",
   "name": "python",
   "nbconvert_exporter": "python",
   "pygments_lexer": "ipython3",
   "version": "3.7.12"
  }
 },
 "nbformat": 4,
 "nbformat_minor": 5
}
