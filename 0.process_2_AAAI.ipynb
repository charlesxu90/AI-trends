{
 "cells": [
  {
   "cell_type": "code",
   "execution_count": 1,
   "id": "8c4f4a1e-bd53-4d02-b947-c13a34e1f26e",
   "metadata": {},
   "outputs": [],
   "source": [
    "import pandas as pd\n",
    "import re"
   ]
  },
  {
   "attachments": {},
   "cell_type": "markdown",
   "id": "0fbc9fc5-4c8b-4621-ae73-a622c58a5966",
   "metadata": {
    "tags": []
   },
   "source": [
    "# AAAI"
   ]
  },
  {
   "attachments": {},
   "cell_type": "markdown",
   "id": "109f186b-5a1a-4f06-ab73-63f5e128f5cc",
   "metadata": {
    "tags": []
   },
   "source": [
    "## AAAI 2022"
   ]
  },
  {
   "attachments": {},
   "cell_type": "markdown",
   "id": "4cfc803c-1174-4efe-aaf8-60cce6216bdf",
   "metadata": {
    "tags": []
   },
   "source": [
    "- Original format:\n",
    "\n",
    "Training a Resilient Q-Network against Observational Interference <br />\n",
    "Chao-Han Huck Yang, I-Te Danny Hung, Yi Ouyang, Pin-Yu Chen<br />\n",
    "[AAAI-22] MAIN TRACK\n",
    "\n",
    "- Saved format:\n",
    "   \n",
    "| Title | Year | Source | Authors | Class |"
   ]
  },
  {
   "cell_type": "code",
   "execution_count": 2,
   "id": "ca8b999e-fadd-4998-99ca-02deb7366f52",
   "metadata": {},
   "outputs": [],
   "source": [
    "def format_AAAI22_data_to_df(raw_path, source='AAAI', year=2022, mark='[AAAI-22]'):\n",
    "    save_path = raw_path + '_df.csv'\n",
    "    \n",
    "    file1 = open(raw_path, 'r')\n",
    "    Lines = file1.readlines()\n",
    "\n",
    "    title, authors, article_class = [], [], []\n",
    "\n",
    "    record_counter = 1\n",
    "    # Strips the newline character\n",
    "    for line in Lines:\n",
    "        if record_counter == 1:\n",
    "            title.append(line.strip())\n",
    "        elif record_counter == 2:\n",
    "            authors.append(line.strip())\n",
    "        elif mark in line:\n",
    "            article_class.append(line[len(mark):].strip())\n",
    "            record_counter = 0\n",
    "        record_counter += 1\n",
    "\n",
    "    article_year = [year] * len(title)\n",
    "    article_source = [source] * len(title)\n",
    "\n",
    "    data_frame = pd.DataFrame({'Title':title, 'Year': article_year, 'Source': article_source, 'Authors': authors, 'Class': article_class})\n",
    "\n",
    "    raw_length = len(data_frame)\n",
    "    data_frame = data_frame.drop_duplicates(subset = \"Title\")\n",
    "    print(f\"Totally {raw_length} papers, {len(data_frame)} left after remve duplicates.\")\n",
    "    data_frame.to_csv(save_path, index=False)\n",
    "    return data_frame"
   ]
  },
  {
   "cell_type": "code",
   "execution_count": 3,
   "id": "42f4befe-86f7-40ca-bd7b-a488cacc5767",
   "metadata": {},
   "outputs": [
    {
     "name": "stdout",
     "output_type": "stream",
     "text": [
      "Totally 1552 papers, 1552 left after remve duplicates.\n"
     ]
    }
   ],
   "source": [
    "raw_path = './data/raw/AAAI/AAAI-2022.txt'\n",
    "\n",
    "df_AAAI22 = format_AAAI22_data_to_df(raw_path)\n",
    "df_AAAI22[['Title', 'Year', 'Source', 'Authors', 'Class']].to_csv('./data/2022/AAAI_22.csv', index=False)"
   ]
  },
  {
   "attachments": {},
   "cell_type": "markdown",
   "id": "d9c4e677-4853-489d-92c5-698ef212fc1f",
   "metadata": {
    "tags": []
   },
   "source": [
    "## AAAI 2021"
   ]
  },
  {
   "cell_type": "code",
   "execution_count": 4,
   "id": "ccd4674f-b326-4546-a4ad-49a3a92b42c0",
   "metadata": {},
   "outputs": [],
   "source": [
    "def format_AAAI21_data_to_df(raw_path, source='AAAI', year=2021):\n",
    "    mark=['[AAAI-21]']\n",
    "    \n",
    "    file1 = open(raw_path, 'r')\n",
    "    Lines = file1.readlines()\n",
    "\n",
    "    title, authors, article_class = [], [], []\n",
    "\n",
    "    record_counter = 1\n",
    "    # Strips the newline character\n",
    "    for line in Lines:\n",
    "        title_regex = re.compile(r\"\\d+\\.\")\n",
    "        \n",
    "        if re.match(r\"\\d+\\.\", line):\n",
    "            title.append(line.strip())\n",
    "            prev_line = line.strip()\n",
    "        elif ',' in line or len(line.split(' ')) == 2:\n",
    "            authors.append(line.strip())\n",
    "            prev_line = line.strip()\n",
    "        elif mark in line:\n",
    "            article_class.append(line[len(mark):].strip())\n",
    "            record_counter = 0\n",
    "        else:\n",
    "            record_counter += 1\n",
    "\n",
    "    article_year = [year] * len(title)\n",
    "    article_source = [source] * len(title)\n",
    "\n",
    "    data_frame = pd.DataFrame({'Title':title, 'Year': article_year, 'Source': article_source, 'Authors': authors, 'Class': article_class})\n",
    "\n",
    "    raw_length = len(data_frame)\n",
    "    data_frame = data_frame.drop_duplicates(subset = \"Title\")\n",
    "    print(f\"Totally {raw_length} papers, {len(data_frame)} left after remve duplicates.\")\n",
    "    return data_frame\n",
    "    "
   ]
  },
  {
   "cell_type": "code",
   "execution_count": 5,
   "id": "9c53a63b-a038-4609-b604-349b32564108",
   "metadata": {},
   "outputs": [],
   "source": [
    "# df_AAAI21 = format_AAAI21_data_to_df('./data/raw/AAAI/AAAI-21.txt')\n",
    "# df_AAAI21[['Title', 'Year', 'Source', 'Authors', 'Class']].to_csv('./data/2021/AAAI_21.csv', index=False)"
   ]
  },
  {
   "cell_type": "code",
   "execution_count": null,
   "id": "4e7e140f-eac6-4437-be07-beee0e75ec6e",
   "metadata": {},
   "outputs": [],
   "source": []
  }
 ],
 "metadata": {
  "kernelspec": {
   "display_name": "Python 3 (ipykernel)",
   "language": "python",
   "name": "python3"
  },
  "language_info": {
   "codemirror_mode": {
    "name": "ipython",
    "version": 3
   },
   "file_extension": ".py",
   "mimetype": "text/x-python",
   "name": "python",
   "nbconvert_exporter": "python",
   "pygments_lexer": "ipython3",
   "version": "3.7.12"
  }
 },
 "nbformat": 4,
 "nbformat_minor": 5
}
