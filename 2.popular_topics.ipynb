{
 "cells": [
  {
   "attachments": {},
   "cell_type": "markdown",
   "id": "84f8733e",
   "metadata": {},
   "source": [
    "# The interesting topics in this year"
   ]
  },
  {
   "cell_type": "code",
   "execution_count": 1,
   "id": "12742ee8",
   "metadata": {},
   "outputs": [],
   "source": [
    "import pandas as pd"
   ]
  },
  {
   "cell_type": "code",
   "execution_count": 18,
   "id": "997b9056",
   "metadata": {},
   "outputs": [],
   "source": [
    "def filter_by_topic(df, topic):\n",
    "    df['google_scholar_link'] = df['title'].apply(lambda x: 'https://scholar.google.com/scholar?q=' + x.replace(' ', '+'))\n",
    "    df = df.drop_duplicates(subset=['title'])\n",
    "    return df[df['topic'].str.contains(topic, case=False, na=False)].copy()\n",
    "\n",
    "def get_conf_topics(conf_path='data/2023/5_iclr.csv_topics.csv', topic='multimodal'):\n",
    "    df_conf = pd.read_csv(conf_path)\n",
    "    df_conf_topic = filter_by_topic(df_conf, topic=topic)\n",
    "    print(len(df_conf_topic), len(df_conf))\n",
    "    df_conf_topic[['title','year','source','google_scholar_link']].to_csv(conf_path + f'_{topic.replace(\" \", \"_\")}.csv', index=False)"
   ]
  },
  {
   "attachments": {},
   "cell_type": "markdown",
   "id": "15d63550-6739-4c20-8286-51390c6baf87",
   "metadata": {
    "tags": []
   },
   "source": [
    "## Multi-modal"
   ]
  },
  {
   "cell_type": "code",
   "execution_count": 19,
   "id": "a4aa89c3",
   "metadata": {},
   "outputs": [
    {
     "name": "stdout",
     "output_type": "stream",
     "text": [
      "89 1572\n"
     ]
    }
   ],
   "source": [
    "get_conf_topics('data/2023/5_iclr.csv_topics.csv', topic='multimodal')"
   ]
  },
  {
   "attachments": {},
   "cell_type": "markdown",
   "id": "ca046299",
   "metadata": {},
   "source": [
    "## Diffusion models"
   ]
  },
  {
   "cell_type": "code",
   "execution_count": 20,
   "id": "9f2f0f54",
   "metadata": {},
   "outputs": [
    {
     "name": "stdout",
     "output_type": "stream",
     "text": [
      "60 1572\n"
     ]
    }
   ],
   "source": [
    "get_conf_topics('data/2023/5_iclr.csv_topics.csv', topic='diffusion models')"
   ]
  },
  {
   "attachments": {},
   "cell_type": "markdown",
   "id": "0d32b2ee",
   "metadata": {},
   "source": [
    "## LLM"
   ]
  },
  {
   "cell_type": "code",
   "execution_count": 21,
   "id": "1daa121d",
   "metadata": {},
   "outputs": [
    {
     "name": "stdout",
     "output_type": "stream",
     "text": [
      "216 1572\n"
     ]
    }
   ],
   "source": [
    "get_conf_topics('data/2023/5_iclr.csv_topics.csv', topic='llm')"
   ]
  },
  {
   "attachments": {},
   "cell_type": "markdown",
   "id": "d53404e9",
   "metadata": {},
   "source": [
    "## Self-supervision"
   ]
  },
  {
   "cell_type": "code",
   "execution_count": 22,
   "id": "5792bc6b",
   "metadata": {},
   "outputs": [
    {
     "name": "stdout",
     "output_type": "stream",
     "text": [
      "11 1572\n"
     ]
    }
   ],
   "source": [
    "get_conf_topics('data/2023/5_iclr.csv_topics.csv', topic='self-supervision')"
   ]
  },
  {
   "cell_type": "code",
   "execution_count": null,
   "id": "19163e34",
   "metadata": {},
   "outputs": [],
   "source": []
  }
 ],
 "metadata": {
  "kernelspec": {
   "display_name": "Python 3 (ipykernel)",
   "language": "python",
   "name": "python3"
  },
  "language_info": {
   "codemirror_mode": {
    "name": "ipython",
    "version": 3
   },
   "file_extension": ".py",
   "mimetype": "text/x-python",
   "name": "python",
   "nbconvert_exporter": "python",
   "pygments_lexer": "ipython3",
   "version": "3.7.12"
  }
 },
 "nbformat": 4,
 "nbformat_minor": 5
}
