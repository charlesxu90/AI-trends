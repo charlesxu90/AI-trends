{
 "cells": [
  {
   "attachments": {},
   "cell_type": "markdown",
   "id": "84f8733e",
   "metadata": {},
   "source": [
    "# The interesting topics in this year"
   ]
  },
  {
   "cell_type": "code",
   "execution_count": 1,
   "id": "81c1571f",
   "metadata": {},
   "outputs": [],
   "source": [
    "from semanticscholar import SemanticScholar\n",
    "import time\n",
    "import pandas as pd\n",
    "from tqdm import tqdm\n",
    "tqdm.pandas()\n",
    "\n",
    "def get_paper_citation(title):\n",
    "    sch = SemanticScholar()\n",
    "    time.sleep(1)\n",
    "    title = title.replace('-', ' ')\n",
    "    try:\n",
    "        papers = sch.search_paper(title)\n",
    "        if len(papers) > 0:\n",
    "            return papers[0].citationCount\n",
    "    except:\n",
    "        print(f'Error in get citation for {title}')\n",
    "    \n",
    "    return 0"
   ]
  },
  {
   "cell_type": "code",
   "execution_count": 2,
   "id": "55ddcb74",
   "metadata": {},
   "outputs": [],
   "source": [
    "def get_conf_topics(conf_path='data/2023/5_iclr.csv_topics.csv', topics=['multimodal']):\n",
    "    df_conf = pd.read_csv(conf_path)\n",
    "\n",
    "    save_path = conf_path + '_emerging.xlsx'\n",
    "    writer = pd.ExcelWriter(save_path, engine=\"xlsxwriter\")\n",
    "\n",
    "    # if topics within the list of topics\n",
    "    df_conf_topics = df_conf[df_conf['topic'].str.contains('|'.join(topics), case=False, na=False)].copy()\n",
    "\n",
    "    ss_citations = []\n",
    "    for title in tqdm(df_conf_topics['title'], ncols=80):\n",
    "        ss_citations.append(get_paper_citation(title))\n",
    "        time.sleep(1)\n",
    "    \n",
    "    df_conf_topics['ss_citations'] = ss_citations\n",
    "    df_conf_topics['google_scholar_link'] = df_conf_topics['title'].apply(lambda x: 'https://scholar.google.com/scholar?q=' + x.replace(' ', '+'))\n",
    "\n",
    "    df_conf_topics[['title','year','source','ss_citations','google_scholar_link', 'topic']].to_excel(writer, sheet_name='topics', index=False)\n",
    "    writer.close()\n",
    "    print(f'Saved to {save_path}')"
   ]
  },
  {
   "cell_type": "markdown",
   "id": "aaa166a7",
   "metadata": {},
   "source": [
    "# 2023"
   ]
  },
  {
   "attachments": {},
   "cell_type": "markdown",
   "id": "15d63550-6739-4c20-8286-51390c6baf87",
   "metadata": {
    "tags": []
   },
   "source": [
    "## 2023, ICLR, May"
   ]
  },
  {
   "cell_type": "code",
   "execution_count": 3,
   "id": "a4aa89c3",
   "metadata": {},
   "outputs": [],
   "source": [
    "# get_conf_topics_all(conf_path='data/2023/5_iclr.csv_topics.csv', topics=['multimodal', 'diffusion models', 'llm', 'self-supervision'])"
   ]
  },
  {
   "attachments": {},
   "cell_type": "markdown",
   "id": "3047ece0",
   "metadata": {},
   "source": [
    "## 2023, CVPR, June"
   ]
  },
  {
   "cell_type": "code",
   "execution_count": 4,
   "id": "b6edc0ff",
   "metadata": {},
   "outputs": [],
   "source": [
    "# get_conf_topics_all(conf_path='data/2023/6_cvpr.csv_topics.csv', topics=['3d', 'zero_few-shot', 'transformer', 'segmentation', 'multimodal', \n",
    "# 'imitation learning', 'radiance field', 'motion', 'diffusion models', 'multi-agent'])"
   ]
  },
  {
   "attachments": {},
   "cell_type": "markdown",
   "id": "1ffb325a",
   "metadata": {},
   "source": [
    "## 2023, ICML, July"
   ]
  },
  {
   "cell_type": "code",
   "execution_count": 5,
   "id": "4bf2d176",
   "metadata": {},
   "outputs": [],
   "source": [
    "# get_conf_topics_all(conf_path='data/2023/7_icml.csv_topics.csv', topics=['zero_few-shot', 'graph', 'optimization', 'reinforcement learning', 'representation',\n",
    "# 'motion', 'decision trees', 'radiance field', 'diffusion models', 'federated learning'])"
   ]
  },
  {
   "cell_type": "markdown",
   "metadata": {},
   "source": [
    "## 2023, ICCV, Oct."
   ]
  },
  {
   "cell_type": "code",
   "execution_count": 6,
   "id": "e0032d69",
   "metadata": {},
   "outputs": [],
   "source": [
    "# get_conf_topics(conf_path='data/2023/10_ICCV.csv_topics.csv', topics=['object detection', '3d', 'segmentation', 'transformer', 'zero_few-shot'])"
   ]
  },
  {
   "cell_type": "markdown",
   "metadata": {},
   "source": [
    "## 2023, NIPS, Dec."
   ]
  },
  {
   "cell_type": "code",
   "execution_count": 7,
   "metadata": {},
   "outputs": [],
   "source": [
    "# get_conf_topics(conf_path='data/2023/12_nips.csv_topics.csv', topics=['object detection', 'zero_few-shot', 'graph', 'optimization', 'llm', 'radiance field', 'motion', 'differential equation solving', 'rl'])"
   ]
  },
  {
   "cell_type": "markdown",
   "id": "ff4b23f8",
   "metadata": {},
   "source": [
    "# 2024"
   ]
  },
  {
   "cell_type": "markdown",
   "id": "ed9062ef",
   "metadata": {},
   "source": [
    "## 2024, ICLR, May"
   ]
  },
  {
   "cell_type": "code",
   "execution_count": 8,
   "id": "cf5f7c27",
   "metadata": {},
   "outputs": [],
   "source": [
    "# get_conf_topics(conf_path='data/2024/5_iclr.csv_topics.csv', topics=['graph', 'zero_few-shot', 'llm', 'transformer', 'generative model', 'reward model', 'watermark', 'foundation models', 'model merging', 'diffusion models'])"
   ]
  },
  {
   "cell_type": "markdown",
   "id": "95b35586",
   "metadata": {},
   "source": [
    "## 2024, CVPR, June"
   ]
  },
  {
   "cell_type": "code",
   "execution_count": 9,
   "id": "3e01e9e0",
   "metadata": {},
   "outputs": [],
   "source": [
    "# get_conf_topics(conf_path='data/2024/6_cvpr.csv_topics.csv', topics=['3d', 'generative model', 'segmentation', 'multimodal', 'zero_few-shot', 'watermark', 'streaming', 'token', 'autonomous driving', 'entangle'])"
   ]
  },
  {
   "cell_type": "markdown",
   "id": "87fa2421",
   "metadata": {},
   "source": [
    "## 2024, ICML, July"
   ]
  },
  {
   "cell_type": "code",
   "execution_count": 11,
   "metadata": {},
   "outputs": [],
   "source": [
    "# get_conf_topics(conf_path='data/2024/7_icml.csv_topics.csv', topics=['deformation', 'autonomous driving', 'object detection', 'splatting', 'token', 'graph', 'zero_few-shot', 'llm', 'optimization', 'transformer'])"
   ]
  },
  {
   "cell_type": "markdown",
   "id": "2a5e1ac6",
   "metadata": {},
   "source": [
    "## 2024, NIPS, Dec."
   ]
  },
  {
   "cell_type": "code",
   "execution_count": 3,
   "id": "1d3edab5",
   "metadata": {},
   "outputs": [
    {
     "name": "stderr",
     "output_type": "stream",
     "text": [
      "  0%|▏                                      | 12/3543 [00:40<3:06:20,  3.17s/it]"
     ]
    },
    {
     "name": "stdout",
     "output_type": "stream",
     "text": [
      "Error in get citation for GREATS: Online Selection of High Quality Data for LLM Training in Every Iteration\n"
     ]
    },
    {
     "name": "stderr",
     "output_type": "stream",
     "text": [
      "  1%|▎                                      | 27/3543 [01:34<3:20:25,  3.42s/it]"
     ]
    },
    {
     "name": "stdout",
     "output_type": "stream",
     "text": [
      "Error in get citation for Learning Noisy Halfspaces with a Margin: Massart is No Harder than Random\n"
     ]
    },
    {
     "name": "stderr",
     "output_type": "stream",
     "text": [
      "  1%|▍                                      | 37/3543 [02:10<3:46:01,  3.87s/it]"
     ]
    },
    {
     "name": "stdout",
     "output_type": "stream",
     "text": [
      "Error in get citation for A Near optimal Algorithm for Learning Margin Halfspaces with Massart Noise\n"
     ]
    },
    {
     "name": "stderr",
     "output_type": "stream",
     "text": [
      "  1%|▌                                      | 48/3543 [02:50<3:28:38,  3.58s/it]"
     ]
    },
    {
     "name": "stdout",
     "output_type": "stream",
     "text": [
      "Error in get citation for Breaking Long Tailed Learning Bottlenecks: A Controllable Paradigm with Hypernetwork Generated Diverse Experts\n"
     ]
    },
    {
     "name": "stderr",
     "output_type": "stream",
     "text": [
      "  1%|▌                                      | 49/3543 [02:53<3:20:49,  3.45s/it]"
     ]
    },
    {
     "name": "stdout",
     "output_type": "stream",
     "text": [
      "Error in get citation for Noisy Label Learning with Instance Dependent Outliers: Identifiability via Crowd Wisdom\n"
     ]
    },
    {
     "name": "stderr",
     "output_type": "stream",
     "text": [
      "  1%|▌                                      | 52/3543 [03:04<3:35:42,  3.71s/it]"
     ]
    },
    {
     "name": "stdout",
     "output_type": "stream",
     "text": [
      "Error in get citation for On the Identifiability of Poisson Branching Structural Causal Model Using Probability Generating Function\n"
     ]
    },
    {
     "name": "stderr",
     "output_type": "stream",
     "text": [
      "  2%|▊                                      | 77/3543 [04:41<3:59:06,  4.14s/it]"
     ]
    },
    {
     "name": "stdout",
     "output_type": "stream",
     "text": [
      "Error in get citation for A Pairwise Pseudo likelihood Approach for Matrix Completion with Informative Missingness\n"
     ]
    },
    {
     "name": "stderr",
     "output_type": "stream",
     "text": [
      "  2%|▉                                      | 82/3543 [05:00<3:38:21,  3.79s/it]"
     ]
    },
    {
     "name": "stdout",
     "output_type": "stream",
     "text": [
      "Error in get citation for Leveraging Catastrophic Forgetting to Develop Safe Diffusion Models against Malicious Finetuning\n"
     ]
    },
    {
     "name": "stderr",
     "output_type": "stream",
     "text": [
      "  2%|▉                                      | 83/3543 [05:03<3:22:44,  3.52s/it]"
     ]
    },
    {
     "name": "stdout",
     "output_type": "stream",
     "text": [
      "Error in get citation for Fine Tuning Out of Vocabulary Item Recommendation with User Sequence Imagination\n"
     ]
    },
    {
     "name": "stderr",
     "output_type": "stream",
     "text": [
      "  2%|▉                                      | 88/3543 [05:19<3:11:18,  3.32s/it]"
     ]
    },
    {
     "name": "stdout",
     "output_type": "stream",
     "text": [
      "Error in get citation for Enhancing Robustness of Graph Neural Networks on Social Media with Explainable Inverse Reinforcement Learning\n"
     ]
    },
    {
     "name": "stderr",
     "output_type": "stream",
     "text": [
      "  3%|█                                     | 103/3543 [06:16<3:29:51,  3.66s/it]"
     ]
    },
    {
     "name": "stdout",
     "output_type": "stream",
     "text": [
      "Error in get citation for Generated and Pseudo Content guided Prototype Refinement for Few shot Point Cloud Segmentation\n"
     ]
    },
    {
     "name": "stderr",
     "output_type": "stream",
     "text": [
      "  3%|█▏                                    | 113/3543 [06:57<4:12:28,  4.42s/it]"
     ]
    },
    {
     "name": "stdout",
     "output_type": "stream",
     "text": [
      "Error in get citation for A Neural Network Approach for Efficiently Answering Most Probable Explanation Queries in Probabilistic Models\n"
     ]
    },
    {
     "name": "stderr",
     "output_type": "stream",
     "text": [
      "  4%|█▍                                    | 131/3543 [08:00<3:35:58,  3.80s/it]"
     ]
    },
    {
     "name": "stdout",
     "output_type": "stream",
     "text": [
      "Error in get citation for Probablistic Emulation of a Global Climate Model with Spherical DYffusion\n"
     ]
    },
    {
     "name": "stderr",
     "output_type": "stream",
     "text": [
      "  4%|█▋                                    | 158/3543 [10:12<3:31:51,  3.76s/it]"
     ]
    },
    {
     "name": "stdout",
     "output_type": "stream",
     "text": [
      "Error in get citation for Association of Objects May Engender Stereotypes: Mitigating Association Engendered Stereotypes in Text to Image Generation\n"
     ]
    },
    {
     "name": "stderr",
     "output_type": "stream",
     "text": [
      "  5%|█▋                                    | 163/3543 [10:29<3:15:45,  3.47s/it]"
     ]
    },
    {
     "name": "stdout",
     "output_type": "stream",
     "text": [
      "Error in get citation for Observational Scaling Laws and the Predictability of Langauge Model Performance\n"
     ]
    },
    {
     "name": "stderr",
     "output_type": "stream",
     "text": [
      "  6%|██▍                                   | 224/3543 [15:07<2:52:24,  3.12s/it]"
     ]
    },
    {
     "name": "stdout",
     "output_type": "stream",
     "text": [
      "Error in get citation for DeTikZify: Synthesizing Graphics Programs for Scientific Figures and Sketches with TikZ\n"
     ]
    },
    {
     "name": "stderr",
     "output_type": "stream",
     "text": [
      "  6%|██▍                                  | 229/3543 [16:58<15:50:31, 17.21s/it]"
     ]
    },
    {
     "name": "stdout",
     "output_type": "stream",
     "text": [
      "Error in get citation for SocraticLM: Exploring Socratic Personalized Teaching with Large Language Models\n"
     ]
    },
    {
     "name": "stderr",
     "output_type": "stream",
     "text": [
      "  7%|██▌                                   | 238/3543 [17:26<3:16:26,  3.57s/it]"
     ]
    },
    {
     "name": "stdout",
     "output_type": "stream",
     "text": [
      "Error in get citation for Reconstruct and Match: Out of Distribution Robustness via Topological Homogeneity\n"
     ]
    },
    {
     "name": "stderr",
     "output_type": "stream",
     "text": [
      "  8%|██▉                                   | 276/3543 [19:37<2:47:31,  3.08s/it]"
     ]
    },
    {
     "name": "stdout",
     "output_type": "stream",
     "text": [
      "Error in get citation for Metric Transforms and Low Rank Representations of Kernels for Fast Attention\n"
     ]
    },
    {
     "name": "stderr",
     "output_type": "stream",
     "text": [
      "  8%|███                                   | 281/3543 [19:54<2:58:55,  3.29s/it]"
     ]
    },
    {
     "name": "stdout",
     "output_type": "stream",
     "text": [
      "Error in get citation for Rethinking 3D Convolution in $\\ell_p$ norm Space\n"
     ]
    },
    {
     "name": "stderr",
     "output_type": "stream",
     "text": [
      "  8%|███▏                                  | 294/3543 [20:36<3:06:51,  3.45s/it]"
     ]
    },
    {
     "name": "stdout",
     "output_type": "stream",
     "text": [
      "Error in get citation for Principled Bayesian Optimization in Collaboration with Human Experts\n"
     ]
    },
    {
     "name": "stderr",
     "output_type": "stream",
     "text": [
      "  9%|███▍                                  | 324/3543 [22:23<3:24:01,  3.80s/it]"
     ]
    },
    {
     "name": "stdout",
     "output_type": "stream",
     "text": [
      "Error in get citation for Alleviate Anchor Shift: Explore Blind Spots with Cross View Reconstruction for Incomplete Multi View Clustering\n"
     ]
    },
    {
     "name": "stderr",
     "output_type": "stream",
     "text": [
      " 10%|███▋                                  | 341/3543 [23:14<2:34:13,  2.89s/it]"
     ]
    },
    {
     "name": "stdout",
     "output_type": "stream",
     "text": [
      "Error in get citation for Noisy Dual Mirror Descent: A Near Optimal Algorithm for Jointly DP Convex Resource Allocation\n"
     ]
    },
    {
     "name": "stderr",
     "output_type": "stream",
     "text": [
      " 10%|███▉                                  | 363/3543 [24:27<2:59:01,  3.38s/it]"
     ]
    },
    {
     "name": "stdout",
     "output_type": "stream",
     "text": [
      "Error in get citation for Style Adaptation and Uncertainty Estimation for Multi Source Blended Target Domain Adaptation\n"
     ]
    },
    {
     "name": "stderr",
     "output_type": "stream",
     "text": [
      " 10%|███▉                                  | 364/3543 [24:29<2:50:41,  3.22s/it]"
     ]
    },
    {
     "name": "stdout",
     "output_type": "stream",
     "text": [
      "Error in get citation for Toward Real Ultra Image Segmentation: Leveraging Surrounding Context to Cultivate General Segmentation Model\n"
     ]
    },
    {
     "name": "stderr",
     "output_type": "stream",
     "text": [
      " 10%|███▉                                  | 370/3543 [24:50<3:00:38,  3.42s/it]"
     ]
    },
    {
     "name": "stdout",
     "output_type": "stream",
     "text": [
      "Error in get citation for AP Adapter: Improving Generalization of Automatic Prompts on Unseen Text to Image Diffusion Models\n"
     ]
    },
    {
     "name": "stderr",
     "output_type": "stream",
     "text": [
      " 10%|███▉                                  | 372/3543 [24:56<2:45:12,  3.13s/it]"
     ]
    },
    {
     "name": "stdout",
     "output_type": "stream",
     "text": [
      "Error in get citation for D LLM: A Token Adaptive Computing Resource Allocation Strategy for Large Language Models\n"
     ]
    },
    {
     "name": "stderr",
     "output_type": "stream",
     "text": [
      " 11%|███▉                                 | 375/3543 [26:08<14:26:17, 16.41s/it]"
     ]
    },
    {
     "name": "stdout",
     "output_type": "stream",
     "text": [
      "Error in get citation for Adaptive Important Region Selection with Reinforced Hierarchical Search for Dense Object Detection\n"
     ]
    },
    {
     "name": "stderr",
     "output_type": "stream",
     "text": [
      " 11%|████                                  | 377/3543 [26:14<8:27:38,  9.62s/it]"
     ]
    },
    {
     "name": "stdout",
     "output_type": "stream",
     "text": [
      "Error in get citation for Parameter Disparities Dissection for Backdoor Defense in Heterogeneous Federated Learning\n"
     ]
    },
    {
     "name": "stderr",
     "output_type": "stream",
     "text": [
      " 11%|████▏                                 | 388/3543 [26:53<3:12:30,  3.66s/it]"
     ]
    },
    {
     "name": "stdout",
     "output_type": "stream",
     "text": [
      "Error in get citation for Taming Heavy Tailed Losses in Adversarial Bandits and the Best of Both Worlds Setting\n"
     ]
    },
    {
     "name": "stderr",
     "output_type": "stream",
     "text": [
      " 12%|████▍                                 | 413/3543 [28:25<3:05:20,  3.55s/it]"
     ]
    },
    {
     "name": "stdout",
     "output_type": "stream",
     "text": [
      "Error in get citation for OT4P: Unlocking Effective Orthogonal Group Path for Permutation Relaxation\n"
     ]
    },
    {
     "name": "stderr",
     "output_type": "stream",
     "text": [
      " 12%|████▌                                 | 420/3543 [28:48<2:47:53,  3.23s/it]"
     ]
    },
    {
     "name": "stdout",
     "output_type": "stream",
     "text": [
      "Error in get citation for Rethinking Imbalance in Image Super Resolution for Efficient Inference\n"
     ]
    },
    {
     "name": "stderr",
     "output_type": "stream",
     "text": [
      " 12%|████▋                                 | 433/3543 [29:32<3:18:07,  3.82s/it]"
     ]
    },
    {
     "name": "stdout",
     "output_type": "stream",
     "text": [
      "Error in get citation for A Closer Look at the CLS Token for Cross Domain Few Shot Learning\n"
     ]
    },
    {
     "name": "stderr",
     "output_type": "stream",
     "text": [
      " 12%|████▋                                 | 437/3543 [29:46<3:16:27,  3.80s/it]"
     ]
    },
    {
     "name": "stdout",
     "output_type": "stream",
     "text": [
      "Error in get citation for Stability and Generalization of Asynchronous SGD: Sharper Bounds Beyond Lipschitz and Smoothness\n"
     ]
    },
    {
     "name": "stderr",
     "output_type": "stream",
     "text": [
      " 13%|█████                                 | 472/3543 [32:47<2:45:23,  3.23s/it]"
     ]
    },
    {
     "name": "stdout",
     "output_type": "stream",
     "text": [
      "Error in get citation for A Siamese Transformer with Hierarchical Refinement for Lane Detection\n"
     ]
    },
    {
     "name": "stderr",
     "output_type": "stream",
     "text": [
      " 13%|█████                                 | 475/3543 [33:00<3:11:02,  3.74s/it]"
     ]
    },
    {
     "name": "stdout",
     "output_type": "stream",
     "text": [
      "Error in get citation for Discovering Creative Behaviors through DUPLEX: Diverse Universal Features for Policy Exploration\n"
     ]
    },
    {
     "name": "stderr",
     "output_type": "stream",
     "text": [
      " 14%|█████▏                                | 489/3543 [33:43<2:55:10,  3.44s/it]"
     ]
    },
    {
     "name": "stdout",
     "output_type": "stream",
     "text": [
      "Error in get citation for Rethinking No reference Image Exposure Assessment from Holism to Pixel:  Models, Datasets and Benchmarks\n"
     ]
    },
    {
     "name": "stderr",
     "output_type": "stream",
     "text": [
      " 14%|█████▎                                | 495/3543 [34:03<2:54:17,  3.43s/it]"
     ]
    },
    {
     "name": "stdout",
     "output_type": "stream",
     "text": [
      "Error in get citation for Learning to be Smooth: An End to End Differentiable Particle Smoother\n"
     ]
    },
    {
     "name": "stderr",
     "output_type": "stream",
     "text": [
      " 15%|█████▋                                | 533/3543 [36:12<2:41:05,  3.21s/it]"
     ]
    },
    {
     "name": "stdout",
     "output_type": "stream",
     "text": [
      "Error in get citation for Full Distance Evasion of Pedestrian Detectors in the Physical World\n"
     ]
    },
    {
     "name": "stderr",
     "output_type": "stream",
     "text": [
      " 16%|█████▉                                | 550/3543 [37:05<2:34:41,  3.10s/it]"
     ]
    },
    {
     "name": "stdout",
     "output_type": "stream",
     "text": [
      "Error in get citation for Dissect Black Box: Interpreting for Rule Based Explanations in Unsupervised Anomaly Detection\n"
     ]
    },
    {
     "name": "stderr",
     "output_type": "stream",
     "text": [
      " 16%|█████▉                                | 551/3543 [37:08<2:28:00,  2.97s/it]"
     ]
    },
    {
     "name": "stdout",
     "output_type": "stream",
     "text": [
      "Error in get citation for Virtual Scanning: Unsupervised Non line of sight Imaging from Irregularly Undersampled Transients\n"
     ]
    },
    {
     "name": "stderr",
     "output_type": "stream",
     "text": [
      " 16%|█████▉                                | 553/3543 [37:13<2:21:15,  2.83s/it]"
     ]
    },
    {
     "name": "stdout",
     "output_type": "stream",
     "text": [
      "Error in get citation for Promoting Fairness Among Dynamic Agents in Online Matching Markets under Known Stationary Arrival Distributions\n"
     ]
    },
    {
     "name": "stderr",
     "output_type": "stream",
     "text": [
      " 16%|██████                                | 562/3543 [37:40<2:28:28,  2.99s/it]"
     ]
    },
    {
     "name": "stdout",
     "output_type": "stream",
     "text": [
      "Error in get citation for Decentralized Noncooperative Games with Coupled Decision Dependent Distributions\n"
     ]
    },
    {
     "name": "stderr",
     "output_type": "stream",
     "text": [
      " 16%|██████                                | 564/3543 [37:46<2:32:34,  3.07s/it]"
     ]
    },
    {
     "name": "stdout",
     "output_type": "stream",
     "text": [
      "Error in get citation for SuperVLAD: Compact and Robust Image Descriptors for Visual Place Recognition\n"
     ]
    },
    {
     "name": "stderr",
     "output_type": "stream",
     "text": [
      " 20%|███████▌                              | 710/3543 [48:20<9:22:34, 11.91s/it]"
     ]
    },
    {
     "name": "stdout",
     "output_type": "stream",
     "text": [
      "Error in get citation for Everyday Object Meets Vision and Language Navigation Agent via Backdoor\n"
     ]
    },
    {
     "name": "stderr",
     "output_type": "stream",
     "text": [
      " 20%|███████▋                              | 712/3543 [48:26<5:44:41,  7.31s/it]"
     ]
    },
    {
     "name": "stdout",
     "output_type": "stream",
     "text": [
      "Error in get citation for StepbaQ: Stepping backward as Correction for Quantized Diffusion Models\n"
     ]
    },
    {
     "name": "stderr",
     "output_type": "stream",
     "text": [
      " 20%|███████▋                              | 717/3543 [48:45<3:25:54,  4.37s/it]"
     ]
    },
    {
     "name": "stdout",
     "output_type": "stream",
     "text": [
      "Error in get citation for Relationship Prompt Learning is Enough for Open Vocabulary Semantic Segmentation\n"
     ]
    },
    {
     "name": "stderr",
     "output_type": "stream",
     "text": [
      " 21%|███████▊                              | 730/3543 [49:31<2:47:05,  3.56s/it]"
     ]
    },
    {
     "name": "stdout",
     "output_type": "stream",
     "text": [
      "Error in get citation for CoSW: Conditional Sample Weighting for Smoke Segmentation with Label Noise\n"
     ]
    },
    {
     "name": "stderr",
     "output_type": "stream",
     "text": [
      " 21%|███████▊                              | 731/3543 [49:34<2:39:51,  3.41s/it]"
     ]
    },
    {
     "name": "stdout",
     "output_type": "stream",
     "text": [
      "Error in get citation for DeepITE: Designing Variational Graph Autoencoders for Intervention Target Estimation\n"
     ]
    },
    {
     "name": "stderr",
     "output_type": "stream",
     "text": [
      " 21%|███████▉                              | 739/3543 [49:59<2:26:56,  3.14s/it]"
     ]
    },
    {
     "name": "stdout",
     "output_type": "stream",
     "text": [
      "Error in get citation for Unleashing Multispectral Video's Potential in Semantic Segmentation: A Semi supervised Viewpoint and New UAV View Benchmark\n"
     ]
    },
    {
     "name": "stderr",
     "output_type": "stream",
     "text": [
      " 21%|███████▉                              | 741/3543 [50:05<2:26:04,  3.13s/it]"
     ]
    },
    {
     "name": "stdout",
     "output_type": "stream",
     "text": [
      "Error in get citation for LCGen: Mining in Low Certainty Generation for View consistent Text to 3D\n"
     ]
    },
    {
     "name": "stderr",
     "output_type": "stream",
     "text": [
      " 21%|████████                              | 751/3543 [50:37<2:26:20,  3.14s/it]"
     ]
    },
    {
     "name": "stdout",
     "output_type": "stream",
     "text": [
      "Error in get citation for Flaws can be Applause: Unleashing Potential of Segmenting Ambiguous Objects in SAM\n"
     ]
    },
    {
     "name": "stderr",
     "output_type": "stream",
     "text": [
      " 22%|████████▏                             | 768/3543 [52:01<2:29:22,  3.23s/it]"
     ]
    },
    {
     "name": "stdout",
     "output_type": "stream",
     "text": [
      "Error in get citation for Revisiting Adversarial Patches for Designing Camera Agnostic Attacks against Person Detection\n"
     ]
    },
    {
     "name": "stderr",
     "output_type": "stream",
     "text": [
      " 22%|████████▍                             | 782/3543 [52:52<2:50:54,  3.71s/it]"
     ]
    },
    {
     "name": "stdout",
     "output_type": "stream",
     "text": [
      "Error in get citation for Slack Free Spiking Neural Network Formulation for Hypergraph Minimum Vertex Cover\n"
     ]
    },
    {
     "name": "stderr",
     "output_type": "stream",
     "text": [
      " 22%|████████▍                             | 789/3543 [53:13<2:18:50,  3.02s/it]"
     ]
    },
    {
     "name": "stdout",
     "output_type": "stream",
     "text": [
      "Error in get citation for IMAGPose: A Unified Conditional Framework for Pose Guided Person Generation\n"
     ]
    },
    {
     "name": "stderr",
     "output_type": "stream",
     "text": [
      " 22%|████████▍                             | 791/3543 [53:19<2:13:41,  2.91s/it]"
     ]
    },
    {
     "name": "stdout",
     "output_type": "stream",
     "text": [
      "Error in get citation for TFGDA: Exploring Topology and Feature Alignment in Semi supervised Graph Domain Adaptation through Robust Clustering\n"
     ]
    },
    {
     "name": "stderr",
     "output_type": "stream",
     "text": [
      " 23%|████████▊                             | 817/3543 [54:45<2:33:09,  3.37s/it]"
     ]
    },
    {
     "name": "stdout",
     "output_type": "stream",
     "text": [
      "Error in get citation for QT ViT: Improving Linear Attention in ViT with Quadratic Taylor Expansion\n"
     ]
    },
    {
     "name": "stderr",
     "output_type": "stream",
     "text": [
      " 23%|████████▊                             | 818/3543 [54:48<2:26:46,  3.23s/it]"
     ]
    },
    {
     "name": "stdout",
     "output_type": "stream",
     "text": [
      "Error in get citation for PERIA: Perceive, Reason, Imagine, Act via Holistic Language and Vision Planning for Manipulation\n"
     ]
    },
    {
     "name": "stderr",
     "output_type": "stream",
     "text": [
      " 23%|████████▊                             | 826/3543 [55:15<2:34:26,  3.41s/it]"
     ]
    },
    {
     "name": "stdout",
     "output_type": "stream",
     "text": [
      "Error in get citation for DataStealing: Steal Data from Diffusion Models in Federated Learning with Multiple Trojans\n"
     ]
    },
    {
     "name": "stderr",
     "output_type": "stream",
     "text": [
      " 23%|████████▉                             | 832/3543 [55:35<2:37:18,  3.48s/it]"
     ]
    },
    {
     "name": "stdout",
     "output_type": "stream",
     "text": [
      "Error in get citation for TPR: Topology Preserving Reservoirs for Generalized Zero Shot Learning\n"
     ]
    },
    {
     "name": "stderr",
     "output_type": "stream",
     "text": [
      " 24%|████████▉                             | 837/3543 [55:50<2:20:46,  3.12s/it]"
     ]
    },
    {
     "name": "stdout",
     "output_type": "stream",
     "text": [
      "Error in get citation for MC DiT: Contextual Enhancement via Clean to Clean Reconstruction for Masked Diffusion Models\n"
     ]
    },
    {
     "name": "stderr",
     "output_type": "stream",
     "text": [
      " 24%|█████████                             | 841/3543 [56:01<2:13:23,  2.96s/it]"
     ]
    },
    {
     "name": "stdout",
     "output_type": "stream",
     "text": [
      "Error in get citation for 3DET Mamba: Causal Sequence Modelling for End to End 3D Object Detection\n"
     ]
    },
    {
     "name": "stderr",
     "output_type": "stream",
     "text": [
      " 24%|█████████                             | 848/3543 [56:24<2:27:30,  3.28s/it]"
     ]
    },
    {
     "name": "stdout",
     "output_type": "stream",
     "text": [
      "Error in get citation for Diffusion Inspired Truncated Sampler for Text Video Retrieval\n"
     ]
    },
    {
     "name": "stderr",
     "output_type": "stream",
     "text": [
      " 24%|█████████                             | 849/3543 [56:27<2:24:31,  3.22s/it]"
     ]
    },
    {
     "name": "stdout",
     "output_type": "stream",
     "text": [
      "Error in get citation for Boosting Text to Video Generative Model with MLLMs Feedback\n"
     ]
    },
    {
     "name": "stderr",
     "output_type": "stream",
     "text": [
      " 25%|█████████▌                            | 887/3543 [58:50<3:17:23,  4.46s/it]"
     ]
    },
    {
     "name": "stdout",
     "output_type": "stream",
     "text": [
      "Error in get citation for Decompose, Analyze and Rethink: Solving Intricate Problems with Human like Reasoning Cycle\n"
     ]
    },
    {
     "name": "stderr",
     "output_type": "stream",
     "text": [
      " 25%|█████████▌                            | 888/3543 [58:53<3:00:37,  4.08s/it]"
     ]
    },
    {
     "name": "stdout",
     "output_type": "stream",
     "text": [
      "Error in get citation for Policy Learning from Tutorial Books via Understanding, Rehearsing and Introspecting\n"
     ]
    },
    {
     "name": "stderr",
     "output_type": "stream",
     "text": [
      " 25%|█████████▌                            | 893/3543 [59:11<2:50:07,  3.85s/it]"
     ]
    },
    {
     "name": "stdout",
     "output_type": "stream",
     "text": [
      "Error in get citation for Exploitation of a Latent Mechanism in Graph Contrastive Learning: Representation Scattering\n"
     ]
    },
    {
     "name": "stderr",
     "output_type": "stream",
     "text": [
      " 25%|█████████▌                            | 897/3543 [59:23<2:27:21,  3.34s/it]"
     ]
    },
    {
     "name": "stdout",
     "output_type": "stream",
     "text": [
      "Error in get citation for Not All Tokens Are What You Need for Pretraining\n"
     ]
    },
    {
     "name": "stderr",
     "output_type": "stream",
     "text": [
      " 26%|█████████▎                          | 913/3543 [1:00:23<2:55:29,  4.00s/it]"
     ]
    },
    {
     "name": "stdout",
     "output_type": "stream",
     "text": [
      "Error in get citation for 3DET Mamba: Causal Sequence Modelling for End to End 3D Object Detection\n"
     ]
    },
    {
     "name": "stderr",
     "output_type": "stream",
     "text": [
      " 26%|█████████▎                          | 922/3543 [1:00:54<2:37:48,  3.61s/it]"
     ]
    },
    {
     "name": "stdout",
     "output_type": "stream",
     "text": [
      "Error in get citation for NeuralSteiner: Learning Steiner Tree for Overflow avoiding Global Routing in Chip Design\n"
     ]
    },
    {
     "name": "stderr",
     "output_type": "stream",
     "text": [
      " 26%|█████████▍                          | 933/3543 [1:02:03<5:04:19,  7.00s/it]"
     ]
    },
    {
     "name": "stdout",
     "output_type": "stream",
     "text": [
      "Error in get citation for Neural Embeddings Rank: Aligning 3D latent dynamics with movements\n"
     ]
    },
    {
     "name": "stderr",
     "output_type": "stream",
     "text": [
      " 27%|█████████▋                          | 953/3543 [1:03:17<2:35:39,  3.61s/it]"
     ]
    },
    {
     "name": "stdout",
     "output_type": "stream",
     "text": [
      "Error in get citation for Schur Nets: exploiting local structure for equivariance in higher order graph neural networks\n"
     ]
    },
    {
     "name": "stderr",
     "output_type": "stream",
     "text": [
      " 27%|█████████▋                          | 955/3543 [1:03:24<2:27:40,  3.42s/it]"
     ]
    },
    {
     "name": "stdout",
     "output_type": "stream",
     "text": [
      "Error in get citation for EGSST: Event based Graph Spatiotemporal Sensitive Transformer for Object Detection\n"
     ]
    },
    {
     "name": "stderr",
     "output_type": "stream",
     "text": [
      " 27%|█████████▊                          | 966/3543 [1:03:58<2:06:18,  2.94s/it]"
     ]
    },
    {
     "name": "stdout",
     "output_type": "stream",
     "text": [
      "Error in get citation for SIRIUS : Contexual Sparisty with Correction for Efficient LLMs\n"
     ]
    },
    {
     "name": "stderr",
     "output_type": "stream",
     "text": [
      " 27%|█████████▉                          | 973/3543 [1:04:20<2:16:08,  3.18s/it]"
     ]
    },
    {
     "name": "stdout",
     "output_type": "stream",
     "text": [
      "Error in get citation for Unified Insights: Harnessing Multi modal Data for Phenotype Imputation via View Decoupling\n"
     ]
    },
    {
     "name": "stderr",
     "output_type": "stream",
     "text": [
      " 28%|█████████▉                          | 975/3543 [1:04:28<2:39:24,  3.72s/it]"
     ]
    },
    {
     "name": "stdout",
     "output_type": "stream",
     "text": [
      "Error in get citation for Dynamic Rescaling for Training GNNs\n"
     ]
    },
    {
     "name": "stderr",
     "output_type": "stream",
     "text": [
      " 28%|█████████▉                          | 978/3543 [1:04:39<2:47:46,  3.92s/it]"
     ]
    },
    {
     "name": "stdout",
     "output_type": "stream",
     "text": [
      "Error in get citation for Detecting Bugs with Substantial Monetary Consequences by LLM and Rule based Reasoning\n"
     ]
    },
    {
     "name": "stderr",
     "output_type": "stream",
     "text": [
      " 29%|██████████                         | 1018/3543 [1:07:26<3:24:59,  4.87s/it]"
     ]
    },
    {
     "name": "stdout",
     "output_type": "stream",
     "text": [
      "Error in get citation for Upping the Game: How 2D U Net Skip Connections Flip 3D Segmentation\n"
     ]
    },
    {
     "name": "stderr",
     "output_type": "stream",
     "text": [
      " 29%|██████████                         | 1023/3543 [1:07:44<2:33:31,  3.66s/it]"
     ]
    },
    {
     "name": "stdout",
     "output_type": "stream",
     "text": [
      "Error in get citation for BiScope: AI generated Text Detection by Checking Memorization of Preceding Tokens\n"
     ]
    },
    {
     "name": "stderr",
     "output_type": "stream",
     "text": [
      " 30%|██████████▎                        | 1050/3543 [1:09:21<2:31:48,  3.65s/it]"
     ]
    },
    {
     "name": "stdout",
     "output_type": "stream",
     "text": [
      "Error in get citation for DiffuPac: Contextual Mimicry in Adversarial Packets Generation via Diffusion Model\n"
     ]
    },
    {
     "name": "stderr",
     "output_type": "stream",
     "text": [
      " 30%|██████████▌                        | 1068/3543 [1:10:17<2:01:41,  2.95s/it]"
     ]
    },
    {
     "name": "stdout",
     "output_type": "stream",
     "text": [
      "Error in get citation for Unleashing Region Understanding in Intermediate Layers for MLLM based Referring Expression Generation\n"
     ]
    },
    {
     "name": "stderr",
     "output_type": "stream",
     "text": [
      " 30%|██████████▌                        | 1069/3543 [1:10:19<1:57:44,  2.86s/it]"
     ]
    },
    {
     "name": "stdout",
     "output_type": "stream",
     "text": [
      "Error in get citation for To Believe or Not to Believe Your LLM: IterativePrompting for Estimating Epistemic Uncertainty\n"
     ]
    },
    {
     "name": "stderr",
     "output_type": "stream",
     "text": [
      " 30%|██████████▌                        | 1072/3543 [1:10:28<1:58:42,  2.88s/it]"
     ]
    },
    {
     "name": "stdout",
     "output_type": "stream",
     "text": [
      "Error in get citation for Beyond Single Stationary Policies: Meta Task Players as Naturally Superior Collaborators\n"
     ]
    },
    {
     "name": "stderr",
     "output_type": "stream",
     "text": [
      " 30%|██████████▌                        | 1075/3543 [1:10:38<2:12:05,  3.21s/it]"
     ]
    },
    {
     "name": "stdout",
     "output_type": "stream",
     "text": [
      "Error in get citation for Generalizing CNNs to graphs with learnable neighborhood quantization\n"
     ]
    },
    {
     "name": "stderr",
     "output_type": "stream",
     "text": [
      " 31%|██████████▋                        | 1087/3543 [1:11:22<2:29:22,  3.65s/it]"
     ]
    },
    {
     "name": "stdout",
     "output_type": "stream",
     "text": [
      "Error in get citation for MonkeySee: Space time resolved reconstructions of natural images from macaque multi unit activity\n"
     ]
    },
    {
     "name": "stderr",
     "output_type": "stream",
     "text": [
      " 31%|██████████▊                        | 1099/3543 [1:12:31<5:10:23,  7.62s/it]"
     ]
    },
    {
     "name": "stdout",
     "output_type": "stream",
     "text": [
      "Error in get citation for Dynamic Subgroup Identification in Covariate adjusted Response adaptive Randomization Experiments\n"
     ]
    },
    {
     "name": "stderr",
     "output_type": "stream",
     "text": [
      " 31%|██████████▉                        | 1112/3543 [1:13:18<2:56:23,  4.35s/it]"
     ]
    },
    {
     "name": "stdout",
     "output_type": "stream",
     "text": [
      "Error in get citation for An eye for an ear: zero shot audio description leveraging an image captioner with audio visual token distribution matching\n"
     ]
    },
    {
     "name": "stderr",
     "output_type": "stream",
     "text": [
      " 31%|██████████▉                        | 1113/3543 [1:13:21<2:40:51,  3.97s/it]"
     ]
    },
    {
     "name": "stdout",
     "output_type": "stream",
     "text": [
      "Error in get citation for MIDGArD: Modular Interpretable Diffusion over Graphs for Articulated Designs\n"
     ]
    },
    {
     "name": "stderr",
     "output_type": "stream",
     "text": [
      " 32%|███████████                        | 1125/3543 [1:14:34<4:18:57,  6.43s/it]"
     ]
    },
    {
     "name": "stdout",
     "output_type": "stream",
     "text": [
      "Error in get citation for Harnessing small projectors and multiple views for efficient vision pretraining\n"
     ]
    },
    {
     "name": "stderr",
     "output_type": "stream",
     "text": [
      " 32%|███████████▏                       | 1133/3543 [1:15:06<2:51:57,  4.28s/it]"
     ]
    },
    {
     "name": "stdout",
     "output_type": "stream",
     "text": [
      "Error in get citation for Flexible mapping of abstract domains by grid cells via self supervised extraction and projection of generalized velocity signals\n"
     ]
    },
    {
     "name": "stderr",
     "output_type": "stream",
     "text": [
      " 33%|███████████▋                       | 1180/3543 [1:21:55<4:35:35,  7.00s/it]"
     ]
    },
    {
     "name": "stdout",
     "output_type": "stream",
     "text": [
      "Error in get citation for SARAD: Spatial Association Aware Anomaly Detection and Diagnosis for Multivariate Time Series\n"
     ]
    },
    {
     "name": "stderr",
     "output_type": "stream",
     "text": [
      " 33%|███████████▋                       | 1182/3543 [1:22:02<3:23:23,  5.17s/it]"
     ]
    },
    {
     "name": "stdout",
     "output_type": "stream",
     "text": [
      "Error in get citation for Building on Efficient Foundations: Effective Training of LLMs with Structured Feedforward Layers\n"
     ]
    },
    {
     "name": "stderr",
     "output_type": "stream",
     "text": [
      " 34%|███████████▊                       | 1191/3543 [1:22:36<2:33:39,  3.92s/it]"
     ]
    },
    {
     "name": "stdout",
     "output_type": "stream",
     "text": [
      "Error in get citation for HHD GP: Incorporating Helmholtz Hodge Decomposition into Gaussian Processes for Learning Dynamical Systems\n"
     ]
    },
    {
     "name": "stderr",
     "output_type": "stream",
     "text": [
      " 34%|███████████▊                       | 1201/3543 [1:23:12<2:18:34,  3.55s/it]"
     ]
    },
    {
     "name": "stdout",
     "output_type": "stream",
     "text": [
      "Error in get citation for Stochastic Optimal Control and Estimation with Multiplicative and Internal Noise\n"
     ]
    },
    {
     "name": "stderr",
     "output_type": "stream",
     "text": [
      " 34%|████████████                       | 1220/3543 [1:24:51<3:20:25,  5.18s/it]"
     ]
    },
    {
     "name": "stdout",
     "output_type": "stream",
     "text": [
      "Error in get citation for Analysing the Generalisation and Reliability of Steering Vectors\n"
     ]
    },
    {
     "name": "stderr",
     "output_type": "stream",
     "text": [
      " 35%|████████████                       | 1225/3543 [1:25:05<2:06:13,  3.27s/it]"
     ]
    },
    {
     "name": "stdout",
     "output_type": "stream",
     "text": [
      "Error in get citation for Preference Learning of Latent Decision Utilities with a Human like Model of Preferential Choice\n"
     ]
    },
    {
     "name": "stderr",
     "output_type": "stream",
     "text": [
      " 35%|████████████▎                      | 1249/3543 [1:26:26<2:03:47,  3.24s/it]"
     ]
    },
    {
     "name": "stdout",
     "output_type": "stream",
     "text": [
      "Error in get citation for A Simple yet Scalable Granger Causal Structural Learning Approach for Topological Event Sequences\n"
     ]
    },
    {
     "name": "stderr",
     "output_type": "stream",
     "text": [
      " 36%|████████████▍                      | 1264/3543 [1:27:16<1:57:04,  3.08s/it]"
     ]
    },
    {
     "name": "stdout",
     "output_type": "stream",
     "text": [
      "Error in get citation for TARP VP: Towards Evaluation of Transferred  Adversarial Robustness and Privacy on Label  Mapping Visual Prompting Models\n"
     ]
    },
    {
     "name": "stderr",
     "output_type": "stream",
     "text": [
      " 36%|████████████▌                      | 1267/3543 [1:27:27<2:20:12,  3.70s/it]"
     ]
    },
    {
     "name": "stdout",
     "output_type": "stream",
     "text": [
      "Error in get citation for EASI: Evolutionary Adversarial Simulator Identification for Sim to Real Transfer\n"
     ]
    },
    {
     "name": "stderr",
     "output_type": "stream",
     "text": [
      " 36%|████████████▊                      | 1291/3543 [1:29:17<2:59:55,  4.79s/it]"
     ]
    },
    {
     "name": "stdout",
     "output_type": "stream",
     "text": [
      "Error in get citation for Feature Level Adversarial Attacks and Ranking Disruption for Visible Infrared Person Re identification\n"
     ]
    },
    {
     "name": "stderr",
     "output_type": "stream",
     "text": [
      " 37%|████████████▊                      | 1296/3543 [1:29:39<2:53:05,  4.62s/it]"
     ]
    },
    {
     "name": "stdout",
     "output_type": "stream",
     "text": [
      "Error in get citation for Contrastive Equivariant Self Supervised Learning Improves Alignment with Primate Visual Area IT\n"
     ]
    },
    {
     "name": "stderr",
     "output_type": "stream",
     "text": [
      " 37%|████████████▊                      | 1301/3543 [1:29:55<2:06:54,  3.40s/it]"
     ]
    },
    {
     "name": "stdout",
     "output_type": "stream",
     "text": [
      "Error in get citation for CLUES: Collaborative Private domain High quality Data Selection for LLMs via Training Dynamics\n"
     ]
    },
    {
     "name": "stderr",
     "output_type": "stream",
     "text": [
      " 37%|████████████▉                      | 1305/3543 [1:30:10<2:22:15,  3.81s/it]"
     ]
    },
    {
     "name": "stdout",
     "output_type": "stream",
     "text": [
      "Error in get citation for Active Learning of General Halfspaces: Label Queries vs Membership Queries\n"
     ]
    },
    {
     "name": "stderr",
     "output_type": "stream",
     "text": [
      " 37%|█████████████                      | 1320/3543 [1:30:59<2:10:45,  3.53s/it]"
     ]
    },
    {
     "name": "stdout",
     "output_type": "stream",
     "text": [
      "Error in get citation for A Local Method for Satisfying Interventional Fairness with Partially Known Causal Graphs\n"
     ]
    },
    {
     "name": "stderr",
     "output_type": "stream",
     "text": [
      " 38%|█████████████▏                     | 1332/3543 [1:31:39<1:58:14,  3.21s/it]"
     ]
    },
    {
     "name": "stdout",
     "output_type": "stream",
     "text": [
      "Error in get citation for SpelsNet: Surface Primitive Elements Segmentation by B Rep Graph Structure Supervision\n"
     ]
    },
    {
     "name": "stderr",
     "output_type": "stream",
     "text": [
      " 38%|█████████████▎                     | 1346/3543 [1:32:34<2:04:30,  3.40s/it]"
     ]
    },
    {
     "name": "stdout",
     "output_type": "stream",
     "text": [
      "Error in get citation for On the Power of Small size Graph Neural Networks for Linear Programming\n"
     ]
    },
    {
     "name": "stderr",
     "output_type": "stream",
     "text": [
      " 38%|█████████████▎                     | 1347/3543 [1:32:37<1:59:56,  3.28s/it]"
     ]
    },
    {
     "name": "stdout",
     "output_type": "stream",
     "text": [
      "Error in get citation for TreeVI: Reparameterizable Tree structured Variational Inference for Instance level Correlation Capturing\n"
     ]
    },
    {
     "name": "stderr",
     "output_type": "stream",
     "text": [
      " 39%|█████████████▌                     | 1368/3543 [1:33:46<1:52:32,  3.10s/it]"
     ]
    },
    {
     "name": "stdout",
     "output_type": "stream",
     "text": [
      "Error in get citation for Grokking of Implicit Reasoning in Transformers: A Mechanistic Journey to the Edge of Generalization\n"
     ]
    },
    {
     "name": "stderr",
     "output_type": "stream",
     "text": [
      " 39%|█████████████▌                     | 1369/3543 [1:33:49<1:52:42,  3.11s/it]"
     ]
    },
    {
     "name": "stdout",
     "output_type": "stream",
     "text": [
      "Error in get citation for Improving Generalization in Federated Learning with Model Data Mutual Information Regularization: A Posterior Inference Approach\n"
     ]
    },
    {
     "name": "stderr",
     "output_type": "stream",
     "text": [
      " 39%|█████████████▌                     | 1378/3543 [1:34:20<2:05:04,  3.47s/it]"
     ]
    },
    {
     "name": "stdout",
     "output_type": "stream",
     "text": [
      "Error in get citation for Semi Open 3D Object Retrieval via Hierarchical Equilibrium on Hypergraph\n"
     ]
    },
    {
     "name": "stderr",
     "output_type": "stream",
     "text": [
      " 39%|█████████████▋                     | 1390/3543 [1:35:07<2:14:50,  3.76s/it]"
     ]
    },
    {
     "name": "stdout",
     "output_type": "stream",
     "text": [
      "Error in get citation for Optimal Transport based Labor free Text Prompt Modeling for Sketch Re identification\n"
     ]
    },
    {
     "name": "stderr",
     "output_type": "stream",
     "text": [
      " 39%|█████████████▊                     | 1393/3543 [1:35:17<2:06:06,  3.52s/it]"
     ]
    },
    {
     "name": "stdout",
     "output_type": "stream",
     "text": [
      "Error in get citation for Towards Estimating Bounds on the Effect of Policies under Unobserved Confounding\n"
     ]
    },
    {
     "name": "stderr",
     "output_type": "stream",
     "text": [
      " 39%|█████████████▊                     | 1395/3543 [1:35:23<1:52:05,  3.13s/it]"
     ]
    },
    {
     "name": "stdout",
     "output_type": "stream",
     "text": [
      "Error in get citation for Toward a Stable, Fair, and Comprehensive Evaluation of Object Hallucination in Large Vision Language Models\n"
     ]
    },
    {
     "name": "stderr",
     "output_type": "stream",
     "text": [
      " 40%|█████████████▊                     | 1402/3543 [1:35:47<2:10:53,  3.67s/it]"
     ]
    },
    {
     "name": "stdout",
     "output_type": "stream",
     "text": [
      "Error in get citation for On the Identifiability of Hybrid Deep Generative Models: Meta Learning as a Solution\n"
     ]
    },
    {
     "name": "stderr",
     "output_type": "stream",
     "text": [
      " 40%|█████████████▉                     | 1414/3543 [1:36:32<2:15:30,  3.82s/it]"
     ]
    },
    {
     "name": "stdout",
     "output_type": "stream",
     "text": [
      "Error in get citation for DiffHammer: Rethinking the Robustness of Diffusion Based Adversarial Purification\n"
     ]
    },
    {
     "name": "stderr",
     "output_type": "stream",
     "text": [
      " 40%|██████████████                     | 1419/3543 [1:36:51<2:16:27,  3.85s/it]"
     ]
    },
    {
     "name": "stdout",
     "output_type": "stream",
     "text": [
      "Error in get citation for HEPrune: Fast Private Training of Deep Neural Networks With Encrypted Data Pruning\n"
     ]
    },
    {
     "name": "stderr",
     "output_type": "stream",
     "text": [
      " 40%|██████████████                     | 1423/3543 [1:37:05<2:14:30,  3.81s/it]"
     ]
    },
    {
     "name": "stdout",
     "output_type": "stream",
     "text": [
      "Error in get citation for When to Act and When to Ask: Policy Learning With Deferral Under Hidden Confounding\n"
     ]
    },
    {
     "name": "stderr",
     "output_type": "stream",
     "text": [
      " 41%|██████████████▏                    | 1435/3543 [1:37:52<2:00:00,  3.42s/it]"
     ]
    },
    {
     "name": "stdout",
     "output_type": "stream",
     "text": [
      "Error in get citation for Accurate and Steady Inertial Pose Estimation through Sequence Structure Learning and Modulation\n"
     ]
    },
    {
     "name": "stderr",
     "output_type": "stream",
     "text": [
      " 41%|██████████████▏                    | 1441/3543 [1:38:14<2:07:53,  3.65s/it]"
     ]
    },
    {
     "name": "stdout",
     "output_type": "stream",
     "text": [
      "Error in get citation for Unifying Homophily and Heterophily for Spectral Graph Neural Networks via Triple Filter Ensembles\n"
     ]
    },
    {
     "name": "stderr",
     "output_type": "stream",
     "text": [
      " 41%|██████████████▎                    | 1453/3543 [1:39:28<2:13:09,  3.82s/it]"
     ]
    },
    {
     "name": "stdout",
     "output_type": "stream",
     "text": [
      "Error in get citation for Visual Pinwheel Centers Act as Geometric Saliency Detectors\n"
     ]
    },
    {
     "name": "stderr",
     "output_type": "stream",
     "text": [
      " 41%|██████████████▍                    | 1464/3543 [1:40:07<1:58:06,  3.41s/it]"
     ]
    },
    {
     "name": "stdout",
     "output_type": "stream",
     "text": [
      "Error in get citation for On the Scalability of Certified Adversarial Robustness with Generated Data\n"
     ]
    },
    {
     "name": "stderr",
     "output_type": "stream",
     "text": [
      " 42%|██████████████▋                    | 1481/3543 [1:41:03<1:58:32,  3.45s/it]"
     ]
    },
    {
     "name": "stdout",
     "output_type": "stream",
     "text": [
      "Error in get citation for SpikedAttention: Training Free and Fully Spike Driven Transformer to SNN Conversion with Winner Oriented Spike Shift for Softmax Operation\n"
     ]
    },
    {
     "name": "stderr",
     "output_type": "stream",
     "text": [
      " 42%|██████████████▊                    | 1497/3543 [1:41:59<1:51:44,  3.28s/it]"
     ]
    },
    {
     "name": "stdout",
     "output_type": "stream",
     "text": [
      "Error in get citation for DeTrack: In model Latent Denoising Learning for Visual Object Tracking\n"
     ]
    },
    {
     "name": "stderr",
     "output_type": "stream",
     "text": [
      " 43%|██████████████▉                    | 1509/3543 [1:42:47<2:29:37,  4.41s/it]"
     ]
    },
    {
     "name": "stdout",
     "output_type": "stream",
     "text": [
      "Error in get citation for LoCo: Learning 3D Location Consistent Image Features with a Memory Efficient Ranking Loss\n"
     ]
    },
    {
     "name": "stderr",
     "output_type": "stream",
     "text": [
      " 43%|██████████████▉                    | 1514/3543 [1:43:04<1:58:09,  3.49s/it]"
     ]
    },
    {
     "name": "stdout",
     "output_type": "stream",
     "text": [
      "Error in get citation for Disentangled Style Domain for Implicit $z$ Watermark Towards Copyright Protection\n"
     ]
    },
    {
     "name": "stderr",
     "output_type": "stream",
     "text": [
      " 43%|███████████████▏                   | 1532/3543 [1:44:38<1:49:45,  3.27s/it]"
     ]
    },
    {
     "name": "stdout",
     "output_type": "stream",
     "text": [
      "Error in get citation for HyperLogic: Enhancing Diversity and Accuracy in Rule Learning with HyperNets\n"
     ]
    },
    {
     "name": "stderr",
     "output_type": "stream",
     "text": [
      " 43%|███████████████▏                   | 1539/3543 [1:45:00<1:45:46,  3.17s/it]"
     ]
    },
    {
     "name": "stdout",
     "output_type": "stream",
     "text": [
      "Error in get citation for Leveraging Tumor Heterogeneity: Heterogeneous Graph Representation Learning for Cancer Survival Prediction in Whole Slide Images\n"
     ]
    },
    {
     "name": "stderr",
     "output_type": "stream",
     "text": [
      " 44%|███████████████▎                   | 1544/3543 [1:45:19<2:04:04,  3.72s/it]"
     ]
    },
    {
     "name": "stdout",
     "output_type": "stream",
     "text": [
      "Error in get citation for EEGPT: Pretrained Transformer for Universal and Reliable Representation of EEG Signals\n"
     ]
    },
    {
     "name": "stderr",
     "output_type": "stream",
     "text": [
      " 44%|███████████████▎                   | 1546/3543 [1:45:25<1:53:50,  3.42s/it]"
     ]
    },
    {
     "name": "stdout",
     "output_type": "stream",
     "text": [
      "Error in get citation for A theoretical design of concept sets: improving the predictability of concept bottleneck models\n"
     ]
    },
    {
     "name": "stderr",
     "output_type": "stream",
     "text": [
      " 44%|███████████████▎                   | 1553/3543 [1:45:49<2:05:00,  3.77s/it]"
     ]
    },
    {
     "name": "stdout",
     "output_type": "stream",
     "text": [
      "Error in get citation for Resource Aware Federated Self Supervised Learning with Global Class Representations\n"
     ]
    },
    {
     "name": "stderr",
     "output_type": "stream",
     "text": [
      " 44%|███████████████▍                   | 1558/3543 [1:46:06<1:51:41,  3.38s/it]"
     ]
    },
    {
     "name": "stdout",
     "output_type": "stream",
     "text": [
      "Error in get citation for Bridging semantics and pragmatics in information theoretic emergent communication\n"
     ]
    },
    {
     "name": "stderr",
     "output_type": "stream",
     "text": [
      " 44%|███████████████▍                   | 1561/3543 [1:46:16<1:51:21,  3.37s/it]"
     ]
    },
    {
     "name": "stdout",
     "output_type": "stream",
     "text": [
      "Error in get citation for ROIDICE: Offline Return on Investment Maximization for Efficient Decision Making\n"
     ]
    },
    {
     "name": "stderr",
     "output_type": "stream",
     "text": [
      " 44%|███████████████▍                   | 1564/3543 [1:46:24<1:41:23,  3.07s/it]"
     ]
    },
    {
     "name": "stdout",
     "output_type": "stream",
     "text": [
      "Error in get citation for Stochastic Extragradient with Flip Flop Shuffling & Anchoring: Provable Improvements\n"
     ]
    },
    {
     "name": "stderr",
     "output_type": "stream",
     "text": [
      " 44%|███████████████▍                   | 1565/3543 [1:46:27<1:39:29,  3.02s/it]"
     ]
    },
    {
     "name": "stdout",
     "output_type": "stream",
     "text": [
      "Error in get citation for LLM AutoDA: Large Language Model Driven Automatic Data Augmentation for Long tailed Problems\n"
     ]
    },
    {
     "name": "stderr",
     "output_type": "stream",
     "text": [
      " 44%|███████████████▍                   | 1569/3543 [1:46:39<1:38:06,  2.98s/it]"
     ]
    },
    {
     "name": "stdout",
     "output_type": "stream",
     "text": [
      "Error in get citation for Do LLMs Build World Representations? Probing Through the Lens of State Abstraction\n"
     ]
    },
    {
     "name": "stderr",
     "output_type": "stream",
     "text": [
      " 44%|███████████████▌                   | 1575/3543 [1:47:01<2:04:24,  3.79s/it]"
     ]
    },
    {
     "name": "stdout",
     "output_type": "stream",
     "text": [
      "Error in get citation for Complete Graphical Criterion for Sequential Covariate Adjustment in Causal Inference\n"
     ]
    },
    {
     "name": "stderr",
     "output_type": "stream",
     "text": [
      " 45%|███████████████▋                   | 1591/3543 [1:47:54<1:47:57,  3.32s/it]"
     ]
    },
    {
     "name": "stdout",
     "output_type": "stream",
     "text": [
      "Error in get citation for Towards Safe Concept Transfer of Multi Modal Diffusion via Causal Representation Editing\n"
     ]
    },
    {
     "name": "stderr",
     "output_type": "stream",
     "text": [
      " 45%|███████████████▊                   | 1596/3543 [1:48:10<1:43:34,  3.19s/it]"
     ]
    },
    {
     "name": "stdout",
     "output_type": "stream",
     "text": [
      "Error in get citation for Ultrafast classical phylogenetic method beats large protein language models on variant effect prediction\n"
     ]
    },
    {
     "name": "stderr",
     "output_type": "stream",
     "text": [
      " 45%|███████████████▊                   | 1597/3543 [1:48:13<1:42:38,  3.16s/it]"
     ]
    },
    {
     "name": "stdout",
     "output_type": "stream",
     "text": [
      "Error in get citation for Progressive Exploration Conformal Learning for Sparsely Annotated Object Detection in Aerial Images\n"
     ]
    },
    {
     "name": "stderr",
     "output_type": "stream",
     "text": [
      " 46%|████████████████                   | 1621/3543 [1:49:45<2:03:00,  3.84s/it]"
     ]
    },
    {
     "name": "stdout",
     "output_type": "stream",
     "text": [
      "Error in get citation for LLM based Skill Diffusion for Zero shot Policy Adaptation\n"
     ]
    },
    {
     "name": "stderr",
     "output_type": "stream",
     "text": [
      " 46%|████████████████                   | 1622/3543 [1:49:48<1:55:57,  3.62s/it]"
     ]
    },
    {
     "name": "stdout",
     "output_type": "stream",
     "text": [
      "Error in get citation for Probabilistic Federated Prompt Tuning with Non IID and Imbalanced Data\n"
     ]
    },
    {
     "name": "stderr",
     "output_type": "stream",
     "text": [
      " 46%|████████████████                   | 1629/3543 [1:50:14<1:55:53,  3.63s/it]"
     ]
    },
    {
     "name": "stdout",
     "output_type": "stream",
     "text": [
      "Error in get citation for Reimagining Mutual Information for Enhanced Defense against Data Leakage in Collaborative Inference\n"
     ]
    },
    {
     "name": "stderr",
     "output_type": "stream",
     "text": [
      " 47%|████████████████▍                  | 1668/3543 [1:52:28<1:36:02,  3.07s/it]"
     ]
    },
    {
     "name": "stdout",
     "output_type": "stream",
     "text": [
      "Error in get citation for Private and Personalized Frequency Estimation in a Federated Setting\n"
     ]
    },
    {
     "name": "stderr",
     "output_type": "stream",
     "text": [
      " 48%|████████████████▋                  | 1688/3543 [1:53:36<1:54:50,  3.71s/it]"
     ]
    },
    {
     "name": "stdout",
     "output_type": "stream",
     "text": [
      "Error in get citation for Training Binary Neural Networks via Gaussian Variational Inference and Low Rank Semidefinite Programming\n"
     ]
    },
    {
     "name": "stderr",
     "output_type": "stream",
     "text": [
      " 48%|████████████████▋                  | 1689/3543 [1:53:39<1:50:28,  3.58s/it]"
     ]
    },
    {
     "name": "stdout",
     "output_type": "stream",
     "text": [
      "Error in get citation for Exploiting the Replay Memory Before Exploring the Environment: Enhancing Reinforcement Learning Through Empirical MDP Iteration\n"
     ]
    },
    {
     "name": "stderr",
     "output_type": "stream",
     "text": [
      " 48%|████████████████▋                  | 1691/3543 [1:53:46<1:43:08,  3.34s/it]"
     ]
    },
    {
     "name": "stdout",
     "output_type": "stream",
     "text": [
      "Error in get citation for Amnesia as a Catalyst for Enhancing Black Box Pixel Attacks in Image Classification and Object Detection\n"
     ]
    },
    {
     "name": "stderr",
     "output_type": "stream",
     "text": [
      " 48%|████████████████▋                  | 1694/3543 [1:53:56<1:44:35,  3.39s/it]"
     ]
    },
    {
     "name": "stdout",
     "output_type": "stream",
     "text": [
      "Error in get citation for Beyond task diversity: provable representation transfer for sequential multitask linear bandits\n"
     ]
    },
    {
     "name": "stderr",
     "output_type": "stream",
     "text": [
      " 48%|████████████████▊                  | 1696/3543 [1:54:02<1:39:50,  3.24s/it]"
     ]
    },
    {
     "name": "stdout",
     "output_type": "stream",
     "text": [
      "Error in get citation for Gradient Methods for Online DR Submodular Maximization with Stochastic Long Term Constraints\n"
     ]
    },
    {
     "name": "stderr",
     "output_type": "stream",
     "text": [
      " 48%|████████████████▊                  | 1699/3543 [1:54:11<1:37:46,  3.18s/it]"
     ]
    },
    {
     "name": "stdout",
     "output_type": "stream",
     "text": [
      "Error in get citation for Unveiling the Bias Impact on Symmetric Moral Consistency of Large Language Models\n"
     ]
    },
    {
     "name": "stderr",
     "output_type": "stream",
     "text": [
      " 48%|████████████████▊                  | 1701/3543 [1:54:17<1:35:58,  3.13s/it]"
     ]
    },
    {
     "name": "stdout",
     "output_type": "stream",
     "text": [
      "Error in get citation for GraphVis: Boosting LLMs with Visual Knowledge Graph Integration\n"
     ]
    },
    {
     "name": "stderr",
     "output_type": "stream",
     "text": [
      " 48%|████████████████▊                  | 1708/3543 [1:54:40<1:40:49,  3.30s/it]"
     ]
    },
    {
     "name": "stdout",
     "output_type": "stream",
     "text": [
      "Error in get citation for Amortized Eigendecomposition for Neural Networks\n"
     ]
    },
    {
     "name": "stderr",
     "output_type": "stream",
     "text": [
      " 48%|████████████████▉                  | 1709/3543 [1:54:43<1:35:55,  3.14s/it]"
     ]
    },
    {
     "name": "stdout",
     "output_type": "stream",
     "text": [
      "Error in get citation for Neural Collapse To Multiple Centers For Imbalanced Data\n"
     ]
    },
    {
     "name": "stderr",
     "output_type": "stream",
     "text": [
      " 48%|████████████████▉                  | 1712/3543 [1:54:51<1:30:01,  2.95s/it]"
     ]
    },
    {
     "name": "stdout",
     "output_type": "stream",
     "text": [
      "Error in get citation for Sample Selection via Contrastive Fragmentation for Noisy Label Regression\n"
     ]
    },
    {
     "name": "stderr",
     "output_type": "stream",
     "text": [
      " 48%|████████████████▉                  | 1717/3543 [1:55:06<1:28:18,  2.90s/it]"
     ]
    },
    {
     "name": "stdout",
     "output_type": "stream",
     "text": [
      "Error in get citation for Mitigating Biases in Blackbox Feature Extractors for Image Classification Tasks\n"
     ]
    },
    {
     "name": "stderr",
     "output_type": "stream",
     "text": [
      " 49%|█████████████████                  | 1731/3543 [1:55:53<1:40:04,  3.31s/it]"
     ]
    },
    {
     "name": "stdout",
     "output_type": "stream",
     "text": [
      "Error in get citation for RashomonGB: Analyzing the Rashomon Effect and Mitigating Predictive Multiplicity in Gradient Boosting\n"
     ]
    },
    {
     "name": "stderr",
     "output_type": "stream",
     "text": [
      " 49%|█████████████████▏                 | 1735/3543 [1:56:09<2:01:19,  4.03s/it]"
     ]
    },
    {
     "name": "stdout",
     "output_type": "stream",
     "text": [
      "Error in get citation for Exploratory Retrieval Augmented Planning For Continual Embodied Instruction Following\n"
     ]
    },
    {
     "name": "stderr",
     "output_type": "stream",
     "text": [
      " 49%|█████████████████▏                 | 1740/3543 [1:56:24<1:35:20,  3.17s/it]"
     ]
    },
    {
     "name": "stdout",
     "output_type": "stream",
     "text": [
      "Error in get citation for FedAvP: Augment Local Data via Shared Policy in Federated Learning\n"
     ]
    },
    {
     "name": "stderr",
     "output_type": "stream",
     "text": [
      " 49%|█████████████████▎                 | 1747/3543 [1:56:49<1:43:45,  3.47s/it]"
     ]
    },
    {
     "name": "stdout",
     "output_type": "stream",
     "text": [
      "Error in get citation for Neural Network Reparametrization for Accelerated Optimization in Molecular Simulations\n"
     ]
    },
    {
     "name": "stderr",
     "output_type": "stream",
     "text": [
      " 50%|█████████████████▎                 | 1757/3543 [1:57:23<1:47:11,  3.60s/it]"
     ]
    },
    {
     "name": "stdout",
     "output_type": "stream",
     "text": [
      "Error in get citation for Confusion Resistant Federated Learning via Diffusion Based Data Harmonization on Non IID Data\n"
     ]
    },
    {
     "name": "stderr",
     "output_type": "stream",
     "text": [
      " 50%|█████████████████▌                 | 1776/3543 [1:58:33<1:57:24,  3.99s/it]"
     ]
    },
    {
     "name": "stdout",
     "output_type": "stream",
     "text": [
      "Error in get citation for A probability contrastive learning framework for 3D molecular representation learning\n"
     ]
    },
    {
     "name": "stderr",
     "output_type": "stream",
     "text": [
      " 50%|█████████████████▌                 | 1781/3543 [1:58:50<1:40:07,  3.41s/it]"
     ]
    },
    {
     "name": "stdout",
     "output_type": "stream",
     "text": [
      "Error in get citation for IF Font: Ideographic Description Sequence Following Font Generation\n"
     ]
    },
    {
     "name": "stderr",
     "output_type": "stream",
     "text": [
      " 50%|█████████████████▋                 | 1789/3543 [1:59:19<1:41:28,  3.47s/it]"
     ]
    },
    {
     "name": "stdout",
     "output_type": "stream",
     "text": [
      "Error in get citation for Stability and Generalization of Adversarial Training for Shallow Neural Networks with Smooth Activation\n"
     ]
    },
    {
     "name": "stderr",
     "output_type": "stream",
     "text": [
      " 51%|█████████████████▋                 | 1795/3543 [1:59:39<1:35:23,  3.27s/it]"
     ]
    },
    {
     "name": "stdout",
     "output_type": "stream",
     "text": [
      "Error in get citation for Rethinking Memory and Communication Costs for Efficient Data Parallel Training of Large Language Models\n"
     ]
    },
    {
     "name": "stderr",
     "output_type": "stream",
     "text": [
      " 51%|█████████████████▊                 | 1797/3543 [1:59:46<1:37:36,  3.35s/it]"
     ]
    },
    {
     "name": "stdout",
     "output_type": "stream",
     "text": [
      "Error in get citation for Rethinking Fourier Transform from A Basis Functions Perspective for Long term Time Series Forecasting\n"
     ]
    },
    {
     "name": "stderr",
     "output_type": "stream",
     "text": [
      " 51%|█████████████████▊                 | 1808/3543 [2:00:23<1:49:13,  3.78s/it]"
     ]
    },
    {
     "name": "stdout",
     "output_type": "stream",
     "text": [
      "Error in get citation for Temporal Graph Neural Tangent Kernel with Graphon Guaranteed\n"
     ]
    },
    {
     "name": "stderr",
     "output_type": "stream",
     "text": [
      " 51%|█████████████████▉                 | 1811/3543 [2:00:35<1:55:56,  4.02s/it]"
     ]
    },
    {
     "name": "stdout",
     "output_type": "stream",
     "text": [
      "Error in get citation for Piecewise Stationary Bandits with Knapsacks\n"
     ]
    },
    {
     "name": "stderr",
     "output_type": "stream",
     "text": [
      " 52%|██████████████████                 | 1829/3543 [2:01:36<1:36:17,  3.37s/it]"
     ]
    },
    {
     "name": "stdout",
     "output_type": "stream",
     "text": [
      "Error in get citation for Unveiling Causal Reasoning in Large Language Models: Reality or Mirage?\n"
     ]
    },
    {
     "name": "stderr",
     "output_type": "stream",
     "text": [
      " 52%|██████████████████                 | 1834/3543 [2:01:51<1:27:24,  3.07s/it]"
     ]
    },
    {
     "name": "stdout",
     "output_type": "stream",
     "text": [
      "Error in get citation for Easy Regional Contrastive Learning of Expressive Fashion Representations\n"
     ]
    },
    {
     "name": "stderr",
     "output_type": "stream",
     "text": [
      " 52%|██████████████████▏                | 1837/3543 [2:02:00<1:22:56,  2.92s/it]"
     ]
    },
    {
     "name": "stdout",
     "output_type": "stream",
     "text": [
      "Error in get citation for On the Saturation Effects of Spectral Algorithms in Large Dimensions\n"
     ]
    },
    {
     "name": "stderr",
     "output_type": "stream",
     "text": [
      " 52%|██████████████████▏                | 1847/3543 [2:02:34<1:29:27,  3.16s/it]"
     ]
    },
    {
     "name": "stdout",
     "output_type": "stream",
     "text": [
      "Error in get citation for Unlock the Intermittent Control Ability of Model Free Reinforcement Learning\n"
     ]
    },
    {
     "name": "stderr",
     "output_type": "stream",
     "text": [
      " 52%|██████████████████▎                | 1851/3543 [2:02:47<1:32:47,  3.29s/it]"
     ]
    },
    {
     "name": "stdout",
     "output_type": "stream",
     "text": [
      "Error in get citation for The motion planning neural circuit in goal directed navigation as Lie group operator search\n"
     ]
    },
    {
     "name": "stderr",
     "output_type": "stream",
     "text": [
      " 52%|██████████████████▎                | 1859/3543 [2:03:14<1:40:09,  3.57s/it]"
     ]
    },
    {
     "name": "stdout",
     "output_type": "stream",
     "text": [
      "Error in get citation for How Does Black Box Impact the Learning Guarantee of Stochastic Compositional Optimization?\n"
     ]
    },
    {
     "name": "stderr",
     "output_type": "stream",
     "text": [
      " 52%|██████████████████▎                | 1860/3543 [2:03:17<1:35:48,  3.42s/it]"
     ]
    },
    {
     "name": "stdout",
     "output_type": "stream",
     "text": [
      "Error in get citation for Robust and Faster Zeroth Order Minimax Optimization: Complexity and Applications\n"
     ]
    },
    {
     "name": "stderr",
     "output_type": "stream",
     "text": [
      " 53%|██████████████████▍                | 1861/3543 [2:03:20<1:29:57,  3.21s/it]"
     ]
    },
    {
     "name": "stdout",
     "output_type": "stream",
     "text": [
      "Error in get citation for Last Iterate Convergence for Generalized Frank Wolfe in Monotone Variational Inequalities\n"
     ]
    },
    {
     "name": "stderr",
     "output_type": "stream",
     "text": [
      " 53%|██████████████████▍                | 1863/3543 [2:03:26<1:25:48,  3.06s/it]"
     ]
    },
    {
     "name": "stdout",
     "output_type": "stream",
     "text": [
      "Error in get citation for Generalized Tensor Decomposition for Understanding Multi Output Regression under Combinatorial Shifts\n"
     ]
    },
    {
     "name": "stderr",
     "output_type": "stream",
     "text": [
      " 53%|██████████████████▍                | 1865/3543 [2:03:31<1:21:34,  2.92s/it]"
     ]
    },
    {
     "name": "stdout",
     "output_type": "stream",
     "text": [
      "Error in get citation for EGonc : Energy based Open Set Node Classification with substitute Unknowns\n"
     ]
    },
    {
     "name": "stderr",
     "output_type": "stream",
     "text": [
      " 53%|██████████████████▍                | 1867/3543 [2:03:38<1:26:34,  3.10s/it]"
     ]
    },
    {
     "name": "stdout",
     "output_type": "stream",
     "text": [
      "Error in get citation for CosAE: Learnable Fourier Series for Image Restoration\n"
     ]
    },
    {
     "name": "stderr",
     "output_type": "stream",
     "text": [
      " 53%|██████████████████▌                | 1878/3543 [2:04:20<1:41:03,  3.64s/it]"
     ]
    },
    {
     "name": "stdout",
     "output_type": "stream",
     "text": [
      "Error in get citation for Spiking Token Mixer:  An event driven friendly Former structure for spiking neural networks\n"
     ]
    },
    {
     "name": "stderr",
     "output_type": "stream",
     "text": [
      " 53%|██████████████████▌                | 1879/3543 [2:04:23<1:35:46,  3.45s/it]"
     ]
    },
    {
     "name": "stdout",
     "output_type": "stream",
     "text": [
      "Error in get citation for FlexPlanner: Flexible 3D Floorplanning via Deep Reinforcement Learning in Hybrid Action Space with Multi Modality Representation\n"
     ]
    },
    {
     "name": "stderr",
     "output_type": "stream",
     "text": [
      " 53%|██████████████████▋                | 1892/3543 [2:05:05<1:24:56,  3.09s/it]"
     ]
    },
    {
     "name": "stdout",
     "output_type": "stream",
     "text": [
      "Error in get citation for An Autoencoder Like Nonnegative Matrix Co Factorization for Improved Student Cognitive Modeling\n"
     ]
    },
    {
     "name": "stderr",
     "output_type": "stream",
     "text": [
      " 55%|███████████████████▎               | 1951/3543 [2:08:31<2:05:57,  4.75s/it]"
     ]
    },
    {
     "name": "stdout",
     "output_type": "stream",
     "text": [
      "Error in get citation for SS1: Accelerating Inference with Fast and Expressive Sketch Structured Transform\n"
     ]
    },
    {
     "name": "stderr",
     "output_type": "stream",
     "text": [
      " 55%|███████████████████▎               | 1961/3543 [2:09:11<1:28:37,  3.36s/it]"
     ]
    },
    {
     "name": "stdout",
     "output_type": "stream",
     "text": [
      "Error in get citation for Probing Social Bias in Labor Market Text Generation by ChatGPT: A Masked Language Model Approach\n"
     ]
    },
    {
     "name": "stderr",
     "output_type": "stream",
     "text": [
      " 56%|███████████████████▍               | 1973/3543 [2:09:56<1:48:01,  4.13s/it]"
     ]
    },
    {
     "name": "stdout",
     "output_type": "stream",
     "text": [
      "Error in get citation for Secret Collusion among AI Agents: Multi Agent Deception via Steganography\n"
     ]
    },
    {
     "name": "stderr",
     "output_type": "stream",
     "text": [
      " 56%|███████████████████▌               | 1978/3543 [2:10:13<1:29:53,  3.45s/it]"
     ]
    },
    {
     "name": "stdout",
     "output_type": "stream",
     "text": [
      "Error in get citation for Going Beyond Heuristics by Imposing Policy Improvement as a Constraint\n"
     ]
    },
    {
     "name": "stderr",
     "output_type": "stream",
     "text": [
      " 56%|███████████████████▌               | 1984/3543 [2:10:33<1:24:45,  3.26s/it]"
     ]
    },
    {
     "name": "stdout",
     "output_type": "stream",
     "text": [
      "Error in get citation for EGODE: An Event attended Graph ODE Framework for Modeling Rigid Dynamics\n"
     ]
    },
    {
     "name": "stderr",
     "output_type": "stream",
     "text": [
      " 56%|███████████████████▋               | 1998/3543 [2:11:30<1:26:06,  3.34s/it]"
     ]
    },
    {
     "name": "stdout",
     "output_type": "stream",
     "text": [
      "Error in get citation for Asymptotics of Alpha Divergence Variational Inference Algorithms with Exponential Families\n"
     ]
    },
    {
     "name": "stderr",
     "output_type": "stream",
     "text": [
      " 57%|███████████████████▊               | 2008/3543 [2:12:11<1:39:56,  3.91s/it]"
     ]
    },
    {
     "name": "stdout",
     "output_type": "stream",
     "text": [
      "Error in get citation for Connecting the Dots: LLMs can Infer and Verbalize Latent Structure from Disparate Training Data\n"
     ]
    },
    {
     "name": "stderr",
     "output_type": "stream",
     "text": [
      " 57%|███████████████████▉               | 2018/3543 [2:12:52<2:20:29,  5.53s/it]"
     ]
    },
    {
     "name": "stdout",
     "output_type": "stream",
     "text": [
      "Error in get citation for Empowering Visible Infrared Person Re Identification with Large Foundation Models\n"
     ]
    },
    {
     "name": "stderr",
     "output_type": "stream",
     "text": [
      " 57%|███████████████████▉               | 2023/3543 [2:13:15<1:52:44,  4.45s/it]"
     ]
    },
    {
     "name": "stdout",
     "output_type": "stream",
     "text": [
      "Error in get citation for Weight for Robustness: A Comprehensive Approach towards Optimal Fault Tolerant Asynchronous ML\n"
     ]
    },
    {
     "name": "stderr",
     "output_type": "stream",
     "text": [
      " 57%|████████████████████               | 2031/3543 [2:13:46<1:48:21,  4.30s/it]"
     ]
    },
    {
     "name": "stdout",
     "output_type": "stream",
     "text": [
      "Error in get citation for CLIPCEIL: Domain Generalization through CLIP via Channel rEfinement and Image text aLignment\n"
     ]
    },
    {
     "name": "stderr",
     "output_type": "stream",
     "text": [
      " 59%|████████████████████▌              | 2077/3543 [2:16:47<1:36:49,  3.96s/it]"
     ]
    },
    {
     "name": "stdout",
     "output_type": "stream",
     "text": [
      "Error in get citation for ColJailBreak: Collaborative Generation and Editing for Jailbreaking Text to Image Deep Generation\n"
     ]
    },
    {
     "name": "stderr",
     "output_type": "stream",
     "text": [
      " 59%|████████████████████▌              | 2087/3543 [2:17:24<1:26:22,  3.56s/it]"
     ]
    },
    {
     "name": "stdout",
     "output_type": "stream",
     "text": [
      "Error in get citation for Real time Core Periphery Guided ViT with Smart Data Layout Selection on Mobile Devices\n"
     ]
    },
    {
     "name": "stderr",
     "output_type": "stream",
     "text": [
      " 59%|████████████████████▊              | 2103/3543 [2:18:21<1:18:26,  3.27s/it]"
     ]
    },
    {
     "name": "stdout",
     "output_type": "stream",
     "text": [
      "Error in get citation for Text Infused Attention and Foreground Aware Modeling for Zero Shot Temporal Action Detection\n"
     ]
    },
    {
     "name": "stderr",
     "output_type": "stream",
     "text": [
      " 60%|████████████████████▊              | 2110/3543 [2:18:45<1:26:43,  3.63s/it]"
     ]
    },
    {
     "name": "stdout",
     "output_type": "stream",
     "text": [
      "Error in get citation for QBB: Quantization with Binary Bases for LLMs\n"
     ]
    },
    {
     "name": "stderr",
     "output_type": "stream",
     "text": [
      " 60%|████████████████████▉              | 2114/3543 [2:19:01<1:35:04,  3.99s/it]"
     ]
    },
    {
     "name": "stdout",
     "output_type": "stream",
     "text": [
      "Error in get citation for On the Target kernel Alignment: a Unified Analysis with Kernel Complexity\n"
     ]
    },
    {
     "name": "stderr",
     "output_type": "stream",
     "text": [
      " 60%|█████████████████████              | 2137/3543 [2:20:21<1:28:13,  3.76s/it]"
     ]
    },
    {
     "name": "stdout",
     "output_type": "stream",
     "text": [
      "Error in get citation for CSPG: Crossing Sparse Proximity Graphs for Approximate Nearest Neighbor Search\n"
     ]
    },
    {
     "name": "stderr",
     "output_type": "stream",
     "text": [
      " 60%|█████████████████████              | 2138/3543 [2:20:24<1:24:11,  3.60s/it]"
     ]
    },
    {
     "name": "stdout",
     "output_type": "stream",
     "text": [
      "Error in get citation for Multi Agent Domain Calibration with a Handful of Offline Data\n"
     ]
    },
    {
     "name": "stderr",
     "output_type": "stream",
     "text": [
      " 60%|█████████████████████▏             | 2143/3543 [2:20:42<1:27:04,  3.73s/it]"
     ]
    },
    {
     "name": "stdout",
     "output_type": "stream",
     "text": [
      "Error in get citation for EfficientCAPER: An End to End Framework for Fast and Robust Category Level Articulated Object Pose Estimation\n"
     ]
    },
    {
     "name": "stderr",
     "output_type": "stream",
     "text": [
      " 61%|█████████████████████▏             | 2149/3543 [2:21:03<1:27:06,  3.75s/it]"
     ]
    },
    {
     "name": "stdout",
     "output_type": "stream",
     "text": [
      "Error in get citation for MetaUAS: Universal Anomaly Segmentation with One Prompt Meta Learning\n"
     ]
    },
    {
     "name": "stderr",
     "output_type": "stream",
     "text": [
      " 61%|█████████████████████▍             | 2173/3543 [2:22:31<1:37:13,  4.26s/it]"
     ]
    },
    {
     "name": "stdout",
     "output_type": "stream",
     "text": [
      "Error in get citation for Universal Physics Transformers: A Framework For Efficiently Scaling Neural Operators\n"
     ]
    },
    {
     "name": "stderr",
     "output_type": "stream",
     "text": [
      " 61%|█████████████████████▍             | 2175/3543 [2:22:38<1:23:43,  3.67s/it]"
     ]
    },
    {
     "name": "stdout",
     "output_type": "stream",
     "text": [
      "Error in get citation for Rethinking Parity Check Enhanced Symmetry Preserving Ansatz\n"
     ]
    },
    {
     "name": "stderr",
     "output_type": "stream",
     "text": [
      " 62%|█████████████████████▌             | 2179/3543 [2:22:51<1:17:46,  3.42s/it]"
     ]
    },
    {
     "name": "stdout",
     "output_type": "stream",
     "text": [
      "Error in get citation for Exploiting Descriptive Completeness Prior for Cross Modal Hashing with Incomplete Labels\n"
     ]
    },
    {
     "name": "stderr",
     "output_type": "stream",
     "text": [
      " 62%|█████████████████████▌             | 2185/3543 [2:23:15<1:20:28,  3.56s/it]"
     ]
    },
    {
     "name": "stdout",
     "output_type": "stream",
     "text": [
      "Error in get citation for FUGAL: Feature fortified Unrestricted Graph Alignment\n"
     ]
    },
    {
     "name": "stderr",
     "output_type": "stream",
     "text": [
      " 62%|█████████████████████▋             | 2194/3543 [2:24:16<1:33:05,  4.14s/it]"
     ]
    },
    {
     "name": "stdout",
     "output_type": "stream",
     "text": [
      "Error in get citation for SDformer: Similarity driven Discrete Transformer For Time Series Generation\n"
     ]
    },
    {
     "name": "stderr",
     "output_type": "stream",
     "text": [
      " 62%|█████████████████████▋             | 2197/3543 [2:24:27<1:24:19,  3.76s/it]"
     ]
    },
    {
     "name": "stdout",
     "output_type": "stream",
     "text": [
      "Error in get citation for Initializing Variable sized Vision Transformers from Learngene with Learnable Transformation\n"
     ]
    },
    {
     "name": "stderr",
     "output_type": "stream",
     "text": [
      " 62%|█████████████████████▋             | 2199/3543 [2:24:34<1:22:34,  3.69s/it]"
     ]
    },
    {
     "name": "stdout",
     "output_type": "stream",
     "text": [
      "Error in get citation for Generalizablity of Memorization Neural Network\n"
     ]
    },
    {
     "name": "stderr",
     "output_type": "stream",
     "text": [
      " 63%|██████████████████████▏            | 2249/3543 [2:27:36<1:26:04,  3.99s/it]"
     ]
    },
    {
     "name": "stdout",
     "output_type": "stream",
     "text": [
      "Error in get citation for MemVLT: Vision Language Tracking with Adaptive Memory based Prompts\n"
     ]
    },
    {
     "name": "stderr",
     "output_type": "stream",
     "text": [
      " 64%|██████████████████████▏            | 2251/3543 [2:27:42<1:16:39,  3.56s/it]"
     ]
    },
    {
     "name": "stdout",
     "output_type": "stream",
     "text": [
      "Error in get citation for Domain Adaptation for Large Vocabulary Object Detectors\n"
     ]
    },
    {
     "name": "stderr",
     "output_type": "stream",
     "text": [
      " 64%|██████████████████████▎            | 2256/3543 [2:28:07<1:23:25,  3.89s/it]"
     ]
    },
    {
     "name": "stdout",
     "output_type": "stream",
     "text": [
      "Error in get citation for Seek Commonality but Preserve Differences: Dissected Dynamics Modeling for Multi modal Visual RL\n"
     ]
    },
    {
     "name": "stderr",
     "output_type": "stream",
     "text": [
      " 64%|██████████████████████▍            | 2265/3543 [2:28:39<1:19:43,  3.74s/it]"
     ]
    },
    {
     "name": "stdout",
     "output_type": "stream",
     "text": [
      "Error in get citation for Learning Interaction aware 3D Gaussian Splatting for One shot Hand Avatars\n"
     ]
    },
    {
     "name": "stderr",
     "output_type": "stream",
     "text": [
      " 64%|██████████████████████▍            | 2272/3543 [2:29:15<1:26:24,  4.08s/it]"
     ]
    },
    {
     "name": "stdout",
     "output_type": "stream",
     "text": [
      "Error in get citation for Enhancing Large Language Models through Adaptive Tokenizers\n"
     ]
    },
    {
     "name": "stderr",
     "output_type": "stream",
     "text": [
      " 65%|██████████████████████▋            | 2293/3543 [2:30:39<1:06:42,  3.20s/it]"
     ]
    },
    {
     "name": "stdout",
     "output_type": "stream",
     "text": [
      "Error in get citation for Elliptical Attention\n"
     ]
    },
    {
     "name": "stderr",
     "output_type": "stream",
     "text": [
      " 65%|██████████████████████▋            | 2300/3543 [2:31:11<1:10:58,  3.43s/it]"
     ]
    },
    {
     "name": "stdout",
     "output_type": "stream",
     "text": [
      "Error in get citation for Gliding over the Pareto Front with Uniform Designs\n"
     ]
    },
    {
     "name": "stderr",
     "output_type": "stream",
     "text": [
      " 65%|██████████████████████▋            | 2302/3543 [2:31:18<1:11:55,  3.48s/it]"
     ]
    },
    {
     "name": "stdout",
     "output_type": "stream",
     "text": [
      "Error in get citation for A PID Controller Approach for Adaptive Probability dependent Gradient Decay in Model Calibration\n"
     ]
    },
    {
     "name": "stderr",
     "output_type": "stream",
     "text": [
      " 65%|██████████████████████▊            | 2309/3543 [2:31:39<1:06:38,  3.24s/it]"
     ]
    },
    {
     "name": "stdout",
     "output_type": "stream",
     "text": [
      "Error in get citation for Neural Experts: Mixture of Experts for Implicit Neural Representations\n"
     ]
    },
    {
     "name": "stderr",
     "output_type": "stream",
     "text": [
      " 66%|███████████████████████            | 2335/3543 [2:33:23<1:10:04,  3.48s/it]"
     ]
    },
    {
     "name": "stdout",
     "output_type": "stream",
     "text": [
      "Error in get citation for Exploring Token Pruning in Vision State Space Models\n"
     ]
    },
    {
     "name": "stderr",
     "output_type": "stream",
     "text": [
      " 66%|███████████████████████▏           | 2341/3543 [2:33:56<1:21:39,  4.08s/it]"
     ]
    },
    {
     "name": "stdout",
     "output_type": "stream",
     "text": [
      "Error in get citation for DeformableTST: Transformer for Time Series Forecasting without Over reliance on Patching\n"
     ]
    },
    {
     "name": "stderr",
     "output_type": "stream",
     "text": [
      " 66%|███████████████████████▏           | 2342/3543 [2:33:59<1:15:04,  3.75s/it]"
     ]
    },
    {
     "name": "stdout",
     "output_type": "stream",
     "text": [
      "Error in get citation for MAmmoTH2: Scaling Instructions from the Web\n"
     ]
    },
    {
     "name": "stderr",
     "output_type": "stream",
     "text": [
      " 66%|███████████████████████▏           | 2344/3543 [2:34:20<2:18:01,  6.91s/it]"
     ]
    },
    {
     "name": "stdout",
     "output_type": "stream",
     "text": [
      "Error in get citation for Cluster Learngene: Inheriting Adaptive Clusters for Vision Transformers\n"
     ]
    },
    {
     "name": "stderr",
     "output_type": "stream",
     "text": [
      " 66%|███████████████████████▏           | 2347/3543 [2:34:31<1:36:55,  4.86s/it]"
     ]
    },
    {
     "name": "stdout",
     "output_type": "stream",
     "text": [
      "Error in get citation for Efficiently Learning Significant Fourier Feature Pairs for Statistical Independence Testing\n"
     ]
    },
    {
     "name": "stderr",
     "output_type": "stream",
     "text": [
      " 66%|███████████████████████▏           | 2348/3543 [2:34:34<1:26:05,  4.32s/it]"
     ]
    },
    {
     "name": "stdout",
     "output_type": "stream",
     "text": [
      "Error in get citation for Search for Efficient Large Language Models\n"
     ]
    },
    {
     "name": "stderr",
     "output_type": "stream",
     "text": [
      " 67%|███████████████████████▎           | 2359/3543 [2:35:19<1:06:26,  3.37s/it]"
     ]
    },
    {
     "name": "stdout",
     "output_type": "stream",
     "text": [
      "Error in get citation for QUEST: Quadruple Multimodal Contrastive Learning with Constraints and Self Penalization\n"
     ]
    },
    {
     "name": "stderr",
     "output_type": "stream",
     "text": [
      " 67%|███████████████████████▎           | 2365/3543 [2:35:40<1:08:04,  3.47s/it]"
     ]
    },
    {
     "name": "stdout",
     "output_type": "stream",
     "text": [
      "Error in get citation for Learning 3D Garment Animation from Trajectories of A Piece of Cloth\n"
     ]
    },
    {
     "name": "stderr",
     "output_type": "stream",
     "text": [
      " 67%|███████████████████████▍           | 2376/3543 [2:36:25<1:34:07,  4.84s/it]"
     ]
    },
    {
     "name": "stdout",
     "output_type": "stream",
     "text": [
      "Error in get citation for Linearly Decomposing and Recomposing Vision Transformers for Diverse Scale Models\n"
     ]
    },
    {
     "name": "stderr",
     "output_type": "stream",
     "text": [
      " 67%|███████████████████████▌           | 2385/3543 [2:37:00<1:06:19,  3.44s/it]"
     ]
    },
    {
     "name": "stdout",
     "output_type": "stream",
     "text": [
      "Error in get citation for D2R2: Diffusion based Representation with Random Distance Matching for Tabular Few shot Learning\n"
     ]
    },
    {
     "name": "stderr",
     "output_type": "stream",
     "text": [
      " 68%|████████████████████████▉            | 2393/3543 [2:37:24<57:52,  3.02s/it]"
     ]
    },
    {
     "name": "stdout",
     "output_type": "stream",
     "text": [
      "Error in get citation for Stabilizing Zero Shot Prediction: A Novel Antidote to Forgetting in Continual Vision Language Tasks\n"
     ]
    },
    {
     "name": "stderr",
     "output_type": "stream",
     "text": [
      " 68%|███████████████████████▊           | 2407/3543 [2:38:30<1:21:31,  4.31s/it]"
     ]
    },
    {
     "name": "stdout",
     "output_type": "stream",
     "text": [
      "Error in get citation for Adaptive Passive Aggressive Framework for Online Regression with Side Information\n"
     ]
    },
    {
     "name": "stderr",
     "output_type": "stream",
     "text": [
      " 68%|███████████████████████▊           | 2410/3543 [2:38:45<1:43:12,  5.47s/it]"
     ]
    },
    {
     "name": "stdout",
     "output_type": "stream",
     "text": [
      "Error in get citation for In Pursuit of Causal Label Correlations for Multi label Image Recognition\n"
     ]
    },
    {
     "name": "stderr",
     "output_type": "stream",
     "text": [
      " 68%|███████████████████████▊           | 2416/3543 [2:39:12<1:20:36,  4.29s/it]"
     ]
    },
    {
     "name": "stdout",
     "output_type": "stream",
     "text": [
      "Error in get citation for Exploiting Representation Curvature for Boundary Detection in Time Series\n"
     ]
    },
    {
     "name": "stderr",
     "output_type": "stream",
     "text": [
      " 68%|███████████████████████▉           | 2422/3543 [2:39:32<1:04:46,  3.47s/it]"
     ]
    },
    {
     "name": "stdout",
     "output_type": "stream",
     "text": [
      "Error in get citation for Clustering then Propagation: Select Better Anchors for Knowledge Graph Embedding\n"
     ]
    },
    {
     "name": "stderr",
     "output_type": "stream",
     "text": [
      " 69%|████████████████████████           | 2435/3543 [2:40:20<1:01:32,  3.33s/it]"
     ]
    },
    {
     "name": "stdout",
     "output_type": "stream",
     "text": [
      "Error in get citation for Revisiting motion information for RGB Event tracking with MOT philosophy\n"
     ]
    },
    {
     "name": "stderr",
     "output_type": "stream",
     "text": [
      " 69%|█████████████████████████▍           | 2437/3543 [2:40:26<59:42,  3.24s/it]"
     ]
    },
    {
     "name": "stdout",
     "output_type": "stream",
     "text": [
      "Error in get citation for Sample Efficient Agnostic Boosting\n"
     ]
    },
    {
     "name": "stderr",
     "output_type": "stream",
     "text": [
      " 69%|█████████████████████████▋           | 2460/3543 [2:41:59<58:36,  3.25s/it]"
     ]
    },
    {
     "name": "stdout",
     "output_type": "stream",
     "text": [
      "Error in get citation for Few Shot Diffusion Models Escape the Curse of Dimensionality\n"
     ]
    },
    {
     "name": "stderr",
     "output_type": "stream",
     "text": [
      " 69%|█████████████████████████▋           | 2462/3543 [2:42:05<57:51,  3.21s/it]"
     ]
    },
    {
     "name": "stdout",
     "output_type": "stream",
     "text": [
      "Error in get citation for Interfacing Foundation Models' Embeddings\n"
     ]
    },
    {
     "name": "stderr",
     "output_type": "stream",
     "text": [
      " 70%|████████████████████████▎          | 2463/3543 [2:42:18<1:47:04,  5.95s/it]"
     ]
    },
    {
     "name": "stdout",
     "output_type": "stream",
     "text": [
      "Error in get citation for Leveraging Drift to Improve Sample Complexity of Variance Exploding Diffusion Models\n"
     ]
    },
    {
     "name": "stderr",
     "output_type": "stream",
     "text": [
      " 70%|████████████████████████▎          | 2464/3543 [2:42:21<1:31:24,  5.08s/it]"
     ]
    },
    {
     "name": "stdout",
     "output_type": "stream",
     "text": [
      "Error in get citation for IODA: Instance Guided One shot Domain Adaptation for Super Resolution\n"
     ]
    },
    {
     "name": "stderr",
     "output_type": "stream",
     "text": [
      " 70%|████████████████████████▎          | 2467/3543 [2:42:30<1:09:54,  3.90s/it]"
     ]
    },
    {
     "name": "stdout",
     "output_type": "stream",
     "text": [
      "Error in get citation for Hallo3D: Multi Modal Hallucination Detection and Mitigation for Consistent 3D Content Generation\n"
     ]
    },
    {
     "name": "stderr",
     "output_type": "stream",
     "text": [
      " 70%|████████████████████████▍          | 2468/3543 [2:42:34<1:05:47,  3.67s/it]"
     ]
    },
    {
     "name": "stdout",
     "output_type": "stream",
     "text": [
      "Error in get citation for LiT: Unifying LiDAR \"Languages\" with LiDAR Translator\n"
     ]
    },
    {
     "name": "stderr",
     "output_type": "stream",
     "text": [
      " 70%|████████████████████████▍          | 2469/3543 [2:42:37<1:02:48,  3.51s/it]"
     ]
    },
    {
     "name": "stdout",
     "output_type": "stream",
     "text": [
      "Error in get citation for Instruction Tuning With Loss Over Instructions\n"
     ]
    },
    {
     "name": "stderr",
     "output_type": "stream",
     "text": [
      " 70%|████████████████████████▍          | 2474/3543 [2:43:03<1:11:24,  4.01s/it]"
     ]
    },
    {
     "name": "stdout",
     "output_type": "stream",
     "text": [
      "Error in get citation for Toward Dynamic Non Line of Sight Imaging with Mamba Enforced Temporal Consistency\n"
     ]
    },
    {
     "name": "stderr",
     "output_type": "stream",
     "text": [
      " 70%|████████████████████████▍          | 2479/3543 [2:43:24<1:11:33,  4.04s/it]"
     ]
    },
    {
     "name": "stdout",
     "output_type": "stream",
     "text": [
      "Error in get citation for End to End Video Semantic Segmentation in Adverse Weather using Fusion Blocks and Temporal Spatial Teacher Student Learning\n"
     ]
    },
    {
     "name": "stderr",
     "output_type": "stream",
     "text": [
      " 70%|████████████████████████▌          | 2492/3543 [2:44:12<1:14:07,  4.23s/it]"
     ]
    },
    {
     "name": "stdout",
     "output_type": "stream",
     "text": [
      "Error in get citation for Locating What You Need: Towards Adapting Diffusion Models to OOD Concepts In the Wild\n"
     ]
    },
    {
     "name": "stderr",
     "output_type": "stream",
     "text": [
      " 70%|████████████████████████▋          | 2493/3543 [2:44:15<1:07:04,  3.83s/it]"
     ]
    },
    {
     "name": "stdout",
     "output_type": "stream",
     "text": [
      "Error in get citation for AdvAD: Exploring Non Parametric Diffusion for Imperceptible Adversarial Attacks\n"
     ]
    },
    {
     "name": "stderr",
     "output_type": "stream",
     "text": [
      " 71%|████████████████████████▋          | 2501/3543 [2:45:02<1:57:00,  6.74s/it]"
     ]
    },
    {
     "name": "stdout",
     "output_type": "stream",
     "text": [
      "Error in get citation for Improved Analysis for Bandit Learning in Matching Markets\n"
     ]
    },
    {
     "name": "stderr",
     "output_type": "stream",
     "text": [
      " 71%|████████████████████████▋          | 2504/3543 [2:45:11<1:12:28,  4.18s/it]"
     ]
    },
    {
     "name": "stdout",
     "output_type": "stream",
     "text": [
      "Error in get citation for Harmonizing Stochasticity and Determinism: Scene responsive Diverse Human Motion Prediction\n"
     ]
    },
    {
     "name": "stderr",
     "output_type": "stream",
     "text": [
      " 71%|████████████████████████▊          | 2506/3543 [2:45:17<1:04:09,  3.71s/it]"
     ]
    },
    {
     "name": "stdout",
     "output_type": "stream",
     "text": [
      "Error in get citation for Towards Accurate and Fair Cognitive Diagnosis via Monotonic Data Augmentation\n"
     ]
    },
    {
     "name": "stderr",
     "output_type": "stream",
     "text": [
      " 71%|████████████████████████▊          | 2507/3543 [2:45:20<1:01:02,  3.54s/it]"
     ]
    },
    {
     "name": "stdout",
     "output_type": "stream",
     "text": [
      "Error in get citation for From Instance Training to Instruction Learning: Task Adapters Generation from Instructions\n"
     ]
    },
    {
     "name": "stderr",
     "output_type": "stream",
     "text": [
      " 71%|████████████████████████▊          | 2509/3543 [2:45:36<1:33:30,  5.43s/it]"
     ]
    },
    {
     "name": "stdout",
     "output_type": "stream",
     "text": [
      "Error in get citation for Octopus: A Multi modal LLM with Parallel Recognition and Sequential Understanding\n"
     ]
    },
    {
     "name": "stderr",
     "output_type": "stream",
     "text": [
      " 71%|████████████████████████▊          | 2511/3543 [2:45:42<1:13:20,  4.26s/it]"
     ]
    },
    {
     "name": "stdout",
     "output_type": "stream",
     "text": [
      "Error in get citation for What Matters in Graph Class Incremental Learning? An Information Preservation Perspective\n"
     ]
    },
    {
     "name": "stderr",
     "output_type": "stream",
     "text": [
      " 71%|██████████████████████████▎          | 2516/3543 [2:45:59<58:50,  3.44s/it]"
     ]
    },
    {
     "name": "stdout",
     "output_type": "stream",
     "text": [
      "Error in get citation for Voxel Proposal Network via Multi Frame Knowledge Distillation for Semantic Scene Completion\n"
     ]
    },
    {
     "name": "stderr",
     "output_type": "stream",
     "text": [
      " 71%|████████████████████████▉          | 2521/3543 [2:46:20<1:00:40,  3.56s/it]"
     ]
    },
    {
     "name": "stdout",
     "output_type": "stream",
     "text": [
      "Error in get citation for Boosting Transferability and Discriminability for Time Series Domain Adaptation\n"
     ]
    },
    {
     "name": "stderr",
     "output_type": "stream",
     "text": [
      " 71%|████████████████████████▉          | 2523/3543 [2:46:32<1:26:14,  5.07s/it]"
     ]
    },
    {
     "name": "stdout",
     "output_type": "stream",
     "text": [
      "Error in get citation for Enhancing LLM’s Cognition via Structurization\n"
     ]
    },
    {
     "name": "stderr",
     "output_type": "stream",
     "text": [
      " 71%|████████████████████████▉          | 2529/3543 [2:47:05<1:24:15,  4.99s/it]"
     ]
    },
    {
     "name": "stdout",
     "output_type": "stream",
     "text": [
      "Error in get citation for Can Large Language Model Agents Simulate Human Trust Behavior?\n"
     ]
    },
    {
     "name": "stderr",
     "output_type": "stream",
     "text": [
      " 72%|█████████████████████████          | 2538/3543 [2:48:30<2:25:36,  8.69s/it]"
     ]
    },
    {
     "name": "stdout",
     "output_type": "stream",
     "text": [
      "Error in get citation for IR CM: The Fast and General purpose Image Restoration Method Based on Consistency Model\n"
     ]
    },
    {
     "name": "stderr",
     "output_type": "stream",
     "text": [
      " 72%|█████████████████████████▏         | 2544/3543 [2:49:00<1:35:54,  5.76s/it]"
     ]
    },
    {
     "name": "stdout",
     "output_type": "stream",
     "text": [
      "Error in get citation for DiGRAF: Diffeomorphic Graph Adaptive Activation Function\n"
     ]
    },
    {
     "name": "stderr",
     "output_type": "stream",
     "text": [
      " 72%|█████████████████████████▏         | 2545/3543 [2:49:12<2:08:30,  7.73s/it]"
     ]
    },
    {
     "name": "stdout",
     "output_type": "stream",
     "text": [
      "Error in get citation for First Order Minimax Bilevel Optimization\n"
     ]
    },
    {
     "name": "stderr",
     "output_type": "stream",
     "text": [
      " 72%|█████████████████████████▏         | 2553/3543 [2:49:52<1:10:55,  4.30s/it]"
     ]
    },
    {
     "name": "stdout",
     "output_type": "stream",
     "text": [
      "Error in get citation for Offline Behavior Distillation\n"
     ]
    },
    {
     "name": "stderr",
     "output_type": "stream",
     "text": [
      " 72%|█████████████████████████▎         | 2557/3543 [2:50:19<1:29:56,  5.47s/it]"
     ]
    },
    {
     "name": "stdout",
     "output_type": "stream",
     "text": [
      "Error in get citation for e COP : Episodic Constrained Optimization of Policies\n"
     ]
    },
    {
     "name": "stderr",
     "output_type": "stream",
     "text": [
      " 72%|█████████████████████████▎         | 2558/3543 [2:50:32<2:03:38,  7.53s/it]"
     ]
    },
    {
     "name": "stdout",
     "output_type": "stream",
     "text": [
      "Error in get citation for Perplexity aware Correction for Robust Alignment with Noisy Preferences\n"
     ]
    },
    {
     "name": "stderr",
     "output_type": "stream",
     "text": [
      " 72%|█████████████████████████▎         | 2561/3543 [2:50:41<1:16:40,  4.68s/it]"
     ]
    },
    {
     "name": "stdout",
     "output_type": "stream",
     "text": [
      "Error in get citation for Attack Resilient Image Watermarking Using Stable Diffusion\n"
     ]
    },
    {
     "name": "stderr",
     "output_type": "stream",
     "text": [
      " 73%|██████████████████████████▊          | 2571/3543 [2:51:24<53:46,  3.32s/it]"
     ]
    },
    {
     "name": "stdout",
     "output_type": "stream",
     "text": [
      "Error in get citation for Compositional PAC Bayes: Generalization of GNNs with persistence and beyond\n"
     ]
    },
    {
     "name": "stderr",
     "output_type": "stream",
     "text": [
      " 73%|██████████████████████████▊          | 2573/3543 [2:51:30<52:54,  3.27s/it]"
     ]
    },
    {
     "name": "stdout",
     "output_type": "stream",
     "text": [
      "Error in get citation for In N Out: Lifting 2D Diffusion Prior for 3D Object Removal via Tuning Free Latents Alignment\n"
     ]
    },
    {
     "name": "stderr",
     "output_type": "stream",
     "text": [
      " 73%|██████████████████████████▉          | 2575/3543 [2:51:37<53:12,  3.30s/it]"
     ]
    },
    {
     "name": "stdout",
     "output_type": "stream",
     "text": [
      "Error in get citation for Amortized Bayesian Experimental Design for Decision Making\n"
     ]
    },
    {
     "name": "stderr",
     "output_type": "stream",
     "text": [
      " 73%|█████████████████████████▌         | 2590/3543 [2:52:48<1:35:30,  6.01s/it]"
     ]
    },
    {
     "name": "stdout",
     "output_type": "stream",
     "text": [
      "Error in get citation for Mind the Gap: A Causal Perspective on Bias Amplification in Prediction & Decision Making\n"
     ]
    },
    {
     "name": "stderr",
     "output_type": "stream",
     "text": [
      " 73%|█████████████████████████▋         | 2594/3543 [2:53:03<1:10:32,  4.46s/it]"
     ]
    },
    {
     "name": "stdout",
     "output_type": "stream",
     "text": [
      "Error in get citation for Multi Agent Coordination via Multi Level Communication\n"
     ]
    },
    {
     "name": "stderr",
     "output_type": "stream",
     "text": [
      " 73%|█████████████████████████▋         | 2597/3543 [2:53:22<1:18:05,  4.95s/it]"
     ]
    },
    {
     "name": "stdout",
     "output_type": "stream",
     "text": [
      "Error in get citation for FEEL SNN: Robust Spiking Neural Networks with Frequency Encoding and Evolutionary Leak Factor\n"
     ]
    },
    {
     "name": "stderr",
     "output_type": "stream",
     "text": [
      " 74%|█████████████████████████▊         | 2613/3543 [2:54:39<1:03:49,  4.12s/it]"
     ]
    },
    {
     "name": "stdout",
     "output_type": "stream",
     "text": [
      "Error in get citation for MetaCURL: Non stationary Concave Utility Reinforcement Learning\n"
     ]
    },
    {
     "name": "stderr",
     "output_type": "stream",
     "text": [
      " 74%|█████████████████████████▊         | 2614/3543 [2:54:51<1:41:50,  6.58s/it]"
     ]
    },
    {
     "name": "stdout",
     "output_type": "stream",
     "text": [
      "Error in get citation for LaKD: Length agnostic Knowledge Distillation for Trajectory Prediction with Any Length Observations\n"
     ]
    },
    {
     "name": "stderr",
     "output_type": "stream",
     "text": [
      " 74%|█████████████████████████▊         | 2615/3543 [2:54:55<1:25:47,  5.55s/it]"
     ]
    },
    {
     "name": "stdout",
     "output_type": "stream",
     "text": [
      "Error in get citation for The Reliability of OKRidge Method in Solving Sparse Ridge Regression Problems\n"
     ]
    },
    {
     "name": "stderr",
     "output_type": "stream",
     "text": [
      " 74%|█████████████████████████▊         | 2617/3543 [2:55:03<1:16:48,  4.98s/it]"
     ]
    },
    {
     "name": "stdout",
     "output_type": "stream",
     "text": [
      "Error in get citation for Continual Audio Visual Sound Separation\n"
     ]
    },
    {
     "name": "stderr",
     "output_type": "stream",
     "text": [
      " 74%|█████████████████████████▊         | 2619/3543 [2:55:18<1:31:55,  5.97s/it]"
     ]
    },
    {
     "name": "stdout",
     "output_type": "stream",
     "text": [
      "Error in get citation for SILENCE: Protecting privacy in offloaded speech understanding on resource constrained devices\n"
     ]
    },
    {
     "name": "stderr",
     "output_type": "stream",
     "text": [
      " 74%|███████████████████████████▍         | 2631/3543 [2:56:09<53:07,  3.50s/it]"
     ]
    },
    {
     "name": "stdout",
     "output_type": "stream",
     "text": [
      "Error in get citation for Improving the Learning Capability of Small size Image Restoration Network by Deep Fourier Shifting\n"
     ]
    },
    {
     "name": "stderr",
     "output_type": "stream",
     "text": [
      " 74%|███████████████████████████▌         | 2634/3543 [2:56:18<49:12,  3.25s/it]"
     ]
    },
    {
     "name": "stdout",
     "output_type": "stream",
     "text": [
      "Error in get citation for UPS: Unified Projection Sharing for Lightweight Single Image Super resolution and Beyond\n"
     ]
    },
    {
     "name": "stderr",
     "output_type": "stream",
     "text": [
      " 74%|███████████████████████████▌         | 2635/3543 [2:56:21<48:20,  3.19s/it]"
     ]
    },
    {
     "name": "stdout",
     "output_type": "stream",
     "text": [
      "Error in get citation for Bayesian Nonparametrics Meets Data Driven Distributionally Robust Optimization\n"
     ]
    },
    {
     "name": "stderr",
     "output_type": "stream",
     "text": [
      " 74%|██████████████████████████         | 2636/3543 [2:56:34<1:29:39,  5.93s/it]"
     ]
    },
    {
     "name": "stdout",
     "output_type": "stream",
     "text": [
      "Error in get citation for Language Model as Visual Explainer\n"
     ]
    },
    {
     "name": "stderr",
     "output_type": "stream",
     "text": [
      " 74%|██████████████████████████         | 2639/3543 [2:56:52<1:22:20,  5.46s/it]"
     ]
    },
    {
     "name": "stdout",
     "output_type": "stream",
     "text": [
      "Error in get citation for Expressive Gaussian Human Avatars from Monocular RGB Video\n"
     ]
    },
    {
     "name": "stderr",
     "output_type": "stream",
     "text": [
      " 75%|██████████████████████████         | 2641/3543 [2:57:08<1:33:38,  6.23s/it]"
     ]
    },
    {
     "name": "stdout",
     "output_type": "stream",
     "text": [
      "Error in get citation for Does Egalitarian Fairness Lead to Instability? The Fairness Bounds in Stable Federated Learning Under Altruistic Behaviors\n"
     ]
    },
    {
     "name": "stderr",
     "output_type": "stream",
     "text": [
      " 75%|███████████████████████████▋         | 2648/3543 [2:57:33<55:16,  3.71s/it]"
     ]
    },
    {
     "name": "stdout",
     "output_type": "stream",
     "text": [
      "Error in get citation for SpeAr: A Spectral Approach for Zero Shot Node Classification\n"
     ]
    },
    {
     "name": "stderr",
     "output_type": "stream",
     "text": [
      " 75%|███████████████████████████▋         | 2653/3543 [2:57:49<51:35,  3.48s/it]"
     ]
    },
    {
     "name": "stdout",
     "output_type": "stream",
     "text": [
      "Error in get citation for From Dictionary to Tensor: A Scalable Multi View Subspace Clustering Framework with Triple Information Enhancement\n"
     ]
    },
    {
     "name": "stderr",
     "output_type": "stream",
     "text": [
      " 75%|███████████████████████████▊         | 2659/3543 [2:58:12<52:46,  3.58s/it]"
     ]
    },
    {
     "name": "stdout",
     "output_type": "stream",
     "text": [
      "Error in get citation for Attention Temperature Matters in ViT Based Cross Domain Few Shot Learning\n"
     ]
    },
    {
     "name": "stderr",
     "output_type": "stream",
     "text": [
      " 75%|███████████████████████████▊         | 2660/3543 [2:58:15<48:24,  3.29s/it]"
     ]
    },
    {
     "name": "stdout",
     "output_type": "stream",
     "text": [
      "Error in get citation for Decoupled Kullback Leibler Divergence Loss\n"
     ]
    },
    {
     "name": "stderr",
     "output_type": "stream",
     "text": [
      " 75%|███████████████████████████▊         | 2668/3543 [2:58:59<59:03,  4.05s/it]"
     ]
    },
    {
     "name": "stdout",
     "output_type": "stream",
     "text": [
      "Error in get citation for Implicit Regularization of Decentralized Gradient Descent for Sparse Regression\n"
     ]
    },
    {
     "name": "stderr",
     "output_type": "stream",
     "text": [
      " 75%|██████████████████████████▍        | 2674/3543 [2:59:29<1:21:25,  5.62s/it]"
     ]
    },
    {
     "name": "stdout",
     "output_type": "stream",
     "text": [
      "Error in get citation for Once Read is Enough: Domain specific Pretraining free Language Models with Cluster guided Sparse Experts for Long tail Domain Knowledge\n"
     ]
    },
    {
     "name": "stderr",
     "output_type": "stream",
     "text": [
      " 76%|██████████████████████████▍        | 2679/3543 [2:59:49<1:02:48,  4.36s/it]"
     ]
    },
    {
     "name": "stdout",
     "output_type": "stream",
     "text": [
      "Error in get citation for Balancing Context Length and Mixing Times for Reinforcement Learning at Scale\n"
     ]
    },
    {
     "name": "stderr",
     "output_type": "stream",
     "text": [
      " 76%|████████████████████████████▏        | 2694/3543 [3:00:39<47:26,  3.35s/it]"
     ]
    },
    {
     "name": "stdout",
     "output_type": "stream",
     "text": [
      "Error in get citation for Fully Explicit Dynamic Gaussian Splatting\n"
     ]
    },
    {
     "name": "stderr",
     "output_type": "stream",
     "text": [
      " 76%|██████████████████████████▋        | 2700/3543 [3:01:20<1:27:30,  6.23s/it]"
     ]
    },
    {
     "name": "stdout",
     "output_type": "stream",
     "text": [
      "Error in get citation for GraphMorph: Tubular Structure Extraction by Morphing Predicted Graphs\n"
     ]
    },
    {
     "name": "stderr",
     "output_type": "stream",
     "text": [
      " 76%|██████████████████████████▋        | 2704/3543 [3:01:37<1:03:03,  4.51s/it]"
     ]
    },
    {
     "name": "stdout",
     "output_type": "stream",
     "text": [
      "Error in get citation for Are More LLM Calls All You Need? Towards the Scaling Properties of Compound AI Systems\n"
     ]
    },
    {
     "name": "stderr",
     "output_type": "stream",
     "text": [
      " 77%|██████████████████████████▉        | 2724/3543 [3:03:00<1:05:41,  4.81s/it]"
     ]
    },
    {
     "name": "stdout",
     "output_type": "stream",
     "text": [
      "Error in get citation for A Bayesian Approach for Personalized Federated Learning in Heterogeneous Settings\n"
     ]
    },
    {
     "name": "stderr",
     "output_type": "stream",
     "text": [
      " 77%|██████████████████████████▉        | 2727/3543 [3:03:16<1:17:16,  5.68s/it]"
     ]
    },
    {
     "name": "stdout",
     "output_type": "stream",
     "text": [
      "Error in get citation for Apathetic or Empathetic? Evaluating LLMs' Emotional Alignments with Humans\n"
     ]
    },
    {
     "name": "stderr",
     "output_type": "stream",
     "text": [
      " 77%|████████████████████████████▌        | 2730/3543 [3:03:24<52:41,  3.89s/it]"
     ]
    },
    {
     "name": "stdout",
     "output_type": "stream",
     "text": [
      "Error in get citation for Causal Imitation for Markov Decision Processes: a Partial Identification Approach\n"
     ]
    },
    {
     "name": "stderr",
     "output_type": "stream",
     "text": [
      " 77%|████████████████████████████▌        | 2734/3543 [3:03:41<49:04,  3.64s/it]"
     ]
    },
    {
     "name": "stdout",
     "output_type": "stream",
     "text": [
      "Error in get citation for FineCLIP: Self distilled Region based CLIP for Better Fine grained Understanding\n"
     ]
    },
    {
     "name": "stderr",
     "output_type": "stream",
     "text": [
      " 78%|████████████████████████████▊        | 2757/3543 [3:05:26<47:13,  3.60s/it]"
     ]
    },
    {
     "name": "stdout",
     "output_type": "stream",
     "text": [
      "Error in get citation for Scaling Laws in Linear Regression: Compute, Parameters, and Data\n"
     ]
    },
    {
     "name": "stderr",
     "output_type": "stream",
     "text": [
      " 78%|███████████████████████████▏       | 2758/3543 [3:05:39<1:21:21,  6.22s/it]"
     ]
    },
    {
     "name": "stdout",
     "output_type": "stream",
     "text": [
      "Error in get citation for Retrieval Augmented Diffusion Models for Time Series Forecasting\n"
     ]
    },
    {
     "name": "stderr",
     "output_type": "stream",
     "text": [
      " 78%|███████████████████████████▎       | 2771/3543 [3:06:46<1:01:27,  4.78s/it]"
     ]
    },
    {
     "name": "stdout",
     "output_type": "stream",
     "text": [
      "Error in get citation for Is Cross validation the Gold Standard to Estimate Out of sample Model Performance?\n"
     ]
    },
    {
     "name": "stderr",
     "output_type": "stream",
     "text": [
      " 78%|███████████████████████████▍       | 2776/3543 [3:07:18<1:28:15,  6.90s/it]"
     ]
    },
    {
     "name": "stdout",
     "output_type": "stream",
     "text": [
      "Error in get citation for Robust Reinforcement Learning with General Utility\n"
     ]
    },
    {
     "name": "stderr",
     "output_type": "stream",
     "text": [
      " 78%|███████████████████████████▍       | 2778/3543 [3:07:34<1:27:32,  6.87s/it]"
     ]
    },
    {
     "name": "stdout",
     "output_type": "stream",
     "text": [
      "Error in get citation for No Regret Bandit Exploration based on Soft Tree Ensemble Model\n"
     ]
    },
    {
     "name": "stderr",
     "output_type": "stream",
     "text": [
      " 79%|███████████████████████████▌       | 2784/3543 [3:08:00<1:01:09,  4.84s/it]"
     ]
    },
    {
     "name": "stdout",
     "output_type": "stream",
     "text": [
      "Error in get citation for TinyLUT: Tiny Look Up Table for Efficient Image Restoration at the Edge\n"
     ]
    },
    {
     "name": "stderr",
     "output_type": "stream",
     "text": [
      " 79%|█████████████████████████████        | 2786/3543 [3:08:07<51:18,  4.07s/it]"
     ]
    },
    {
     "name": "stdout",
     "output_type": "stream",
     "text": [
      "Error in get citation for Position Coupling: Improving Length Generalization of Arithmetic Transformers Using Task Structure\n"
     ]
    },
    {
     "name": "stderr",
     "output_type": "stream",
     "text": [
      " 79%|█████████████████████████████▎       | 2803/3543 [3:09:30<44:55,  3.64s/it]"
     ]
    },
    {
     "name": "stdout",
     "output_type": "stream",
     "text": [
      "Error in get citation for A Single Step, Sharpness Aware Minimization is All You Need to Achieve Efficient and Accurate Sparse Training\n"
     ]
    },
    {
     "name": "stderr",
     "output_type": "stream",
     "text": [
      " 79%|█████████████████████████████▎       | 2806/3543 [3:09:45<53:48,  4.38s/it]"
     ]
    },
    {
     "name": "stdout",
     "output_type": "stream",
     "text": [
      "Error in get citation for Your contrastive learning problem is secretly a distribution alignment problem\n"
     ]
    },
    {
     "name": "stderr",
     "output_type": "stream",
     "text": [
      " 79%|█████████████████████████████▎       | 2812/3543 [3:10:12<51:42,  4.24s/it]"
     ]
    },
    {
     "name": "stdout",
     "output_type": "stream",
     "text": [
      "Error in get citation for Transfer Learning for Latent Variable Network Models\n"
     ]
    },
    {
     "name": "stderr",
     "output_type": "stream",
     "text": [
      " 79%|█████████████████████████████▍       | 2815/3543 [3:10:30<58:53,  4.85s/it]"
     ]
    },
    {
     "name": "stdout",
     "output_type": "stream",
     "text": [
      "Error in get citation for Sharpness Aware Minimization Activates the Interactive Teaching's Understanding and Optimization\n"
     ]
    },
    {
     "name": "stderr",
     "output_type": "stream",
     "text": [
      " 80%|███████████████████████████▉       | 2830/3543 [3:11:42<1:00:20,  5.08s/it]"
     ]
    },
    {
     "name": "stdout",
     "output_type": "stream",
     "text": [
      "Error in get citation for OSLO: One Shot Label Only Membership Inference Attacks\n"
     ]
    },
    {
     "name": "stderr",
     "output_type": "stream",
     "text": [
      " 81%|█████████████████████████████▉       | 2864/3543 [3:14:05<40:08,  3.55s/it]"
     ]
    },
    {
     "name": "stdout",
     "output_type": "stream",
     "text": [
      "Error in get citation for A New Neural Kernel Regime: The Inductive Bias of Multi Task Learning\n"
     ]
    },
    {
     "name": "stderr",
     "output_type": "stream",
     "text": [
      " 81%|█████████████████████████████▉       | 2866/3543 [3:14:12<37:35,  3.33s/it]"
     ]
    },
    {
     "name": "stdout",
     "output_type": "stream",
     "text": [
      "Error in get citation for GraphTrail: Translating GNN Predictions into Human Interpretable Logical Rules\n"
     ]
    },
    {
     "name": "stderr",
     "output_type": "stream",
     "text": [
      " 81%|██████████████████████████████       | 2875/3543 [3:14:43<37:05,  3.33s/it]"
     ]
    },
    {
     "name": "stdout",
     "output_type": "stream",
     "text": [
      "Error in get citation for Selective Explanations\n"
     ]
    },
    {
     "name": "stderr",
     "output_type": "stream",
     "text": [
      " 81%|██████████████████████████████       | 2881/3543 [3:15:12<43:13,  3.92s/it]"
     ]
    },
    {
     "name": "stdout",
     "output_type": "stream",
     "text": [
      "Error in get citation for MSA Generation with Seqs2Seqs Pretraining: Advancing Protein Structure Predictions\n"
     ]
    },
    {
     "name": "stderr",
     "output_type": "stream",
     "text": [
      " 81%|██████████████████████████████▏      | 2885/3543 [3:15:24<36:31,  3.33s/it]"
     ]
    },
    {
     "name": "stdout",
     "output_type": "stream",
     "text": [
      "Error in get citation for Towards Principled Graph Transformers\n"
     ]
    },
    {
     "name": "stderr",
     "output_type": "stream",
     "text": [
      " 81%|████████████████████████████▌      | 2886/3543 [3:15:37<1:05:58,  6.02s/it]"
     ]
    },
    {
     "name": "stdout",
     "output_type": "stream",
     "text": [
      "Error in get citation for SceneCraft: Layout Guided 3D Scene Generation\n"
     ]
    },
    {
     "name": "stderr",
     "output_type": "stream",
     "text": [
      " 82%|██████████████████████████████▏      | 2894/3543 [3:16:17<49:17,  4.56s/it]"
     ]
    },
    {
     "name": "stdout",
     "output_type": "stream",
     "text": [
      "Error in get citation for Provable Editing of Deep Neural Networks using Parametric Linear Relaxation\n"
     ]
    },
    {
     "name": "stderr",
     "output_type": "stream",
     "text": [
      " 82%|██████████████████████████████▎      | 2900/3543 [3:16:45<57:35,  5.37s/it]"
     ]
    },
    {
     "name": "stdout",
     "output_type": "stream",
     "text": [
      "Error in get citation for Diffusion Spectral Representation for Reinforcement Learning\n"
     ]
    },
    {
     "name": "stderr",
     "output_type": "stream",
     "text": [
      " 82%|██████████████████████████████▍      | 2913/3543 [3:17:40<33:35,  3.20s/it]"
     ]
    },
    {
     "name": "stdout",
     "output_type": "stream",
     "text": [
      "Error in get citation for Efficient multi prompt evaluation of LLMs\n"
     ]
    },
    {
     "name": "stderr",
     "output_type": "stream",
     "text": [
      " 82%|████████████████████████████▊      | 2918/3543 [3:18:13<1:01:44,  5.93s/it]"
     ]
    },
    {
     "name": "stdout",
     "output_type": "stream",
     "text": [
      "Error in get citation for Reinforcement Learning Guided Semi Supervised Learning\n"
     ]
    },
    {
     "name": "stderr",
     "output_type": "stream",
     "text": [
      " 82%|████████████████████████████▊      | 2919/3543 [3:18:25<1:21:53,  7.87s/it]"
     ]
    },
    {
     "name": "stdout",
     "output_type": "stream",
     "text": [
      "Error in get citation for Non parametric classification via expand and sparsify representation\n"
     ]
    },
    {
     "name": "stderr",
     "output_type": "stream",
     "text": [
      " 82%|██████████████████████████████▌      | 2921/3543 [3:18:32<56:59,  5.50s/it]"
     ]
    },
    {
     "name": "stdout",
     "output_type": "stream",
     "text": [
      "Error in get citation for Physics Informed Variational State Space Gaussian Processes\n"
     ]
    },
    {
     "name": "stderr",
     "output_type": "stream",
     "text": [
      " 82%|████████████████████████████▊      | 2922/3543 [3:18:44<1:18:03,  7.54s/it]"
     ]
    },
    {
     "name": "stdout",
     "output_type": "stream",
     "text": [
      "Error in get citation for Learning to Embed Distributions via Maximum Kernel Entropy\n"
     ]
    },
    {
     "name": "stderr",
     "output_type": "stream",
     "text": [
      " 83%|████████████████████████████▉      | 2923/3543 [3:18:56<1:33:02,  9.00s/it]"
     ]
    },
    {
     "name": "stdout",
     "output_type": "stream",
     "text": [
      "Error in get citation for When is Multicalibration Post Processing Necessary?\n"
     ]
    },
    {
     "name": "stderr",
     "output_type": "stream",
     "text": [
      " 83%|██████████████████████████████▋      | 2935/3543 [3:19:54<43:46,  4.32s/it]"
     ]
    },
    {
     "name": "stdout",
     "output_type": "stream",
     "text": [
      "Error in get citation for SEL BALD: Deep Bayesian Active Learning for Selective Labeling with Instance Rejection\n"
     ]
    },
    {
     "name": "stderr",
     "output_type": "stream",
     "text": [
      " 83%|██████████████████████████████▋      | 2941/3543 [3:20:16<40:27,  4.03s/it]"
     ]
    },
    {
     "name": "stdout",
     "output_type": "stream",
     "text": [
      "Error in get citation for Randomized Strategic Facility Location with Predictions\n"
     ]
    },
    {
     "name": "stderr",
     "output_type": "stream",
     "text": [
      " 83%|██████████████████████████████▊      | 2951/3543 [3:21:11<39:48,  4.03s/it]"
     ]
    },
    {
     "name": "stdout",
     "output_type": "stream",
     "text": [
      "Error in get citation for DeltaDEQ: Exploiting Heterogeneous Convergence for Accelerating Deep Equilibrium Iterations\n"
     ]
    },
    {
     "name": "stderr",
     "output_type": "stream",
     "text": [
      " 83%|█████████████████████████████▏     | 2952/3543 [3:21:45<2:08:58, 13.09s/it]"
     ]
    },
    {
     "name": "stdout",
     "output_type": "stream",
     "text": [
      "Error in get citation for Retrieval & Fine Tuning for In Context Tabular Models\n"
     ]
    },
    {
     "name": "stderr",
     "output_type": "stream",
     "text": [
      " 84%|██████████████████████████████▉      | 2960/3543 [3:22:23<40:56,  4.21s/it]"
     ]
    },
    {
     "name": "stdout",
     "output_type": "stream",
     "text": [
      "Error in get citation for Clustering with Non adaptive Subset Queries\n"
     ]
    },
    {
     "name": "stderr",
     "output_type": "stream",
     "text": [
      " 84%|██████████████████████████████▉      | 2962/3543 [3:22:39<56:09,  5.80s/it]"
     ]
    },
    {
     "name": "stdout",
     "output_type": "stream",
     "text": [
      "Error in get citation for Revisiting Score Propagation in Graph Out of Distribution Detection\n"
     ]
    },
    {
     "name": "stderr",
     "output_type": "stream",
     "text": [
      " 84%|██████████████████████████████▉      | 2968/3543 [3:23:04<38:54,  4.06s/it]"
     ]
    },
    {
     "name": "stdout",
     "output_type": "stream",
     "text": [
      "Error in get citation for Invariant Tokenization of Crystalline Materials for Language Model Enabled Generation\n"
     ]
    },
    {
     "name": "stderr",
     "output_type": "stream",
     "text": [
      " 84%|███████████████████████████████▏     | 2989/3543 [3:25:19<33:10,  3.59s/it]"
     ]
    },
    {
     "name": "stdout",
     "output_type": "stream",
     "text": [
      "Error in get citation for Adversarially Robust Decision Transformer\n"
     ]
    },
    {
     "name": "stderr",
     "output_type": "stream",
     "text": [
      " 85%|███████████████████████████████▎     | 2995/3543 [3:25:58<54:41,  5.99s/it]"
     ]
    },
    {
     "name": "stdout",
     "output_type": "stream",
     "text": [
      "Error in get citation for Empowering Active Learning for 3D Molecular Graphs with Geometric Graph Isomorphism\n"
     ]
    },
    {
     "name": "stderr",
     "output_type": "stream",
     "text": [
      " 85%|███████████████████████████████▎     | 3003/3543 [3:26:26<32:32,  3.62s/it]"
     ]
    },
    {
     "name": "stdout",
     "output_type": "stream",
     "text": [
      "Error in get citation for Deep Equilibrium Algorithmic Reasoning\n"
     ]
    },
    {
     "name": "stderr",
     "output_type": "stream",
     "text": [
      " 85%|███████████████████████████████▍     | 3008/3543 [3:27:00<49:27,  5.55s/it]"
     ]
    },
    {
     "name": "stdout",
     "output_type": "stream",
     "text": [
      "Error in get citation for Be Confident in What You Know: Bayesian Parameter Efficient Fine Tuning of Vision Foundation Models\n"
     ]
    },
    {
     "name": "stderr",
     "output_type": "stream",
     "text": [
      " 85%|███████████████████████████████▌     | 3018/3543 [3:27:42<33:00,  3.77s/it]"
     ]
    },
    {
     "name": "stdout",
     "output_type": "stream",
     "text": [
      "Error in get citation for Evidential Mixture Machines: Deciphering Multi Label Correlations for Active Learning Sensitivity\n"
     ]
    },
    {
     "name": "stderr",
     "output_type": "stream",
     "text": [
      " 85%|███████████████████████████████▌     | 3025/3543 [3:28:03<26:30,  3.07s/it]"
     ]
    },
    {
     "name": "stdout",
     "output_type": "stream",
     "text": [
      "Error in get citation for The tree autoencoder model, with application to hierarchical data visualization\n"
     ]
    },
    {
     "name": "stderr",
     "output_type": "stream",
     "text": [
      " 85%|███████████████████████████████▋     | 3029/3543 [3:28:19<34:08,  3.99s/it]"
     ]
    },
    {
     "name": "stdout",
     "output_type": "stream",
     "text": [
      "Error in get citation for Inference of Neural Dynamics Using Switching Recurrent Neural Networks\n"
     ]
    },
    {
     "name": "stderr",
     "output_type": "stream",
     "text": [
      " 86%|███████████████████████████████▋     | 3030/3543 [3:28:31<55:26,  6.48s/it]"
     ]
    },
    {
     "name": "stdout",
     "output_type": "stream",
     "text": [
      "Error in get citation for Mutli Armed Bandits with Network Interference\n"
     ]
    },
    {
     "name": "stderr",
     "output_type": "stream",
     "text": [
      " 86%|███████████████████████████████▋     | 3034/3543 [3:28:55<45:09,  5.32s/it]"
     ]
    },
    {
     "name": "stdout",
     "output_type": "stream",
     "text": [
      "Error in get citation for Preference Learning Algorithms Do Not Learn Preference Rankings\n"
     ]
    },
    {
     "name": "stderr",
     "output_type": "stream",
     "text": [
      " 86%|███████████████████████████████▋     | 3037/3543 [3:29:15<46:43,  5.54s/it]"
     ]
    },
    {
     "name": "stdout",
     "output_type": "stream",
     "text": [
      "Error in get citation for A Theory of Optimistically Universal Online Learnability for General Concept Classes\n"
     ]
    },
    {
     "name": "stderr",
     "output_type": "stream",
     "text": [
      " 87%|████████████████████████████████     | 3066/3543 [3:31:42<37:45,  4.75s/it]"
     ]
    },
    {
     "name": "stdout",
     "output_type": "stream",
     "text": [
      "Error in get citation for Doubly Hierarchical Geometric Representations for Strand based Human Hairstyle Generation\n"
     ]
    },
    {
     "name": "stderr",
     "output_type": "stream",
     "text": [
      " 87%|████████████████████████████████     | 3071/3543 [3:31:57<26:04,  3.32s/it]"
     ]
    },
    {
     "name": "stdout",
     "output_type": "stream",
     "text": [
      "Error in get citation for SpeedLoader: An I/O efficient scheme for heterogeneous and distributed LLM operation\n"
     ]
    },
    {
     "name": "stderr",
     "output_type": "stream",
     "text": [
      " 87%|████████████████████████████████     | 3073/3543 [3:32:03<25:20,  3.24s/it]"
     ]
    },
    {
     "name": "stdout",
     "output_type": "stream",
     "text": [
      "Error in get citation for EAI: Emotional Decision Making of LLMs in Strategic Games and Ethical Dilemmas\n"
     ]
    },
    {
     "name": "stderr",
     "output_type": "stream",
     "text": [
      " 87%|████████████████████████████████▏    | 3078/3543 [3:32:20<27:03,  3.49s/it]"
     ]
    },
    {
     "name": "stdout",
     "output_type": "stream",
     "text": [
      "Error in get citation for From Causal to Concept Based Representation Learning\n"
     ]
    },
    {
     "name": "stderr",
     "output_type": "stream",
     "text": [
      " 87%|████████████████████████████████▏    | 3079/3543 [3:32:33<47:28,  6.14s/it]"
     ]
    },
    {
     "name": "stdout",
     "output_type": "stream",
     "text": [
      "Error in get citation for Autobidder's Dilemma: Why More Sophisticated Autobidders Lead to Worse Auction Efficiency\n"
     ]
    },
    {
     "name": "stderr",
     "output_type": "stream",
     "text": [
      " 87%|████████████████████████████████▏    | 3082/3543 [3:32:42<31:15,  4.07s/it]"
     ]
    },
    {
     "name": "stdout",
     "output_type": "stream",
     "text": [
      "Error in get citation for Vision Transformer Neural Architecture Search for Out of Distribution Generalization: Benchmark and Insights\n"
     ]
    },
    {
     "name": "stderr",
     "output_type": "stream",
     "text": [
      " 87%|████████████████████████████████▏    | 3088/3543 [3:33:07<32:36,  4.30s/it]"
     ]
    },
    {
     "name": "stdout",
     "output_type": "stream",
     "text": [
      "Error in get citation for Randomized Sparse Matrix Compression for Large Scale Constrained Optimization in Cancer Radiotherapy\n"
     ]
    },
    {
     "name": "stderr",
     "output_type": "stream",
     "text": [
      " 87%|████████████████████████████████▎    | 3090/3543 [3:33:14<28:42,  3.80s/it]"
     ]
    },
    {
     "name": "stdout",
     "output_type": "stream",
     "text": [
      "Error in get citation for On the Minimax Regret for Contextual Linear Bandits and Multi Armed Bandits with Expert Advice\n"
     ]
    },
    {
     "name": "stderr",
     "output_type": "stream",
     "text": [
      " 87%|████████████████████████████████▎    | 3095/3543 [3:33:37<31:34,  4.23s/it]"
     ]
    },
    {
     "name": "stdout",
     "output_type": "stream",
     "text": [
      "Error in get citation for Image Reconstruction Via Autoencoding Sequential Deep Image Prior\n"
     ]
    },
    {
     "name": "stderr",
     "output_type": "stream",
     "text": [
      " 88%|████████████████████████████████▍    | 3102/3543 [3:34:08<26:12,  3.56s/it]"
     ]
    },
    {
     "name": "stdout",
     "output_type": "stream",
     "text": [
      "Error in get citation for Low Precision Local Training is Enough for Federated Learning\n"
     ]
    },
    {
     "name": "stderr",
     "output_type": "stream",
     "text": [
      " 88%|████████████████████████████████▌    | 3117/3543 [3:35:06<23:56,  3.37s/it]"
     ]
    },
    {
     "name": "stdout",
     "output_type": "stream",
     "text": [
      "Error in get citation for Great Minds Think Alike: The Universal Convergence Trend of Input Salience\n"
     ]
    },
    {
     "name": "stderr",
     "output_type": "stream",
     "text": [
      " 88%|████████████████████████████████▌    | 3124/3543 [3:35:29<22:57,  3.29s/it]"
     ]
    },
    {
     "name": "stdout",
     "output_type": "stream",
     "text": [
      "Error in get citation for Large Language Model Unlearning\n"
     ]
    },
    {
     "name": "stderr",
     "output_type": "stream",
     "text": [
      " 88%|████████████████████████████████▋    | 3126/3543 [3:35:44<35:56,  5.17s/it]"
     ]
    },
    {
     "name": "stdout",
     "output_type": "stream",
     "text": [
      "Error in get citation for Efficient Centroid Linkage Clustering\n"
     ]
    },
    {
     "name": "stderr",
     "output_type": "stream",
     "text": [
      " 88%|████████████████████████████████▋    | 3128/3543 [3:36:00<41:53,  6.06s/it]"
     ]
    },
    {
     "name": "stdout",
     "output_type": "stream",
     "text": [
      "Error in get citation for Learning Structured Representations with Hyperbolic Embeddings\n"
     ]
    },
    {
     "name": "stderr",
     "output_type": "stream",
     "text": [
      " 88%|████████████████████████████████▋    | 3131/3543 [3:36:18<38:02,  5.54s/it]"
     ]
    },
    {
     "name": "stdout",
     "output_type": "stream",
     "text": [
      "Error in get citation for On the Stability and Generalization of Meta Learning\n"
     ]
    },
    {
     "name": "stderr",
     "output_type": "stream",
     "text": [
      " 88%|████████████████████████████████▋    | 3133/3543 [3:36:25<29:28,  4.31s/it]"
     ]
    },
    {
     "name": "stdout",
     "output_type": "stream",
     "text": [
      "Error in get citation for Dynamic Conditional Optimal Transport through Simulation Free Flows\n"
     ]
    },
    {
     "name": "stderr",
     "output_type": "stream",
     "text": [
      " 88%|████████████████████████████████▋    | 3134/3543 [3:36:37<45:47,  6.72s/it]"
     ]
    },
    {
     "name": "stdout",
     "output_type": "stream",
     "text": [
      "Error in get citation for Persistence Homology Distillation for Semi supervised Continual Learning\n"
     ]
    },
    {
     "name": "stderr",
     "output_type": "stream",
     "text": [
      " 89%|████████████████████████████████▉    | 3151/3543 [3:37:58<26:25,  4.04s/it]"
     ]
    },
    {
     "name": "stdout",
     "output_type": "stream",
     "text": [
      "Error in get citation for Semantic Density: Uncertainty Quantification for Large Language Models through Confidence Measurement in Semantic Space\n"
     ]
    },
    {
     "name": "stderr",
     "output_type": "stream",
     "text": [
      " 89%|████████████████████████████████▉    | 3153/3543 [3:38:04<22:30,  3.46s/it]"
     ]
    },
    {
     "name": "stdout",
     "output_type": "stream",
     "text": [
      "Error in get citation for Almost Surely Asymptotically Constant Graph Neural Networks\n"
     ]
    },
    {
     "name": "stderr",
     "output_type": "stream",
     "text": [
      " 89%|████████████████████████████████▉    | 3154/3543 [3:38:16<39:31,  6.10s/it]"
     ]
    },
    {
     "name": "stdout",
     "output_type": "stream",
     "text": [
      "Error in get citation for Identifying Spatio Temporal Drivers of Extreme Events\n"
     ]
    },
    {
     "name": "stderr",
     "output_type": "stream",
     "text": [
      " 89%|█████████████████████████████████    | 3161/3543 [3:39:03<32:18,  5.07s/it]"
     ]
    },
    {
     "name": "stdout",
     "output_type": "stream",
     "text": [
      "Error in get citation for Controlled maximal variability along with reliable performance in recurrent neural networks\n"
     ]
    },
    {
     "name": "stderr",
     "output_type": "stream",
     "text": [
      " 90%|█████████████████████████████████▎   | 3187/3543 [3:41:01<39:09,  6.60s/it]"
     ]
    },
    {
     "name": "stdout",
     "output_type": "stream",
     "text": [
      "Error in get citation for Structural Inference of Dynamical Systems with Conjoined State Space Models\n"
     ]
    },
    {
     "name": "stderr",
     "output_type": "stream",
     "text": [
      " 90%|█████████████████████████████████▍   | 3202/3543 [3:42:07<29:45,  5.24s/it]"
     ]
    },
    {
     "name": "stdout",
     "output_type": "stream",
     "text": [
      "Error in get citation for Boosting the Transferability of Adversarial Attack on Vision Transformer with Adaptive Token Tuning\n"
     ]
    },
    {
     "name": "stderr",
     "output_type": "stream",
     "text": [
      " 90%|█████████████████████████████████▍   | 3203/3543 [3:42:10<26:05,  4.60s/it]"
     ]
    },
    {
     "name": "stdout",
     "output_type": "stream",
     "text": [
      "Error in get citation for One to Multiple: A Progressive Style Transfer Unsupervised Domain Adaptive Framework for Kidney Tumor Segmentation\n"
     ]
    },
    {
     "name": "stderr",
     "output_type": "stream",
     "text": [
      " 90%|█████████████████████████████████▍   | 3204/3543 [3:42:13<23:25,  4.15s/it]"
     ]
    },
    {
     "name": "stdout",
     "output_type": "stream",
     "text": [
      "Error in get citation for HyperPrism: An Adaptive Non linear Aggregation Framework for Distributed Machine Learning over Non IID Data and Time varying Communication Links\n"
     ]
    },
    {
     "name": "stderr",
     "output_type": "stream",
     "text": [
      " 91%|█████████████████████████████████▌   | 3209/3543 [3:42:35<25:33,  4.59s/it]"
     ]
    },
    {
     "name": "stdout",
     "output_type": "stream",
     "text": [
      "Error in get citation for Mixture of Adversarial LoRAs: Boosting Robust Generalization in Meta Tuning\n"
     ]
    },
    {
     "name": "stderr",
     "output_type": "stream",
     "text": [
      " 91%|█████████████████████████████████▌   | 3213/3543 [3:42:49<21:26,  3.90s/it]"
     ]
    },
    {
     "name": "stdout",
     "output_type": "stream",
     "text": [
      "Error in get citation for Differentially Private Equivalence Testing for Continuous Distributions and Applications\n"
     ]
    },
    {
     "name": "stderr",
     "output_type": "stream",
     "text": [
      " 91%|█████████████████████████████████▌   | 3214/3543 [3:42:53<21:27,  3.91s/it]"
     ]
    },
    {
     "name": "stdout",
     "output_type": "stream",
     "text": [
      "Error in get citation for MMSite: A Multi modal Framework for the Identification of Active Sites in Proteins\n"
     ]
    },
    {
     "name": "stderr",
     "output_type": "stream",
     "text": [
      " 91%|█████████████████████████████████▌   | 3216/3543 [3:43:02<23:12,  4.26s/it]"
     ]
    },
    {
     "name": "stdout",
     "output_type": "stream",
     "text": [
      "Error in get citation for The Dormant Neuron Phenomenon in Multi Agent Reinforcement Learning Value Factorization\n"
     ]
    },
    {
     "name": "stderr",
     "output_type": "stream",
     "text": [
      " 91%|█████████████████████████████████▌   | 3217/3543 [3:43:05<21:14,  3.91s/it]"
     ]
    },
    {
     "name": "stdout",
     "output_type": "stream",
     "text": [
      "Error in get citation for Using Time Aware Graph Neural Networks to Predict Temporal Centralities in Dynamic Graphs\n"
     ]
    },
    {
     "name": "stderr",
     "output_type": "stream",
     "text": [
      " 91%|█████████████████████████████████▋   | 3220/3543 [3:43:25<28:41,  5.33s/it]"
     ]
    },
    {
     "name": "stdout",
     "output_type": "stream",
     "text": [
      "Error in get citation for A robust inlier identification algorithm for point cloud registration via $\\mathbf{\\ell_0}$ minimization\n"
     ]
    },
    {
     "name": "stderr",
     "output_type": "stream",
     "text": [
      " 91%|█████████████████████████████████▊   | 3240/3543 [3:44:55<23:28,  4.65s/it]"
     ]
    },
    {
     "name": "stdout",
     "output_type": "stream",
     "text": [
      "Error in get citation for Seeing Beyond the Crop: Using Language Priors for Out of Bounding Box Keypoint Prediction\n"
     ]
    },
    {
     "name": "stderr",
     "output_type": "stream",
     "text": [
      " 91%|█████████████████████████████████▊   | 3241/3543 [3:44:58<20:38,  4.10s/it]"
     ]
    },
    {
     "name": "stdout",
     "output_type": "stream",
     "text": [
      "Error in get citation for Enhancing Domain Adaptation through Prompt Gradient Alignment\n"
     ]
    },
    {
     "name": "stderr",
     "output_type": "stream",
     "text": [
      " 92%|█████████████████████████████████▉   | 3248/3543 [3:45:39<23:32,  4.79s/it]"
     ]
    },
    {
     "name": "stdout",
     "output_type": "stream",
     "text": [
      "Error in get citation for Differential Privacy in Scalable General Kernel Learning via $K$ means Nystr{\\\"o}m Random Features\n"
     ]
    },
    {
     "name": "stderr",
     "output_type": "stream",
     "text": [
      " 92%|█████████████████████████████████▉   | 3250/3543 [3:45:46<20:03,  4.11s/it]"
     ]
    },
    {
     "name": "stdout",
     "output_type": "stream",
     "text": [
      "Error in get citation for Rethinking the Membrane Dynamics and Optimization Objectives of Spiking Neural Networks\n"
     ]
    },
    {
     "name": "stderr",
     "output_type": "stream",
     "text": [
      " 92%|█████████████████████████████████▉   | 3255/3543 [3:46:03<16:33,  3.45s/it]"
     ]
    },
    {
     "name": "stdout",
     "output_type": "stream",
     "text": [
      "Error in get citation for The Ladder in Chaos: Improving Policy Learning by Harnessing the Parameter Evolving Path in A Low dimensional Space\n"
     ]
    },
    {
     "name": "stderr",
     "output_type": "stream",
     "text": [
      " 92%|██████████████████████████████████   | 3256/3543 [3:46:06<15:58,  3.34s/it]"
     ]
    },
    {
     "name": "stdout",
     "output_type": "stream",
     "text": [
      "Error in get citation for Autoregressive Policy Optimization for Constrained Allocation Tasks\n"
     ]
    },
    {
     "name": "stderr",
     "output_type": "stream",
     "text": [
      " 92%|██████████████████████████████████   | 3260/3543 [3:46:35<29:43,  6.30s/it]"
     ]
    },
    {
     "name": "stdout",
     "output_type": "stream",
     "text": [
      "Error in get citation for Stochastic Newton Proximal Extragradient Method\n"
     ]
    },
    {
     "name": "stderr",
     "output_type": "stream",
     "text": [
      " 92%|██████████████████████████████████   | 3264/3543 [3:46:57<22:07,  4.76s/it]"
     ]
    },
    {
     "name": "stdout",
     "output_type": "stream",
     "text": [
      "Error in get citation for Fast T2T: Optimization Consistency Speeds Up Diffusion Based Training to Testing Solving for Combinatorial Optimization\n"
     ]
    },
    {
     "name": "stderr",
     "output_type": "stream",
     "text": [
      " 92%|██████████████████████████████████   | 3267/3543 [3:47:06<17:04,  3.71s/it]"
     ]
    },
    {
     "name": "stdout",
     "output_type": "stream",
     "text": [
      "Error in get citation for Unsupervised Anomaly Detection in The Presence of Missing Values\n"
     ]
    },
    {
     "name": "stderr",
     "output_type": "stream",
     "text": [
      " 92%|██████████████████████████████████▏  | 3269/3543 [3:47:13<16:03,  3.52s/it]"
     ]
    },
    {
     "name": "stdout",
     "output_type": "stream",
     "text": [
      "Error in get citation for Neural Collapse Inspired Feature Alignment for Out of Distribution Generalization\n"
     ]
    },
    {
     "name": "stderr",
     "output_type": "stream",
     "text": [
      " 93%|██████████████████████████████████▎  | 3281/3543 [3:48:00<15:13,  3.49s/it]"
     ]
    },
    {
     "name": "stdout",
     "output_type": "stream",
     "text": [
      "Error in get citation for Analytically deriving Partial Information Decomposition for affine systems of stable and convolution closed distributions\n"
     ]
    },
    {
     "name": "stderr",
     "output_type": "stream",
     "text": [
      " 93%|██████████████████████████████████▍  | 3301/3543 [3:50:25<41:45, 10.35s/it]"
     ]
    },
    {
     "name": "stdout",
     "output_type": "stream",
     "text": [
      "Error in get citation for A two scale Complexity Measure for Deep Learning Models\n"
     ]
    },
    {
     "name": "stderr",
     "output_type": "stream",
     "text": [
      " 93%|██████████████████████████████████▍  | 3303/3543 [3:50:40<34:29,  8.62s/it]"
     ]
    },
    {
     "name": "stdout",
     "output_type": "stream",
     "text": [
      "Error in get citation for Learning Augmented Algorithms with Explicit Predictors\n"
     ]
    },
    {
     "name": "stderr",
     "output_type": "stream",
     "text": [
      " 93%|██████████████████████████████████▌  | 3306/3543 [3:50:58<24:45,  6.27s/it]"
     ]
    },
    {
     "name": "stdout",
     "output_type": "stream",
     "text": [
      "Error in get citation for Suitable is the Best: Task Oriented Knowledge Fusion in Vulnerability Detection\n"
     ]
    },
    {
     "name": "stderr",
     "output_type": "stream",
     "text": [
      " 93%|██████████████████████████████████▌  | 3309/3543 [3:51:07<15:59,  4.10s/it]"
     ]
    },
    {
     "name": "stdout",
     "output_type": "stream",
     "text": [
      "Error in get citation for Generative Semi supervised Graph Anomaly Detection\n"
     ]
    },
    {
     "name": "stderr",
     "output_type": "stream",
     "text": [
      " 93%|██████████████████████████████████▌  | 3312/3543 [3:51:26<18:40,  4.85s/it]"
     ]
    },
    {
     "name": "stdout",
     "output_type": "stream",
     "text": [
      "Error in get citation for Predicting Future Actions of Reinforcement Learning Agents\n"
     ]
    },
    {
     "name": "stderr",
     "output_type": "stream",
     "text": [
      " 94%|██████████████████████████████████▋  | 3317/3543 [3:51:51<15:23,  4.09s/it]"
     ]
    },
    {
     "name": "stdout",
     "output_type": "stream",
     "text": [
      "Error in get citation for PURE: Prompt Evolution with Graph ODE for Out of distribution Fluid Dynamics Modeling\n"
     ]
    },
    {
     "name": "stderr",
     "output_type": "stream",
     "text": [
      " 94%|██████████████████████████████████▋  | 3321/3543 [3:52:04<13:08,  3.55s/it]"
     ]
    },
    {
     "name": "stdout",
     "output_type": "stream",
     "text": [
      "Error in get citation for VeXKD: The Versatile Integration of Cross Modal Fusion and Knowledge Distillation for 3D Perception\n"
     ]
    },
    {
     "name": "stderr",
     "output_type": "stream",
     "text": [
      " 94%|██████████████████████████████████▊  | 3339/3543 [3:53:27<15:23,  4.53s/it]"
     ]
    },
    {
     "name": "stdout",
     "output_type": "stream",
     "text": [
      "Error in get citation for Addressing Spatial Temporal Heterogeneity: General Mixed Time Series Analysis via Latent Continuity Recovery and Alignment\n"
     ]
    },
    {
     "name": "stderr",
     "output_type": "stream",
     "text": [
      " 94%|██████████████████████████████████▉  | 3343/3543 [3:53:53<19:04,  5.72s/it]"
     ]
    },
    {
     "name": "stdout",
     "output_type": "stream",
     "text": [
      "Error in get citation for Measuring Mutual Policy Divergence for Multi Agent Sequential Exploration\n"
     ]
    },
    {
     "name": "stderr",
     "output_type": "stream",
     "text": [
      " 94%|██████████████████████████████████▉  | 3348/3543 [3:54:16<16:16,  5.01s/it]"
     ]
    },
    {
     "name": "stdout",
     "output_type": "stream",
     "text": [
      "Error in get citation for On the Ability of Developers' Training Data Preservation of Learnware\n"
     ]
    },
    {
     "name": "stderr",
     "output_type": "stream",
     "text": [
      " 95%|███████████████████████████████████  | 3358/3543 [3:54:55<10:48,  3.50s/it]"
     ]
    },
    {
     "name": "stdout",
     "output_type": "stream",
     "text": [
      "Error in get citation for Graph Neural Networks Need Cluster Normalize Activate Modules\n"
     ]
    },
    {
     "name": "stderr",
     "output_type": "stream",
     "text": [
      " 95%|███████████████████████████████████  | 3360/3543 [3:55:11<16:42,  5.48s/it]"
     ]
    },
    {
     "name": "stdout",
     "output_type": "stream",
     "text": [
      "Error in get citation for ReMAP: Neural Model Reprogramming with Network Inversion and Retrieval Augmented Mapping for Adaptive Motion Forecasting\n"
     ]
    },
    {
     "name": "stderr",
     "output_type": "stream",
     "text": [
      " 95%|███████████████████████████████████▏ | 3366/3543 [3:55:36<11:16,  3.82s/it]"
     ]
    },
    {
     "name": "stdout",
     "output_type": "stream",
     "text": [
      "Error in get citation for A Simple and Optimal Approach for Universal Online Learning with Gradient Variations\n"
     ]
    },
    {
     "name": "stderr",
     "output_type": "stream",
     "text": [
      " 95%|███████████████████████████████████▏ | 3368/3543 [3:55:43<10:10,  3.49s/it]"
     ]
    },
    {
     "name": "stdout",
     "output_type": "stream",
     "text": [
      "Error in get citation for Satformer: Accurate and Robust Traffic Data Estimation for Satellite Networks\n"
     ]
    },
    {
     "name": "stderr",
     "output_type": "stream",
     "text": [
      " 95%|███████████████████████████████████▎ | 3380/3543 [3:56:40<15:39,  5.76s/it]"
     ]
    },
    {
     "name": "stdout",
     "output_type": "stream",
     "text": [
      "Error in get citation for Avoiding Undesired Future with Minimal Cost in Non Stationary Environments\n"
     ]
    },
    {
     "name": "stderr",
     "output_type": "stream",
     "text": [
      " 96%|███████████████████████████████████▎ | 3386/3543 [3:56:59<09:11,  3.51s/it]"
     ]
    },
    {
     "name": "stdout",
     "output_type": "stream",
     "text": [
      "Error in get citation for AdaPKC: PeakConv with Adaptive Peak Receptive Field for Radar Semantic Segmentation\n"
     ]
    },
    {
     "name": "stderr",
     "output_type": "stream",
     "text": [
      " 96%|███████████████████████████████████▍ | 3388/3543 [3:57:05<08:17,  3.21s/it]"
     ]
    },
    {
     "name": "stdout",
     "output_type": "stream",
     "text": [
      "Error in get citation for CALANet: Cheap All Layer Aggregation for Human Activity Recognition\n"
     ]
    },
    {
     "name": "stderr",
     "output_type": "stream",
     "text": [
      " 96%|███████████████████████████████████▍ | 3390/3543 [3:57:17<12:51,  5.05s/it]"
     ]
    },
    {
     "name": "stdout",
     "output_type": "stream",
     "text": [
      "Error in get citation for On the Expressivity and Sample Complexity of Node Individualized Graph Neural Networks\n"
     ]
    },
    {
     "name": "stderr",
     "output_type": "stream",
     "text": [
      " 96%|███████████████████████████████████▍ | 3391/3543 [3:57:20<11:07,  4.39s/it]"
     ]
    },
    {
     "name": "stdout",
     "output_type": "stream",
     "text": [
      "Error in get citation for On the Adversarial Robustness of Benjamini Hochberg\n"
     ]
    },
    {
     "name": "stderr",
     "output_type": "stream",
     "text": [
      " 96%|███████████████████████████████████▍ | 3396/3543 [3:57:35<07:51,  3.21s/it]"
     ]
    },
    {
     "name": "stdout",
     "output_type": "stream",
     "text": [
      "Error in get citation for Handling Learnwares from Heterogeneous Feature Spaces with Explicit Label Exploitation\n"
     ]
    },
    {
     "name": "stderr",
     "output_type": "stream",
     "text": [
      " 96%|███████████████████████████████████▍ | 3397/3543 [3:57:38<07:31,  3.09s/it]"
     ]
    },
    {
     "name": "stdout",
     "output_type": "stream",
     "text": [
      "Error in get citation for Wasserstein Distributionally Robust Optimization through the Lens of Structural Causal Models and Individual Fairness\n"
     ]
    },
    {
     "name": "stderr",
     "output_type": "stream",
     "text": [
      " 96%|███████████████████████████████████▌ | 3400/3543 [3:57:53<10:42,  4.49s/it]"
     ]
    },
    {
     "name": "stdout",
     "output_type": "stream",
     "text": [
      "Error in get citation for Error Analysis of Spherically Constrained Least Squares Reformulation in Solving the Stackelberg Prediction Game\n"
     ]
    },
    {
     "name": "stderr",
     "output_type": "stream",
     "text": [
      " 96%|███████████████████████████████████▌ | 3402/3543 [3:57:59<08:52,  3.78s/it]"
     ]
    },
    {
     "name": "stdout",
     "output_type": "stream",
     "text": [
      "Error in get citation for Can Simple Averaging Defeat Modern Watermarks?\n"
     ]
    },
    {
     "name": "stderr",
     "output_type": "stream",
     "text": [
      " 96%|███████████████████████████████████▌ | 3406/3543 [3:58:27<13:47,  6.04s/it]"
     ]
    },
    {
     "name": "stdout",
     "output_type": "stream",
     "text": [
      "Error in get citation for Neur2BiLO: Neural Bilevel Optimization\n"
     ]
    },
    {
     "name": "stderr",
     "output_type": "stream",
     "text": [
      " 96%|███████████████████████████████████▌ | 3407/3543 [3:58:39<18:00,  7.95s/it]"
     ]
    },
    {
     "name": "stdout",
     "output_type": "stream",
     "text": [
      "Error in get citation for PAC Bayes Chernoff bounds for unbounded losses\n"
     ]
    },
    {
     "name": "stderr",
     "output_type": "stream",
     "text": [
      " 96%|███████████████████████████████████▋ | 3415/3543 [3:59:25<12:59,  6.09s/it]"
     ]
    },
    {
     "name": "stdout",
     "output_type": "stream",
     "text": [
      "Error in get citation for What Rotary Position Embedding Can Tell Us: Identifying Query and Key Weights Corresponding to Basic Syntactic or High level Semantic Information\n"
     ]
    },
    {
     "name": "stderr",
     "output_type": "stream",
     "text": [
      " 97%|███████████████████████████████████▊ | 3426/3543 [4:00:08<06:46,  3.47s/it]"
     ]
    },
    {
     "name": "stdout",
     "output_type": "stream",
     "text": [
      "Error in get citation for Lower Bounds of Uniform Stability in Gradient Based Bilevel Algorithms for Hyperparameter Optimization\n"
     ]
    },
    {
     "name": "stderr",
     "output_type": "stream",
     "text": [
      " 97%|███████████████████████████████████▊ | 3427/3543 [4:00:11<06:30,  3.37s/it]"
     ]
    },
    {
     "name": "stdout",
     "output_type": "stream",
     "text": [
      "Error in get citation for Leveraging an ECG Beat Diffusion Model for Morphological Reconstruction from Indirect Signals\n"
     ]
    },
    {
     "name": "stderr",
     "output_type": "stream",
     "text": [
      " 97%|███████████████████████████████████▊ | 3435/3543 [4:00:47<07:33,  4.20s/it]"
     ]
    },
    {
     "name": "stdout",
     "output_type": "stream",
     "text": [
      "Error in get citation for Addressing Hidden Confounding with Heterogeneous Observational Datasets for Recommendation\n"
     ]
    },
    {
     "name": "stderr",
     "output_type": "stream",
     "text": [
      " 97%|███████████████████████████████████▉ | 3436/3543 [4:00:50<06:52,  3.86s/it]"
     ]
    },
    {
     "name": "stdout",
     "output_type": "stream",
     "text": [
      "Error in get citation for To Learn or Not to Learn, That is the Question — A Feature Task Dual Learning Model of Perceptual Learning\n"
     ]
    },
    {
     "name": "stderr",
     "output_type": "stream",
     "text": [
      " 97%|███████████████████████████████████▉ | 3439/3543 [4:01:01<06:39,  3.84s/it]"
     ]
    },
    {
     "name": "stdout",
     "output_type": "stream",
     "text": [
      "Error in get citation for MambaLRP: Explaining Selective State Space Sequence Models\n"
     ]
    },
    {
     "name": "stderr",
     "output_type": "stream",
     "text": [
      " 97%|████████████████████████████████████ | 3449/3543 [4:01:42<05:13,  3.33s/it]"
     ]
    },
    {
     "name": "stdout",
     "output_type": "stream",
     "text": [
      "Error in get citation for Zero Shot Tokenizer Transfer\n"
     ]
    },
    {
     "name": "stderr",
     "output_type": "stream",
     "text": [
      " 97%|████████████████████████████████████ | 3453/3543 [4:02:05<06:23,  4.26s/it]"
     ]
    },
    {
     "name": "stdout",
     "output_type": "stream",
     "text": [
      "Error in get citation for Multi view Masked Contrastive Representation Learning for Endoscopic Video Analysis\n"
     ]
    },
    {
     "name": "stderr",
     "output_type": "stream",
     "text": [
      " 98%|████████████████████████████████████ | 3455/3543 [4:02:11<05:26,  3.71s/it]"
     ]
    },
    {
     "name": "stdout",
     "output_type": "stream",
     "text": [
      "Error in get citation for Gradient Variation Online Learning under Generalized Smoothness\n"
     ]
    },
    {
     "name": "stderr",
     "output_type": "stream",
     "text": [
      " 98%|████████████████████████████████████▏| 3461/3543 [4:02:42<05:51,  4.28s/it]"
     ]
    },
    {
     "name": "stdout",
     "output_type": "stream",
     "text": [
      "Error in get citation for Uncovering the Redundancy in Graph Self supervised Learning Models\n"
     ]
    },
    {
     "name": "stderr",
     "output_type": "stream",
     "text": [
      " 98%|████████████████████████████████████▏| 3464/3543 [4:02:51<04:36,  3.50s/it]"
     ]
    },
    {
     "name": "stdout",
     "output_type": "stream",
     "text": [
      "Error in get citation for Zipfian Whitening\n"
     ]
    },
    {
     "name": "stderr",
     "output_type": "stream",
     "text": [
      " 98%|████████████████████████████████████▎| 3473/3543 [4:03:41<05:41,  4.88s/it]"
     ]
    },
    {
     "name": "stdout",
     "output_type": "stream",
     "text": [
      "Error in get citation for How does PDE order affect the convergence of PINNs?\n"
     ]
    },
    {
     "name": "stderr",
     "output_type": "stream",
     "text": [
      " 98%|████████████████████████████████████▎| 3481/3543 [4:04:20<04:29,  4.34s/it]"
     ]
    },
    {
     "name": "stdout",
     "output_type": "stream",
     "text": [
      "Error in get citation for Weight Diffusion for Future: Learn to Generalize in Non Stationary Environments\n"
     ]
    },
    {
     "name": "stderr",
     "output_type": "stream",
     "text": [
      " 99%|████████████████████████████████████▍| 3490/3543 [4:04:52<03:12,  3.64s/it]"
     ]
    },
    {
     "name": "stdout",
     "output_type": "stream",
     "text": [
      "Error in get citation for On Causal Discovery in the Presence of Deterministic Relations\n"
     ]
    },
    {
     "name": "stderr",
     "output_type": "stream",
     "text": [
      " 99%|████████████████████████████████████▍| 3493/3543 [4:05:08<04:20,  5.21s/it]"
     ]
    },
    {
     "name": "stdout",
     "output_type": "stream",
     "text": [
      "Error in get citation for Temporal Sentence Grounding with Relevance Feedback in Videos\n"
     ]
    },
    {
     "name": "stderr",
     "output_type": "stream",
     "text": [
      " 99%|████████████████████████████████████▍| 3494/3543 [4:05:11<03:43,  4.56s/it]"
     ]
    },
    {
     "name": "stdout",
     "output_type": "stream",
     "text": [
      "Error in get citation for SAND: Smooth imputation of sparse and noisy functional data with Transformer networks\n"
     ]
    },
    {
     "name": "stderr",
     "output_type": "stream",
     "text": [
      " 99%|████████████████████████████████████▋| 3508/3543 [4:06:05<01:54,  3.28s/it]"
     ]
    },
    {
     "name": "stdout",
     "output_type": "stream",
     "text": [
      "Error in get citation for FasMe: Fast and Sample efficient Meta Estimator for Precision Matrix Learning in Small Sample Settings\n"
     ]
    },
    {
     "name": "stderr",
     "output_type": "stream",
     "text": [
      " 99%|████████████████████████████████████▋| 3510/3543 [4:06:11<01:44,  3.17s/it]"
     ]
    },
    {
     "name": "stdout",
     "output_type": "stream",
     "text": [
      "Error in get citation for NoiseGPT: Label Noise Detection and Rectification through Probability Curvature\n"
     ]
    },
    {
     "name": "stderr",
     "output_type": "stream",
     "text": [
      " 99%|████████████████████████████████████▋| 3511/3543 [4:06:14<01:40,  3.15s/it]"
     ]
    },
    {
     "name": "stdout",
     "output_type": "stream",
     "text": [
      "Error in get citation for Distribution Guidance Network for Weakly Supervised Point Cloud Semantic Segmentation\n"
     ]
    },
    {
     "name": "stderr",
     "output_type": "stream",
     "text": [
      " 99%|████████████████████████████████████▋| 3515/3543 [4:06:44<02:43,  5.84s/it]"
     ]
    },
    {
     "name": "stdout",
     "output_type": "stream",
     "text": [
      "Error in get citation for Fetch and Forge: Efficient Dataset Condensation for Object Detection\n"
     ]
    },
    {
     "name": "stderr",
     "output_type": "stream",
     "text": [
      " 99%|████████████████████████████████████▋| 3516/3543 [4:06:47<02:15,  5.00s/it]"
     ]
    },
    {
     "name": "stdout",
     "output_type": "stream",
     "text": [
      "Error in get citation for A Swiss Army Knife for Heterogeneous Federated Learning: Flexible Coupling via Trace Norm\n"
     ]
    },
    {
     "name": "stderr",
     "output_type": "stream",
     "text": [
      " 99%|████████████████████████████████████▋| 3517/3543 [4:06:51<01:55,  4.43s/it]"
     ]
    },
    {
     "name": "stdout",
     "output_type": "stream",
     "text": [
      "Error in get citation for Leveraging Separated World Model for Exploration in Visually Distracted Environments\n"
     ]
    },
    {
     "name": "stderr",
     "output_type": "stream",
     "text": [
      " 99%|████████████████████████████████████▋| 3518/3543 [4:06:58<02:15,  5.43s/it]"
     ]
    },
    {
     "name": "stdout",
     "output_type": "stream",
     "text": [
      "Error in get citation for PowerPM: Foundation Model for Power Systems\n"
     ]
    },
    {
     "name": "stderr",
     "output_type": "stream",
     "text": [
      "100%|████████████████████████████████████▉| 3537/3543 [4:08:26<00:22,  3.74s/it]"
     ]
    },
    {
     "name": "stdout",
     "output_type": "stream",
     "text": [
      "Error in get citation for DRIP: Unleashing Diffusion Priors for Joint Foreground and Alpha Prediction in Image Matting\n"
     ]
    },
    {
     "name": "stderr",
     "output_type": "stream",
     "text": [
      "100%|████████████████████████████████████▉| 3538/3543 [4:08:29<00:17,  3.53s/it]"
     ]
    },
    {
     "name": "stdout",
     "output_type": "stream",
     "text": [
      "Error in get citation for SampDetox: Black box Backdoor Defense via Perturbation based Sample Detoxification\n"
     ]
    },
    {
     "name": "stderr",
     "output_type": "stream",
     "text": [
      "100%|█████████████████████████████████████| 3543/3543 [4:08:46<00:00,  4.21s/it]\n"
     ]
    },
    {
     "name": "stdout",
     "output_type": "stream",
     "text": [
      "Saved to data/2024/12_nips.csv_topics.csv_emerging.xlsx\n"
     ]
    }
   ],
   "source": [
    "get_conf_topics(conf_path='data/2024/12_nips.csv_topics.csv', topics=['zero_few-shot', 'graph', 'llm', 'optimization', 'transformer', '4D', 'splatting', 'diffusion transformer', 'state space model', 'text-to-video'])"
   ]
  },
  {
   "cell_type": "code",
   "execution_count": null,
   "id": "a7aad37b",
   "metadata": {},
   "outputs": [],
   "source": []
  }
 ],
 "metadata": {
  "kernelspec": {
   "display_name": "AI-trend-env",
   "language": "python",
   "name": "python3"
  },
  "language_info": {
   "codemirror_mode": {
    "name": "ipython",
    "version": 3
   },
   "file_extension": ".py",
   "mimetype": "text/x-python",
   "name": "python",
   "nbconvert_exporter": "python",
   "pygments_lexer": "ipython3",
   "version": "3.7.12"
  }
 },
 "nbformat": 4,
 "nbformat_minor": 5
}
