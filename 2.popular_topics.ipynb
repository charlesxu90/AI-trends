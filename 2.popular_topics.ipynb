{
 "cells": [
  {
   "attachments": {},
   "cell_type": "markdown",
   "id": "84f8733e",
   "metadata": {},
   "source": [
    "# The interesting topics in this year"
   ]
  },
  {
   "cell_type": "code",
   "execution_count": 6,
   "id": "81c1571f",
   "metadata": {},
   "outputs": [],
   "source": [
    "from semanticscholar import SemanticScholar\n",
    "import time\n",
    "import pandas as pd\n",
    "from tqdm import tqdm\n",
    "tqdm.pandas()\n",
    "\n",
    "def get_paper_citation(title):\n",
    "    sch = SemanticScholar()\n",
    "    time.sleep(1)\n",
    "    title = title.replace('-', ' ')\n",
    "    try:\n",
    "        papers = sch.search_paper(title)\n",
    "        if len(papers) > 0:\n",
    "            return papers[0].citationCount\n",
    "    except:\n",
    "        print(f'Error in get citation for {title}')\n",
    "    \n",
    "    return 0"
   ]
  },
  {
   "cell_type": "code",
   "execution_count": 7,
   "id": "55ddcb74",
   "metadata": {},
   "outputs": [],
   "source": [
    "def get_conf_topics(conf_path='data/2023/5_iclr.csv_topics.csv', topics=['multimodal']):\n",
    "    df_conf = pd.read_csv(conf_path)\n",
    "\n",
    "    save_path = conf_path + '_emerging.xlsx'\n",
    "    writer = pd.ExcelWriter(save_path, engine=\"xlsxwriter\")\n",
    "\n",
    "    # if topics within the list of topics\n",
    "    df_conf_topics = df_conf[df_conf['topic'].str.contains('|'.join(topics), case=False, na=False)].copy()\n",
    "\n",
    "    ss_citations = []\n",
    "    for title in tqdm(df_conf_topics['title'], ncols=80):\n",
    "        ss_citations.append(get_paper_citation(title))\n",
    "        time.sleep(1)\n",
    "    \n",
    "    df_conf_topics['ss_citations'] = ss_citations\n",
    "    df_conf_topics['google_scholar_link'] = df_conf_topics['title'].apply(lambda x: 'https://scholar.google.com/scholar?q=' + x.replace(' ', '+'))\n",
    "\n",
    "    df_conf_topics[['title','year','source','ss_citations','google_scholar_link']].to_excel(writer, sheet_name='topics', index=False)\n",
    "    writer.close()\n",
    "    print(f'Saved to {save_path}')"
   ]
  },
  {
   "attachments": {},
   "cell_type": "markdown",
   "id": "15d63550-6739-4c20-8286-51390c6baf87",
   "metadata": {
    "tags": []
   },
   "source": [
    "## 2023, ICLR, May"
   ]
  },
  {
   "cell_type": "code",
   "execution_count": 6,
   "id": "a4aa89c3",
   "metadata": {},
   "outputs": [],
   "source": [
    "# get_conf_topics_all(conf_path='data/2023/5_iclr.csv_topics.csv', topics=['multimodal', 'diffusion models', 'llm', 'self-supervision'])"
   ]
  },
  {
   "attachments": {},
   "cell_type": "markdown",
   "id": "3047ece0",
   "metadata": {},
   "source": [
    "## 2023, CVPR, June"
   ]
  },
  {
   "cell_type": "code",
   "execution_count": 7,
   "id": "b6edc0ff",
   "metadata": {},
   "outputs": [],
   "source": [
    "# get_conf_topics_all(conf_path='data/2023/6_cvpr.csv_topics.csv', topics=['3d', 'zero_few-shot', 'transformer', 'segmentation', 'multimodal', \n",
    "# 'imitation learning', 'radiance field', 'motion', 'diffusion models', 'multi-agent'])"
   ]
  },
  {
   "attachments": {},
   "cell_type": "markdown",
   "id": "1ffb325a",
   "metadata": {},
   "source": [
    "## 2023, ICML, July"
   ]
  },
  {
   "cell_type": "code",
   "execution_count": 5,
   "id": "4bf2d176",
   "metadata": {},
   "outputs": [],
   "source": [
    "# get_conf_topics_all(conf_path='data/2023/7_icml.csv_topics.csv', topics=['zero_few-shot', 'graph', 'optimization', 'reinforcement learning', 'representation',\n",
    "# 'motion', 'decision trees', 'radiance field', 'diffusion models', 'federated learning'])"
   ]
  },
  {
   "cell_type": "markdown",
   "metadata": {},
   "source": [
    "## 2023, ICCV, Oct."
   ]
  },
  {
   "cell_type": "code",
   "execution_count": 5,
   "id": "e0032d69",
   "metadata": {},
   "outputs": [],
   "source": [
    "# get_conf_topics(conf_path='data/2023/10_ICCV.csv_topics.csv', topics=['object detection', '3d', 'segmentation', 'transformer', 'zero_few-shot'])"
   ]
  },
  {
   "cell_type": "markdown",
   "metadata": {},
   "source": [
    "## 2023, NIPS, Dec."
   ]
  },
  {
   "cell_type": "code",
   "execution_count": 6,
   "metadata": {},
   "outputs": [],
   "source": [
    "# get_conf_topics(conf_path='data/2023/12_nips.csv_topics.csv', topics=['object detection', 'zero_few-shot', 'graph', 'optimization', 'llm', 'radiance field', 'motion', 'differential equation solving', 'rl'])"
   ]
  },
  {
   "cell_type": "markdown",
   "id": "ed9062ef",
   "metadata": {},
   "source": [
    "## 2024, ICLR, May"
   ]
  },
  {
   "cell_type": "code",
   "execution_count": 8,
   "id": "cf5f7c27",
   "metadata": {},
   "outputs": [],
   "source": [
    "# get_conf_topics(conf_path='data/2024/5_iclr.csv_topics.csv', topics=['graph', 'zero_few-shot', 'llm', 'transformer', 'generative model', 'reward model', 'watermark', 'foundation models', 'model merging', 'diffusion models'])"
   ]
  },
  {
   "cell_type": "markdown",
   "id": "87fa2421",
   "metadata": {},
   "source": [
    "## 2024, CVPR, June"
   ]
  },
  {
   "cell_type": "code",
   "execution_count": 9,
   "metadata": {},
   "outputs": [
    {
     "name": "stderr",
     "output_type": "stream",
     "text": [
      "  0%|                                                  | 0/1137 [00:00<?, ?it/s]"
     ]
    },
    {
     "name": "stderr",
     "output_type": "stream",
     "text": [
      "  0%|▏                                       | 5/1137 [00:50<2:51:49,  9.11s/it]"
     ]
    },
    {
     "name": "stdout",
     "output_type": "stream",
     "text": [
      "Error in get citation for Programmable Motion Generation for Open Set Motion Control Tasks\n"
     ]
    },
    {
     "name": "stderr",
     "output_type": "stream",
     "text": [
      "  2%|▋                                      | 19/1137 [03:23<2:11:54,  7.08s/it]"
     ]
    },
    {
     "name": "stdout",
     "output_type": "stream",
     "text": [
      "Error in get citation for Text2Loc: 3D Point Cloud Localization from Natural Language\n"
     ]
    },
    {
     "name": "stderr",
     "output_type": "stream",
     "text": [
      "  2%|▊                                      | 25/1137 [04:51<3:38:48, 11.81s/it]"
     ]
    },
    {
     "name": "stdout",
     "output_type": "stream",
     "text": [
      "Error in get citation for Looking Similar Sounding Different: Leveraging Counterfactual Cross Modal Pairs for Audiovisual Representation Learning\n"
     ]
    },
    {
     "name": "stderr",
     "output_type": "stream",
     "text": [
      "  3%|█▏                                     | 33/1137 [08:02<7:15:06, 23.65s/it]"
     ]
    },
    {
     "name": "stdout",
     "output_type": "stream",
     "text": [
      "Error in get citation for DMR: Decomposed Multi Modality Representations for Frames and Events Fusion in Visual Reinforcement Learning\n"
     ]
    },
    {
     "name": "stderr",
     "output_type": "stream",
     "text": [
      "  3%|█▎                                     | 37/1137 [08:50<3:37:47, 11.88s/it]"
     ]
    },
    {
     "name": "stdout",
     "output_type": "stream",
     "text": [
      "Error in get citation for Bi level Learning of Task Specific Decoders for Joint Registration and One Shot Medical Image Segmentation\n"
     ]
    },
    {
     "name": "stderr",
     "output_type": "stream",
     "text": [
      "  4%|█▍                                     | 43/1137 [09:09<1:14:13,  4.07s/it]"
     ]
    },
    {
     "name": "stdout",
     "output_type": "stream",
     "text": [
      "Error in get citation for VRetouchEr: Learning Cross frame Feature Interdependence with Imperfection Flow for Face Retouching in Videos\n"
     ]
    },
    {
     "name": "stderr",
     "output_type": "stream",
     "text": [
      "  4%|█▋                                     | 51/1137 [11:41<9:15:01, 30.66s/it]"
     ]
    },
    {
     "name": "stdout",
     "output_type": "stream",
     "text": [
      "Error in get citation for PH Net: Semi Supervised Breast Lesion Segmentation via Patch wise Hardness\n"
     ]
    },
    {
     "name": "stderr",
     "output_type": "stream",
     "text": [
      "  5%|█▉                                     | 56/1137 [12:25<4:09:20, 13.84s/it]"
     ]
    },
    {
     "name": "stdout",
     "output_type": "stream",
     "text": [
      "Error in get citation for DIEM: Decomposition Integration Enhancing Multimodal Insights\n"
     ]
    },
    {
     "name": "stderr",
     "output_type": "stream",
     "text": [
      "  5%|██▏                                    | 62/1137 [12:52<1:24:15,  4.70s/it]"
     ]
    },
    {
     "name": "stdout",
     "output_type": "stream",
     "text": [
      "Error in get citation for Few Shot Object Detection with Foundation Models\n"
     ]
    },
    {
     "name": "stderr",
     "output_type": "stream",
     "text": [
      "  6%|██▍                                    | 71/1137 [15:30<5:34:31, 18.83s/it]"
     ]
    },
    {
     "name": "stdout",
     "output_type": "stream",
     "text": [
      "Error in get citation for Open Set Domain Adaptation for Semantic Segmentation\n"
     ]
    },
    {
     "name": "stderr",
     "output_type": "stream",
     "text": [
      "  7%|██▋                                    | 80/1137 [18:52<3:57:54, 13.50s/it]"
     ]
    },
    {
     "name": "stdout",
     "output_type": "stream",
     "text": [
      "Error in get citation for Endow SAM with Keen Eyes: Temporal spatial Prompt Learning for Video Camouflaged Object Detection\n"
     ]
    },
    {
     "name": "stderr",
     "output_type": "stream",
     "text": [
      "  7%|██▊                                    | 81/1137 [19:25<5:41:06, 19.38s/it]"
     ]
    },
    {
     "name": "stdout",
     "output_type": "stream",
     "text": [
      "Error in get citation for TULIP: Multi camera 3D Precision Assessment of Parkinson's Disease\n"
     ]
    },
    {
     "name": "stderr",
     "output_type": "stream",
     "text": [
      "  7%|██▊                                    | 83/1137 [20:32<8:36:07, 29.38s/it]"
     ]
    },
    {
     "name": "stdout",
     "output_type": "stream",
     "text": [
      "Error in get citation for PostureHMR: Posture Transformation for 3D Human Mesh Recovery\n"
     ]
    },
    {
     "name": "stderr",
     "output_type": "stream",
     "text": [
      "  9%|███▎                                   | 97/1137 [24:54<7:27:26, 25.81s/it]"
     ]
    },
    {
     "name": "stdout",
     "output_type": "stream",
     "text": [
      "Error in get citation for Image Sculpting: Precise Object Editing with 3D Geometry Control\n"
     ]
    },
    {
     "name": "stderr",
     "output_type": "stream",
     "text": [
      " 10%|███▋                                  | 110/1137 [27:23<1:09:43,  4.07s/it]"
     ]
    },
    {
     "name": "stdout",
     "output_type": "stream",
     "text": [
      "Error in get citation for TexOct: Generating Textures of 3D Models with Octree based Diffusion\n"
     ]
    },
    {
     "name": "stderr",
     "output_type": "stream",
     "text": [
      " 10%|███▉                                    | 112/1137 [27:29<58:30,  3.42s/it]"
     ]
    },
    {
     "name": "stdout",
     "output_type": "stream",
     "text": [
      "Error in get citation for L4D Track: Language to 4D Modeling Towards 6 DoF Tracking and Shape Reconstruction in 3D Point Cloud Stream\n"
     ]
    },
    {
     "name": "stderr",
     "output_type": "stream",
     "text": [
      " 12%|████▌                                 | 137/1137 [31:38<1:35:59,  5.76s/it]"
     ]
    },
    {
     "name": "stdout",
     "output_type": "stream",
     "text": [
      "Error in get citation for Vision and Language Navigation via Causal Learning\n"
     ]
    },
    {
     "name": "stderr",
     "output_type": "stream",
     "text": [
      " 16%|█████▉                                | 177/1137 [38:29<1:01:37,  3.85s/it]"
     ]
    },
    {
     "name": "stdout",
     "output_type": "stream",
     "text": [
      "Error in get citation for SD2Event:Self supervised Learning of Dynamic Detectors and Contextual Descriptors for Event Cameras\n"
     ]
    },
    {
     "name": "stderr",
     "output_type": "stream",
     "text": [
      " 16%|██████▏                               | 184/1137 [39:30<1:50:32,  6.96s/it]"
     ]
    },
    {
     "name": "stdout",
     "output_type": "stream",
     "text": [
      "Error in get citation for Towards CLIP driven Language free 3D Visual Grounding via 2D 3D Relational Enhancement and Consistency\n"
     ]
    },
    {
     "name": "stderr",
     "output_type": "stream",
     "text": [
      " 17%|██████▎                               | 188/1137 [40:14<3:29:49, 13.27s/it]"
     ]
    },
    {
     "name": "stdout",
     "output_type": "stream",
     "text": [
      "Error in get citation for MirageRoom: 3D Scene Segmentation with 2D Pre trained Models by Mirage Projection\n"
     ]
    },
    {
     "name": "stderr",
     "output_type": "stream",
     "text": [
      " 18%|██████▊                               | 205/1137 [44:42<4:36:36, 17.81s/it]"
     ]
    },
    {
     "name": "stdout",
     "output_type": "stream",
     "text": [
      "Error in get citation for Virtual Immunohistochemistry Staining for Histological Images Assisted by Weakly supervised Learning\n"
     ]
    },
    {
     "name": "stderr",
     "output_type": "stream",
     "text": [
      " 18%|██████▉                               | 208/1137 [44:50<2:02:34,  7.92s/it]"
     ]
    },
    {
     "name": "stdout",
     "output_type": "stream",
     "text": [
      "Error in get citation for 3D SceneDreamer: Text Driven 3D Consistent Scene Generation\n"
     ]
    },
    {
     "name": "stderr",
     "output_type": "stream",
     "text": [
      " 19%|███████                               | 213/1137 [45:13<1:06:24,  4.31s/it]"
     ]
    },
    {
     "name": "stdout",
     "output_type": "stream",
     "text": [
      "Error in get citation for DeMatch: Deep Decomposition of Motion Field for Two View Correspondence Learning\n"
     ]
    },
    {
     "name": "stderr",
     "output_type": "stream",
     "text": [
      " 19%|███████▎                              | 218/1137 [46:00<3:13:51, 12.66s/it]"
     ]
    },
    {
     "name": "stdout",
     "output_type": "stream",
     "text": [
      "Error in get citation for Flexible Biometrics Recognition: Bridging the Multimodality Gap through Attention Alignment and Prompt Tuning\n"
     ]
    },
    {
     "name": "stderr",
     "output_type": "stream",
     "text": [
      " 19%|███████▎                              | 219/1137 [46:02<2:28:33,  9.71s/it]"
     ]
    },
    {
     "name": "stdout",
     "output_type": "stream",
     "text": [
      "Error in get citation for Exploring Region Word Alignment in Built in Detector for Open Vocabulary Object Detection\n"
     ]
    },
    {
     "name": "stderr",
     "output_type": "stream",
     "text": [
      " 20%|███████▌                              | 228/1137 [47:35<2:53:50, 11.47s/it]"
     ]
    },
    {
     "name": "stdout",
     "output_type": "stream",
     "text": [
      "Error in get citation for Adversarially Robust Few shot Learning via Parameter Co distillation of Similarity and Class Concept Learners\n"
     ]
    },
    {
     "name": "stderr",
     "output_type": "stream",
     "text": [
      " 21%|████████                              | 243/1137 [52:01<4:44:18, 19.08s/it]"
     ]
    },
    {
     "name": "stdout",
     "output_type": "stream",
     "text": [
      "Error in get citation for ZERO IG: Zero Shot Illumination Guided Joint Denoising and Adaptive Enhancement for Low Light Images\n"
     ]
    },
    {
     "name": "stderr",
     "output_type": "stream",
     "text": [
      " 23%|████████▋                             | 260/1137 [56:02<1:25:18,  5.84s/it]"
     ]
    },
    {
     "name": "stdout",
     "output_type": "stream",
     "text": [
      "Error in get citation for Mosaic SDF for 3D Generative Models\n"
     ]
    },
    {
     "name": "stderr",
     "output_type": "stream",
     "text": [
      " 25%|█████████▏                          | 289/1137 [1:01:56<3:05:00, 13.09s/it]"
     ]
    },
    {
     "name": "stdout",
     "output_type": "stream",
     "text": [
      "Error in get citation for Molecular Data Programming: Towards Molecule Pseudo labeling with Systematic Weak Supervision\n"
     ]
    },
    {
     "name": "stderr",
     "output_type": "stream",
     "text": [
      " 27%|█████████▋                          | 304/1137 [1:03:33<1:39:05,  7.14s/it]"
     ]
    },
    {
     "name": "stdout",
     "output_type": "stream",
     "text": [
      "Error in get citation for MPOD123: One Image to 3D Content Generation Using Mask enhanced Progressive Outline to Detail Optimization\n"
     ]
    },
    {
     "name": "stderr",
     "output_type": "stream",
     "text": [
      " 27%|██████████▎                           | 309/1137 [1:03:49<53:51,  3.90s/it]"
     ]
    },
    {
     "name": "stdout",
     "output_type": "stream",
     "text": [
      "Error in get citation for Density Guided Semi Supervised 3D Semantic Segmentation with Dual Space Hardness Sampling\n"
     ]
    },
    {
     "name": "stderr",
     "output_type": "stream",
     "text": [
      " 29%|██████████▎                         | 325/1137 [1:05:44<2:49:09, 12.50s/it]"
     ]
    },
    {
     "name": "stdout",
     "output_type": "stream",
     "text": [
      "Error in get citation for PSDPM: Prototype based Secondary Discriminative Pixels Mining for Weakly Supervised Semantic Segmentation\n"
     ]
    },
    {
     "name": "stderr",
     "output_type": "stream",
     "text": [
      " 30%|██████████▉                         | 344/1137 [1:08:12<1:30:36,  6.86s/it]"
     ]
    },
    {
     "name": "stdout",
     "output_type": "stream",
     "text": [
      "Error in get citation for JoAPR: Cleaning the Lens of Prompt Learning for Vision Language Models\n"
     ]
    },
    {
     "name": "stderr",
     "output_type": "stream",
     "text": [
      " 31%|███████████                         | 351/1137 [1:09:44<1:48:51,  8.31s/it]"
     ]
    },
    {
     "name": "stdout",
     "output_type": "stream",
     "text": [
      "Error in get citation for Construct to Associate: Cooperative Context Learning for Domain Adaptive Point Cloud Segmentation\n"
     ]
    },
    {
     "name": "stderr",
     "output_type": "stream",
     "text": [
      " 31%|███████████▏                        | 353/1137 [1:09:49<1:10:29,  5.39s/it]"
     ]
    },
    {
     "name": "stdout",
     "output_type": "stream",
     "text": [
      "Error in get citation for A Teacher: Asymmetric Network for 3D Semi Supervised Object Detection\n"
     ]
    },
    {
     "name": "stderr",
     "output_type": "stream",
     "text": [
      " 32%|███████████▌                        | 366/1137 [1:11:47<1:06:12,  5.15s/it]"
     ]
    },
    {
     "name": "stdout",
     "output_type": "stream",
     "text": [
      "Error in get citation for Mind Marginal Non Crack Regions: Clustering Inspired Representation Learning for Crack Segmentation\n"
     ]
    },
    {
     "name": "stderr",
     "output_type": "stream",
     "text": [
      " 33%|████████████                        | 380/1137 [1:14:35<2:34:24, 12.24s/it]"
     ]
    },
    {
     "name": "stdout",
     "output_type": "stream",
     "text": [
      "Error in get citation for Learn to Rectify the Bias of CLIP for Unsupervised Semantic Segmentation\n"
     ]
    },
    {
     "name": "stderr",
     "output_type": "stream",
     "text": [
      " 34%|████████████                        | 381/1137 [1:14:38<1:57:30,  9.33s/it]"
     ]
    },
    {
     "name": "stdout",
     "output_type": "stream",
     "text": [
      "Error in get citation for Improving Generalized Zero Shot Learning by Exploring the Diverse Semantics from External Class Names\n"
     ]
    },
    {
     "name": "stderr",
     "output_type": "stream",
     "text": [
      " 34%|████████████▎                       | 390/1137 [1:16:47<2:50:29, 13.69s/it]"
     ]
    },
    {
     "name": "stdout",
     "output_type": "stream",
     "text": [
      "Error in get citation for SRTube: Video Language Pre Training with Action Centric Video Tube Features and Semantic Role Labeling\n"
     ]
    },
    {
     "name": "stderr",
     "output_type": "stream",
     "text": [
      " 35%|████████████▋                       | 400/1137 [1:18:48<2:48:55, 13.75s/it]"
     ]
    },
    {
     "name": "stdout",
     "output_type": "stream",
     "text": [
      "Error in get citation for Addressing Background Context Bias in Few Shot Segmentation through Iterative Modulation\n"
     ]
    },
    {
     "name": "stderr",
     "output_type": "stream",
     "text": [
      " 36%|█████████████                       | 413/1137 [1:23:02<3:30:53, 17.48s/it]"
     ]
    },
    {
     "name": "stdout",
     "output_type": "stream",
     "text": [
      "Error in get citation for Active Domain Adaptation with False Negative Prediction for Object Detection\n"
     ]
    },
    {
     "name": "stderr",
     "output_type": "stream",
     "text": [
      " 37%|█████████████▎                      | 422/1137 [1:24:29<1:07:43,  5.68s/it]"
     ]
    },
    {
     "name": "stdout",
     "output_type": "stream",
     "text": [
      "Error in get citation for Person in WiFi 3D: End to End Multi Person 3D Pose Estimation with Wi Fi\n"
     ]
    },
    {
     "name": "stderr",
     "output_type": "stream",
     "text": [
      " 39%|██████████████                      | 445/1137 [1:29:15<1:04:46,  5.62s/it]"
     ]
    },
    {
     "name": "stdout",
     "output_type": "stream",
     "text": [
      "Error in get citation for CLIP Driven Open Vocabulary 3D Scene Graph Generation via Cross Modality Contrastive Learning\n"
     ]
    },
    {
     "name": "stderr",
     "output_type": "stream",
     "text": [
      " 40%|██████████████▏                     | 450/1137 [1:29:59<1:02:15,  5.44s/it]"
     ]
    },
    {
     "name": "stdout",
     "output_type": "stream",
     "text": [
      "Error in get citation for Low Rank Approximation for Sparse Attention in Multi Modal LLMs\n"
     ]
    },
    {
     "name": "stderr",
     "output_type": "stream",
     "text": [
      " 40%|██████████████▎                     | 454/1137 [1:30:46<1:43:01,  9.05s/it]"
     ]
    },
    {
     "name": "stdout",
     "output_type": "stream",
     "text": [
      "Error in get citation for PredToken: Predicting Unknown Tokens and Beyond with Coarse to Fine Iterative Decoding\n"
     ]
    },
    {
     "name": "stderr",
     "output_type": "stream",
     "text": [
      " 41%|██████████████▋                     | 465/1137 [1:33:52<4:46:48, 25.61s/it]"
     ]
    },
    {
     "name": "stdout",
     "output_type": "stream",
     "text": [
      "Error in get citation for Forecasting of 3D Whole body Human Poses with Grasping Objects\n"
     ]
    },
    {
     "name": "stderr",
     "output_type": "stream",
     "text": [
      " 43%|███████████████▌                    | 492/1137 [1:39:41<1:29:36,  8.34s/it]"
     ]
    },
    {
     "name": "stdout",
     "output_type": "stream",
     "text": [
      "Error in get citation for Fourier Priors Guided Diffusion for Zero Shot Joint Low Light Enhancement and Deblurring\n"
     ]
    },
    {
     "name": "stderr",
     "output_type": "stream",
     "text": [
      " 44%|███████████████▋                    | 495/1137 [1:40:26<1:55:14, 10.77s/it]"
     ]
    },
    {
     "name": "stdout",
     "output_type": "stream",
     "text": [
      "Error in get citation for PoseIRM: Enhance 3D Human Pose Estimation on Unseen Camera Settings via Invariant Risk Minimization\n"
     ]
    },
    {
     "name": "stderr",
     "output_type": "stream",
     "text": [
      " 45%|████████████████▏                   | 512/1137 [1:45:02<1:46:12, 10.20s/it]"
     ]
    },
    {
     "name": "stdout",
     "output_type": "stream",
     "text": [
      "Error in get citation for Language Models as Black Box Optimizers for Vision Language Models\n"
     ]
    },
    {
     "name": "stderr",
     "output_type": "stream",
     "text": [
      " 45%|████████████████▏                   | 513/1137 [1:45:14<1:52:37, 10.83s/it]"
     ]
    },
    {
     "name": "stdout",
     "output_type": "stream",
     "text": [
      "Error in get citation for Exploring Orthogonality in Open World Object Detection\n"
     ]
    },
    {
     "name": "stderr",
     "output_type": "stream",
     "text": [
      " 46%|█████████████████▍                    | 523/1137 [1:46:27<45:12,  4.42s/it]"
     ]
    },
    {
     "name": "stdout",
     "output_type": "stream",
     "text": [
      "Error in get citation for Cyclic Learning for Binaural Audio Generation and Localization\n"
     ]
    },
    {
     "name": "stderr",
     "output_type": "stream",
     "text": [
      " 47%|█████████████████▊                    | 534/1137 [1:47:31<43:09,  4.29s/it]"
     ]
    },
    {
     "name": "stdout",
     "output_type": "stream",
     "text": [
      "Error in get citation for MemSAM: Taming Segment Anything Model for Echocardiography Video Segmentation\n"
     ]
    },
    {
     "name": "stderr",
     "output_type": "stream",
     "text": [
      " 48%|██████████████████▏                   | 544/1137 [1:48:34<50:41,  5.13s/it]"
     ]
    },
    {
     "name": "stdout",
     "output_type": "stream",
     "text": [
      "Error in get citation for GAFusion: Adaptive Fusing LiDAR and Camera with Multiple Guidance for 3D Object Detection\n"
     ]
    },
    {
     "name": "stderr",
     "output_type": "stream",
     "text": [
      " 48%|██████████████████▏                   | 545/1137 [1:48:37<43:58,  4.46s/it]"
     ]
    },
    {
     "name": "stdout",
     "output_type": "stream",
     "text": [
      "Error in get citation for Countering Personalized Text to Image Generation with Influence Watermarks\n"
     ]
    },
    {
     "name": "stderr",
     "output_type": "stream",
     "text": [
      " 48%|██████████████████▎                   | 549/1137 [1:48:54<41:45,  4.26s/it]"
     ]
    },
    {
     "name": "stdout",
     "output_type": "stream",
     "text": [
      "Error in get citation for An Asymmetric Augmented Self Supervised Learning Method for Unsupervised Fine Grained Image Hashing\n"
     ]
    },
    {
     "name": "stderr",
     "output_type": "stream",
     "text": [
      " 48%|█████████████████▍                  | 550/1137 [1:49:32<2:21:34, 14.47s/it]"
     ]
    },
    {
     "name": "stdout",
     "output_type": "stream",
     "text": [
      "Error in get citation for Unlocking the Potential of Pre trained Vision Transformers for Few Shot Semantic Segmentation through Relationship Descriptors\n"
     ]
    },
    {
     "name": "stderr",
     "output_type": "stream",
     "text": [
      " 49%|█████████████████▌                  | 553/1137 [1:51:13<4:23:40, 27.09s/it]"
     ]
    },
    {
     "name": "stdout",
     "output_type": "stream",
     "text": [
      "Error in get citation for SPU PMD: Self Supervised Point Cloud Upsampling via Progressive Mesh Deformation\n"
     ]
    },
    {
     "name": "stderr",
     "output_type": "stream",
     "text": [
      " 50%|█████████████████▉                  | 565/1137 [1:53:51<2:18:19, 14.51s/it]"
     ]
    },
    {
     "name": "stdout",
     "output_type": "stream",
     "text": [
      "Error in get citation for Towards Robust 3D Object Detection with LiDAR and 4D Radar Fusion in Various Weather Conditions\n"
     ]
    },
    {
     "name": "stderr",
     "output_type": "stream",
     "text": [
      " 50%|██████████████████                  | 570/1137 [1:55:06<1:47:06, 11.33s/it]"
     ]
    },
    {
     "name": "stdout",
     "output_type": "stream",
     "text": [
      "Error in get citation for Self Supervised Multi Object Tracking with Path Consistency\n"
     ]
    },
    {
     "name": "stderr",
     "output_type": "stream",
     "text": [
      " 51%|██████████████████▍                 | 584/1137 [1:59:13<3:41:35, 24.04s/it]"
     ]
    },
    {
     "name": "stdout",
     "output_type": "stream",
     "text": [
      "Error in get citation for DreamComposer: Controllable 3D Object Generation via Multi View Conditions\n"
     ]
    },
    {
     "name": "stderr",
     "output_type": "stream",
     "text": [
      " 52%|██████████████████▌                 | 587/1137 [2:01:04<4:07:30, 27.00s/it]"
     ]
    },
    {
     "name": "stdout",
     "output_type": "stream",
     "text": [
      "Error in get citation for Draw Step by Step: Reconstructing CAD Construction Sequences from Point Clouds via Multimodal Diffusion.\n"
     ]
    },
    {
     "name": "stderr",
     "output_type": "stream",
     "text": [
      " 53%|████████████████████                  | 600/1137 [2:03:51<56:52,  6.35s/it]"
     ]
    },
    {
     "name": "stdout",
     "output_type": "stream",
     "text": [
      "Error in get citation for SNIDA: Unlocking Few Shot Object Detection with Non linear Semantic Decoupling Augmentation\n"
     ]
    },
    {
     "name": "stderr",
     "output_type": "stream",
     "text": [
      " 57%|████████████████████▍               | 645/1137 [2:10:24<1:43:21, 12.61s/it]"
     ]
    },
    {
     "name": "stdout",
     "output_type": "stream",
     "text": [
      "Error in get citation for Generate Subgoal Images before Act: Unlocking the Chain of Thought Reasoning in Diffusion Model for Robot Manipulation with Multimodal Prompts\n"
     ]
    },
    {
     "name": "stderr",
     "output_type": "stream",
     "text": [
      " 57%|████████████████████▌               | 651/1137 [2:11:13<1:11:06,  8.78s/it]"
     ]
    },
    {
     "name": "stdout",
     "output_type": "stream",
     "text": [
      "Error in get citation for PanoPose: Self supervised Relative Pose Estimation for Panoramic Images\n"
     ]
    },
    {
     "name": "stderr",
     "output_type": "stream",
     "text": [
      " 59%|█████████████████████▏              | 670/1137 [2:15:25<2:10:51, 16.81s/it]"
     ]
    },
    {
     "name": "stdout",
     "output_type": "stream",
     "text": [
      "Error in get citation for HINTED: Hard Instance Enhanced Detector with Mixed Density Feature Fusion for Sparsely Supervised 3D Object Detection\n"
     ]
    },
    {
     "name": "stderr",
     "output_type": "stream",
     "text": [
      " 59%|█████████████████████▍              | 676/1137 [2:17:14<2:00:50, 15.73s/it]"
     ]
    },
    {
     "name": "stdout",
     "output_type": "stream",
     "text": [
      "Error in get citation for Semantic Shield: Defending Vision Language Models Against Backdooring and Poisoning via Fine grained Knowledge Alignment\n"
     ]
    },
    {
     "name": "stderr",
     "output_type": "stream",
     "text": [
      " 61%|█████████████████████▊              | 690/1137 [2:20:35<2:04:35, 16.72s/it]"
     ]
    },
    {
     "name": "stdout",
     "output_type": "stream",
     "text": [
      "Error in get citation for DiffPerformer: Iterative Learning of Consistent Latent Guidance for Diffusion based Human Video Generation\n"
     ]
    },
    {
     "name": "stderr",
     "output_type": "stream",
     "text": [
      " 61%|█████████████████████▉              | 694/1137 [2:21:53<2:05:54, 17.05s/it]"
     ]
    },
    {
     "name": "stdout",
     "output_type": "stream",
     "text": [
      "Error in get citation for Incremental Nuclei Segmentation from Histopathological Images via Future class Awareness and Compatibility inspired Distillation\n"
     ]
    },
    {
     "name": "stderr",
     "output_type": "stream",
     "text": [
      " 63%|██████████████████████▊             | 719/1137 [2:25:52<1:46:41, 15.31s/it]"
     ]
    },
    {
     "name": "stdout",
     "output_type": "stream",
     "text": [
      "Error in get citation for Progress Aware Online Action Segmentation for Egocentric Procedural Task Videos\n"
     ]
    },
    {
     "name": "stderr",
     "output_type": "stream",
     "text": [
      " 64%|███████████████████████             | 727/1137 [2:28:20<2:25:16, 21.26s/it]"
     ]
    },
    {
     "name": "stdout",
     "output_type": "stream",
     "text": [
      "Error in get citation for Mask4Align: Aligned Entity Prompting with Color Masks for Multi Entity Localization Problems\n"
     ]
    },
    {
     "name": "stderr",
     "output_type": "stream",
     "text": [
      " 69%|██████████████████████████            | 779/1137 [2:37:27<48:00,  8.05s/it]"
     ]
    },
    {
     "name": "stdout",
     "output_type": "stream",
     "text": [
      "Error in get citation for C2KD: Bridging the Modality Gap for Cross Modal Knowledge Distillation\n"
     ]
    },
    {
     "name": "stderr",
     "output_type": "stream",
     "text": [
      " 69%|████████████████████████▊           | 782/1137 [2:38:11<1:27:35, 14.80s/it]"
     ]
    },
    {
     "name": "stdout",
     "output_type": "stream",
     "text": [
      "Error in get citation for Uncertainty Visualization via Low Dimensional Posterior Projections\n"
     ]
    },
    {
     "name": "stderr",
     "output_type": "stream",
     "text": [
      " 71%|██████████████████████████▊           | 804/1137 [2:41:43<33:21,  6.01s/it]"
     ]
    },
    {
     "name": "stdout",
     "output_type": "stream",
     "text": [
      "Error in get citation for Weakly Misalignment free Adaptive Feature Alignment for UAVs based Multimodal Object Detection\n"
     ]
    },
    {
     "name": "stderr",
     "output_type": "stream",
     "text": [
      " 71%|█████████████████████████▌          | 808/1137 [2:42:36<1:25:41, 15.63s/it]"
     ]
    },
    {
     "name": "stdout",
     "output_type": "stream",
     "text": [
      "Error in get citation for Prompt3D: Random Prompt Assisted Weakly Supervised 3D Object Detection\n"
     ]
    },
    {
     "name": "stderr",
     "output_type": "stream",
     "text": [
      " 71%|█████████████████████████▌          | 809/1137 [2:42:38<1:03:55, 11.69s/it]"
     ]
    },
    {
     "name": "stdout",
     "output_type": "stream",
     "text": [
      "Error in get citation for Fine grained Prototypical Voting with Heterogeneous Mixup for Semi supervised 2D 3D Cross modal Retrieval\n"
     ]
    },
    {
     "name": "stderr",
     "output_type": "stream",
     "text": [
      " 72%|███████████████████████████▏          | 813/1137 [2:43:20<50:50,  9.42s/it]"
     ]
    },
    {
     "name": "stdout",
     "output_type": "stream",
     "text": [
      "Error in get citation for 3D Multi frame Fusion for Video Stabilization\n"
     ]
    },
    {
     "name": "stderr",
     "output_type": "stream",
     "text": [
      " 73%|███████████████████████████▌          | 826/1137 [2:46:13<23:16,  4.49s/it]"
     ]
    },
    {
     "name": "stdout",
     "output_type": "stream",
     "text": [
      "Error in get citation for Contextual Augmented Global Contrast for Multimodal Intent Recognition\n"
     ]
    },
    {
     "name": "stderr",
     "output_type": "stream",
     "text": [
      " 73%|███████████████████████████▋          | 828/1137 [2:46:20<21:08,  4.10s/it]"
     ]
    },
    {
     "name": "stdout",
     "output_type": "stream",
     "text": [
      "Error in get citation for MatFuse: Controllable Material Generation with Diffusion Models\n"
     ]
    },
    {
     "name": "stderr",
     "output_type": "stream",
     "text": [
      " 76%|███████████████████████████▌        | 869/1137 [2:55:32<1:23:09, 18.62s/it]"
     ]
    },
    {
     "name": "stdout",
     "output_type": "stream",
     "text": [
      "Error in get citation for CrossMAE: Cross Modality Masked Autoencoders for Region Aware Audio Visual Pre Training\n"
     ]
    },
    {
     "name": "stderr",
     "output_type": "stream",
     "text": [
      " 79%|█████████████████████████████▉        | 894/1137 [3:02:31<27:27,  6.78s/it]"
     ]
    },
    {
     "name": "stdout",
     "output_type": "stream",
     "text": [
      "Error in get citation for Cross Dimension Affinity Distillation for 3D EM Neuron Segmentation\n"
     ]
    },
    {
     "name": "stderr",
     "output_type": "stream",
     "text": [
      " 79%|█████████████████████████████▉        | 897/1137 [3:03:41<53:16, 13.32s/it]"
     ]
    },
    {
     "name": "stdout",
     "output_type": "stream",
     "text": [
      "Error in get citation for LASO: Language guided Affordance Segmentation on 3D Object\n"
     ]
    },
    {
     "name": "stderr",
     "output_type": "stream",
     "text": [
      " 80%|████████████████████████████▋       | 905/1137 [3:08:16<2:22:36, 36.88s/it]"
     ]
    },
    {
     "name": "stdout",
     "output_type": "stream",
     "text": [
      "Error in get citation for Dispel Darkness for Better Fusion: A Controllable Visual Enhancer based on Cross modal Conditional Adversarial Learning\n"
     ]
    },
    {
     "name": "stderr",
     "output_type": "stream",
     "text": [
      " 80%|████████████████████████████▋       | 906/1137 [3:08:19<1:42:37, 26.66s/it]"
     ]
    },
    {
     "name": "stdout",
     "output_type": "stream",
     "text": [
      "Error in get citation for Querying as Prompt: Parameter Efficient Learning for Multimodal Language Model\n"
     ]
    },
    {
     "name": "stderr",
     "output_type": "stream",
     "text": [
      " 80%|████████████████████████████▊       | 910/1137 [3:09:31<1:42:24, 27.07s/it]"
     ]
    },
    {
     "name": "stdout",
     "output_type": "stream",
     "text": [
      "Error in get citation for A Physics informed Low rank Deep Neural Network for Blind and Universal Lens Aberration Correction\n"
     ]
    },
    {
     "name": "stderr",
     "output_type": "stream",
     "text": [
      " 81%|██████████████████████████████▋       | 917/1137 [3:11:56<57:53, 15.79s/it]"
     ]
    },
    {
     "name": "stdout",
     "output_type": "stream",
     "text": [
      "Error in get citation for R Cyclic Diffuser: Reductive and Cyclic Latent Diffusion for 3D Clothed Human Digitalization\n"
     ]
    },
    {
     "name": "stderr",
     "output_type": "stream",
     "text": [
      " 81%|█████████████████████████████       | 919/1137 [3:12:32<1:07:01, 18.45s/it]"
     ]
    },
    {
     "name": "stdout",
     "output_type": "stream",
     "text": [
      "Error in get citation for Rapid 3D Model Generation with Intuitive 3D Input\n"
     ]
    },
    {
     "name": "stderr",
     "output_type": "stream",
     "text": [
      " 81%|██████████████████████████████▊       | 922/1137 [3:13:22<51:30, 14.38s/it]"
     ]
    },
    {
     "name": "stdout",
     "output_type": "stream",
     "text": [
      "Error in get citation for Imagine Before Go: Self Supervised Generative Map for Object Goal Navigation\n"
     ]
    },
    {
     "name": "stderr",
     "output_type": "stream",
     "text": [
      " 82%|███████████████████████████████▏      | 933/1137 [3:15:03<49:38, 14.60s/it]"
     ]
    },
    {
     "name": "stdout",
     "output_type": "stream",
     "text": [
      "Error in get citation for Infer from What You Have Seen Before: Temporally dependent Classifier for Semi supervised Video Segmentation\n"
     ]
    },
    {
     "name": "stderr",
     "output_type": "stream",
     "text": [
      " 86%|████████████████████████████████▋     | 979/1137 [3:21:41<36:43, 13.95s/it]"
     ]
    },
    {
     "name": "stdout",
     "output_type": "stream",
     "text": [
      "Error in get citation for TurboSL: Dense Accurate and Fast 3D by Neural Inverse Structured Light\n"
     ]
    },
    {
     "name": "stderr",
     "output_type": "stream",
     "text": [
      " 87%|█████████████████████████████████     | 989/1137 [3:24:44<37:35, 15.24s/it]"
     ]
    },
    {
     "name": "stdout",
     "output_type": "stream",
     "text": [
      "Error in get citation for Instance level Expert Knowledge and Aggregate Discriminative Attention for Radiology Report Generation\n"
     ]
    },
    {
     "name": "stderr",
     "output_type": "stream",
     "text": [
      " 89%|████████████████████████████████▉    | 1011/1137 [3:30:26<29:22, 13.99s/it]"
     ]
    },
    {
     "name": "stdout",
     "output_type": "stream",
     "text": [
      "Error in get citation for G^3 LQ: Marrying Hyperbolic Alignment with Explicit Semantic Geometric Modeling for 3D Visual Grounding\n"
     ]
    },
    {
     "name": "stderr",
     "output_type": "stream",
     "text": [
      " 89%|████████████████████████████████▉    | 1012/1137 [3:30:29<22:11, 10.65s/it]"
     ]
    },
    {
     "name": "stdout",
     "output_type": "stream",
     "text": [
      "Error in get citation for Exploring Regional Clues in CLIP for Zero Shot Semantic Segmentation\n"
     ]
    },
    {
     "name": "stderr",
     "output_type": "stream",
     "text": [
      " 90%|█████████████████████████████████▏   | 1019/1137 [3:31:50<24:34, 12.49s/it]"
     ]
    },
    {
     "name": "stdout",
     "output_type": "stream",
     "text": [
      "Error in get citation for Building Vision Language Models on Solid Foundations with Masked Distillation\n"
     ]
    },
    {
     "name": "stderr",
     "output_type": "stream",
     "text": [
      " 90%|█████████████████████████████████▎   | 1023/1137 [3:32:33<18:34,  9.77s/it]"
     ]
    },
    {
     "name": "stdout",
     "output_type": "stream",
     "text": [
      "Error in get citation for Learning to Predict Activity Progress by Self Supervised Video Alignment\n"
     ]
    },
    {
     "name": "stderr",
     "output_type": "stream",
     "text": [
      " 90%|█████████████████████████████████▍   | 1027/1137 [3:34:16<33:48, 18.44s/it]"
     ]
    },
    {
     "name": "stdout",
     "output_type": "stream",
     "text": [
      "Error in get citation for OmniVec2   A Novel Transformer based Network for Large Scale Multimodal and Multitask Learning\n"
     ]
    },
    {
     "name": "stderr",
     "output_type": "stream",
     "text": [
      " 92%|██████████████████████████████████▏  | 1049/1137 [3:37:57<07:08,  4.86s/it]"
     ]
    },
    {
     "name": "stdout",
     "output_type": "stream",
     "text": [
      "Error in get citation for CaKDP: Category aware Knowledge Distillation and Pruning Framework for Lightweight 3D Object Detection\n"
     ]
    },
    {
     "name": "stderr",
     "output_type": "stream",
     "text": [
      " 93%|██████████████████████████████████▎  | 1055/1137 [3:38:15<04:18,  3.15s/it]"
     ]
    },
    {
     "name": "stdout",
     "output_type": "stream",
     "text": [
      "Error in get citation for SpiderMatch: 3D Shape Matching with Global Optimality and Geometric Consistency\n"
     ]
    },
    {
     "name": "stderr",
     "output_type": "stream",
     "text": [
      " 94%|██████████████████████████████████▊  | 1068/1137 [3:41:27<22:23, 19.48s/it]"
     ]
    },
    {
     "name": "stdout",
     "output_type": "stream",
     "text": [
      "Error in get citation for LowRankOcc: Tensor Decomposition and Low Rank Recovery for Vision based 3D Semantic Occupancy Prediction\n"
     ]
    },
    {
     "name": "stderr",
     "output_type": "stream",
     "text": [
      " 96%|███████████████████████████████████▍ | 1089/1137 [3:47:39<16:00, 20.00s/it]"
     ]
    },
    {
     "name": "stdout",
     "output_type": "stream",
     "text": [
      "Error in get citation for DeIL: Direct and Inverse CLIP for Open World Few Shot Learning\n"
     ]
    },
    {
     "name": "stderr",
     "output_type": "stream",
     "text": [
      " 97%|███████████████████████████████████▋ | 1098/1137 [3:50:09<12:51, 19.78s/it]"
     ]
    },
    {
     "name": "stdout",
     "output_type": "stream",
     "text": [
      "Error in get citation for Generate Like Experts: Multi Stage Font Generation by Incorporating Font Transfer Process into Diffusion Models\n"
     ]
    },
    {
     "name": "stderr",
     "output_type": "stream",
     "text": [
      " 97%|███████████████████████████████████▉ | 1104/1137 [3:50:27<02:50,  5.17s/it]"
     ]
    },
    {
     "name": "stdout",
     "output_type": "stream",
     "text": [
      "Error in get citation for Realigning Confidence with Temporal Saliency Information for Point Level Weakly Supervised Temporal Action Localization\n"
     ]
    },
    {
     "name": "stderr",
     "output_type": "stream",
     "text": [
      " 98%|████████████████████████████████████▎| 1115/1137 [3:54:09<07:23, 20.17s/it]"
     ]
    },
    {
     "name": "stdout",
     "output_type": "stream",
     "text": [
      "Error in get citation for CaDeT: a Causal Disentanglement Approach for Robust Trajectory Prediction in Autonomous Driving\n"
     ]
    },
    {
     "name": "stderr",
     "output_type": "stream",
     "text": [
      " 99%|████████████████████████████████████▍| 1120/1137 [3:54:27<01:54,  6.75s/it]"
     ]
    },
    {
     "name": "stdout",
     "output_type": "stream",
     "text": [
      "Error in get citation for How to Make Cross Encoder a Good Teacher for Efficient Image Text Retrieval?\n"
     ]
    },
    {
     "name": "stderr",
     "output_type": "stream",
     "text": [
      "100%|█████████████████████████████████████| 1137/1137 [3:58:24<00:00, 12.58s/it]"
     ]
    },
    {
     "name": "stdout",
     "output_type": "stream",
     "text": [
      "Saved to data/2024/6_cvpr.csv_topics.csv_emerging.xlsx\n"
     ]
    },
    {
     "name": "stderr",
     "output_type": "stream",
     "text": [
      "\n"
     ]
    }
   ],
   "source": [
    "get_conf_topics(conf_path='data/2024/6_cvpr.csv_topics.csv', topics=['3d', 'generative model', 'segmentation', 'multimodal', 'zero_few-shot', 'watermark', 'streaming', 'token', 'autonomous driving', 'entangle'])\n",
    "# get_conf_topics(conf_path='data/2024/6_cvpr.csv_topics.csv', topics=['token'])"
   ]
  },
  {
   "cell_type": "code",
   "execution_count": null,
   "id": "1d3edab5",
   "metadata": {},
   "outputs": [],
   "source": []
  }
 ],
 "metadata": {
  "kernelspec": {
   "display_name": "Python 3 (ipykernel)",
   "language": "python",
   "name": "python3"
  },
  "language_info": {
   "codemirror_mode": {
    "name": "ipython",
    "version": 3
   },
   "file_extension": ".py",
   "mimetype": "text/x-python",
   "name": "python",
   "nbconvert_exporter": "python",
   "pygments_lexer": "ipython3",
   "version": "3.7.12"
  }
 },
 "nbformat": 4,
 "nbformat_minor": 5
}
