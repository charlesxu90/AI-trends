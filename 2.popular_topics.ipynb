{
 "cells": [
  {
   "cell_type": "code",
   "execution_count": 1,
   "id": "8c4f4a1e-bd53-4d02-b947-c13a34e1f26e",
   "metadata": {},
   "outputs": [],
   "source": [
    "import pandas as pd"
   ]
  },
  {
   "cell_type": "code",
   "execution_count": 2,
   "id": "c241c943",
   "metadata": {},
   "outputs": [],
   "source": [
    "df_all = pd.read_csv('data/processed/all_topics.csv')"
   ]
  },
  {
   "attachments": {},
   "cell_type": "markdown",
   "id": "15d63550-6739-4c20-8286-51390c6baf87",
   "metadata": {
    "tags": []
   },
   "source": [
    "# Multi-modal"
   ]
  },
  {
   "cell_type": "code",
   "execution_count": 3,
   "id": "997b9056",
   "metadata": {},
   "outputs": [],
   "source": [
    "def filter_by_topic(df, topic):\n",
    "    return df[df['topic'] == topic]"
   ]
  },
  {
   "cell_type": "code",
   "execution_count": 9,
   "id": "a4aa89c3",
   "metadata": {},
   "outputs": [
    {
     "data": {
      "text/plain": [
       "45"
      ]
     },
     "execution_count": 9,
     "metadata": {},
     "output_type": "execute_result"
    }
   ],
   "source": [
    "df_multimodal = filter_by_topic(df_all, 'multimodal')\n",
    "df_multimodal.to_csv('data/topics/multimodal.csv', index=False)\n",
    "len(df_multimodal)"
   ]
  },
  {
   "attachments": {},
   "cell_type": "markdown",
   "id": "ca046299",
   "metadata": {},
   "source": [
    "# Diffusion models"
   ]
  },
  {
   "cell_type": "code",
   "execution_count": 10,
   "id": "9f2f0f54",
   "metadata": {},
   "outputs": [
    {
     "data": {
      "text/plain": [
       "36"
      ]
     },
     "execution_count": 10,
     "metadata": {},
     "output_type": "execute_result"
    }
   ],
   "source": [
    "df_diffm = filter_by_topic(df_all, 'diffusion models')\n",
    "df_diffm.to_csv('data/topics/diffm.csv', index=False)\n",
    "len(df_diffm)"
   ]
  },
  {
   "attachments": {},
   "cell_type": "markdown",
   "id": "df016eb8",
   "metadata": {},
   "source": [
    "# Graph"
   ]
  },
  {
   "cell_type": "code",
   "execution_count": 11,
   "id": "91c726ae",
   "metadata": {},
   "outputs": [
    {
     "data": {
      "text/plain": [
       "530"
      ]
     },
     "execution_count": 11,
     "metadata": {},
     "output_type": "execute_result"
    }
   ],
   "source": [
    "df_graph = filter_by_topic(df_all, 'graph')\n",
    "df_graph.to_csv('data/topics/graph.csv', index=False)\n",
    "len(df_graph)"
   ]
  },
  {
   "cell_type": "code",
   "execution_count": 2,
   "id": "ccbf44c7",
   "metadata": {},
   "outputs": [
    {
     "name": "stdout",
     "output_type": "stream",
     "text": [
      "Collecting xmltodict\n",
      "  Downloading xmltodict-0.13.0-py2.py3-none-any.whl (10.0 kB)\n",
      "Installing collected packages: xmltodict\n",
      "Successfully installed xmltodict-0.13.0\n"
     ]
    }
   ],
   "source": [
    "# ! pip install xmltodict"
   ]
  },
  {
   "cell_type": "code",
   "execution_count": 21,
   "id": "1077edc0",
   "metadata": {},
   "outputs": [],
   "source": [
    "import urllib, urllib.request\n",
    "import xmltodict\n",
    "import time\n",
    "\n",
    "def get_arxiv_id_by_title(title):\n",
    "    url = f'http://export.arxiv.org/api/query?search_query=ti:{title}&max_results=1'\n",
    "    url = url.replace(\" \", \"%20\")\n",
    "    time.sleep(4)\n",
    "    data = urllib.request.urlopen(url)\n",
    "    data = data.read().decode('utf-8')\n",
    "\n",
    "    # parse data into a list of dicts\n",
    "    data = xmltodict.parse(data)['feed']['entry']\n",
    "    arxiv_title = data['title']\n",
    "    if arxiv_title.lower() is title.lower():\n",
    "        arxiv_id = data['id'].split('/')[-1].split('v')[0]\n",
    "        return arxiv_id\n",
    "    \n",
    "    return None\n"
   ]
  },
  {
   "cell_type": "code",
   "execution_count": 44,
   "id": "b067e765",
   "metadata": {},
   "outputs": [],
   "source": [
    "# call semantic scholar API to get paper citations\n",
    "import requests\n",
    "\n",
    "def get_paper_citations(arxiv_id):\n",
    "    url = f'https://api.semanticscholar.org/v1/paper/arXiv:{arxiv_id}'\n",
    "    response = requests.get(url)\n",
    "    return response.json()['citationVelocity']"
   ]
  },
  {
   "cell_type": "code",
   "execution_count": 47,
   "id": "d0225fd1",
   "metadata": {},
   "outputs": [
    {
     "data": {
      "text/plain": [
       "458"
      ]
     },
     "execution_count": 47,
     "metadata": {},
     "output_type": "execute_result"
    }
   ],
   "source": [
    "get_paper_citations('1711.00937')['citationVelocity']"
   ]
  },
  {
   "cell_type": "code",
   "execution_count": 49,
   "id": "d62da1e1",
   "metadata": {},
   "outputs": [
    {
     "data": {
      "text/plain": [
       "633    What Makes Multi-Modal Learning Better than Si...\n",
       "Name: title, dtype: object"
      ]
     },
     "execution_count": 49,
     "metadata": {},
     "output_type": "execute_result"
    }
   ],
   "source": [
    "df_multimodal.head(1).title"
   ]
  },
  {
   "cell_type": "code",
   "execution_count": 20,
   "id": "5a187833",
   "metadata": {},
   "outputs": [],
   "source": [
    "get_arxiv_id_by_title('What Makes Multi-Modal Learning Better than Single-Modal Learning')"
   ]
  },
  {
   "cell_type": "code",
   "execution_count": null,
   "id": "7026c377",
   "metadata": {},
   "outputs": [],
   "source": [
    "# get arxiv_id by title\n",
    "# df_multimodal['arxiv_id'] = df_multimodal.title.apply(get_arxiv_id_by_title)"
   ]
  }
 ],
 "metadata": {
  "kernelspec": {
   "display_name": "Python 3 (ipykernel)",
   "language": "python",
   "name": "python3"
  },
  "language_info": {
   "codemirror_mode": {
    "name": "ipython",
    "version": 3
   },
   "file_extension": ".py",
   "mimetype": "text/x-python",
   "name": "python",
   "nbconvert_exporter": "python",
   "pygments_lexer": "ipython3",
   "version": "3.7.12"
  }
 },
 "nbformat": 4,
 "nbformat_minor": 5
}
