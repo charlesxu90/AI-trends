{
 "cells": [
  {
   "cell_type": "code",
   "execution_count": 2,
   "id": "8c4f4a1e-bd53-4d02-b947-c13a34e1f26e",
   "metadata": {},
   "outputs": [
    {
     "data": {
      "text/plain": [
       "(14323,\n",
       " Index(['title', 'year', 'source', 'authors', 'class', 'keywords', 'abstract',\n",
       "        'pdf_link', 'topic', 'google_scholar_link'],\n",
       "       dtype='object'))"
      ]
     },
     "execution_count": 2,
     "metadata": {},
     "output_type": "execute_result"
    }
   ],
   "source": [
    "import pandas as pd\n",
    "import glob\n",
    "from functools import reduce\n",
    "\n",
    "reprocess = False\n",
    "\n",
    "def read_year_df_topic(years=[2021, 2022, 2023]):\n",
    "    files = [f\"data/topics/{year}.csv\" for year in years]\n",
    "    df_list = [pd.read_csv(f) for f in files]\n",
    "    df = reduce(lambda df1, df2: df1.append(df2, ignore_index=True), df_list)\n",
    "    \n",
    "    # Add google scholar link by title\n",
    "    df['google_scholar_link'] = df['title'].apply(lambda x: 'https://scholar.google.com/scholar?q=' + x.replace(' ', '+'))\n",
    "\n",
    "    # Remove duplicates by title\n",
    "    df = df.drop_duplicates(subset=['title'])\n",
    "    return df\n",
    "\n",
    "df_all = read_year_df_topic([2021, 2022, 2023])\n",
    "df_all.to_csv('data/topics/all_topics.csv', index=False)\n",
    "len(df_all), df_all.columns"
   ]
  },
  {
   "attachments": {},
   "cell_type": "markdown",
   "id": "15d63550-6739-4c20-8286-51390c6baf87",
   "metadata": {
    "tags": []
   },
   "source": [
    "# Multi-modal"
   ]
  },
  {
   "cell_type": "code",
   "execution_count": 3,
   "id": "997b9056",
   "metadata": {},
   "outputs": [],
   "source": [
    "def filter_by_topic(df, topic):\n",
    "    return df[df['topic'] == topic]"
   ]
  },
  {
   "cell_type": "code",
   "execution_count": 4,
   "id": "a4aa89c3",
   "metadata": {},
   "outputs": [
    {
     "data": {
      "text/plain": [
       "73"
      ]
     },
     "execution_count": 4,
     "metadata": {},
     "output_type": "execute_result"
    }
   ],
   "source": [
    "df_multimodal = filter_by_topic(df_all, 'multimodal')\n",
    "df_multimodal.to_csv('data/topics/multimodal.csv', index=False)\n",
    "len(df_multimodal)"
   ]
  },
  {
   "attachments": {},
   "cell_type": "markdown",
   "id": "ca046299",
   "metadata": {},
   "source": [
    "# Diffusion models"
   ]
  },
  {
   "cell_type": "code",
   "execution_count": 5,
   "id": "9f2f0f54",
   "metadata": {},
   "outputs": [
    {
     "data": {
      "text/plain": [
       "8"
      ]
     },
     "execution_count": 5,
     "metadata": {},
     "output_type": "execute_result"
    }
   ],
   "source": [
    "df_diffm = filter_by_topic(df_all, 'diffusion models')\n",
    "df_diffm.to_csv('data/topics/diffm.csv', index=False)\n",
    "len(df_diffm)"
   ]
  },
  {
   "attachments": {},
   "cell_type": "markdown",
   "id": "0d32b2ee",
   "metadata": {},
   "source": [
    "# LLM"
   ]
  },
  {
   "cell_type": "code",
   "execution_count": 6,
   "id": "1daa121d",
   "metadata": {},
   "outputs": [
    {
     "data": {
      "text/plain": [
       "71"
      ]
     },
     "execution_count": 6,
     "metadata": {},
     "output_type": "execute_result"
    }
   ],
   "source": [
    "df_llm = filter_by_topic(df_all, 'llm')\n",
    "df_llm.to_csv('data/topics/llm.csv', index=False)\n",
    "len(df_llm)"
   ]
  },
  {
   "cell_type": "code",
   "execution_count": null,
   "id": "19163e34",
   "metadata": {},
   "outputs": [],
   "source": []
  }
 ],
 "metadata": {
  "kernelspec": {
   "display_name": "Python 3 (ipykernel)",
   "language": "python",
   "name": "python3"
  },
  "language_info": {
   "codemirror_mode": {
    "name": "ipython",
    "version": 3
   },
   "file_extension": ".py",
   "mimetype": "text/x-python",
   "name": "python",
   "nbconvert_exporter": "python",
   "pygments_lexer": "ipython3",
   "version": "3.7.12"
  }
 },
 "nbformat": 4,
 "nbformat_minor": 5
}
