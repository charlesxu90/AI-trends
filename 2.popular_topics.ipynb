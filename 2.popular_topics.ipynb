{
 "cells": [
  {
   "attachments": {},
   "cell_type": "markdown",
   "id": "84f8733e",
   "metadata": {},
   "source": [
    "# The interesting topics in this year"
   ]
  },
  {
   "cell_type": "code",
   "execution_count": 2,
   "id": "12742ee8",
   "metadata": {},
   "outputs": [],
   "source": [
    "import pandas as pd\n",
    "\n",
    "def filter_by_topic(df, topic):\n",
    "    df['google_scholar_link'] = df['title'].apply(lambda x: 'https://scholar.google.com/scholar?q=' + x.replace(' ', '+'))\n",
    "    df = df.drop_duplicates(subset=['title'])\n",
    "    return df[df['topic'].str.contains(topic, case=False, na=False)].copy()"
   ]
  },
  {
   "cell_type": "code",
   "execution_count": 3,
   "id": "81c1571f",
   "metadata": {},
   "outputs": [],
   "source": [
    "from semanticscholar import SemanticScholar\n",
    "import time\n",
    "from tqdm import tqdm\n",
    "tqdm.pandas()\n",
    "\n",
    "def get_paper_citation(title):\n",
    "    sch = SemanticScholar()\n",
    "    time.sleep(1)\n",
    "    title = title.replace('-', ' ')\n",
    "    try:\n",
    "        papers = sch.search_paper(title)\n",
    "        if len(papers) > 0:\n",
    "            return papers[0].citationCount\n",
    "    except:\n",
    "        print(f'Error in get citation for {title}')\n",
    "    \n",
    "    return 0\n",
    "    \n",
    "\n",
    "def get_topic_citations(df):\n",
    "    df['ss_citations'] = df['title'].progress_apply(get_paper_citation)\n",
    "    return df"
   ]
  },
  {
   "cell_type": "code",
   "execution_count": 4,
   "id": "997b9056",
   "metadata": {},
   "outputs": [],
   "source": [
    "def get_conf_topics(conf_path='data/2023/5_iclr.csv_topics.csv', topic='multimodal'):\n",
    "    df_conf = pd.read_csv(conf_path)\n",
    "    df_conf_topic = filter_by_topic(df_conf, topic=topic)\n",
    "    print(len(df_conf_topic), len(df_conf))\n",
    "    df_conf_topic = get_topic_citations(df_conf_topic)\n",
    "    return df_conf_topic[['title','year','source','ss_citations','google_scholar_link']]"
   ]
  },
  {
   "cell_type": "code",
   "execution_count": 5,
   "id": "55ddcb74",
   "metadata": {},
   "outputs": [],
   "source": [
    "def get_conf_topics_all(conf_path='data/2023/5_iclr.csv_topics.csv', topics=['multimodal']):\n",
    "    df_conf = pd.read_csv(conf_path)\n",
    "\n",
    "    save_path = conf_path + '_emerging.xlsx'\n",
    "    writer = pd.ExcelWriter(save_path, engine=\"xlsxwriter\")\n",
    "\n",
    "    for topic in topics:\n",
    "        print(f\"topic {topic}\")\n",
    "        df_conf_topic = get_conf_topics(conf_path, topic)\n",
    "        df_conf_topic.to_excel(writer, sheet_name=topic, index=False)\n",
    "    writer.close()\n",
    "    print(f'Saved to {save_path}')"
   ]
  },
  {
   "attachments": {},
   "cell_type": "markdown",
   "id": "15d63550-6739-4c20-8286-51390c6baf87",
   "metadata": {
    "tags": []
   },
   "source": [
    "## 2023, ICLR, May"
   ]
  },
  {
   "cell_type": "code",
   "execution_count": 6,
   "id": "a4aa89c3",
   "metadata": {},
   "outputs": [],
   "source": [
    "# get_conf_topics_all(conf_path='data/2023/5_iclr.csv_topics.csv', topics=['multimodal', 'diffusion models', 'llm', 'self-supervision'])"
   ]
  },
  {
   "attachments": {},
   "cell_type": "markdown",
   "id": "3047ece0",
   "metadata": {},
   "source": [
    "## 2023, CVPR, June"
   ]
  },
  {
   "cell_type": "code",
   "execution_count": 7,
   "id": "b6edc0ff",
   "metadata": {},
   "outputs": [],
   "source": [
    "# get_conf_topics_all(conf_path='data/2023/6_cvpr.csv_topics.csv', topics=['3d', 'zero_few-shot', 'transformer', 'segmentation', 'multimodal', \n",
    "#                                                                          'imitation learning', 'radiance field', 'motion', 'diffusion models', 'multi-agent'])"
   ]
  },
  {
   "attachments": {},
   "cell_type": "markdown",
   "id": "1ffb325a",
   "metadata": {},
   "source": [
    "## 2023, ICML, July"
   ]
  },
  {
   "cell_type": "code",
   "execution_count": 8,
   "id": "4bf2d176",
   "metadata": {},
   "outputs": [
    {
     "name": "stdout",
     "output_type": "stream",
     "text": [
      "topic zero_few-shot\n",
      "744 1866\n"
     ]
    },
    {
     "name": "stderr",
     "output_type": "stream",
     "text": [
      "  0%|          | 3/744 [00:03<16:35,  1.34s/it]"
     ]
    },
    {
     "name": "stdout",
     "output_type": "stream",
     "text": [
      "Error in get citation for H Likelihood Approach to Deep Neural Networks  with Temporal Spatial Random Effects for High Cardinality Categorical Features\n"
     ]
    },
    {
     "name": "stderr",
     "output_type": "stream",
     "text": [
      "  1%|          | 9/744 [00:47<2:21:02, 11.51s/it]"
     ]
    },
    {
     "name": "stdout",
     "output_type": "stream",
     "text": [
      "Error in get citation for Analysis of Error Feedback in Federated Non Convex Optimization with Biased Compression: Fast Convergence and Partial Participation\n"
     ]
    },
    {
     "name": "stderr",
     "output_type": "stream",
     "text": [
      "  2%|▏         | 12/744 [01:23<2:55:17, 14.37s/it]"
     ]
    },
    {
     "name": "stdout",
     "output_type": "stream",
     "text": [
      "Error in get citation for Deja Vu: Contextual Sparsity for Efficient LLMs at Inference Time\n"
     ]
    },
    {
     "name": "stderr",
     "output_type": "stream",
     "text": [
      "  7%|▋         | 55/744 [05:14<1:40:02,  8.71s/it]"
     ]
    },
    {
     "name": "stdout",
     "output_type": "stream",
     "text": [
      "Error in get citation for Marginalization is not Marginal: No Bad VAE Local Minima when Learning Optimal Sparse Representations\n"
     ]
    },
    {
     "name": "stderr",
     "output_type": "stream",
     "text": [
      " 11%|█▏        | 85/744 [08:30<29:01,  2.64s/it]  "
     ]
    },
    {
     "name": "stdout",
     "output_type": "stream",
     "text": [
      "Error in get citation for Multi Layer Neural Networks as Trainable Ladders of Hilbert Spaces\n"
     ]
    },
    {
     "name": "stderr",
     "output_type": "stream",
     "text": [
      " 13%|█▎        | 96/744 [09:28<1:37:43,  9.05s/it]"
     ]
    },
    {
     "name": "stdout",
     "output_type": "stream",
     "text": [
      "Error in get citation for PPG Reloaded: An Empirical Study on What Matters in Phasic Policy Gradient\n"
     ]
    },
    {
     "name": "stderr",
     "output_type": "stream",
     "text": [
      " 13%|█▎        | 98/744 [09:32<58:14,  5.41s/it]  "
     ]
    },
    {
     "name": "stdout",
     "output_type": "stream",
     "text": [
      "Error in get citation for Distortion and Uncertainty Aware Loss for Panoramic Depth Completion\n"
     ]
    },
    {
     "name": "stderr",
     "output_type": "stream",
     "text": [
      " 13%|█▎        | 99/744 [09:33<46:53,  4.36s/it]"
     ]
    },
    {
     "name": "stdout",
     "output_type": "stream",
     "text": [
      "Error in get citation for Variational Curriculum Reinforcement Learning for Unsupervised Discovery of Skills\n"
     ]
    },
    {
     "name": "stderr",
     "output_type": "stream",
     "text": [
      " 15%|█▌        | 114/744 [10:09<24:45,  2.36s/it]"
     ]
    },
    {
     "name": "stdout",
     "output_type": "stream",
     "text": [
      "Error in get citation for The Computational Complexity of Concise Hypersphere Classification\n"
     ]
    },
    {
     "name": "stderr",
     "output_type": "stream",
     "text": [
      " 25%|██▍       | 185/744 [14:53<20:20,  2.18s/it]  "
     ]
    },
    {
     "name": "stdout",
     "output_type": "stream",
     "text": [
      "Error in get citation for The Role of Entropy and Reconstruction in Multi View Self Supervised Learning\n"
     ]
    },
    {
     "name": "stderr",
     "output_type": "stream",
     "text": [
      " 25%|██▌       | 186/744 [14:55<19:32,  2.10s/it]"
     ]
    },
    {
     "name": "stdout",
     "output_type": "stream",
     "text": [
      "Error in get citation for A Connection between One Step RL and Critic Regularization in Reinforcement Learning\n"
     ]
    },
    {
     "name": "stderr",
     "output_type": "stream",
     "text": [
      " 25%|██▌       | 188/744 [14:59<18:47,  2.03s/it]"
     ]
    },
    {
     "name": "stdout",
     "output_type": "stream",
     "text": [
      "Error in get citation for LipsNet: A Smooth and Robust Neural Network with Adaptive Lipschitz Constant for High Accuracy Optimal Control\n"
     ]
    },
    {
     "name": "stderr",
     "output_type": "stream",
     "text": [
      " 29%|██▊       | 213/744 [15:54<18:48,  2.13s/it]"
     ]
    },
    {
     "name": "stdout",
     "output_type": "stream",
     "text": [
      "Error in get citation for SE(3) diffusion model with application to protein backbone generation\n"
     ]
    },
    {
     "name": "stderr",
     "output_type": "stream",
     "text": [
      " 34%|███▍      | 255/744 [17:32<16:23,  2.01s/it]"
     ]
    },
    {
     "name": "stdout",
     "output_type": "stream",
     "text": [
      "Error in get citation for NTK approximating MLP Fusion for Efficient Language Model Fine tuning\n"
     ]
    },
    {
     "name": "stderr",
     "output_type": "stream",
     "text": [
      " 35%|███▍      | 260/744 [17:43<16:48,  2.08s/it]"
     ]
    },
    {
     "name": "stdout",
     "output_type": "stream",
     "text": [
      "Error in get citation for Drug Discovery under Covariate Shift with Domain Informed Prior Distributions over Functions\n"
     ]
    },
    {
     "name": "stderr",
     "output_type": "stream",
     "text": [
      " 36%|███▌      | 266/744 [17:56<17:30,  2.20s/it]"
     ]
    },
    {
     "name": "stdout",
     "output_type": "stream",
     "text": [
      "Error in get citation for LookupFFN: Making Transformers Compute lite for CPU inference\n"
     ]
    },
    {
     "name": "stderr",
     "output_type": "stream",
     "text": [
      " 36%|███▋      | 271/744 [18:07<17:30,  2.22s/it]"
     ]
    },
    {
     "name": "stdout",
     "output_type": "stream",
     "text": [
      "Error in get citation for SurProGenes: Survival Risk Ordered Representation of Cancer Patients and Genes for the Identification of Prognostic Genes\n"
     ]
    },
    {
     "name": "stderr",
     "output_type": "stream",
     "text": [
      " 38%|███▊      | 281/744 [18:28<17:06,  2.22s/it]"
     ]
    },
    {
     "name": "stdout",
     "output_type": "stream",
     "text": [
      "Error in get citation for Enabling First Order Gradient Based Learning for Equilibrium Computation in Markets\n"
     ]
    },
    {
     "name": "stderr",
     "output_type": "stream",
     "text": [
      " 38%|███▊      | 282/744 [18:29<15:42,  2.04s/it]"
     ]
    },
    {
     "name": "stdout",
     "output_type": "stream",
     "text": [
      "Error in get citation for SpeedDETR: Speed aware Transformers for End to end Object Detection\n"
     ]
    },
    {
     "name": "stderr",
     "output_type": "stream",
     "text": [
      " 39%|███▉      | 290/744 [18:47<16:00,  2.11s/it]"
     ]
    },
    {
     "name": "stdout",
     "output_type": "stream",
     "text": [
      "Error in get citation for No One Idles: Efficient Heterogeneous Federated Learning with Parallel Edge and Server Computation\n"
     ]
    },
    {
     "name": "stderr",
     "output_type": "stream",
     "text": [
      " 40%|███▉      | 295/744 [18:59<16:45,  2.24s/it]"
     ]
    },
    {
     "name": "stdout",
     "output_type": "stream",
     "text": [
      "Error in get citation for Optimal Arms Identification with Knapsacks\n"
     ]
    },
    {
     "name": "stderr",
     "output_type": "stream",
     "text": [
      " 44%|████▍     | 326/744 [20:03<13:52,  1.99s/it]"
     ]
    },
    {
     "name": "stdout",
     "output_type": "stream",
     "text": [
      "Error in get citation for Lowering the Pre training Tax for Gradient based Subset Training: A Lightweight Distributed Pre Training Toolkit\n"
     ]
    },
    {
     "name": "stderr",
     "output_type": "stream",
     "text": [
      " 44%|████▍     | 328/744 [20:07<13:43,  1.98s/it]"
     ]
    },
    {
     "name": "stdout",
     "output_type": "stream",
     "text": [
      "Error in get citation for Gradient Descent Finds the Global Optima of Two Layer Physics Informed Neural Networks\n"
     ]
    },
    {
     "name": "stderr",
     "output_type": "stream",
     "text": [
      " 46%|████▌     | 339/744 [20:34<14:45,  2.19s/it]"
     ]
    },
    {
     "name": "stdout",
     "output_type": "stream",
     "text": [
      "Error in get citation for All in a Row: Compressed Convolution Networks for Graphs\n"
     ]
    },
    {
     "name": "stderr",
     "output_type": "stream",
     "text": [
      " 46%|████▌     | 343/744 [21:13<1:16:23, 11.43s/it]"
     ]
    },
    {
     "name": "stdout",
     "output_type": "stream",
     "text": [
      "Error in get citation for SDDM: Score Decomposed Diffusion Models on Manifolds for Unpaired Image to Image Translation\n"
     ]
    },
    {
     "name": "stderr",
     "output_type": "stream",
     "text": [
      " 48%|████▊     | 355/744 [21:40<15:16,  2.36s/it]  "
     ]
    },
    {
     "name": "stdout",
     "output_type": "stream",
     "text": [
      "Error in get citation for Bandits Meet Mechanism Design to Combat Clickbait in Online Recommendation\n"
     ]
    },
    {
     "name": "stderr",
     "output_type": "stream",
     "text": [
      " 48%|████▊     | 356/744 [22:13<1:13:07, 11.31s/it]"
     ]
    },
    {
     "name": "stdout",
     "output_type": "stream",
     "text": [
      "Error in get citation for A Generative Model for Text Control in Minecraft\n"
     ]
    },
    {
     "name": "stderr",
     "output_type": "stream",
     "text": [
      " 48%|████▊     | 358/744 [22:17<42:08,  6.55s/it]  "
     ]
    },
    {
     "name": "stdout",
     "output_type": "stream",
     "text": [
      "Error in get citation for Principal Driven Reward Design and Agent Policy Alignment via Bilevel RL\n"
     ]
    },
    {
     "name": "stderr",
     "output_type": "stream",
     "text": [
      " 49%|████▊     | 361/744 [22:53<1:04:06, 10.04s/it]"
     ]
    },
    {
     "name": "stdout",
     "output_type": "stream",
     "text": [
      "Error in get citation for Complementing a Policy with a Different Observation Space\n"
     ]
    },
    {
     "name": "stderr",
     "output_type": "stream",
     "text": [
      " 49%|████▉     | 364/744 [23:32<1:13:01, 11.53s/it]"
     ]
    },
    {
     "name": "stdout",
     "output_type": "stream",
     "text": [
      "Error in get citation for Discovering User Types: Characterization of User Traits by Task Specific Behaviors in Reinforcement Learning\n"
     ]
    },
    {
     "name": "stderr",
     "output_type": "stream",
     "text": [
      " 51%|█████▏    | 382/744 [24:47<41:40,  6.91s/it]  "
     ]
    },
    {
     "name": "stdout",
     "output_type": "stream",
     "text": [
      "Error in get citation for Towards Learning Geometric Eigen Lengths Crucial for Fitting Tasks\n"
     ]
    },
    {
     "name": "stderr",
     "output_type": "stream",
     "text": [
      " 52%|█████▏    | 384/744 [24:50<25:45,  4.29s/it]"
     ]
    },
    {
     "name": "stdout",
     "output_type": "stream",
     "text": [
      "Error in get citation for Beyond the Edge of Stability via Two step Gradient Updates\n"
     ]
    },
    {
     "name": "stderr",
     "output_type": "stream",
     "text": [
      " 53%|█████▎    | 396/744 [25:50<17:21,  2.99s/it]  "
     ]
    },
    {
     "name": "stdout",
     "output_type": "stream",
     "text": [
      "Error in get citation for IRNeXt: Rethinking Convolutional Network Design for Image Restoration\n"
     ]
    },
    {
     "name": "stderr",
     "output_type": "stream",
     "text": [
      " 55%|█████▍    | 409/744 [26:25<14:33,  2.61s/it]"
     ]
    },
    {
     "name": "stdout",
     "output_type": "stream",
     "text": [
      "Error in get citation for Adaptive IMLE for Few shot Pretraining free Generative Modelling\n"
     ]
    },
    {
     "name": "stderr",
     "output_type": "stream",
     "text": [
      " 55%|█████▌    | 412/744 [26:31<12:48,  2.31s/it]"
     ]
    },
    {
     "name": "stdout",
     "output_type": "stream",
     "text": [
      "Error in get citation for Fast Federated Machine Unlearning with Nonlinear Functional Theory\n"
     ]
    },
    {
     "name": "stderr",
     "output_type": "stream",
     "text": [
      " 57%|█████▋    | 424/744 [27:25<13:24,  2.51s/it]  "
     ]
    },
    {
     "name": "stdout",
     "output_type": "stream",
     "text": [
      "Error in get citation for Cooperation in the Latent Space: The Benefits of Adding Mixture Components in Variational Autoencoders\n"
     ]
    },
    {
     "name": "stderr",
     "output_type": "stream",
     "text": [
      " 57%|█████▋    | 425/744 [27:27<12:22,  2.33s/it]"
     ]
    },
    {
     "name": "stdout",
     "output_type": "stream",
     "text": [
      "Error in get citation for Towards Understanding and Reducing Graph Structural Noise for GNNs\n"
     ]
    },
    {
     "name": "stderr",
     "output_type": "stream",
     "text": [
      " 58%|█████▊    | 430/744 [28:08<34:14,  6.54s/it]  "
     ]
    },
    {
     "name": "stdout",
     "output_type": "stream",
     "text": [
      "Error in get citation for A Robust Test for the Stationarity Assumption in Sequential Decision Making\n"
     ]
    },
    {
     "name": "stderr",
     "output_type": "stream",
     "text": [
      " 58%|█████▊    | 435/744 [28:19<14:12,  2.76s/it]"
     ]
    },
    {
     "name": "stdout",
     "output_type": "stream",
     "text": [
      "Error in get citation for One shot Imitation in a Non Stationary Environment via Multi Modal Skill\n"
     ]
    },
    {
     "name": "stderr",
     "output_type": "stream",
     "text": [
      " 59%|█████▊    | 436/744 [28:20<12:42,  2.47s/it]"
     ]
    },
    {
     "name": "stdout",
     "output_type": "stream",
     "text": [
      "Error in get citation for Hypervolume Knowledge Gradient: A Lookahead Approach for Multi Objective Bayesian Optimization with Partial Information\n"
     ]
    },
    {
     "name": "stderr",
     "output_type": "stream",
     "text": [
      " 60%|█████▉    | 445/744 [29:11<32:49,  6.59s/it]"
     ]
    },
    {
     "name": "stdout",
     "output_type": "stream",
     "text": [
      "Error in get citation for Low Complexity Homeomorphic Projection to Ensure Neural Network Solution Feasibility for Optimization over (Non )Convex Set\n"
     ]
    },
    {
     "name": "stderr",
     "output_type": "stream",
     "text": [
      " 61%|██████    | 454/744 [30:33<31:10,  6.45s/it]  "
     ]
    },
    {
     "name": "stdout",
     "output_type": "stream",
     "text": [
      "Error in get citation for SMURF THP: Score Matching based UnceRtainty quantiFication for Transformer Hawkes Process\n"
     ]
    },
    {
     "name": "stderr",
     "output_type": "stream",
     "text": [
      " 66%|██████▌   | 491/744 [32:58<12:54,  3.06s/it]"
     ]
    },
    {
     "name": "stdout",
     "output_type": "stream",
     "text": [
      "Error in get citation for Properties of the Mallows Model Depending on the Number of Alternatives: A Warning for an Experimentalist\n"
     ]
    },
    {
     "name": "stderr",
     "output_type": "stream",
     "text": [
      " 66%|██████▋   | 494/744 [33:04<09:45,  2.34s/it]"
     ]
    },
    {
     "name": "stdout",
     "output_type": "stream",
     "text": [
      "Error in get citation for Horizon free Learning for Markov Decision Processes and Games: Stochastically Bounded Rewards and Improved Bounds\n"
     ]
    },
    {
     "name": "stderr",
     "output_type": "stream",
     "text": [
      " 67%|██████▋   | 502/744 [33:57<19:12,  4.76s/it]"
     ]
    },
    {
     "name": "stdout",
     "output_type": "stream",
     "text": [
      "Error in get citation for RACE: Improve Multi Agent Reinforcement Learning with Representation Asymmetry and Collaborative Evolution\n"
     ]
    },
    {
     "name": "stderr",
     "output_type": "stream",
     "text": [
      " 69%|██████▉   | 515/744 [35:00<24:46,  6.49s/it]"
     ]
    },
    {
     "name": "stdout",
     "output_type": "stream",
     "text": [
      "Error in get citation for Identification of the Adversary from a Single Adversarial Example\n"
     ]
    },
    {
     "name": "stderr",
     "output_type": "stream",
     "text": [
      " 72%|███████▏  | 534/744 [36:12<15:00,  4.29s/it]"
     ]
    },
    {
     "name": "stdout",
     "output_type": "stream",
     "text": [
      "Error in get citation for Emergence of Adaptive Circadian Rhythms in Deep Reinforcement Learning\n"
     ]
    },
    {
     "name": "stderr",
     "output_type": "stream",
     "text": [
      " 72%|███████▏  | 535/744 [36:14<12:28,  3.58s/it]"
     ]
    },
    {
     "name": "stdout",
     "output_type": "stream",
     "text": [
      "Error in get citation for Half Hop: A graph upsampling approach for slowing down message passing\n"
     ]
    },
    {
     "name": "stderr",
     "output_type": "stream",
     "text": [
      " 73%|███████▎  | 540/744 [36:25<08:12,  2.42s/it]"
     ]
    },
    {
     "name": "stdout",
     "output_type": "stream",
     "text": [
      "Error in get citation for Nearly Optimal Competitive Ratio for Online Allocation Problems with Two sided Resource Constraints and Finite Requests\n"
     ]
    },
    {
     "name": "stderr",
     "output_type": "stream",
     "text": [
      " 73%|███████▎  | 544/744 [37:36<1:08:58, 20.69s/it]"
     ]
    },
    {
     "name": "stdout",
     "output_type": "stream",
     "text": [
      "Error in get citation for Random Matrix Analysis to Balance between Supervised and Unsupervised Learning under the Low Density Separation Assumption\n"
     ]
    },
    {
     "name": "stderr",
     "output_type": "stream",
     "text": [
      " 77%|███████▋  | 574/744 [40:18<45:54, 16.20s/it]  "
     ]
    },
    {
     "name": "stdout",
     "output_type": "stream",
     "text": [
      "Error in get citation for A Kernelized Stein Discrepancy for Biological Sequences\n"
     ]
    },
    {
     "name": "stderr",
     "output_type": "stream",
     "text": [
      " 78%|███████▊  | 577/744 [42:01<59:23, 21.34s/it]  "
     ]
    },
    {
     "name": "stdout",
     "output_type": "stream",
     "text": [
      "Error in get citation for Discover Then Rank Unlabeled Support Vectors in the Dual Space for Multi Class Active Learning\n"
     ]
    },
    {
     "name": "stderr",
     "output_type": "stream",
     "text": [
      " 78%|███████▊  | 582/744 [43:46<1:14:50, 27.72s/it]"
     ]
    },
    {
     "name": "stdout",
     "output_type": "stream",
     "text": [
      "Error in get citation for Speeding Up Bellman Ford via Minimum Violation Permutations\n"
     ]
    },
    {
     "name": "stderr",
     "output_type": "stream",
     "text": [
      " 79%|███████▉  | 587/744 [45:32<59:13, 22.63s/it]  "
     ]
    },
    {
     "name": "stdout",
     "output_type": "stream",
     "text": [
      "Error in get citation for Team Belief DAG: Generalizing the Sequence Form to Team Games for Fast Computation of Correlated Team Max Min Equilibria via Regret Minimization\n"
     ]
    },
    {
     "name": "stderr",
     "output_type": "stream",
     "text": [
      " 81%|████████  | 601/744 [47:35<06:37,  2.78s/it]  "
     ]
    },
    {
     "name": "stdout",
     "output_type": "stream",
     "text": [
      "Error in get citation for Nested Elimination: A Simple Algorithm for Best Item Identification From Choice Based Feedback\n"
     ]
    },
    {
     "name": "stderr",
     "output_type": "stream",
     "text": [
      " 81%|████████  | 602/744 [47:37<05:56,  2.51s/it]"
     ]
    },
    {
     "name": "stdout",
     "output_type": "stream",
     "text": [
      "Error in get citation for A Scalable Frank Wolfe Based Algorithm for the Max Cut SDP\n"
     ]
    },
    {
     "name": "stderr",
     "output_type": "stream",
     "text": [
      " 82%|████████▏ | 608/744 [48:22<15:21,  6.78s/it]"
     ]
    },
    {
     "name": "stdout",
     "output_type": "stream",
     "text": [
      "Error in get citation for CataBEEM: Integrating Latent Interaction Categories in Node wise Community Detection Models for Network Data\n"
     ]
    },
    {
     "name": "stderr",
     "output_type": "stream",
     "text": [
      " 83%|████████▎ | 621/744 [49:19<13:30,  6.59s/it]"
     ]
    },
    {
     "name": "stdout",
     "output_type": "stream",
     "text": [
      "Error in get citation for FedAvg Converges to Zero Training Loss Linearly for Overparameterized Multi Layer Neural Networks\n"
     ]
    },
    {
     "name": "stderr",
     "output_type": "stream",
     "text": [
      " 84%|████████▎ | 622/744 [49:20<10:28,  5.15s/it]"
     ]
    },
    {
     "name": "stdout",
     "output_type": "stream",
     "text": [
      "Error in get citation for LeadFL: Client Self Defense against Model Poisoning in Federated Learning\n"
     ]
    },
    {
     "name": "stderr",
     "output_type": "stream",
     "text": [
      " 84%|████████▍ | 628/744 [49:32<04:21,  2.25s/it]"
     ]
    },
    {
     "name": "stdout",
     "output_type": "stream",
     "text": [
      "Error in get citation for A Mathematical Model for Curriculum Learning for Parities\n"
     ]
    },
    {
     "name": "stderr",
     "output_type": "stream",
     "text": [
      " 87%|████████▋ | 647/744 [52:18<35:22, 21.88s/it]"
     ]
    },
    {
     "name": "stdout",
     "output_type": "stream",
     "text": [
      "Error in get citation for Bandits with Knapsacks: Advice on Time Varying Demands\n"
     ]
    },
    {
     "name": "stderr",
     "output_type": "stream",
     "text": [
      " 88%|████████▊ | 653/744 [53:03<11:35,  7.64s/it]"
     ]
    },
    {
     "name": "stdout",
     "output_type": "stream",
     "text": [
      "Error in get citation for Learning to Initiate and Reason in Event Driven Cascading Processes\n"
     ]
    },
    {
     "name": "stderr",
     "output_type": "stream",
     "text": [
      " 90%|████████▉ | 666/744 [55:38<09:34,  7.37s/it]"
     ]
    },
    {
     "name": "stdout",
     "output_type": "stream",
     "text": [
      "Error in get citation for SpENCNN: Orchestrating Encoding and Sparsity for Fast Homomorphically Encrypted Neural Network Inference\n"
     ]
    },
    {
     "name": "stderr",
     "output_type": "stream",
     "text": [
      " 90%|████████▉ | 668/744 [55:42<05:49,  4.59s/it]"
     ]
    },
    {
     "name": "stdout",
     "output_type": "stream",
     "text": [
      "Error in get citation for Neural Latent Aligner: Cross trial Alignment for Learning Representations of Complex, Naturalistic Neural Data\n"
     ]
    },
    {
     "name": "stderr",
     "output_type": "stream",
     "text": [
      " 90%|█████████ | 670/744 [56:17<15:35, 12.64s/it]"
     ]
    },
    {
     "name": "stdout",
     "output_type": "stream",
     "text": [
      "Error in get citation for Stochastic Gradient Succeeds for Bandits\n"
     ]
    },
    {
     "name": "stderr",
     "output_type": "stream",
     "text": [
      " 90%|█████████ | 673/744 [57:24<17:08, 14.48s/it]"
     ]
    },
    {
     "name": "stdout",
     "output_type": "stream",
     "text": [
      "Error in get citation for Tighter Analysis for ProxSkip\n"
     ]
    },
    {
     "name": "stderr",
     "output_type": "stream",
     "text": [
      " 94%|█████████▎| 696/744 [59:22<02:02,  2.55s/it]"
     ]
    },
    {
     "name": "stdout",
     "output_type": "stream",
     "text": [
      "Error in get citation for Difference in Differences Meets Tree based Methods: Heterogeneous Treatment Effects Estimation with Unmeasured Confounding\n"
     ]
    },
    {
     "name": "stderr",
     "output_type": "stream",
     "text": [
      " 98%|█████████▊| 730/744 [1:03:51<04:22, 18.72s/it]"
     ]
    },
    {
     "name": "stdout",
     "output_type": "stream",
     "text": [
      "Error in get citation for Prometheus: Taming Sample and Communication Complexities in Constrained Decentralized Stochastic Bilevel Learning\n"
     ]
    },
    {
     "name": "stderr",
     "output_type": "stream",
     "text": [
      "100%|██████████| 744/744 [1:05:32<00:00,  5.29s/it]\n"
     ]
    },
    {
     "name": "stdout",
     "output_type": "stream",
     "text": [
      "topic graph\n",
      "714 1866\n"
     ]
    },
    {
     "name": "stderr",
     "output_type": "stream",
     "text": [
      "  2%|▏         | 12/714 [02:00<2:40:52, 13.75s/it]"
     ]
    },
    {
     "name": "stdout",
     "output_type": "stream",
     "text": [
      "Error in get citation for Deja Vu: Contextual Sparsity for Efficient LLMs at Inference Time\n"
     ]
    },
    {
     "name": "stderr",
     "output_type": "stream",
     "text": [
      "  7%|▋         | 50/714 [05:10<29:24,  2.66s/it]  "
     ]
    },
    {
     "name": "stdout",
     "output_type": "stream",
     "text": [
      "Error in get citation for Marginalization is not Marginal: No Bad VAE Local Minima when Learning Optimal Sparse Representations\n"
     ]
    },
    {
     "name": "stderr",
     "output_type": "stream",
     "text": [
      " 10%|█         | 73/714 [07:39<31:21,  2.94s/it]  "
     ]
    },
    {
     "name": "stdout",
     "output_type": "stream",
     "text": [
      "Error in get citation for Multi Layer Neural Networks as Trainable Ladders of Hilbert Spaces\n"
     ]
    },
    {
     "name": "stderr",
     "output_type": "stream",
     "text": [
      " 11%|█▏        | 82/714 [09:00<1:22:42,  7.85s/it]"
     ]
    },
    {
     "name": "stdout",
     "output_type": "stream",
     "text": [
      "Error in get citation for PPG Reloaded: An Empirical Study on What Matters in Phasic Policy Gradient\n"
     ]
    },
    {
     "name": "stderr",
     "output_type": "stream",
     "text": [
      " 12%|█▏        | 84/714 [09:04<50:37,  4.82s/it]  "
     ]
    },
    {
     "name": "stdout",
     "output_type": "stream",
     "text": [
      "Error in get citation for Distortion and Uncertainty Aware Loss for Panoramic Depth Completion\n"
     ]
    },
    {
     "name": "stderr",
     "output_type": "stream",
     "text": [
      " 12%|█▏        | 85/714 [09:06<41:16,  3.94s/it]"
     ]
    },
    {
     "name": "stdout",
     "output_type": "stream",
     "text": [
      "Error in get citation for Variational Curriculum Reinforcement Learning for Unsupervised Discovery of Skills\n"
     ]
    },
    {
     "name": "stderr",
     "output_type": "stream",
     "text": [
      " 13%|█▎        | 90/714 [09:48<58:39,  5.64s/it]  "
     ]
    },
    {
     "name": "stdout",
     "output_type": "stream",
     "text": [
      "Error in get citation for Implicit Graph Neural Networks: A Monotone Operator Viewpoint\n"
     ]
    },
    {
     "name": "stderr",
     "output_type": "stream",
     "text": [
      " 17%|█▋        | 121/714 [13:33<1:06:17,  6.71s/it]"
     ]
    },
    {
     "name": "stdout",
     "output_type": "stream",
     "text": [
      "Error in get citation for Feature Directions Matter: Long Tailed Learning via Rotated Balanced Representation\n"
     ]
    },
    {
     "name": "stderr",
     "output_type": "stream",
     "text": [
      " 19%|█▉        | 138/714 [14:44<40:42,  4.24s/it]  "
     ]
    },
    {
     "name": "stdout",
     "output_type": "stream",
     "text": [
      "Error in get citation for A Generalization of ViT/MLP Mixer to Graphs\n"
     ]
    },
    {
     "name": "stderr",
     "output_type": "stream",
     "text": [
      " 21%|██        | 149/714 [15:43<40:32,  4.31s/it]  "
     ]
    },
    {
     "name": "stdout",
     "output_type": "stream",
     "text": [
      "Error in get citation for NeuralSlice: Neural 3D Triangle Mesh Reconstruction via Slicing 4D Tetrahedral Meshes\n"
     ]
    },
    {
     "name": "stderr",
     "output_type": "stream",
     "text": [
      " 21%|██▏       | 153/714 [15:54<26:27,  2.83s/it]"
     ]
    },
    {
     "name": "stdout",
     "output_type": "stream",
     "text": [
      "Error in get citation for A Critical Revisit of Adversarial Robustness in 3D Point Cloud Recognition with Diffusion Driven Purification\n"
     ]
    },
    {
     "name": "stderr",
     "output_type": "stream",
     "text": [
      " 23%|██▎       | 167/714 [16:58<27:42,  3.04s/it]  "
     ]
    },
    {
     "name": "stdout",
     "output_type": "stream",
     "text": [
      "Error in get citation for COLA: Orchestrating Error Coding and Learning for Robust Neural Network Inference Against Hardware Defects\n"
     ]
    },
    {
     "name": "stderr",
     "output_type": "stream",
     "text": [
      " 28%|██▊       | 198/714 [20:10<32:45,  3.81s/it]  "
     ]
    },
    {
     "name": "stdout",
     "output_type": "stream",
     "text": [
      "Error in get citation for SE(3) diffusion model with application to protein backbone generation\n"
     ]
    },
    {
     "name": "stderr",
     "output_type": "stream",
     "text": [
      " 33%|███▎      | 237/714 [25:51<18:27,  2.32s/it]  "
     ]
    },
    {
     "name": "stdout",
     "output_type": "stream",
     "text": [
      "Error in get citation for NTK approximating MLP Fusion for Efficient Language Model Fine tuning\n"
     ]
    },
    {
     "name": "stderr",
     "output_type": "stream",
     "text": [
      " 33%|███▎      | 238/714 [25:53<17:23,  2.19s/it]"
     ]
    },
    {
     "name": "stdout",
     "output_type": "stream",
     "text": [
      "Error in get citation for MetricGAN OKD: Multi Metric Optimization of MetricGAN via Online Knowledge Distillation for Speech Enhancement\n"
     ]
    },
    {
     "name": "stderr",
     "output_type": "stream",
     "text": [
      " 34%|███▎      | 240/714 [25:58<18:15,  2.31s/it]"
     ]
    },
    {
     "name": "stdout",
     "output_type": "stream",
     "text": [
      "Error in get citation for Drug Discovery under Covariate Shift with Domain Informed Prior Distributions over Functions\n"
     ]
    },
    {
     "name": "stderr",
     "output_type": "stream",
     "text": [
      " 34%|███▍      | 245/714 [26:39<1:07:15,  8.60s/it]"
     ]
    },
    {
     "name": "stdout",
     "output_type": "stream",
     "text": [
      "Error in get citation for LookupFFN: Making Transformers Compute lite for CPU inference\n"
     ]
    },
    {
     "name": "stderr",
     "output_type": "stream",
     "text": [
      " 37%|███▋      | 264/714 [28:23<20:17,  2.71s/it]  "
     ]
    },
    {
     "name": "stdout",
     "output_type": "stream",
     "text": [
      "Error in get citation for No One Idles: Efficient Heterogeneous Federated Learning with Parallel Edge and Server Computation\n"
     ]
    },
    {
     "name": "stderr",
     "output_type": "stream",
     "text": [
      " 37%|███▋      | 266/714 [28:27<17:33,  2.35s/it]"
     ]
    },
    {
     "name": "stdout",
     "output_type": "stream",
     "text": [
      "Error in get citation for Understanding Backdoor Attacks through the Adaptability Hypothesis\n"
     ]
    },
    {
     "name": "stderr",
     "output_type": "stream",
     "text": [
      " 38%|███▊      | 270/714 [29:07<48:59,  6.62s/it]  "
     ]
    },
    {
     "name": "stdout",
     "output_type": "stream",
     "text": [
      "Error in get citation for Learning to Boost Training by Periodic Nowcasting Near Future Weights\n"
     ]
    },
    {
     "name": "stderr",
     "output_type": "stream",
     "text": [
      " 39%|███▉      | 277/714 [30:54<1:44:23, 14.33s/it]"
     ]
    },
    {
     "name": "stdout",
     "output_type": "stream",
     "text": [
      "Error in get citation for Bayesian Progressive Deep Topic Model with Knowledge Informed Textual Data Coarsening Process\n"
     ]
    },
    {
     "name": "stderr",
     "output_type": "stream",
     "text": [
      " 39%|███▉      | 279/714 [30:57<57:35,  7.94s/it]  "
     ]
    },
    {
     "name": "stdout",
     "output_type": "stream",
     "text": [
      "Error in get citation for A Unified Optimization Framework of ANN SNN Conversion: Towards Optimal Mapping from Activation Values to Firing Rates\n"
     ]
    },
    {
     "name": "stderr",
     "output_type": "stream",
     "text": [
      " 41%|████      | 291/714 [31:27<16:12,  2.30s/it]"
     ]
    },
    {
     "name": "stdout",
     "output_type": "stream",
     "text": [
      "Error in get citation for Lowering the Pre training Tax for Gradient based Subset Training: A Lightweight Distributed Pre Training Toolkit\n"
     ]
    },
    {
     "name": "stderr",
     "output_type": "stream",
     "text": [
      " 41%|████      | 293/714 [31:30<14:49,  2.11s/it]"
     ]
    },
    {
     "name": "stdout",
     "output_type": "stream",
     "text": [
      "Error in get citation for A Nearly Optimal Bound for Fast Regression with $\\ell_\\infty$ Guarantee\n"
     ]
    },
    {
     "name": "stderr",
     "output_type": "stream",
     "text": [
      " 42%|████▏     | 298/714 [32:15<32:05,  4.63s/it]  "
     ]
    },
    {
     "name": "stdout",
     "output_type": "stream",
     "text": [
      "Error in get citation for Lazy Agents: A New Perspective on Solving Sparse Reward Problem in Multi agent Reinforcement Learning\n"
     ]
    },
    {
     "name": "stderr",
     "output_type": "stream",
     "text": [
      " 43%|████▎     | 307/714 [32:36<16:13,  2.39s/it]"
     ]
    },
    {
     "name": "stdout",
     "output_type": "stream",
     "text": [
      "Error in get citation for All in a Row: Compressed Convolution Networks for Graphs\n"
     ]
    },
    {
     "name": "stderr",
     "output_type": "stream",
     "text": [
      " 44%|████▎     | 311/714 [32:45<14:12,  2.11s/it]"
     ]
    },
    {
     "name": "stdout",
     "output_type": "stream",
     "text": [
      "Error in get citation for Which Invariance Should We Transfer? A Causal Minimax Learning Approach\n"
     ]
    },
    {
     "name": "stderr",
     "output_type": "stream",
     "text": [
      " 46%|████▌     | 330/714 [34:31<25:27,  3.98s/it]  "
     ]
    },
    {
     "name": "stdout",
     "output_type": "stream",
     "text": [
      "Error in get citation for A Generative Model for Text Control in Minecraft\n"
     ]
    },
    {
     "name": "stderr",
     "output_type": "stream",
     "text": [
      " 46%|████▋     | 331/714 [34:33<21:25,  3.36s/it]"
     ]
    },
    {
     "name": "stdout",
     "output_type": "stream",
     "text": [
      "Error in get citation for Complementing a Policy with a Different Observation Space\n"
     ]
    },
    {
     "name": "stderr",
     "output_type": "stream",
     "text": [
      " 51%|█████▏    | 367/714 [37:05<22:06,  3.82s/it]  "
     ]
    },
    {
     "name": "stdout",
     "output_type": "stream",
     "text": [
      "Error in get citation for Adaptive IMLE for Few shot Pretraining free Generative Modelling\n"
     ]
    },
    {
     "name": "stderr",
     "output_type": "stream",
     "text": [
      " 54%|█████▎    | 382/714 [37:39<11:15,  2.04s/it]"
     ]
    },
    {
     "name": "stdout",
     "output_type": "stream",
     "text": [
      "Error in get citation for Towards Understanding and Reducing Graph Structural Noise for GNNs\n"
     ]
    },
    {
     "name": "stderr",
     "output_type": "stream",
     "text": [
      " 55%|█████▍    | 390/714 [38:29<1:03:27, 11.75s/it]"
     ]
    },
    {
     "name": "stdout",
     "output_type": "stream",
     "text": [
      "Error in get citation for One shot Imitation in a Non Stationary Environment via Multi Modal Skill\n"
     ]
    },
    {
     "name": "stderr",
     "output_type": "stream",
     "text": [
      " 55%|█████▌    | 396/714 [38:45<18:08,  3.42s/it]  "
     ]
    },
    {
     "name": "stdout",
     "output_type": "stream",
     "text": [
      "Error in get citation for Partially Observable Multi agent RL with (Quasi )Efficiency: The Blessing of Information Sharing\n"
     ]
    },
    {
     "name": "stderr",
     "output_type": "stream",
     "text": [
      " 58%|█████▊    | 416/714 [40:37<13:40,  2.75s/it]  "
     ]
    },
    {
     "name": "stdout",
     "output_type": "stream",
     "text": [
      "Error in get citation for Actor Critic Alignment for Offline to Online Reinforcement Learning\n"
     ]
    },
    {
     "name": "stderr",
     "output_type": "stream",
     "text": [
      " 61%|██████    | 435/714 [41:50<11:25,  2.46s/it]"
     ]
    },
    {
     "name": "stdout",
     "output_type": "stream",
     "text": [
      "Error in get citation for Leveraging Proxy of Training Data for Test Time Adaptation\n"
     ]
    },
    {
     "name": "stderr",
     "output_type": "stream",
     "text": [
      " 63%|██████▎   | 450/714 [42:23<08:46,  1.99s/it]"
     ]
    },
    {
     "name": "stdout",
     "output_type": "stream",
     "text": [
      "Error in get citation for Properties of the Mallows Model Depending on the Number of Alternatives: A Warning for an Experimentalist\n"
     ]
    },
    {
     "name": "stderr",
     "output_type": "stream",
     "text": [
      " 64%|██████▎   | 455/714 [42:37<11:24,  2.64s/it]"
     ]
    },
    {
     "name": "stdout",
     "output_type": "stream",
     "text": [
      "Error in get citation for RACE: Improve Multi Agent Reinforcement Learning with Representation Asymmetry and Collaborative Evolution\n"
     ]
    },
    {
     "name": "stderr",
     "output_type": "stream",
     "text": [
      " 64%|██████▍   | 460/714 [42:49<10:48,  2.55s/it]"
     ]
    },
    {
     "name": "stdout",
     "output_type": "stream",
     "text": [
      "Error in get citation for Improving l1 Certified Robustness via Randomized Smoothing by Leveraging Box Constraints\n"
     ]
    },
    {
     "name": "stderr",
     "output_type": "stream",
     "text": [
      " 65%|██████▍   | 462/714 [42:53<09:01,  2.15s/it]"
     ]
    },
    {
     "name": "stdout",
     "output_type": "stream",
     "text": [
      "Error in get citation for RGE: A Repulsive Graph Rectification for Node Classification via Influence\n"
     ]
    },
    {
     "name": "stderr",
     "output_type": "stream",
     "text": [
      " 66%|██████▌   | 468/714 [43:07<08:50,  2.16s/it]"
     ]
    },
    {
     "name": "stdout",
     "output_type": "stream",
     "text": [
      "Error in get citation for Identification of the Adversary from a Single Adversarial Example\n"
     ]
    },
    {
     "name": "stderr",
     "output_type": "stream",
     "text": [
      " 66%|██████▌   | 469/714 [43:09<08:07,  1.99s/it]"
     ]
    },
    {
     "name": "stdout",
     "output_type": "stream",
     "text": [
      "Error in get citation for The Persistent Laplacian for Data Science: Evaluating Higher Order Persistent Spectral Representations of Data\n"
     ]
    },
    {
     "name": "stderr",
     "output_type": "stream",
     "text": [
      " 67%|██████▋   | 481/714 [44:09<21:23,  5.51s/it]"
     ]
    },
    {
     "name": "stdout",
     "output_type": "stream",
     "text": [
      "Error in get citation for Emergence of Adaptive Circadian Rhythms in Deep Reinforcement Learning\n"
     ]
    },
    {
     "name": "stderr",
     "output_type": "stream",
     "text": [
      " 68%|██████▊   | 482/714 [44:11<17:08,  4.43s/it]"
     ]
    },
    {
     "name": "stdout",
     "output_type": "stream",
     "text": [
      "Error in get citation for Half Hop: A graph upsampling approach for slowing down message passing\n"
     ]
    },
    {
     "name": "stderr",
     "output_type": "stream",
     "text": [
      " 69%|██████▊   | 490/714 [44:31<09:35,  2.57s/it]"
     ]
    },
    {
     "name": "stdout",
     "output_type": "stream",
     "text": [
      "Error in get citation for Trapdoor Normalization with Irreversible Ownership Verification\n"
     ]
    },
    {
     "name": "stderr",
     "output_type": "stream",
     "text": [
      " 69%|██████▉   | 492/714 [44:35<08:19,  2.25s/it]"
     ]
    },
    {
     "name": "stdout",
     "output_type": "stream",
     "text": [
      "Error in get citation for Random Matrix Analysis to Balance between Supervised and Unsupervised Learning under the Low Density Separation Assumption\n"
     ]
    },
    {
     "name": "stderr",
     "output_type": "stream",
     "text": [
      " 69%|██████▉   | 496/714 [45:16<42:19, 11.65s/it]"
     ]
    },
    {
     "name": "stdout",
     "output_type": "stream",
     "text": [
      "Error in get citation for Robust Explanation for Free or At the Cost of Faithfulness\n"
     ]
    },
    {
     "name": "stderr",
     "output_type": "stream",
     "text": [
      " 71%|███████   | 507/714 [45:42<07:45,  2.25s/it]"
     ]
    },
    {
     "name": "stdout",
     "output_type": "stream",
     "text": [
      "Error in get citation for Adaptive Barrier Smoothing for First Order Policy Gradient with Contact Dynamics\n"
     ]
    },
    {
     "name": "stderr",
     "output_type": "stream",
     "text": [
      " 73%|███████▎  | 521/714 [46:47<09:06,  2.83s/it]"
     ]
    },
    {
     "name": "stdout",
     "output_type": "stream",
     "text": [
      "Error in get citation for Out of Distribution Generalization of Federated Learning via Implicit Invariant Relationships\n"
     ]
    },
    {
     "name": "stderr",
     "output_type": "stream",
     "text": [
      " 74%|███████▎  | 525/714 [46:55<06:58,  2.21s/it]"
     ]
    },
    {
     "name": "stdout",
     "output_type": "stream",
     "text": [
      "Error in get citation for On the Within Group Fairness of Screening Classifiers\n"
     ]
    },
    {
     "name": "stderr",
     "output_type": "stream",
     "text": [
      " 75%|███████▍  | 535/714 [47:22<07:48,  2.62s/it]"
     ]
    },
    {
     "name": "stdout",
     "output_type": "stream",
     "text": [
      "Error in get citation for Discover Then Rank Unlabeled Support Vectors in the Dual Space for Multi Class Active Learning\n"
     ]
    },
    {
     "name": "stderr",
     "output_type": "stream",
     "text": [
      " 75%|███████▌  | 538/714 [47:28<06:21,  2.17s/it]"
     ]
    },
    {
     "name": "stdout",
     "output_type": "stream",
     "text": [
      "Error in get citation for Speeding Up Bellman Ford via Minimum Violation Permutations\n"
     ]
    },
    {
     "name": "stderr",
     "output_type": "stream",
     "text": [
      " 80%|███████▉  | 568/714 [49:10<08:57,  3.68s/it]"
     ]
    },
    {
     "name": "stdout",
     "output_type": "stream",
     "text": [
      "Error in get citation for Go Beyond Imagination: Maximizing Episodic Reachability with World Models\n"
     ]
    },
    {
     "name": "stderr",
     "output_type": "stream",
     "text": [
      " 80%|████████  | 573/714 [49:20<05:16,  2.25s/it]"
     ]
    },
    {
     "name": "stdout",
     "output_type": "stream",
     "text": [
      "Error in get citation for Towards Quantum Machine Learning for Constrained Combinatorial Optimization: a Quantum QAP Solver\n"
     ]
    },
    {
     "name": "stderr",
     "output_type": "stream",
     "text": [
      " 83%|████████▎ | 591/714 [50:33<05:01,  2.45s/it]"
     ]
    },
    {
     "name": "stdout",
     "output_type": "stream",
     "text": [
      "Error in get citation for The Catalog Problem: Clustering and Ordering Variable Sized Sets\n"
     ]
    },
    {
     "name": "stderr",
     "output_type": "stream",
     "text": [
      " 85%|████████▍ | 605/714 [51:38<06:35,  3.63s/it]"
     ]
    },
    {
     "name": "stdout",
     "output_type": "stream",
     "text": [
      "Error in get citation for Bandits with Knapsacks: Advice on Time Varying Demands\n"
     ]
    },
    {
     "name": "stderr",
     "output_type": "stream",
     "text": [
      " 86%|████████▌ | 611/714 [52:20<11:14,  6.55s/it]"
     ]
    },
    {
     "name": "stdout",
     "output_type": "stream",
     "text": [
      "Error in get citation for GOAT: A Global Transformer on Large scale Graphs\n"
     ]
    },
    {
     "name": "stderr",
     "output_type": "stream",
     "text": [
      " 87%|████████▋ | 621/714 [52:48<04:16,  2.75s/it]"
     ]
    },
    {
     "name": "stdout",
     "output_type": "stream",
     "text": [
      "Error in get citation for Ske2Grid: Skeleton to Grid Representation Learning for Action Recognition\n"
     ]
    },
    {
     "name": "stderr",
     "output_type": "stream",
     "text": [
      " 88%|████████▊ | 627/714 [53:00<02:52,  1.98s/it]"
     ]
    },
    {
     "name": "stdout",
     "output_type": "stream",
     "text": [
      "Error in get citation for Learning to Design Analog Circuits to Meet Threshold Specifications\n"
     ]
    },
    {
     "name": "stderr",
     "output_type": "stream",
     "text": [
      " 88%|████████▊ | 629/714 [53:04<02:51,  2.02s/it]"
     ]
    },
    {
     "name": "stdout",
     "output_type": "stream",
     "text": [
      "Error in get citation for Neural Latent Aligner: Cross trial Alignment for Learning Representations of Complex, Naturalistic Neural Data\n"
     ]
    },
    {
     "name": "stderr",
     "output_type": "stream",
     "text": [
      " 89%|████████▉ | 637/714 [53:21<02:42,  2.11s/it]"
     ]
    },
    {
     "name": "stdout",
     "output_type": "stream",
     "text": [
      "Error in get citation for Tighter Analysis for ProxSkip\n"
     ]
    },
    {
     "name": "stderr",
     "output_type": "stream",
     "text": [
      " 89%|████████▉ | 639/714 [53:26<02:40,  2.13s/it]"
     ]
    },
    {
     "name": "stdout",
     "output_type": "stream",
     "text": [
      "Error in get citation for Auto Differentiation of Relational Computations for Very Large Scale Machine Learning\n"
     ]
    },
    {
     "name": "stderr",
     "output_type": "stream",
     "text": [
      " 97%|█████████▋| 694/714 [57:49<00:57,  2.88s/it]"
     ]
    },
    {
     "name": "stdout",
     "output_type": "stream",
     "text": [
      "Error in get citation for Prometheus: Taming Sample and Communication Complexities in Constrained Decentralized Stochastic Bilevel Learning\n"
     ]
    },
    {
     "name": "stderr",
     "output_type": "stream",
     "text": [
      " 99%|█████████▊| 704/714 [58:14<00:23,  2.39s/it]"
     ]
    },
    {
     "name": "stdout",
     "output_type": "stream",
     "text": [
      "Error in get citation for Reducing SO(3) Convolutions to SO(2) for Efficient Equivariant GNNs\n"
     ]
    },
    {
     "name": "stderr",
     "output_type": "stream",
     "text": [
      "100%|██████████| 714/714 [58:45<00:00,  4.94s/it]\n"
     ]
    },
    {
     "name": "stdout",
     "output_type": "stream",
     "text": [
      "topic optimization\n",
      "432 1866\n"
     ]
    },
    {
     "name": "stderr",
     "output_type": "stream",
     "text": [
      "  1%|          | 4/432 [00:07<14:15,  2.00s/it]"
     ]
    },
    {
     "name": "stdout",
     "output_type": "stream",
     "text": [
      "Error in get citation for Analysis of Error Feedback in Federated Non Convex Optimization with Biased Compression: Fast Convergence and Partial Participation\n"
     ]
    },
    {
     "name": "stderr",
     "output_type": "stream",
     "text": [
      " 11%|█         | 48/432 [03:29<14:45,  2.31s/it]  "
     ]
    },
    {
     "name": "stdout",
     "output_type": "stream",
     "text": [
      "Error in get citation for Distortion and Uncertainty Aware Loss for Panoramic Depth Completion\n"
     ]
    },
    {
     "name": "stderr",
     "output_type": "stream",
     "text": [
      " 12%|█▏        | 52/432 [03:37<12:28,  1.97s/it]"
     ]
    },
    {
     "name": "stdout",
     "output_type": "stream",
     "text": [
      "Error in get citation for The Computational Complexity of Concise Hypersphere Classification\n"
     ]
    },
    {
     "name": "stderr",
     "output_type": "stream",
     "text": [
      " 16%|█▌        | 70/432 [05:48<51:56,  8.61s/it]  "
     ]
    },
    {
     "name": "stdout",
     "output_type": "stream",
     "text": [
      "Error in get citation for Feature Directions Matter: Long Tailed Learning via Rotated Balanced Representation\n"
     ]
    },
    {
     "name": "stderr",
     "output_type": "stream",
     "text": [
      " 17%|█▋        | 75/432 [07:01<1:33:21, 15.69s/it]"
     ]
    },
    {
     "name": "stdout",
     "output_type": "stream",
     "text": [
      "Error in get citation for Do You Remember? Overcoming Catastrophic Forgetting for Fake Audio Detection\n"
     ]
    },
    {
     "name": "stderr",
     "output_type": "stream",
     "text": [
      " 21%|██        | 91/432 [07:37<12:51,  2.26s/it]  "
     ]
    },
    {
     "name": "stdout",
     "output_type": "stream",
     "text": [
      "Error in get citation for LipsNet: A Smooth and Robust Neural Network with Adaptive Lipschitz Constant for High Accuracy Optimal Control\n"
     ]
    },
    {
     "name": "stderr",
     "output_type": "stream",
     "text": [
      " 23%|██▎       | 100/432 [08:30<1:04:48, 11.71s/it]"
     ]
    },
    {
     "name": "stdout",
     "output_type": "stream",
     "text": [
      "Error in get citation for Implicit Jacobian regularization weighted with impurity of probability output\n"
     ]
    },
    {
     "name": "stderr",
     "output_type": "stream",
     "text": [
      " 30%|███       | 131/432 [10:46<57:16, 11.42s/it]  "
     ]
    },
    {
     "name": "stdout",
     "output_type": "stream",
     "text": [
      "Error in get citation for MetricGAN OKD: Multi Metric Optimization of MetricGAN via Online Knowledge Distillation for Speech Enhancement\n"
     ]
    },
    {
     "name": "stderr",
     "output_type": "stream",
     "text": [
      " 33%|███▎      | 141/432 [11:08<11:28,  2.37s/it]"
     ]
    },
    {
     "name": "stdout",
     "output_type": "stream",
     "text": [
      "Error in get citation for SpeedDETR: Speed aware Transformers for End to end Object Detection\n"
     ]
    },
    {
     "name": "stderr",
     "output_type": "stream",
     "text": [
      " 35%|███▍      | 151/432 [12:01<30:49,  6.58s/it]"
     ]
    },
    {
     "name": "stdout",
     "output_type": "stream",
     "text": [
      "Error in get citation for A Unified Optimization Framework of ANN SNN Conversion: Towards Optimal Mapping from Activation Values to Firing Rates\n"
     ]
    },
    {
     "name": "stderr",
     "output_type": "stream",
     "text": [
      " 40%|████      | 174/432 [13:24<09:51,  2.29s/it]"
     ]
    },
    {
     "name": "stdout",
     "output_type": "stream",
     "text": [
      "Error in get citation for All in a Row: Compressed Convolution Networks for Graphs\n"
     ]
    },
    {
     "name": "stderr",
     "output_type": "stream",
     "text": [
      " 41%|████      | 177/432 [14:01<48:06, 11.32s/it]"
     ]
    },
    {
     "name": "stdout",
     "output_type": "stream",
     "text": [
      "Error in get citation for SDDM: Score Decomposed Diffusion Models on Manifolds for Unpaired Image to Image Translation\n"
     ]
    },
    {
     "name": "stderr",
     "output_type": "stream",
     "text": [
      " 43%|████▎     | 187/432 [14:26<10:16,  2.52s/it]"
     ]
    },
    {
     "name": "stdout",
     "output_type": "stream",
     "text": [
      "Error in get citation for Principal Driven Reward Design and Agent Policy Alignment via Bilevel RL\n"
     ]
    },
    {
     "name": "stderr",
     "output_type": "stream",
     "text": [
      " 44%|████▍     | 189/432 [14:30<09:00,  2.22s/it]"
     ]
    },
    {
     "name": "stdout",
     "output_type": "stream",
     "text": [
      "Error in get citation for Survival Instinct in Offline Reinforcement Learning and Implicit Human Bias in Data\n"
     ]
    },
    {
     "name": "stderr",
     "output_type": "stream",
     "text": [
      " 48%|████▊     | 207/432 [16:19<17:46,  4.74s/it]"
     ]
    },
    {
     "name": "stdout",
     "output_type": "stream",
     "text": [
      "Error in get citation for When do Minimax fair Learning and Empirical Risk Minimization Coincide?\n"
     ]
    },
    {
     "name": "stderr",
     "output_type": "stream",
     "text": [
      " 51%|█████▏    | 222/432 [17:24<31:17,  8.94s/it]"
     ]
    },
    {
     "name": "stdout",
     "output_type": "stream",
     "text": [
      "Error in get citation for Single Point Based Distributed Zeroth Order Optimization with a Non Convex Stochastic Objective Function\n"
     ]
    },
    {
     "name": "stderr",
     "output_type": "stream",
     "text": [
      " 53%|█████▎    | 228/432 [18:38<40:06, 11.80s/it]  "
     ]
    },
    {
     "name": "stdout",
     "output_type": "stream",
     "text": [
      "Error in get citation for Hypervolume Knowledge Gradient: A Lookahead Approach for Multi Objective Bayesian Optimization with Partial Information\n"
     ]
    },
    {
     "name": "stderr",
     "output_type": "stream",
     "text": [
      " 54%|█████▍    | 235/432 [18:56<10:47,  3.29s/it]"
     ]
    },
    {
     "name": "stdout",
     "output_type": "stream",
     "text": [
      "Error in get citation for Low Complexity Homeomorphic Projection to Ensure Neural Network Solution Feasibility for Optimization over (Non )Convex Set\n"
     ]
    },
    {
     "name": "stderr",
     "output_type": "stream",
     "text": [
      " 56%|█████▋    | 244/432 [19:18<07:38,  2.44s/it]"
     ]
    },
    {
     "name": "stdout",
     "output_type": "stream",
     "text": [
      "Error in get citation for Actor Critic Alignment for Offline to Online Reinforcement Learning\n"
     ]
    },
    {
     "name": "stderr",
     "output_type": "stream",
     "text": [
      " 62%|██████▏   | 269/432 [20:16<06:23,  2.35s/it]"
     ]
    },
    {
     "name": "stdout",
     "output_type": "stream",
     "text": [
      "Error in get citation for Improving l1 Certified Robustness via Randomized Smoothing by Leveraging Box Constraints\n"
     ]
    },
    {
     "name": "stderr",
     "output_type": "stream",
     "text": [
      " 65%|██████▌   | 281/432 [21:44<19:02,  7.57s/it]"
     ]
    },
    {
     "name": "stdout",
     "output_type": "stream",
     "text": [
      "Error in get citation for Nearly Optimal Competitive Ratio for Online Allocation Problems with Two sided Resource Constraints and Finite Requests\n"
     ]
    },
    {
     "name": "stderr",
     "output_type": "stream",
     "text": [
      " 66%|██████▌   | 285/432 [22:26<20:22,  8.32s/it]"
     ]
    },
    {
     "name": "stdout",
     "output_type": "stream",
     "text": [
      "Error in get citation for Learning Expressive Priors for Generalization and Uncertainty Estimation in Neural Networks\n"
     ]
    },
    {
     "name": "stderr",
     "output_type": "stream",
     "text": [
      " 67%|██████▋   | 288/432 [22:33<10:34,  4.41s/it]"
     ]
    },
    {
     "name": "stdout",
     "output_type": "stream",
     "text": [
      "Error in get citation for Adaptive Barrier Smoothing for First Order Policy Gradient with Contact Dynamics\n"
     ]
    },
    {
     "name": "stderr",
     "output_type": "stream",
     "text": [
      " 74%|███████▍  | 319/432 [26:53<05:20,  2.84s/it]"
     ]
    },
    {
     "name": "stdout",
     "output_type": "stream",
     "text": [
      "Error in get citation for Team Belief DAG: Generalizing the Sequence Form to Team Games for Fast Computation of Correlated Team Max Min Equilibria via Regret Minimization\n"
     ]
    },
    {
     "name": "stderr",
     "output_type": "stream",
     "text": [
      " 77%|███████▋  | 333/432 [27:55<03:45,  2.28s/it]"
     ]
    },
    {
     "name": "stdout",
     "output_type": "stream",
     "text": [
      "Error in get citation for Nested Elimination: A Simple Algorithm for Best Item Identification From Choice Based Feedback\n"
     ]
    },
    {
     "name": "stderr",
     "output_type": "stream",
     "text": [
      " 78%|███████▊  | 339/432 [28:13<04:05,  2.64s/it]"
     ]
    },
    {
     "name": "stdout",
     "output_type": "stream",
     "text": [
      "Error in get citation for Towards Quantum Machine Learning for Constrained Combinatorial Optimization: a Quantum QAP Solver\n"
     ]
    },
    {
     "name": "stderr",
     "output_type": "stream",
     "text": [
      " 80%|███████▉  | 344/432 [28:53<09:39,  6.59s/it]"
     ]
    },
    {
     "name": "stdout",
     "output_type": "stream",
     "text": [
      "Error in get citation for The Catalog Problem: Clustering and Ordering Variable Sized Sets\n"
     ]
    },
    {
     "name": "stderr",
     "output_type": "stream",
     "text": [
      " 83%|████████▎ | 359/432 [29:57<05:13,  4.30s/it]"
     ]
    },
    {
     "name": "stdout",
     "output_type": "stream",
     "text": [
      "Error in get citation for FedHPO Bench: A Benchmark Suite for Federated Hyperparameter Optimization\n"
     ]
    },
    {
     "name": "stderr",
     "output_type": "stream",
     "text": [
      " 84%|████████▍ | 365/432 [30:09<02:41,  2.41s/it]"
     ]
    },
    {
     "name": "stdout",
     "output_type": "stream",
     "text": [
      "Error in get citation for Biases in Evaluation of Molecular Optimization Methods and Bias Reduction Strategies\n"
     ]
    },
    {
     "name": "stderr",
     "output_type": "stream",
     "text": [
      " 86%|████████▌ | 370/432 [30:19<02:07,  2.06s/it]"
     ]
    },
    {
     "name": "stdout",
     "output_type": "stream",
     "text": [
      "Error in get citation for Neural Latent Aligner: Cross trial Alignment for Learning Representations of Complex, Naturalistic Neural Data\n"
     ]
    },
    {
     "name": "stderr",
     "output_type": "stream",
     "text": [
      " 87%|████████▋ | 376/432 [30:31<01:45,  1.88s/it]"
     ]
    },
    {
     "name": "stdout",
     "output_type": "stream",
     "text": [
      "Error in get citation for Tighter Analysis for ProxSkip\n"
     ]
    },
    {
     "name": "stderr",
     "output_type": "stream",
     "text": [
      " 88%|████████▊ | 378/432 [30:36<01:56,  2.16s/it]"
     ]
    },
    {
     "name": "stdout",
     "output_type": "stream",
     "text": [
      "Error in get citation for Towards Robust and Safe Reinforcement Learning with Benign Off policy Data\n"
     ]
    },
    {
     "name": "stderr",
     "output_type": "stream",
     "text": [
      " 97%|█████████▋| 418/432 [33:17<00:34,  2.49s/it]"
     ]
    },
    {
     "name": "stdout",
     "output_type": "stream",
     "text": [
      "Error in get citation for Prometheus: Taming Sample and Communication Complexities in Constrained Decentralized Stochastic Bilevel Learning\n"
     ]
    },
    {
     "name": "stderr",
     "output_type": "stream",
     "text": [
      " 97%|█████████▋| 420/432 [33:22<00:29,  2.46s/it]"
     ]
    },
    {
     "name": "stdout",
     "output_type": "stream",
     "text": [
      "Error in get citation for Global Selection of Contrastive Batches via Optimization on Sample Permutations\n"
     ]
    },
    {
     "name": "stderr",
     "output_type": "stream",
     "text": [
      "100%|██████████| 432/432 [33:55<00:00,  4.71s/it]\n"
     ]
    },
    {
     "name": "stdout",
     "output_type": "stream",
     "text": [
      "topic reinforcement learning\n",
      "349 1866\n"
     ]
    },
    {
     "name": "stderr",
     "output_type": "stream",
     "text": [
      " 13%|█▎        | 45/349 [02:53<11:02,  2.18s/it]  "
     ]
    },
    {
     "name": "stdout",
     "output_type": "stream",
     "text": [
      "Error in get citation for PPG Reloaded: An Empirical Study on What Matters in Phasic Policy Gradient\n"
     ]
    },
    {
     "name": "stderr",
     "output_type": "stream",
     "text": [
      " 13%|█▎        | 46/349 [02:55<10:35,  2.10s/it]"
     ]
    },
    {
     "name": "stdout",
     "output_type": "stream",
     "text": [
      "Error in get citation for Variational Curriculum Reinforcement Learning for Unsupervised Discovery of Skills\n"
     ]
    },
    {
     "name": "stderr",
     "output_type": "stream",
     "text": [
      " 26%|██▌       | 89/349 [06:17<10:26,  2.41s/it]"
     ]
    },
    {
     "name": "stdout",
     "output_type": "stream",
     "text": [
      "Error in get citation for A Connection between One Step RL and Critic Regularization in Reinforcement Learning\n"
     ]
    },
    {
     "name": "stderr",
     "output_type": "stream",
     "text": [
      " 26%|██▌       | 90/349 [06:19<09:36,  2.23s/it]"
     ]
    },
    {
     "name": "stdout",
     "output_type": "stream",
     "text": [
      "Error in get citation for LipsNet: A Smooth and Robust Neural Network with Adaptive Lipschitz Constant for High Accuracy Optimal Control\n"
     ]
    },
    {
     "name": "stderr",
     "output_type": "stream",
     "text": [
      " 32%|███▏      | 112/349 [07:42<08:48,  2.23s/it]"
     ]
    },
    {
     "name": "stdout",
     "output_type": "stream",
     "text": [
      "Error in get citation for CircuitNet: A Generic Neural Network to Realize Universal Circuit Motif Modeling\n"
     ]
    },
    {
     "name": "stderr",
     "output_type": "stream",
     "text": [
      " 40%|████      | 141/349 [09:47<22:45,  6.56s/it]"
     ]
    },
    {
     "name": "stdout",
     "output_type": "stream",
     "text": [
      "Error in get citation for Lazy Agents: A New Perspective on Solving Sparse Reward Problem in Multi agent Reinforcement Learning\n"
     ]
    },
    {
     "name": "stderr",
     "output_type": "stream",
     "text": [
      " 44%|████▎     | 152/349 [10:12<08:20,  2.54s/it]"
     ]
    },
    {
     "name": "stdout",
     "output_type": "stream",
     "text": [
      "Error in get citation for RLHF Blender: A Configurable Interactive Interface for Learning from Diverse Human Feedback\n"
     ]
    },
    {
     "name": "stderr",
     "output_type": "stream",
     "text": [
      " 44%|████▍     | 153/349 [10:15<07:55,  2.43s/it]"
     ]
    },
    {
     "name": "stdout",
     "output_type": "stream",
     "text": [
      "Error in get citation for A Generative Model for Text Control in Minecraft\n"
     ]
    },
    {
     "name": "stderr",
     "output_type": "stream",
     "text": [
      " 45%|████▍     | 156/349 [10:52<27:55,  8.68s/it]"
     ]
    },
    {
     "name": "stdout",
     "output_type": "stream",
     "text": [
      "Error in get citation for Principal Driven Reward Design and Agent Policy Alignment via Bilevel RL\n"
     ]
    },
    {
     "name": "stderr",
     "output_type": "stream",
     "text": [
      " 45%|████▌     | 158/349 [10:56<16:41,  5.24s/it]"
     ]
    },
    {
     "name": "stdout",
     "output_type": "stream",
     "text": [
      "Error in get citation for Survival Instinct in Offline Reinforcement Learning and Implicit Human Bias in Data\n"
     ]
    },
    {
     "name": "stderr",
     "output_type": "stream",
     "text": [
      " 46%|████▌     | 160/349 [11:00<11:13,  3.57s/it]"
     ]
    },
    {
     "name": "stdout",
     "output_type": "stream",
     "text": [
      "Error in get citation for Cognitive Models as Simulators: Using Cognitive Models to Tap into Implicit Human Feedback\n"
     ]
    },
    {
     "name": "stderr",
     "output_type": "stream",
     "text": [
      " 47%|████▋     | 164/349 [11:12<09:12,  2.98s/it]"
     ]
    },
    {
     "name": "stdout",
     "output_type": "stream",
     "text": [
      "Error in get citation for Discovering User Types: Characterization of User Traits by Task Specific Behaviors in Reinforcement Learning\n"
     ]
    },
    {
     "name": "stderr",
     "output_type": "stream",
     "text": [
      " 48%|████▊     | 168/349 [11:20<06:49,  2.26s/it]"
     ]
    },
    {
     "name": "stdout",
     "output_type": "stream",
     "text": [
      "Error in get citation for Contextual Bandits and Imitation Learning with Preference Based Active Queries\n"
     ]
    },
    {
     "name": "stderr",
     "output_type": "stream",
     "text": [
      " 58%|█████▊    | 201/349 [14:10<20:54,  8.48s/it]"
     ]
    },
    {
     "name": "stdout",
     "output_type": "stream",
     "text": [
      "Error in get citation for A Robust Test for the Stationarity Assumption in Sequential Decision Making\n"
     ]
    },
    {
     "name": "stderr",
     "output_type": "stream",
     "text": [
      " 59%|█████▊    | 205/349 [14:21<09:21,  3.90s/it]"
     ]
    },
    {
     "name": "stdout",
     "output_type": "stream",
     "text": [
      "Error in get citation for One shot Imitation in a Non Stationary Environment via Multi Modal Skill\n"
     ]
    },
    {
     "name": "stderr",
     "output_type": "stream",
     "text": [
      " 59%|█████▉    | 207/349 [14:25<06:51,  2.90s/it]"
     ]
    },
    {
     "name": "stdout",
     "output_type": "stream",
     "text": [
      "Error in get citation for Partially Observable Multi agent RL with (Quasi )Efficiency: The Blessing of Information Sharing\n"
     ]
    },
    {
     "name": "stderr",
     "output_type": "stream",
     "text": [
      " 61%|██████    | 212/349 [14:37<05:42,  2.50s/it]"
     ]
    },
    {
     "name": "stdout",
     "output_type": "stream",
     "text": [
      "Error in get citation for Actor Critic Alignment for Offline to Online Reinforcement Learning\n"
     ]
    },
    {
     "name": "stderr",
     "output_type": "stream",
     "text": [
      " 64%|██████▍   | 223/349 [15:34<06:05,  2.90s/it]"
     ]
    },
    {
     "name": "stdout",
     "output_type": "stream",
     "text": [
      "Error in get citation for Horizon free Learning for Markov Decision Processes and Games: Stochastically Bounded Rewards and Improved Bounds\n"
     ]
    },
    {
     "name": "stderr",
     "output_type": "stream",
     "text": [
      " 64%|██████▍   | 225/349 [15:39<05:40,  2.75s/it]"
     ]
    },
    {
     "name": "stdout",
     "output_type": "stream",
     "text": [
      "Error in get citation for RACE: Improve Multi Agent Reinforcement Learning with Representation Asymmetry and Collaborative Evolution\n"
     ]
    },
    {
     "name": "stderr",
     "output_type": "stream",
     "text": [
      " 68%|██████▊   | 237/349 [16:09<04:15,  2.28s/it]"
     ]
    },
    {
     "name": "stdout",
     "output_type": "stream",
     "text": [
      "Error in get citation for Emergence of Adaptive Circadian Rhythms in Deep Reinforcement Learning\n"
     ]
    },
    {
     "name": "stderr",
     "output_type": "stream",
     "text": [
      " 68%|██████▊   | 238/349 [16:11<04:00,  2.17s/it]"
     ]
    },
    {
     "name": "stdout",
     "output_type": "stream",
     "text": [
      "Error in get citation for Robust Situational Reinforcement Learning in Face of Context Disturbances\n"
     ]
    },
    {
     "name": "stderr",
     "output_type": "stream",
     "text": [
      " 68%|██████▊   | 239/349 [16:13<03:48,  2.08s/it]"
     ]
    },
    {
     "name": "stdout",
     "output_type": "stream",
     "text": [
      "Error in get citation for QAS Bench: Rethinking Quantum Architecture Search and A Benchmark\n"
     ]
    },
    {
     "name": "stderr",
     "output_type": "stream",
     "text": [
      " 71%|███████   | 247/349 [17:08<06:49,  4.01s/it]"
     ]
    },
    {
     "name": "stdout",
     "output_type": "stream",
     "text": [
      "Error in get citation for MyoDex: A Generalizable Prior for Dexterous Manipulation\n"
     ]
    },
    {
     "name": "stderr",
     "output_type": "stream",
     "text": [
      " 74%|███████▍  | 259/349 [18:42<14:58,  9.98s/it]"
     ]
    },
    {
     "name": "stdout",
     "output_type": "stream",
     "text": [
      "Error in get citation for The Regret of Exploration and the Control of Bad Episodes in Reinforcement Learning\n"
     ]
    },
    {
     "name": "stderr",
     "output_type": "stream",
     "text": [
      " 75%|███████▍  | 261/349 [18:46<08:35,  5.86s/it]"
     ]
    },
    {
     "name": "stdout",
     "output_type": "stream",
     "text": [
      "Error in get citation for Principled Offline RL in the Presence of Rich Exogenous Information\n"
     ]
    },
    {
     "name": "stderr",
     "output_type": "stream",
     "text": [
      " 78%|███████▊  | 271/349 [19:09<03:00,  2.31s/it]"
     ]
    },
    {
     "name": "stdout",
     "output_type": "stream",
     "text": [
      "Error in get citation for Multi Agent Best Arm Identification with Private Communications\n"
     ]
    },
    {
     "name": "stderr",
     "output_type": "stream",
     "text": [
      " 81%|████████  | 282/349 [20:04<07:49,  7.01s/it]"
     ]
    },
    {
     "name": "stdout",
     "output_type": "stream",
     "text": [
      "Error in get citation for Weighted Sampling without Replacement for Deep Top $k$ Classification\n"
     ]
    },
    {
     "name": "stderr",
     "output_type": "stream",
     "text": [
      " 81%|████████  | 283/349 [20:06<06:02,  5.49s/it]"
     ]
    },
    {
     "name": "stdout",
     "output_type": "stream",
     "text": [
      "Error in get citation for Go Beyond Imagination: Maximizing Episodic Reachability with World Models\n"
     ]
    },
    {
     "name": "stderr",
     "output_type": "stream",
     "text": [
      " 86%|████████▌ | 299/349 [21:12<02:36,  3.12s/it]"
     ]
    },
    {
     "name": "stdout",
     "output_type": "stream",
     "text": [
      "Error in get citation for Learning to Initiate and Reason in Event Driven Cascading Processes\n"
     ]
    },
    {
     "name": "stderr",
     "output_type": "stream",
     "text": [
      " 87%|████████▋ | 304/349 [21:24<01:48,  2.41s/it]"
     ]
    },
    {
     "name": "stdout",
     "output_type": "stream",
     "text": [
      "Error in get citation for LESSON: Learning to Integrate Exploration Strategies for Reinforcement Learning via an Option Framework\n"
     ]
    },
    {
     "name": "stderr",
     "output_type": "stream",
     "text": [
      " 88%|████████▊ | 308/349 [22:02<05:48,  8.51s/it]"
     ]
    },
    {
     "name": "stdout",
     "output_type": "stream",
     "text": [
      "Error in get citation for Learning to Design Analog Circuits to Meet Threshold Specifications\n"
     ]
    },
    {
     "name": "stderr",
     "output_type": "stream",
     "text": [
      " 89%|████████▉ | 310/349 [22:08<03:35,  5.51s/it]"
     ]
    },
    {
     "name": "stdout",
     "output_type": "stream",
     "text": [
      "Error in get citation for Multiply Robust Off policy Evaluation and Learning under Truncation by Death\n"
     ]
    },
    {
     "name": "stderr",
     "output_type": "stream",
     "text": [
      " 91%|█████████ | 317/349 [22:21<01:11,  2.23s/it]"
     ]
    },
    {
     "name": "stdout",
     "output_type": "stream",
     "text": [
      "Error in get citation for Towards Robust and Safe Reinforcement Learning with Benign Off policy Data\n"
     ]
    },
    {
     "name": "stderr",
     "output_type": "stream",
     "text": [
      " 97%|█████████▋| 337/349 [23:45<00:31,  2.67s/it]"
     ]
    },
    {
     "name": "stdout",
     "output_type": "stream",
     "text": [
      "Error in get citation for The Impact of Exploration on Convergence and Performance of Multi Agent Q Learning Dynamics\n"
     ]
    },
    {
     "name": "stderr",
     "output_type": "stream",
     "text": [
      " 98%|█████████▊| 341/349 [23:55<00:19,  2.47s/it]"
     ]
    },
    {
     "name": "stdout",
     "output_type": "stream",
     "text": [
      "Error in get citation for Prometheus: Taming Sample and Communication Complexities in Constrained Decentralized Stochastic Bilevel Learning\n"
     ]
    },
    {
     "name": "stderr",
     "output_type": "stream",
     "text": [
      "100%|██████████| 349/349 [25:19<00:00,  4.35s/it]\n"
     ]
    },
    {
     "name": "stdout",
     "output_type": "stream",
     "text": [
      "topic representation\n",
      "291 1866\n"
     ]
    },
    {
     "name": "stderr",
     "output_type": "stream",
     "text": [
      "  8%|▊         | 23/291 [01:28<53:28, 11.97s/it]"
     ]
    },
    {
     "name": "stdout",
     "output_type": "stream",
     "text": [
      "Error in get citation for Marginalization is not Marginal: No Bad VAE Local Minima when Learning Optimal Sparse Representations\n"
     ]
    },
    {
     "name": "stderr",
     "output_type": "stream",
     "text": [
      " 16%|█▌        | 47/291 [02:57<11:03,  2.72s/it]"
     ]
    },
    {
     "name": "stdout",
     "output_type": "stream",
     "text": [
      "Error in get citation for Implicit Graph Neural Networks: A Monotone Operator Viewpoint\n"
     ]
    },
    {
     "name": "stderr",
     "output_type": "stream",
     "text": [
      " 21%|██        | 60/291 [03:26<08:21,  2.17s/it]"
     ]
    },
    {
     "name": "stdout",
     "output_type": "stream",
     "text": [
      "Error in get citation for Feature Directions Matter: Long Tailed Learning via Rotated Balanced Representation\n"
     ]
    },
    {
     "name": "stderr",
     "output_type": "stream",
     "text": [
      " 24%|██▎       | 69/291 [04:20<12:34,  3.40s/it]"
     ]
    },
    {
     "name": "stdout",
     "output_type": "stream",
     "text": [
      "Error in get citation for A Generalization of ViT/MLP Mixer to Graphs\n"
     ]
    },
    {
     "name": "stderr",
     "output_type": "stream",
     "text": [
      " 25%|██▍       | 72/291 [04:27<09:36,  2.63s/it]"
     ]
    },
    {
     "name": "stdout",
     "output_type": "stream",
     "text": [
      "Error in get citation for NeuralSlice: Neural 3D Triangle Mesh Reconstruction via Slicing 4D Tetrahedral Meshes\n"
     ]
    },
    {
     "name": "stderr",
     "output_type": "stream",
     "text": [
      " 26%|██▌       | 75/291 [05:05<41:46, 11.61s/it]"
     ]
    },
    {
     "name": "stdout",
     "output_type": "stream",
     "text": [
      "Error in get citation for A Critical Revisit of Adversarial Robustness in 3D Point Cloud Recognition with Diffusion Driven Purification\n"
     ]
    },
    {
     "name": "stderr",
     "output_type": "stream",
     "text": [
      " 35%|███▍      | 101/291 [06:36<35:57, 11.36s/it]"
     ]
    },
    {
     "name": "stdout",
     "output_type": "stream",
     "text": [
      "Error in get citation for Orthogonality Enforced Latent Space in Autoencoders: An Approach to Learning Disentangled Representations\n"
     ]
    },
    {
     "name": "stderr",
     "output_type": "stream",
     "text": [
      " 39%|███▉      | 113/291 [07:03<06:42,  2.26s/it]"
     ]
    },
    {
     "name": "stdout",
     "output_type": "stream",
     "text": [
      "Error in get citation for Learning Affinity with Hyperbolic Representation for Spatial Propagation\n"
     ]
    },
    {
     "name": "stderr",
     "output_type": "stream",
     "text": [
      " 40%|███▉      | 115/291 [07:07<06:10,  2.10s/it]"
     ]
    },
    {
     "name": "stdout",
     "output_type": "stream",
     "text": [
      "Error in get citation for SurProGenes: Survival Risk Ordered Representation of Cancer Patients and Genes for the Identification of Prognostic Genes\n"
     ]
    },
    {
     "name": "stderr",
     "output_type": "stream",
     "text": [
      " 42%|████▏     | 123/291 [07:57<15:29,  5.53s/it]"
     ]
    },
    {
     "name": "stdout",
     "output_type": "stream",
     "text": [
      "Error in get citation for Bayesian Progressive Deep Topic Model with Knowledge Informed Textual Data Coarsening Process\n"
     ]
    },
    {
     "name": "stderr",
     "output_type": "stream",
     "text": [
      " 46%|████▌     | 133/291 [08:19<05:56,  2.26s/it]"
     ]
    },
    {
     "name": "stdout",
     "output_type": "stream",
     "text": [
      "Error in get citation for Eliminating Adversarial Noise via Information Discard and Robust Representation Restoration\n"
     ]
    },
    {
     "name": "stderr",
     "output_type": "stream",
     "text": [
      " 47%|████▋     | 138/291 [08:59<13:05,  5.13s/it]"
     ]
    },
    {
     "name": "stdout",
     "output_type": "stream",
     "text": [
      "Error in get citation for All in a Row: Compressed Convolution Networks for Graphs\n"
     ]
    },
    {
     "name": "stderr",
     "output_type": "stream",
     "text": [
      " 52%|█████▏    | 152/291 [09:27<04:26,  1.92s/it]"
     ]
    },
    {
     "name": "stdout",
     "output_type": "stream",
     "text": [
      "Error in get citation for Towards Learning Geometric Eigen Lengths Crucial for Fitting Tasks\n"
     ]
    },
    {
     "name": "stderr",
     "output_type": "stream",
     "text": [
      " 61%|██████    | 177/291 [13:57<44:17, 23.31s/it]  "
     ]
    },
    {
     "name": "stdout",
     "output_type": "stream",
     "text": [
      "Error in get citation for Cooperation in the Latent Space: The Benefits of Adding Mixture Components in Variational Autoencoders\n"
     ]
    },
    {
     "name": "stderr",
     "output_type": "stream",
     "text": [
      " 68%|██████▊   | 197/291 [15:51<10:46,  6.88s/it]"
     ]
    },
    {
     "name": "stdout",
     "output_type": "stream",
     "text": [
      "Error in get citation for RACE: Improve Multi Agent Reinforcement Learning with Representation Asymmetry and Collaborative Evolution\n"
     ]
    },
    {
     "name": "stderr",
     "output_type": "stream",
     "text": [
      " 69%|██████▉   | 202/291 [17:36<25:38, 17.29s/it]"
     ]
    },
    {
     "name": "stdout",
     "output_type": "stream",
     "text": [
      "Error in get citation for RGE: A Repulsive Graph Rectification for Node Classification via Influence\n"
     ]
    },
    {
     "name": "stderr",
     "output_type": "stream",
     "text": [
      " 70%|██████▉   | 203/291 [17:38<18:36, 12.69s/it]"
     ]
    },
    {
     "name": "stdout",
     "output_type": "stream",
     "text": [
      "Error in get citation for The Persistent Laplacian for Data Science: Evaluating Higher Order Persistent Spectral Representations of Data\n"
     ]
    },
    {
     "name": "stderr",
     "output_type": "stream",
     "text": [
      " 73%|███████▎  | 211/291 [19:27<14:38, 10.98s/it]"
     ]
    },
    {
     "name": "stdout",
     "output_type": "stream",
     "text": [
      "Error in get citation for Learning Expressive Priors for Generalization and Uncertainty Estimation in Neural Networks\n"
     ]
    },
    {
     "name": "stderr",
     "output_type": "stream",
     "text": [
      " 73%|███████▎  | 212/291 [19:29<10:52,  8.26s/it]"
     ]
    },
    {
     "name": "stdout",
     "output_type": "stream",
     "text": [
      "Error in get citation for Is Overfitting Necessary for Implicit Video Representation? \n"
     ]
    },
    {
     "name": "stderr",
     "output_type": "stream",
     "text": [
      " 74%|███████▍  | 216/291 [19:38<04:28,  3.58s/it]"
     ]
    },
    {
     "name": "stdout",
     "output_type": "stream",
     "text": [
      "Error in get citation for Out of Distribution Generalization of Federated Learning via Implicit Invariant Relationships\n"
     ]
    },
    {
     "name": "stderr",
     "output_type": "stream",
     "text": [
      " 77%|███████▋  | 224/291 [21:29<10:14,  9.18s/it]"
     ]
    },
    {
     "name": "stdout",
     "output_type": "stream",
     "text": [
      "Error in get citation for Principled Offline RL in the Presence of Rich Exogenous Information\n"
     ]
    },
    {
     "name": "stderr",
     "output_type": "stream",
     "text": [
      " 77%|███████▋  | 225/291 [21:31<07:42,  7.00s/it]"
     ]
    },
    {
     "name": "stdout",
     "output_type": "stream",
     "text": [
      "Error in get citation for Team Belief DAG: Generalizing the Sequence Form to Team Games for Fast Computation of Correlated Team Max Min Equilibria via Regret Minimization\n"
     ]
    },
    {
     "name": "stderr",
     "output_type": "stream",
     "text": [
      " 79%|███████▊  | 229/291 [22:12<13:16, 12.85s/it]"
     ]
    },
    {
     "name": "stdout",
     "output_type": "stream",
     "text": [
      "Error in get citation for Deep Temporal Sets with Evidential Reinforced Attentions for Unique Behavioral Pattern Discovery\n"
     ]
    },
    {
     "name": "stderr",
     "output_type": "stream",
     "text": [
      " 80%|███████▉  | 232/291 [22:19<05:44,  5.84s/it]"
     ]
    },
    {
     "name": "stdout",
     "output_type": "stream",
     "text": [
      "Error in get citation for On the Functional Similarity of Robust and Non Robust Neural Representations\n"
     ]
    },
    {
     "name": "stderr",
     "output_type": "stream",
     "text": [
      " 82%|████████▏ | 240/291 [23:36<07:39,  9.01s/it]"
     ]
    },
    {
     "name": "stdout",
     "output_type": "stream",
     "text": [
      "Error in get citation for MAGANet: Achieving Combinatorial Generalization by Modeling a Group Action\n"
     ]
    },
    {
     "name": "stderr",
     "output_type": "stream",
     "text": [
      " 84%|████████▎ | 243/291 [23:43<03:34,  4.47s/it]"
     ]
    },
    {
     "name": "stdout",
     "output_type": "stream",
     "text": [
      "Error in get citation for FedCR: Personalized Federated Learning Based on Across Client Common Representation with Conditional Mutual Information Regularization\n"
     ]
    },
    {
     "name": "stderr",
     "output_type": "stream",
     "text": [
      " 85%|████████▌ | 248/291 [24:24<08:26, 11.78s/it]"
     ]
    },
    {
     "name": "stdout",
     "output_type": "stream",
     "text": [
      "Error in get citation for The Catalog Problem: Clustering and Ordering Variable Sized Sets\n"
     ]
    },
    {
     "name": "stderr",
     "output_type": "stream",
     "text": [
      " 89%|████████▉ | 260/291 [24:54<01:17,  2.50s/it]"
     ]
    },
    {
     "name": "stdout",
     "output_type": "stream",
     "text": [
      "Error in get citation for Ske2Grid: Skeleton to Grid Representation Learning for Action Recognition\n"
     ]
    },
    {
     "name": "stderr",
     "output_type": "stream",
     "text": [
      " 90%|████████▉ | 261/291 [24:56<01:09,  2.32s/it]"
     ]
    },
    {
     "name": "stdout",
     "output_type": "stream",
     "text": [
      "Error in get citation for Neural Latent Aligner: Cross trial Alignment for Learning Representations of Complex, Naturalistic Neural Data\n"
     ]
    },
    {
     "name": "stderr",
     "output_type": "stream",
     "text": [
      "100%|██████████| 291/291 [27:06<00:00,  2.33s/it]"
     ]
    },
    {
     "name": "stdout",
     "output_type": "stream",
     "text": [
      "Error in get citation for Reducing SO(3) Convolutions to SO(2) for Efficient Equivariant GNNs\n"
     ]
    },
    {
     "name": "stderr",
     "output_type": "stream",
     "text": [
      "100%|██████████| 291/291 [27:09<00:00,  5.60s/it]\n"
     ]
    },
    {
     "name": "stdout",
     "output_type": "stream",
     "text": [
      "topic motion\n",
      "27 1866\n"
     ]
    },
    {
     "name": "stderr",
     "output_type": "stream",
     "text": [
      " 26%|██▌       | 7/27 [00:43<02:15,  6.78s/it]"
     ]
    },
    {
     "name": "stdout",
     "output_type": "stream",
     "text": [
      "Error in get citation for Do You Remember? Overcoming Catastrophic Forgetting for Fake Audio Detection\n"
     ]
    },
    {
     "name": "stderr",
     "output_type": "stream",
     "text": [
      " 37%|███▋      | 10/27 [00:50<01:06,  3.92s/it]"
     ]
    },
    {
     "name": "stdout",
     "output_type": "stream",
     "text": [
      "Error in get citation for SE(3) diffusion model with application to protein backbone generation\n"
     ]
    },
    {
     "name": "stderr",
     "output_type": "stream",
     "text": [
      " 56%|█████▌    | 15/27 [01:33<01:48,  9.05s/it]"
     ]
    },
    {
     "name": "stdout",
     "output_type": "stream",
     "text": [
      "Error in get citation for Cognitive Models as Simulators: Using Cognitive Models to Tap into Implicit Human Feedback\n"
     ]
    },
    {
     "name": "stderr",
     "output_type": "stream",
     "text": [
      " 70%|███████   | 19/27 [02:13<01:06,  8.33s/it]"
     ]
    },
    {
     "name": "stdout",
     "output_type": "stream",
     "text": [
      "Error in get citation for IRNeXt: Rethinking Convolutional Network Design for Image Restoration\n"
     ]
    },
    {
     "name": "stderr",
     "output_type": "stream",
     "text": [
      " 89%|████████▉ | 24/27 [02:25<00:09,  3.33s/it]"
     ]
    },
    {
     "name": "stdout",
     "output_type": "stream",
     "text": [
      "Error in get citation for Go Beyond Imagination: Maximizing Episodic Reachability with World Models\n"
     ]
    },
    {
     "name": "stderr",
     "output_type": "stream",
     "text": [
      "100%|██████████| 27/27 [03:07<00:00,  6.94s/it]\n"
     ]
    },
    {
     "name": "stdout",
     "output_type": "stream",
     "text": [
      "topic decision trees\n",
      "5 1866\n"
     ]
    },
    {
     "name": "stderr",
     "output_type": "stream",
     "text": [
      " 80%|████████  | 4/5 [00:05<00:01,  1.48s/it]"
     ]
    },
    {
     "name": "stdout",
     "output_type": "stream",
     "text": [
      "Error in get citation for Blossom: an Anytime Algorithm for Computing Optimal Decision Trees\n"
     ]
    },
    {
     "name": "stderr",
     "output_type": "stream",
     "text": [
      "100%|██████████| 5/5 [00:10<00:00,  2.18s/it]\n"
     ]
    },
    {
     "name": "stdout",
     "output_type": "stream",
     "text": [
      "topic radiance field\n",
      "6 1866\n"
     ]
    },
    {
     "name": "stderr",
     "output_type": "stream",
     "text": [
      "100%|██████████| 6/6 [00:12<00:00,  2.03s/it]\n"
     ]
    },
    {
     "name": "stdout",
     "output_type": "stream",
     "text": [
      "topic diffusion models\n",
      "82 1866\n"
     ]
    },
    {
     "name": "stderr",
     "output_type": "stream",
     "text": [
      " 28%|██▊       | 23/82 [01:20<02:18,  2.35s/it]"
     ]
    },
    {
     "name": "stdout",
     "output_type": "stream",
     "text": [
      "Error in get citation for A Critical Revisit of Adversarial Robustness in 3D Point Cloud Recognition with Diffusion Driven Purification\n"
     ]
    },
    {
     "name": "stderr",
     "output_type": "stream",
     "text": [
      " 30%|███       | 25/82 [01:25<02:15,  2.37s/it]"
     ]
    },
    {
     "name": "stdout",
     "output_type": "stream",
     "text": [
      "Error in get citation for SE(3) diffusion model with application to protein backbone generation\n"
     ]
    },
    {
     "name": "stderr",
     "output_type": "stream",
     "text": [
      " 32%|███▏      | 26/82 [01:27<02:04,  2.22s/it]"
     ]
    },
    {
     "name": "stdout",
     "output_type": "stream",
     "text": [
      "Error in get citation for DDGR: Continual Learning with Deep Diffusion based Generative Replay\n"
     ]
    },
    {
     "name": "stderr",
     "output_type": "stream",
     "text": [
      " 34%|███▍      | 28/82 [02:03<10:28, 11.64s/it]"
     ]
    },
    {
     "name": "stdout",
     "output_type": "stream",
     "text": [
      "Error in get citation for PixelAsParam: A Gradient View on Diffusion Sampling with Guidance\n"
     ]
    },
    {
     "name": "stderr",
     "output_type": "stream",
     "text": [
      " 48%|████▊     | 39/82 [02:27<01:41,  2.37s/it]"
     ]
    },
    {
     "name": "stdout",
     "output_type": "stream",
     "text": [
      "Error in get citation for SDDM: Score Decomposed Diffusion Models on Manifolds for Unpaired Image to Image Translation\n"
     ]
    },
    {
     "name": "stderr",
     "output_type": "stream",
     "text": [
      "100%|██████████| 82/82 [05:42<00:00,  4.18s/it]\n"
     ]
    },
    {
     "name": "stdout",
     "output_type": "stream",
     "text": [
      "topic federated learning\n",
      "47 1866\n"
     ]
    },
    {
     "name": "stderr",
     "output_type": "stream",
     "text": [
      "  4%|▍         | 2/47 [00:01<00:43,  1.04it/s]"
     ]
    },
    {
     "name": "stdout",
     "output_type": "stream",
     "text": [
      "Error in get citation for Analysis of Error Feedback in Federated Non Convex Optimization with Biased Compression: Fast Convergence and Partial Participation\n"
     ]
    },
    {
     "name": "stderr",
     "output_type": "stream",
     "text": [
      " 51%|█████     | 24/47 [01:18<00:55,  2.42s/it]"
     ]
    },
    {
     "name": "stdout",
     "output_type": "stream",
     "text": [
      "Error in get citation for No One Idles: Efficient Heterogeneous Federated Learning with Parallel Edge and Server Computation\n"
     ]
    },
    {
     "name": "stderr",
     "output_type": "stream",
     "text": [
      " 64%|██████▍   | 30/47 [01:32<00:39,  2.35s/it]"
     ]
    },
    {
     "name": "stdout",
     "output_type": "stream",
     "text": [
      "Error in get citation for Fast Federated Machine Unlearning with Nonlinear Functional Theory\n"
     ]
    },
    {
     "name": "stderr",
     "output_type": "stream",
     "text": [
      " 74%|███████▍  | 35/47 [02:13<02:15, 11.30s/it]"
     ]
    },
    {
     "name": "stdout",
     "output_type": "stream",
     "text": [
      "Error in get citation for Out of Distribution Generalization of Federated Learning via Implicit Invariant Relationships\n"
     ]
    },
    {
     "name": "stderr",
     "output_type": "stream",
     "text": [
      " 77%|███████▋  | 36/47 [02:15<01:33,  8.48s/it]"
     ]
    },
    {
     "name": "stdout",
     "output_type": "stream",
     "text": [
      "Error in get citation for GuardHFL: Privacy Guardian for Heterogeneous Federated Learning\n"
     ]
    },
    {
     "name": "stderr",
     "output_type": "stream",
     "text": [
      " 81%|████████  | 38/47 [02:18<00:46,  5.14s/it]"
     ]
    },
    {
     "name": "stdout",
     "output_type": "stream",
     "text": [
      "Error in get citation for FedCR: Personalized Federated Learning Based on Across Client Common Representation with Conditional Mutual Information Regularization\n"
     ]
    },
    {
     "name": "stderr",
     "output_type": "stream",
     "text": [
      " 83%|████████▎ | 39/47 [02:20<00:33,  4.17s/it]"
     ]
    },
    {
     "name": "stdout",
     "output_type": "stream",
     "text": [
      "Error in get citation for FedAvg Converges to Zero Training Loss Linearly for Overparameterized Multi Layer Neural Networks\n"
     ]
    },
    {
     "name": "stderr",
     "output_type": "stream",
     "text": [
      " 85%|████████▌ | 40/47 [02:22<00:23,  3.39s/it]"
     ]
    },
    {
     "name": "stdout",
     "output_type": "stream",
     "text": [
      "Error in get citation for LeadFL: Client Self Defense against Model Poisoning in Federated Learning\n"
     ]
    },
    {
     "name": "stderr",
     "output_type": "stream",
     "text": [
      " 87%|████████▋ | 41/47 [02:24<00:17,  2.94s/it]"
     ]
    },
    {
     "name": "stdout",
     "output_type": "stream",
     "text": [
      "Error in get citation for FedHPO Bench: A Benchmark Suite for Federated Hyperparameter Optimization\n"
     ]
    },
    {
     "name": "stderr",
     "output_type": "stream",
     "text": [
      "100%|██████████| 47/47 [02:38<00:00,  3.38s/it]\n"
     ]
    },
    {
     "name": "stdout",
     "output_type": "stream",
     "text": [
      "Saved to data/2023/7_icml.csv_topics.csv_emerging.xlsx\n"
     ]
    }
   ],
   "source": [
    "get_conf_topics_all(conf_path='data/2023/7_icml.csv_topics.csv', topics=['zero_few-shot', 'graph', 'optimization', 'reinforcement learning', 'representation',\n",
    "                                                                         'motion', 'decision trees', 'radiance field', 'diffusion models', 'federated learning'])"
   ]
  },
  {
   "cell_type": "code",
   "execution_count": null,
   "id": "e0032d69",
   "metadata": {},
   "outputs": [],
   "source": []
  }
 ],
 "metadata": {
  "kernelspec": {
   "display_name": "Python 3 (ipykernel)",
   "language": "python",
   "name": "python3"
  },
  "language_info": {
   "codemirror_mode": {
    "name": "ipython",
    "version": 3
   },
   "file_extension": ".py",
   "mimetype": "text/x-python",
   "name": "python",
   "nbconvert_exporter": "python",
   "pygments_lexer": "ipython3",
   "version": "3.7.12"
  }
 },
 "nbformat": 4,
 "nbformat_minor": 5
}
