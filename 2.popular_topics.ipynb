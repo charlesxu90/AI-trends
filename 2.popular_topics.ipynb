{
 "cells": [
  {
   "attachments": {},
   "cell_type": "markdown",
   "id": "84f8733e",
   "metadata": {},
   "source": [
    "# The interesting topics in this year"
   ]
  },
  {
   "cell_type": "code",
   "execution_count": 1,
   "id": "81c1571f",
   "metadata": {},
   "outputs": [],
   "source": [
    "from semanticscholar import SemanticScholar\n",
    "import time\n",
    "import pandas as pd\n",
    "from tqdm import tqdm\n",
    "tqdm.pandas()\n",
    "\n",
    "def get_paper_citation(title):\n",
    "    sch = SemanticScholar()\n",
    "    time.sleep(1)\n",
    "    title = title.replace('-', ' ')\n",
    "    try:\n",
    "        papers = sch.search_paper(title)\n",
    "        if len(papers) > 0:\n",
    "            return papers[0].citationCount\n",
    "    except:\n",
    "        print(f'Error in get citation for {title}')\n",
    "    \n",
    "    return 0"
   ]
  },
  {
   "cell_type": "code",
   "execution_count": 2,
   "id": "55ddcb74",
   "metadata": {},
   "outputs": [],
   "source": [
    "def get_conf_topics(conf_path='data/2023/5_iclr.csv_topics.csv', topics=['multimodal']):\n",
    "    df_conf = pd.read_csv(conf_path)\n",
    "\n",
    "    save_path = conf_path + '_emerging.xlsx'\n",
    "    writer = pd.ExcelWriter(save_path, engine=\"xlsxwriter\")\n",
    "\n",
    "    # if topics within the list of topics\n",
    "    df_conf_topics = df_conf[df_conf['topic'].str.contains('|'.join(topics), case=False, na=False)].copy()\n",
    "\n",
    "    ss_citations = []\n",
    "    for title in tqdm(df_conf_topics['title'], ncols=80):\n",
    "        ss_citations.append(get_paper_citation(title))\n",
    "        time.sleep(1)\n",
    "    \n",
    "    df_conf_topics['ss_citations'] = ss_citations\n",
    "    df_conf_topics['google_scholar_link'] = df_conf_topics['title'].apply(lambda x: 'https://scholar.google.com/scholar?q=' + x.replace(' ', '+'))\n",
    "\n",
    "    df_conf_topics[['title','year','source','ss_citations','google_scholar_link', 'topic']].to_excel(writer, sheet_name='topics', index=False)\n",
    "    writer.close()\n",
    "    print(f'Saved to {save_path}')"
   ]
  },
  {
   "cell_type": "markdown",
   "id": "aaa166a7",
   "metadata": {},
   "source": [
    "# 2023"
   ]
  },
  {
   "attachments": {},
   "cell_type": "markdown",
   "id": "15d63550-6739-4c20-8286-51390c6baf87",
   "metadata": {
    "tags": []
   },
   "source": [
    "## 2023, ICLR, May"
   ]
  },
  {
   "cell_type": "code",
   "execution_count": 3,
   "id": "a4aa89c3",
   "metadata": {},
   "outputs": [],
   "source": [
    "# get_conf_topics_all(conf_path='data/2023/5_iclr.csv_topics.csv', topics=['multimodal', 'diffusion models', 'llm', 'self-supervision'])"
   ]
  },
  {
   "attachments": {},
   "cell_type": "markdown",
   "id": "3047ece0",
   "metadata": {},
   "source": [
    "## 2023, CVPR, June"
   ]
  },
  {
   "cell_type": "code",
   "execution_count": 4,
   "id": "b6edc0ff",
   "metadata": {},
   "outputs": [],
   "source": [
    "# get_conf_topics_all(conf_path='data/2023/6_cvpr.csv_topics.csv', topics=['3d', 'zero_few-shot', 'transformer', 'segmentation', 'multimodal', \n",
    "# 'imitation learning', 'radiance field', 'motion', 'diffusion models', 'multi-agent'])"
   ]
  },
  {
   "attachments": {},
   "cell_type": "markdown",
   "id": "1ffb325a",
   "metadata": {},
   "source": [
    "## 2023, ICML, July"
   ]
  },
  {
   "cell_type": "code",
   "execution_count": 5,
   "id": "4bf2d176",
   "metadata": {},
   "outputs": [],
   "source": [
    "# get_conf_topics_all(conf_path='data/2023/7_icml.csv_topics.csv', topics=['zero_few-shot', 'graph', 'optimization', 'reinforcement learning', 'representation',\n",
    "# 'motion', 'decision trees', 'radiance field', 'diffusion models', 'federated learning'])"
   ]
  },
  {
   "cell_type": "markdown",
   "metadata": {},
   "source": [
    "## 2023, ICCV, Oct."
   ]
  },
  {
   "cell_type": "code",
   "execution_count": 6,
   "id": "e0032d69",
   "metadata": {},
   "outputs": [],
   "source": [
    "# get_conf_topics(conf_path='data/2023/10_ICCV.csv_topics.csv', topics=['object detection', '3d', 'segmentation', 'transformer', 'zero_few-shot'])"
   ]
  },
  {
   "cell_type": "markdown",
   "metadata": {},
   "source": [
    "## 2023, NIPS, Dec."
   ]
  },
  {
   "cell_type": "code",
   "execution_count": 7,
   "metadata": {},
   "outputs": [],
   "source": [
    "# get_conf_topics(conf_path='data/2023/12_nips.csv_topics.csv', topics=['object detection', 'zero_few-shot', 'graph', 'optimization', 'llm', 'radiance field', 'motion', 'differential equation solving', 'rl'])"
   ]
  },
  {
   "cell_type": "markdown",
   "id": "ff4b23f8",
   "metadata": {},
   "source": [
    "# 2024"
   ]
  },
  {
   "cell_type": "markdown",
   "id": "ed9062ef",
   "metadata": {},
   "source": [
    "## 2024, ICLR, May"
   ]
  },
  {
   "cell_type": "code",
   "execution_count": 8,
   "id": "cf5f7c27",
   "metadata": {},
   "outputs": [],
   "source": [
    "# get_conf_topics(conf_path='data/2024/5_iclr.csv_topics.csv', topics=['graph', 'zero_few-shot', 'llm', 'transformer', 'generative model', 'reward model', 'watermark', 'foundation models', 'model merging', 'diffusion models'])"
   ]
  },
  {
   "cell_type": "markdown",
   "id": "95b35586",
   "metadata": {},
   "source": [
    "## 2024, CVPR, June"
   ]
  },
  {
   "cell_type": "code",
   "execution_count": 9,
   "id": "3e01e9e0",
   "metadata": {},
   "outputs": [],
   "source": [
    "# get_conf_topics(conf_path='data/2024/6_cvpr.csv_topics.csv', topics=['3d', 'generative model', 'segmentation', 'multimodal', 'zero_few-shot', 'watermark', 'streaming', 'token', 'autonomous driving', 'entangle'])"
   ]
  },
  {
   "cell_type": "markdown",
   "id": "87fa2421",
   "metadata": {},
   "source": [
    "## 2024, ICML, July"
   ]
  },
  {
   "cell_type": "code",
   "execution_count": 11,
   "metadata": {},
   "outputs": [],
   "source": [
    "# get_conf_topics(conf_path='data/2024/7_icml.csv_topics.csv', topics=['deformation', 'autonomous driving', 'object detection', 'splatting', 'token', 'graph', 'zero_few-shot', 'llm', 'optimization', 'transformer'])"
   ]
  },
  {
   "cell_type": "markdown",
   "id": "2a5e1ac6",
   "metadata": {},
   "source": [
    "## 2024, NIPS, Dec."
   ]
  },
  {
   "cell_type": "code",
   "execution_count": 3,
   "id": "1d3edab5",
   "metadata": {},
   "outputs": [],
   "source": [
    "# get_conf_topics(conf_path='data/2024/12_nips.csv_topics.csv', topics=['zero_few-shot', 'graph', 'llm', 'optimization', 'transformer', '4D', 'splatting', 'diffusion transformer', 'state space model', 'text-to-video'])"
   ]
  },
  {
   "cell_type": "markdown",
   "id": "773a7a98",
   "metadata": {},
   "source": [
    "# 2025"
   ]
  },
  {
   "cell_type": "markdown",
   "id": "d6a84d0f",
   "metadata": {},
   "source": [
    "## 2025, ICLR"
   ]
  },
  {
   "cell_type": "code",
   "execution_count": null,
   "id": "a7aad37b",
   "metadata": {},
   "outputs": [],
   "source": [
    "get_conf_topics(conf_path='data/2025/5_iclr.csv_topics.csv', topics=['graph', 'zero_few-shot', 'llm', 'generative model', 'transformer', 'Diffusion models', 'Flow matching', 'Flow', 'Agentic AI', 'Mathematical reasoning'])"
   ]
  }
 ],
 "metadata": {
  "kernelspec": {
   "display_name": "AI-trend-env",
   "language": "python",
   "name": "python3"
  },
  "language_info": {
   "codemirror_mode": {
    "name": "ipython",
    "version": 3
   },
   "file_extension": ".py",
   "mimetype": "text/x-python",
   "name": "python",
   "nbconvert_exporter": "python",
   "pygments_lexer": "ipython3",
   "version": "3.7.12"
  }
 },
 "nbformat": 4,
 "nbformat_minor": 5
}
