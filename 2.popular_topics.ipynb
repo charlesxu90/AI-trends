{
 "cells": [
  {
   "cell_type": "code",
   "execution_count": 18,
   "id": "8c4f4a1e-bd53-4d02-b947-c13a34e1f26e",
   "metadata": {},
   "outputs": [
    {
     "data": {
      "text/plain": [
       "(10590,\n",
       " Index(['title', 'year', 'source', 'authors', 'class', 'keywords', 'abstract',\n",
       "        'pdf_link', 'topic', 'google_scholar_link'],\n",
       "       dtype='object'))"
      ]
     },
     "execution_count": 18,
     "metadata": {},
     "output_type": "execute_result"
    }
   ],
   "source": [
    "import pandas as pd\n",
    "\n",
    "df_all = pd.read_csv('data/processed/all_topics.csv')\n",
    "\n",
    "# Update PDF url\n",
    "df_all['pdf_link'] = df_all['pdf_link'].apply(lambda x: 'https://api.openreview.net' + x if  isinstance(x, str) else x)\n",
    "\n",
    "# Add google scholar link by title\n",
    "df_all['google_scholar_link'] = df_all['title'].apply(lambda x: 'https://scholar.google.com/scholar?q=' + x.replace(' ', '+'))\n",
    "\n",
    "# Remove duplicates by title\n",
    "df_all = df_all.drop_duplicates(subset=['title'])\n",
    "len(df_all), df_all.columns"
   ]
  },
  {
   "attachments": {},
   "cell_type": "markdown",
   "id": "15d63550-6739-4c20-8286-51390c6baf87",
   "metadata": {
    "tags": []
   },
   "source": [
    "# Multi-modal"
   ]
  },
  {
   "cell_type": "code",
   "execution_count": 19,
   "id": "997b9056",
   "metadata": {},
   "outputs": [],
   "source": [
    "def filter_by_topic(df, topic):\n",
    "    return df[df['topic'] == topic]"
   ]
  },
  {
   "cell_type": "code",
   "execution_count": 20,
   "id": "a4aa89c3",
   "metadata": {},
   "outputs": [
    {
     "data": {
      "text/plain": [
       "44"
      ]
     },
     "execution_count": 20,
     "metadata": {},
     "output_type": "execute_result"
    }
   ],
   "source": [
    "df_multimodal = filter_by_topic(df_all, 'multimodal')\n",
    "df_multimodal.to_csv('data/topics/multimodal.csv', index=False)\n",
    "len(df_multimodal)"
   ]
  },
  {
   "attachments": {},
   "cell_type": "markdown",
   "id": "ca046299",
   "metadata": {},
   "source": [
    "# Diffusion models"
   ]
  },
  {
   "cell_type": "code",
   "execution_count": 21,
   "id": "9f2f0f54",
   "metadata": {},
   "outputs": [
    {
     "data": {
      "text/plain": [
       "35"
      ]
     },
     "execution_count": 21,
     "metadata": {},
     "output_type": "execute_result"
    }
   ],
   "source": [
    "df_diffm = filter_by_topic(df_all, 'diffusion models')\n",
    "df_diffm.to_csv('data/topics/diffm.csv', index=False)\n",
    "len(df_diffm)"
   ]
  },
  {
   "attachments": {},
   "cell_type": "markdown",
   "id": "df016eb8",
   "metadata": {},
   "source": [
    "# Graph"
   ]
  },
  {
   "cell_type": "code",
   "execution_count": 22,
   "id": "91c726ae",
   "metadata": {},
   "outputs": [
    {
     "data": {
      "text/plain": [
       "519"
      ]
     },
     "execution_count": 22,
     "metadata": {},
     "output_type": "execute_result"
    }
   ],
   "source": [
    "df_graph = filter_by_topic(df_all, 'graph')\n",
    "df_graph.to_csv('data/topics/graph.csv', index=False)\n",
    "len(df_graph)"
   ]
  },
  {
   "attachments": {},
   "cell_type": "markdown",
   "id": "2c905e3e",
   "metadata": {},
   "source": [
    "# 3D"
   ]
  },
  {
   "cell_type": "code",
   "execution_count": 24,
   "id": "1621e09c",
   "metadata": {},
   "outputs": [
    {
     "data": {
      "text/plain": [
       "62"
      ]
     },
     "execution_count": 24,
     "metadata": {},
     "output_type": "execute_result"
    }
   ],
   "source": [
    "df_3d = filter_by_topic(df_all, '3d')\n",
    "df_3d.to_csv('data/topics/3d.csv', index=False)\n",
    "len(df_3d)"
   ]
  },
  {
   "attachments": {},
   "cell_type": "markdown",
   "id": "0d32b2ee",
   "metadata": {},
   "source": [
    "# LLM"
   ]
  },
  {
   "cell_type": "code",
   "execution_count": 25,
   "id": "1daa121d",
   "metadata": {},
   "outputs": [
    {
     "data": {
      "text/plain": [
       "67"
      ]
     },
     "execution_count": 25,
     "metadata": {},
     "output_type": "execute_result"
    }
   ],
   "source": [
    "df_llm = filter_by_topic(df_all, 'llm')\n",
    "df_llm.to_csv('data/topics/llm.csv', index=False)\n",
    "len(df_llm)"
   ]
  },
  {
   "cell_type": "code",
   "execution_count": null,
   "id": "19163e34",
   "metadata": {},
   "outputs": [],
   "source": []
  }
 ],
 "metadata": {
  "kernelspec": {
   "display_name": "Python 3 (ipykernel)",
   "language": "python",
   "name": "python3"
  },
  "language_info": {
   "codemirror_mode": {
    "name": "ipython",
    "version": 3
   },
   "file_extension": ".py",
   "mimetype": "text/x-python",
   "name": "python",
   "nbconvert_exporter": "python",
   "pygments_lexer": "ipython3",
   "version": "3.7.12"
  }
 },
 "nbformat": 4,
 "nbformat_minor": 5
}
