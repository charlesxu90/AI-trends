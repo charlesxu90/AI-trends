{
 "cells": [
  {
   "attachments": {},
   "cell_type": "markdown",
   "id": "84f8733e",
   "metadata": {},
   "source": [
    "# The interesting topics in this year"
   ]
  },
  {
   "cell_type": "code",
   "execution_count": 1,
   "id": "81c1571f",
   "metadata": {},
   "outputs": [],
   "source": [
    "from semanticscholar import SemanticScholar\n",
    "import time\n",
    "import pandas as pd\n",
    "from tqdm import tqdm\n",
    "tqdm.pandas()\n",
    "\n",
    "def get_paper_citation(title):\n",
    "    sch = SemanticScholar()\n",
    "    time.sleep(1)\n",
    "    title = title.replace('-', ' ')\n",
    "    try:\n",
    "        papers = sch.search_paper(title)\n",
    "        if len(papers) > 0:\n",
    "            return papers[0].citationCount\n",
    "    except:\n",
    "        print(f'Error in get citation for {title}')\n",
    "    \n",
    "    return 0"
   ]
  },
  {
   "cell_type": "code",
   "execution_count": 2,
   "id": "55ddcb74",
   "metadata": {},
   "outputs": [],
   "source": [
    "def get_conf_topics(conf_path='data/2023/5_iclr.csv_topics.csv', topics=['multimodal']):\n",
    "    df_conf = pd.read_csv(conf_path)\n",
    "\n",
    "    save_path = conf_path + '_emerging.xlsx'\n",
    "    writer = pd.ExcelWriter(save_path, engine=\"xlsxwriter\")\n",
    "\n",
    "    # if topics within the list of topics\n",
    "    df_conf_topics = df_conf[df_conf['topic'].str.contains('|'.join(topics), case=False, na=False)].copy()\n",
    "\n",
    "    ss_citations = []\n",
    "    for title in tqdm(df_conf_topics['title'], ncols=80):\n",
    "        ss_citations.append(get_paper_citation(title))\n",
    "        time.sleep(1)\n",
    "    \n",
    "    df_conf_topics['ss_citations'] = ss_citations\n",
    "    df_conf_topics['google_scholar_link'] = df_conf_topics['title'].apply(lambda x: 'https://scholar.google.com/scholar?q=' + x.replace(' ', '+'))\n",
    "\n",
    "    df_conf_topics[['title','year','source','ss_citations','google_scholar_link', 'topic']].to_excel(writer, sheet_name='topics', index=False)\n",
    "    writer.close()\n",
    "    print(f'Saved to {save_path}')"
   ]
  },
  {
   "cell_type": "markdown",
   "id": "aaa166a7",
   "metadata": {},
   "source": [
    "# 2023"
   ]
  },
  {
   "attachments": {},
   "cell_type": "markdown",
   "id": "15d63550-6739-4c20-8286-51390c6baf87",
   "metadata": {
    "tags": []
   },
   "source": [
    "## 2023, ICLR, May"
   ]
  },
  {
   "cell_type": "code",
   "execution_count": 3,
   "id": "a4aa89c3",
   "metadata": {},
   "outputs": [],
   "source": [
    "# get_conf_topics_all(conf_path='data/2023/5_iclr.csv_topics.csv', topics=['multimodal', 'diffusion models', 'llm', 'self-supervision'])"
   ]
  },
  {
   "attachments": {},
   "cell_type": "markdown",
   "id": "3047ece0",
   "metadata": {},
   "source": [
    "## 2023, CVPR, June"
   ]
  },
  {
   "cell_type": "code",
   "execution_count": 4,
   "id": "b6edc0ff",
   "metadata": {},
   "outputs": [],
   "source": [
    "# get_conf_topics_all(conf_path='data/2023/6_cvpr.csv_topics.csv', topics=['3d', 'zero_few-shot', 'transformer', 'segmentation', 'multimodal', \n",
    "# 'imitation learning', 'radiance field', 'motion', 'diffusion models', 'multi-agent'])"
   ]
  },
  {
   "attachments": {},
   "cell_type": "markdown",
   "id": "1ffb325a",
   "metadata": {},
   "source": [
    "## 2023, ICML, July"
   ]
  },
  {
   "cell_type": "code",
   "execution_count": 5,
   "id": "4bf2d176",
   "metadata": {},
   "outputs": [],
   "source": [
    "# get_conf_topics_all(conf_path='data/2023/7_icml.csv_topics.csv', topics=['zero_few-shot', 'graph', 'optimization', 'reinforcement learning', 'representation',\n",
    "# 'motion', 'decision trees', 'radiance field', 'diffusion models', 'federated learning'])"
   ]
  },
  {
   "cell_type": "markdown",
   "metadata": {},
   "source": [
    "## 2023, ICCV, Oct."
   ]
  },
  {
   "cell_type": "code",
   "execution_count": 6,
   "id": "e0032d69",
   "metadata": {},
   "outputs": [],
   "source": [
    "# get_conf_topics(conf_path='data/2023/10_ICCV.csv_topics.csv', topics=['object detection', '3d', 'segmentation', 'transformer', 'zero_few-shot'])"
   ]
  },
  {
   "cell_type": "markdown",
   "metadata": {},
   "source": [
    "## 2023, NIPS, Dec."
   ]
  },
  {
   "cell_type": "code",
   "execution_count": 7,
   "metadata": {},
   "outputs": [],
   "source": [
    "# get_conf_topics(conf_path='data/2023/12_nips.csv_topics.csv', topics=['object detection', 'zero_few-shot', 'graph', 'optimization', 'llm', 'radiance field', 'motion', 'differential equation solving', 'rl'])"
   ]
  },
  {
   "cell_type": "markdown",
   "id": "ff4b23f8",
   "metadata": {},
   "source": [
    "# 2024"
   ]
  },
  {
   "cell_type": "markdown",
   "id": "ed9062ef",
   "metadata": {},
   "source": [
    "## 2024, ICLR, May"
   ]
  },
  {
   "cell_type": "code",
   "execution_count": 8,
   "id": "cf5f7c27",
   "metadata": {},
   "outputs": [],
   "source": [
    "# get_conf_topics(conf_path='data/2024/5_iclr.csv_topics.csv', topics=['graph', 'zero_few-shot', 'llm', 'transformer', 'generative model', 'reward model', 'watermark', 'foundation models', 'model merging', 'diffusion models'])"
   ]
  },
  {
   "cell_type": "markdown",
   "id": "95b35586",
   "metadata": {},
   "source": [
    "## 2024, CVPR, June"
   ]
  },
  {
   "cell_type": "code",
   "execution_count": 9,
   "id": "3e01e9e0",
   "metadata": {},
   "outputs": [],
   "source": [
    "# get_conf_topics(conf_path='data/2024/6_cvpr.csv_topics.csv', topics=['3d', 'generative model', 'segmentation', 'multimodal', 'zero_few-shot', 'watermark', 'streaming', 'token', 'autonomous driving', 'entangle'])"
   ]
  },
  {
   "cell_type": "markdown",
   "id": "87fa2421",
   "metadata": {},
   "source": [
    "## 2024, ICML, July"
   ]
  },
  {
   "cell_type": "code",
   "execution_count": 10,
   "metadata": {},
   "outputs": [],
   "source": [
    "# get_conf_topics(conf_path='data/2024/7_icml.csv_topics.csv', topics=['deformation', 'autonomous driving', 'object detection', 'splatting', 'token', 'graph', 'zero_few-shot', 'llm', 'optimization', 'transformer'])"
   ]
  },
  {
   "cell_type": "markdown",
   "id": "2a5e1ac6",
   "metadata": {},
   "source": [
    "## 2024, NIPS, Dec."
   ]
  },
  {
   "cell_type": "code",
   "execution_count": 11,
   "id": "1d3edab5",
   "metadata": {},
   "outputs": [],
   "source": [
    "# get_conf_topics(conf_path='data/2024/12_nips.csv_topics.csv', topics=['zero_few-shot', 'graph', 'llm', 'optimization', 'transformer', '4D', 'splatting', 'diffusion transformer', 'state space model', 'text-to-video'])"
   ]
  },
  {
   "cell_type": "markdown",
   "id": "773a7a98",
   "metadata": {},
   "source": [
    "# 2025"
   ]
  },
  {
   "cell_type": "markdown",
   "id": "d6a84d0f",
   "metadata": {},
   "source": [
    "## 2025, ICLR"
   ]
  },
  {
   "cell_type": "code",
   "execution_count": 12,
   "id": "a7aad37b",
   "metadata": {},
   "outputs": [
    {
     "name": "stderr",
     "output_type": "stream",
     "text": [
      "  0%|                                       | 1/3396 [00:38<36:39:25, 38.87s/it]"
     ]
    },
    {
     "name": "stdout",
     "output_type": "stream",
     "text": [
      "Error in get citation for Self supervised contrastive learning performs non linear system identification\n"
     ]
    },
    {
     "name": "stderr",
     "output_type": "stream",
     "text": [
      "  0%|                                       | 3/3396 [00:54<13:11:24, 13.99s/it]"
     ]
    },
    {
     "name": "stdout",
     "output_type": "stream",
     "text": [
      "Error in get citation for PIED: Physics Informed Experimental Design for Inverse Problems\n"
     ]
    },
    {
     "name": "stderr",
     "output_type": "stream",
     "text": [
      "  0%|▏                                     | 13/3396 [04:45<28:33:34, 30.39s/it]"
     ]
    },
    {
     "name": "stdout",
     "output_type": "stream",
     "text": [
      "Error in get citation for GANDALF: Generative AttentioN based Data Augmentation and predictive modeLing Framework for personalized cancer treatment\n"
     ]
    },
    {
     "name": "stderr",
     "output_type": "stream",
     "text": [
      "  0%|▏                                     | 14/3396 [04:57<23:24:16, 24.91s/it]"
     ]
    },
    {
     "name": "stdout",
     "output_type": "stream",
     "text": [
      "Error in get citation for RaSA: Rank Sharing Low Rank Adaptation\n"
     ]
    },
    {
     "name": "stderr",
     "output_type": "stream",
     "text": [
      "  0%|▏                                     | 16/3396 [05:13<14:47:03, 15.75s/it]"
     ]
    },
    {
     "name": "stdout",
     "output_type": "stream",
     "text": [
      "Error in get citation for Offline Model Based Optimization by Learning to Rank\n"
     ]
    },
    {
     "name": "stderr",
     "output_type": "stream",
     "text": [
      "  1%|▌                                     | 50/3396 [13:27<23:53:50, 25.71s/it]"
     ]
    },
    {
     "name": "stdout",
     "output_type": "stream",
     "text": [
      "Error in get citation for OCEAN: Offline Chain of thought Evaluation and Alignment in Large Language Models\n"
     ]
    },
    {
     "name": "stderr",
     "output_type": "stream",
     "text": [
      "  2%|▉                                      | 80/3396 [17:15<5:55:08,  6.43s/it]"
     ]
    },
    {
     "name": "stdout",
     "output_type": "stream",
     "text": [
      "Error in get citation for You Only Prune Once: Designing Calibration Free Model Compression With Policy Learning\n"
     ]
    },
    {
     "name": "stderr",
     "output_type": "stream",
     "text": [
      "  3%|▉                                      | 86/3396 [17:53<4:28:47,  4.87s/it]"
     ]
    },
    {
     "name": "stdout",
     "output_type": "stream",
     "text": [
      "Error in get citation for Ensembling Diffusion Models via Adaptive Feature Aggregation\n"
     ]
    },
    {
     "name": "stderr",
     "output_type": "stream",
     "text": [
      "  3%|█                                      | 94/3396 [18:33<3:31:16,  3.84s/it]"
     ]
    },
    {
     "name": "stdout",
     "output_type": "stream",
     "text": [
      "Error in get citation for Making Text Embedders Few Shot Learners\n"
     ]
    },
    {
     "name": "stderr",
     "output_type": "stream",
     "text": [
      "  3%|█                                      | 95/3396 [18:45<5:50:08,  6.36s/it]"
     ]
    },
    {
     "name": "stdout",
     "output_type": "stream",
     "text": [
      "Error in get citation for Diverse Preference Learning for Capabilities and Alignment\n"
     ]
    },
    {
     "name": "stderr",
     "output_type": "stream",
     "text": [
      "  3%|█                                      | 96/3396 [18:58<7:27:10,  8.13s/it]"
     ]
    },
    {
     "name": "stdout",
     "output_type": "stream",
     "text": [
      "Error in get citation for Efficient Reinforcement Learning with Large Language Model Priors\n"
     ]
    },
    {
     "name": "stderr",
     "output_type": "stream",
     "text": [
      "  3%|█                                     | 100/3396 [19:30<7:17:08,  7.96s/it]"
     ]
    },
    {
     "name": "stdout",
     "output_type": "stream",
     "text": [
      "Error in get citation for Efficient Policy Evaluation with Safety Constraint for Reinforcement Learning\n"
     ]
    },
    {
     "name": "stderr",
     "output_type": "stream",
     "text": [
      "  3%|█▏                                    | 101/3396 [19:42<8:28:53,  9.27s/it]"
     ]
    },
    {
     "name": "stdout",
     "output_type": "stream",
     "text": [
      "Error in get citation for Agent S: An Open Agentic Framework that Uses Computers Like a Human\n"
     ]
    },
    {
     "name": "stderr",
     "output_type": "stream",
     "text": [
      "  3%|█▏                                    | 103/3396 [19:57<7:13:43,  7.90s/it]"
     ]
    },
    {
     "name": "stdout",
     "output_type": "stream",
     "text": [
      "Error in get citation for Adversarial Generative Flow Network for Solving Vehicle Routing Problems\n"
     ]
    },
    {
     "name": "stderr",
     "output_type": "stream",
     "text": [
      "  3%|█▏                                    | 105/3396 [20:12<6:44:57,  7.38s/it]"
     ]
    },
    {
     "name": "stdout",
     "output_type": "stream",
     "text": [
      "Error in get citation for Self Supervised Diffusion MRI Denoising via Iterative and Stable Refinement\n"
     ]
    },
    {
     "name": "stderr",
     "output_type": "stream",
     "text": [
      "  3%|█▏                                    | 111/3396 [20:39<3:34:10,  3.91s/it]"
     ]
    },
    {
     "name": "stdout",
     "output_type": "stream",
     "text": [
      "Error in get citation for Wavelet based Positional Representation for Long Context\n"
     ]
    },
    {
     "name": "stderr",
     "output_type": "stream",
     "text": [
      "  3%|█▎                                    | 118/3396 [21:26<6:12:21,  6.82s/it]"
     ]
    },
    {
     "name": "stdout",
     "output_type": "stream",
     "text": [
      "Error in get citation for Dynamic Loss Based Sample Reweighting for Improved Large Language Model Pretraining\n"
     ]
    },
    {
     "name": "stderr",
     "output_type": "stream",
     "text": [
      "  4%|█▍                                    | 132/3396 [22:32<4:18:55,  4.76s/it]"
     ]
    },
    {
     "name": "stdout",
     "output_type": "stream",
     "text": [
      "Error in get citation for MetaDesigner: Advancing Artistic Typography through AI Driven, User Centric, and Multilingual WordArt Synthesis\n"
     ]
    },
    {
     "name": "stderr",
     "output_type": "stream",
     "text": [
      "  4%|█▌                                    | 139/3396 [23:44<8:27:28,  9.35s/it]"
     ]
    },
    {
     "name": "stdout",
     "output_type": "stream",
     "text": [
      "Error in get citation for DiscoveryBench: Towards Data Driven Discovery with Large Language Models\n"
     ]
    },
    {
     "name": "stderr",
     "output_type": "stream",
     "text": [
      "  4%|█▌                                    | 145/3396 [24:19<4:33:44,  5.05s/it]"
     ]
    },
    {
     "name": "stdout",
     "output_type": "stream",
     "text": [
      "Error in get citation for Towards Optimal Multi draft Speculative Decoding\n"
     ]
    },
    {
     "name": "stderr",
     "output_type": "stream",
     "text": [
      "  5%|█▉                                   | 173/3396 [32:07<24:04:06, 26.88s/it]"
     ]
    },
    {
     "name": "stdout",
     "output_type": "stream",
     "text": [
      "Error in get citation for Mastering Task Arithmetic: $\\tau$Jp as a Key Indicator for Weight Disentanglement\n"
     ]
    },
    {
     "name": "stderr",
     "output_type": "stream",
     "text": [
      "  6%|██▎                                   | 205/3396 [36:40<4:04:24,  4.60s/it]"
     ]
    },
    {
     "name": "stdout",
     "output_type": "stream",
     "text": [
      "Error in get citation for BRAID: Input driven Nonlinear Dynamical Modeling of Neural Behavioral Data\n"
     ]
    },
    {
     "name": "stderr",
     "output_type": "stream",
     "text": [
      "  6%|██▎                                  | 217/3396 [42:41<20:09:14, 22.82s/it]"
     ]
    },
    {
     "name": "stdout",
     "output_type": "stream",
     "text": [
      "Error in get citation for Commit0: Library Generation from Scratch\n"
     ]
    },
    {
     "name": "stderr",
     "output_type": "stream",
     "text": [
      "  7%|██▌                                   | 225/3396 [43:45<5:43:42,  6.50s/it]"
     ]
    },
    {
     "name": "stdout",
     "output_type": "stream",
     "text": [
      "Error in get citation for Conformal Language Model Reasoning with Coherent Factuality\n"
     ]
    },
    {
     "name": "stderr",
     "output_type": "stream",
     "text": [
      "  7%|██▋                                  | 244/3396 [48:41<12:56:22, 14.78s/it]"
     ]
    },
    {
     "name": "stdout",
     "output_type": "stream",
     "text": [
      "Error in get citation for Risk Sensitive Variational Actor Critic: A Model Based Approach\n"
     ]
    },
    {
     "name": "stderr",
     "output_type": "stream",
     "text": [
      "  7%|██▊                                   | 246/3396 [48:57<9:30:42, 10.87s/it]"
     ]
    },
    {
     "name": "stdout",
     "output_type": "stream",
     "text": [
      "Error in get citation for Locality Alignment Improves Vision Language Models\n"
     ]
    },
    {
     "name": "stderr",
     "output_type": "stream",
     "text": [
      "  7%|██▋                                  | 249/3396 [49:45<14:14:04, 16.28s/it]"
     ]
    },
    {
     "name": "stdout",
     "output_type": "stream",
     "text": [
      "Error in get citation for Lossy Compression with Pretrained Diffusion Models\n"
     ]
    },
    {
     "name": "stderr",
     "output_type": "stream",
     "text": [
      "  8%|██▉                                  | 265/3396 [58:39<25:36:10, 29.44s/it]"
     ]
    },
    {
     "name": "stdout",
     "output_type": "stream",
     "text": [
      "Error in get citation for Gaussian Mixture Counterfactual Generator\n"
     ]
    },
    {
     "name": "stderr",
     "output_type": "stream",
     "text": [
      "  9%|███                                | 301/3396 [1:13:34<15:19:12, 17.82s/it]"
     ]
    },
    {
     "name": "stdout",
     "output_type": "stream",
     "text": [
      "Error in get citation for Many Objective Multi Solution Transport\n"
     ]
    },
    {
     "name": "stderr",
     "output_type": "stream",
     "text": [
      "  9%|███▏                               | 307/3396 [1:14:44<11:56:38, 13.92s/it]"
     ]
    },
    {
     "name": "stdout",
     "output_type": "stream",
     "text": [
      "Error in get citation for Compute Constrained Data Selection\n"
     ]
    },
    {
     "name": "stderr",
     "output_type": "stream",
     "text": [
      "  9%|███▍                                | 321/3396 [1:17:41<6:35:03,  7.71s/it]"
     ]
    },
    {
     "name": "stdout",
     "output_type": "stream",
     "text": [
      "Error in get citation for Improving Graph Neural Networks by Learning Continuous Edge Directions\n"
     ]
    },
    {
     "name": "stderr",
     "output_type": "stream",
     "text": [
      " 11%|████                                | 389/3396 [1:34:38<2:59:19,  3.58s/it]"
     ]
    },
    {
     "name": "stdout",
     "output_type": "stream",
     "text": [
      "Error in get citation for Large Language Models can Become Strong Self Detoxifiers\n"
     ]
    },
    {
     "name": "stderr",
     "output_type": "stream",
     "text": [
      " 12%|████▏                               | 393/3396 [1:35:00<3:38:00,  4.36s/it]"
     ]
    },
    {
     "name": "stdout",
     "output_type": "stream",
     "text": [
      "Error in get citation for Residual Stream Analysis with Multi Layer SAEs\n"
     ]
    },
    {
     "name": "stderr",
     "output_type": "stream",
     "text": [
      " 12%|████▎                              | 424/3396 [1:45:12<13:23:51, 16.23s/it]"
     ]
    },
    {
     "name": "stdout",
     "output_type": "stream",
     "text": [
      "Error in get citation for Multi agent cooperation through learning aware policy gradients\n"
     ]
    },
    {
     "name": "stderr",
     "output_type": "stream",
     "text": [
      " 13%|████▍                              | 431/3396 [1:47:31<12:58:02, 15.74s/it]"
     ]
    },
    {
     "name": "stdout",
     "output_type": "stream",
     "text": [
      "Error in get citation for Self Attention Based Contextual Modulation Improves Neural System Identification\n"
     ]
    },
    {
     "name": "stderr",
     "output_type": "stream",
     "text": [
      " 13%|████▍                              | 435/3396 [1:49:00<15:35:45, 18.96s/it]"
     ]
    },
    {
     "name": "stdout",
     "output_type": "stream",
     "text": [
      "Error in get citation for Causal Representation Learning from Multimodal Biomedical Observations\n"
     ]
    },
    {
     "name": "stderr",
     "output_type": "stream",
     "text": [
      " 13%|████▋                               | 445/3396 [1:50:22<5:41:51,  6.95s/it]"
     ]
    },
    {
     "name": "stdout",
     "output_type": "stream",
     "text": [
      "Error in get citation for DAMO: Decoding by Accumulating Activations Momentum for Mitigating Hallucinations in Vision Language Models\n"
     ]
    },
    {
     "name": "stderr",
     "output_type": "stream",
     "text": [
      " 13%|████▋                               | 446/3396 [1:50:34<6:59:54,  8.54s/it]"
     ]
    },
    {
     "name": "stdout",
     "output_type": "stream",
     "text": [
      "Error in get citation for Mind the GAP: Glimpse based Active Perception improves generalization and sample efficiency of visual reasoning\n"
     ]
    },
    {
     "name": "stderr",
     "output_type": "stream",
     "text": [
      " 13%|████▊                               | 449/3396 [1:50:50<5:11:31,  6.34s/it]"
     ]
    },
    {
     "name": "stdout",
     "output_type": "stream",
     "text": [
      "Error in get citation for Generalization and Distributed Learning of GFlowNets\n"
     ]
    },
    {
     "name": "stderr",
     "output_type": "stream",
     "text": [
      " 14%|████▋                              | 460/3396 [1:54:13<24:54:51, 30.55s/it]"
     ]
    },
    {
     "name": "stdout",
     "output_type": "stream",
     "text": [
      "Error in get citation for Efficient Active Imitation Learning with Random Network Distillation\n"
     ]
    },
    {
     "name": "stderr",
     "output_type": "stream",
     "text": [
      " 14%|████▉                              | 480/3396 [2:03:59<19:39:37, 24.27s/it]"
     ]
    },
    {
     "name": "stdout",
     "output_type": "stream",
     "text": [
      "Error in get citation for Learning Color Equivariant Representations\n"
     ]
    },
    {
     "name": "stderr",
     "output_type": "stream",
     "text": [
      " 14%|█████▏                              | 485/3396 [2:04:59<8:05:57, 10.02s/it]"
     ]
    },
    {
     "name": "stdout",
     "output_type": "stream",
     "text": [
      "Error in get citation for On Targeted Manipulation and Deception when Optimizing LLMs for User Feedback\n"
     ]
    },
    {
     "name": "stderr",
     "output_type": "stream",
     "text": [
      " 14%|█████▏                              | 487/3396 [2:05:15<6:45:42,  8.37s/it]"
     ]
    },
    {
     "name": "stdout",
     "output_type": "stream",
     "text": [
      "Error in get citation for Diffusion Transformers for Tabular Data Time Series Generation\n"
     ]
    },
    {
     "name": "stderr",
     "output_type": "stream",
     "text": [
      " 14%|█████▏                              | 488/3396 [2:05:27<7:41:49,  9.53s/it]"
     ]
    },
    {
     "name": "stdout",
     "output_type": "stream",
     "text": [
      "Error in get citation for The Belief State Transformer\n"
     ]
    },
    {
     "name": "stderr",
     "output_type": "stream",
     "text": [
      " 15%|█████                              | 495/3396 [2:08:10<25:57:10, 32.21s/it]"
     ]
    },
    {
     "name": "stdout",
     "output_type": "stream",
     "text": [
      "Error in get citation for Seeing Eye to AI: Human Alignment via Gaze Based Response Rewards for Large Language Models\n"
     ]
    },
    {
     "name": "stderr",
     "output_type": "stream",
     "text": [
      " 17%|█████▉                              | 563/3396 [2:19:56<4:32:50,  5.78s/it]"
     ]
    },
    {
     "name": "stdout",
     "output_type": "stream",
     "text": [
      "Error in get citation for Aligning Visual Contrastive learning models via Preference Optimization\n"
     ]
    },
    {
     "name": "stderr",
     "output_type": "stream",
     "text": [
      " 17%|██████                              | 568/3396 [2:20:26<3:50:27,  4.89s/it]"
     ]
    },
    {
     "name": "stdout",
     "output_type": "stream",
     "text": [
      "Error in get citation for dEBORA: Efficient Bilevel Optimization based low Rank Adaptation\n"
     ]
    },
    {
     "name": "stderr",
     "output_type": "stream",
     "text": [
      " 17%|█████▉                             | 572/3396 [2:21:50<16:04:54, 20.50s/it]"
     ]
    },
    {
     "name": "stdout",
     "output_type": "stream",
     "text": [
      "Error in get citation for How Learnable Grids Recover Fine Detail in Low Dimensions: A Neural Tangent Kernel Analysis of Multigrid Parametric Encodings\n"
     ]
    },
    {
     "name": "stderr",
     "output_type": "stream",
     "text": [
      " 17%|█████▉                             | 576/3396 [2:22:44<11:47:55, 15.06s/it]"
     ]
    },
    {
     "name": "stdout",
     "output_type": "stream",
     "text": [
      "Error in get citation for ReCogLab: a framework testing relational reasoning & cognitive hypotheses on LLMs\n"
     ]
    },
    {
     "name": "stderr",
     "output_type": "stream",
     "text": [
      " 17%|██████▏                             | 585/3396 [2:23:35<4:13:38,  5.41s/it]"
     ]
    },
    {
     "name": "stdout",
     "output_type": "stream",
     "text": [
      "Error in get citation for Mitigating Parameter Interference in Model Merging via Sharpness Aware Fine Tuning\n"
     ]
    },
    {
     "name": "stderr",
     "output_type": "stream",
     "text": [
      " 17%|██████▏                             | 587/3396 [2:23:57<6:17:33,  8.06s/it]"
     ]
    },
    {
     "name": "stdout",
     "output_type": "stream",
     "text": [
      "Error in get citation for An Exploration with Entropy Constrained 3D Gaussians for 2D Video Compression\n"
     ]
    },
    {
     "name": "stderr",
     "output_type": "stream",
     "text": [
      " 17%|██████▏                             | 589/3396 [2:24:12<5:45:23,  7.38s/it]"
     ]
    },
    {
     "name": "stdout",
     "output_type": "stream",
     "text": [
      "Error in get citation for Gramian Multimodal Representation Learning and Alignment\n"
     ]
    },
    {
     "name": "stderr",
     "output_type": "stream",
     "text": [
      " 17%|██████▎                             | 594/3396 [2:25:09<8:42:38, 11.19s/it]"
     ]
    },
    {
     "name": "stdout",
     "output_type": "stream",
     "text": [
      "Error in get citation for Separation Power of Equivariant Neural Networks\n"
     ]
    },
    {
     "name": "stderr",
     "output_type": "stream",
     "text": [
      " 18%|██████▎                             | 599/3396 [2:26:05<5:46:03,  7.42s/it]"
     ]
    },
    {
     "name": "stdout",
     "output_type": "stream",
     "text": [
      "Error in get citation for Towards Scalable Topological Regularizers\n"
     ]
    },
    {
     "name": "stderr",
     "output_type": "stream",
     "text": [
      " 18%|██████▍                             | 606/3396 [2:26:42<3:40:04,  4.73s/it]"
     ]
    },
    {
     "name": "stdout",
     "output_type": "stream",
     "text": [
      "Error in get citation for Language Models Need Inductive Biases to Count Inductively\n"
     ]
    },
    {
     "name": "stderr",
     "output_type": "stream",
     "text": [
      " 18%|██████▌                             | 621/3396 [2:27:44<2:25:03,  3.14s/it]"
     ]
    },
    {
     "name": "stdout",
     "output_type": "stream",
     "text": [
      "Error in get citation for Preference Diffusion for Recommendation\n"
     ]
    },
    {
     "name": "stderr",
     "output_type": "stream",
     "text": [
      " 19%|██████▉                             | 658/3396 [2:31:18<3:10:37,  4.18s/it]"
     ]
    },
    {
     "name": "stdout",
     "output_type": "stream",
     "text": [
      "Error in get citation for Decoupled Subgraph Federated Learning\n"
     ]
    },
    {
     "name": "stderr",
     "output_type": "stream",
     "text": [
      " 20%|███████▏                            | 675/3396 [2:33:45<6:17:27,  8.32s/it]"
     ]
    },
    {
     "name": "stdout",
     "output_type": "stream",
     "text": [
      "Error in get citation for QA Calibration of Language Model Confidence Scores\n"
     ]
    },
    {
     "name": "stderr",
     "output_type": "stream",
     "text": [
      " 21%|███████▋                            | 725/3396 [2:40:17<6:30:13,  8.77s/it]"
     ]
    },
    {
     "name": "stdout",
     "output_type": "stream",
     "text": [
      "Error in get citation for Simple ReFlow: Improved Techniques for Fast Flow Models\n"
     ]
    },
    {
     "name": "stderr",
     "output_type": "stream",
     "text": [
      " 22%|███████▋                            | 731/3396 [2:40:51<4:02:23,  5.46s/it]"
     ]
    },
    {
     "name": "stdout",
     "output_type": "stream",
     "text": [
      "Error in get citation for Convergence of Score Based Discrete Diffusion Models: A Discrete Time Analysis\n"
     ]
    },
    {
     "name": "stderr",
     "output_type": "stream",
     "text": [
      " 22%|███████▉                            | 746/3396 [2:42:28<3:04:58,  4.19s/it]"
     ]
    },
    {
     "name": "stdout",
     "output_type": "stream",
     "text": [
      "Error in get citation for Hybrid Regularization Improves Diffusion based Inverse Problem Solving\n"
     ]
    },
    {
     "name": "stderr",
     "output_type": "stream",
     "text": [
      " 23%|████████▎                           | 784/3396 [2:45:51<4:36:30,  6.35s/it]"
     ]
    },
    {
     "name": "stdout",
     "output_type": "stream",
     "text": [
      "Error in get citation for Autocorrelation Matters: Understanding the Role of Initialization Schemes for State Space Models\n"
     ]
    },
    {
     "name": "stderr",
     "output_type": "stream",
     "text": [
      " 23%|████████▎                           | 785/3396 [2:46:03<5:54:26,  8.14s/it]"
     ]
    },
    {
     "name": "stdout",
     "output_type": "stream",
     "text": [
      "Error in get citation for SeCom: On Memory Construction and Retrieval for Personalized Conversational Agents\n"
     ]
    },
    {
     "name": "stderr",
     "output_type": "stream",
     "text": [
      " 23%|████████▍                           | 798/3396 [2:46:49<2:18:32,  3.20s/it]"
     ]
    },
    {
     "name": "stdout",
     "output_type": "stream",
     "text": [
      "Error in get citation for Robust Simulation Based Inference under Missing Data via Neural Processes\n"
     ]
    },
    {
     "name": "stderr",
     "output_type": "stream",
     "text": [
      " 24%|████████▌                           | 804/3396 [2:47:59<5:53:25,  8.18s/it]"
     ]
    },
    {
     "name": "stdout",
     "output_type": "stream",
     "text": [
      "Error in get citation for A Simple yet Effective $\\Delta\\Delta G$ Predictor is An Unsupervised Antibody Optimizer and Explainer\n"
     ]
    },
    {
     "name": "stderr",
     "output_type": "stream",
     "text": [
      " 24%|████████▌                           | 805/3396 [2:48:02<4:42:19,  6.54s/it]"
     ]
    },
    {
     "name": "stdout",
     "output_type": "stream",
     "text": [
      "Error in get citation for Identifying latent state transitions in non linear dynamical systems\n"
     ]
    },
    {
     "name": "stderr",
     "output_type": "stream",
     "text": [
      " 25%|████████▉                           | 838/3396 [2:52:11<2:15:40,  3.18s/it]"
     ]
    },
    {
     "name": "stdout",
     "output_type": "stream",
     "text": [
      "Error in get citation for Large Language Models Often Say One Thing and Do Another\n"
     ]
    },
    {
     "name": "stderr",
     "output_type": "stream",
     "text": [
      " 25%|████████▉                           | 847/3396 [2:52:54<2:37:38,  3.71s/it]"
     ]
    },
    {
     "name": "stdout",
     "output_type": "stream",
     "text": [
      "Error in get citation for Selective Label Enhancement Learning for Test Time Adaptation\n"
     ]
    },
    {
     "name": "stderr",
     "output_type": "stream",
     "text": [
      " 25%|█████████                           | 854/3396 [2:53:30<3:34:14,  5.06s/it]"
     ]
    },
    {
     "name": "stdout",
     "output_type": "stream",
     "text": [
      "Error in get citation for MM1.5: Methods, Analysis & Insights from Multimodal LLM Fine tuning\n"
     ]
    },
    {
     "name": "stderr",
     "output_type": "stream",
     "text": [
      " 26%|█████████▏                          | 871/3396 [2:54:41<2:10:38,  3.10s/it]"
     ]
    },
    {
     "name": "stdout",
     "output_type": "stream",
     "text": [
      "Error in get citation for MA$^2$E: Addressing Partial Observability in Multi Agent Reinforcement Learning with Masked Auto Encoder\n"
     ]
    },
    {
     "name": "stderr",
     "output_type": "stream",
     "text": [
      " 26%|█████████▍                          | 890/3396 [2:56:57<5:44:31,  8.25s/it]"
     ]
    },
    {
     "name": "stdout",
     "output_type": "stream",
     "text": [
      "Error in get citation for Towards Hierarchical Rectified Flow\n"
     ]
    },
    {
     "name": "stderr",
     "output_type": "stream",
     "text": [
      " 26%|█████████▍                          | 896/3396 [2:58:00<9:31:57, 13.73s/it]"
     ]
    },
    {
     "name": "stdout",
     "output_type": "stream",
     "text": [
      "Error in get citation for Heavy Tailed Diffusion Models\n"
     ]
    },
    {
     "name": "stderr",
     "output_type": "stream",
     "text": [
      " 27%|█████████▌                          | 907/3396 [2:58:54<2:43:34,  3.94s/it]"
     ]
    },
    {
     "name": "stdout",
     "output_type": "stream",
     "text": [
      "Error in get citation for Balanced Ranking with Relative Centrality: A multi core periphery perspective\n"
     ]
    },
    {
     "name": "stderr",
     "output_type": "stream",
     "text": [
      " 27%|█████████▋                          | 914/3396 [3:00:00<7:17:21, 10.57s/it]"
     ]
    },
    {
     "name": "stdout",
     "output_type": "stream",
     "text": [
      "Error in get citation for AdaGrad under Anisotropic Smoothness\n"
     ]
    },
    {
     "name": "stderr",
     "output_type": "stream",
     "text": [
      " 27%|█████████▊                          | 930/3396 [3:01:14<2:03:46,  3.01s/it]"
     ]
    },
    {
     "name": "stdout",
     "output_type": "stream",
     "text": [
      "Error in get citation for Implicit In context Learning\n"
     ]
    },
    {
     "name": "stderr",
     "output_type": "stream",
     "text": [
      " 29%|██████████▎                         | 968/3396 [3:05:08<2:51:05,  4.23s/it]"
     ]
    },
    {
     "name": "stdout",
     "output_type": "stream",
     "text": [
      "Error in get citation for Input Space Mode Connectivity in Deep Neural Networks\n"
     ]
    },
    {
     "name": "stderr",
     "output_type": "stream",
     "text": [
      " 29%|██████████▌                         | 995/3396 [3:06:59<2:15:09,  3.38s/it]"
     ]
    },
    {
     "name": "stdout",
     "output_type": "stream",
     "text": [
      "Error in get citation for Leave One Out Stable Conformal Prediction\n"
     ]
    },
    {
     "name": "stderr",
     "output_type": "stream",
     "text": [
      " 29%|██████████▌                         | 996/3396 [3:07:11<4:02:35,  6.06s/it]"
     ]
    },
    {
     "name": "stdout",
     "output_type": "stream",
     "text": [
      "Error in get citation for Encryption Friendly LLM Architecture\n"
     ]
    },
    {
     "name": "stderr",
     "output_type": "stream",
     "text": [
      " 30%|██████████▍                        | 1017/3396 [3:10:10<2:23:53,  3.63s/it]"
     ]
    },
    {
     "name": "stdout",
     "output_type": "stream",
     "text": [
      "Error in get citation for FairDen: Fair Density Based Clustering\n"
     ]
    },
    {
     "name": "stderr",
     "output_type": "stream",
     "text": [
      " 30%|██████████▌                        | 1028/3396 [3:11:04<2:40:15,  4.06s/it]"
     ]
    },
    {
     "name": "stdout",
     "output_type": "stream",
     "text": [
      "Error in get citation for LDAdam: Adaptive Optimization from Low Dimensional Gradient Statistics\n"
     ]
    },
    {
     "name": "stderr",
     "output_type": "stream",
     "text": [
      " 31%|██████████▋                        | 1036/3396 [3:11:49<3:05:58,  4.73s/it]"
     ]
    },
    {
     "name": "stdout",
     "output_type": "stream",
     "text": [
      "Error in get citation for Zigzag Diffusion Sampling: Diffusion Models Can Self Improve via Self Reflection\n"
     ]
    },
    {
     "name": "stderr",
     "output_type": "stream",
     "text": [
      " 31%|██████████▊                        | 1050/3396 [3:12:46<2:07:26,  3.26s/it]"
     ]
    },
    {
     "name": "stdout",
     "output_type": "stream",
     "text": [
      "Error in get citation for Unsupervised Meta Learning via In Context Learning\n"
     ]
    },
    {
     "name": "stderr",
     "output_type": "stream",
     "text": [
      " 31%|██████████▉                        | 1063/3396 [3:13:44<2:04:18,  3.20s/it]"
     ]
    },
    {
     "name": "stdout",
     "output_type": "stream",
     "text": [
      "Error in get citation for When Graph Neural Networks Meet Dynamic Mode Decomposition\n"
     ]
    },
    {
     "name": "stderr",
     "output_type": "stream",
     "text": [
      " 31%|███████████                        | 1069/3396 [3:14:22<3:18:34,  5.12s/it]"
     ]
    },
    {
     "name": "stdout",
     "output_type": "stream",
     "text": [
      "Error in get citation for 3D Vision Language Gaussian Splatting\n"
     ]
    },
    {
     "name": "stderr",
     "output_type": "stream",
     "text": [
      " 32%|███████████                        | 1072/3396 [3:14:45<4:15:53,  6.61s/it]"
     ]
    },
    {
     "name": "stdout",
     "output_type": "stream",
     "text": [
      "Error in get citation for Segment Any 3D Object with Language\n"
     ]
    },
    {
     "name": "stderr",
     "output_type": "stream",
     "text": [
      " 32%|███████████                        | 1076/3396 [3:15:13<3:44:24,  5.80s/it]"
     ]
    },
    {
     "name": "stdout",
     "output_type": "stream",
     "text": [
      "Error in get citation for Large Convolutional Model Tuning via Filter Subspace\n"
     ]
    },
    {
     "name": "stderr",
     "output_type": "stream",
     "text": [
      " 33%|███████████▌                       | 1118/3396 [3:18:26<2:55:26,  4.62s/it]"
     ]
    },
    {
     "name": "stdout",
     "output_type": "stream",
     "text": [
      "Error in get citation for Contextualizing biological perturbation experiments through language\n"
     ]
    },
    {
     "name": "stderr",
     "output_type": "stream",
     "text": [
      " 33%|███████████▌                       | 1119/3396 [3:18:39<4:22:14,  6.91s/it]"
     ]
    },
    {
     "name": "stdout",
     "output_type": "stream",
     "text": [
      "Error in get citation for Rethinking Fair Representation Learning for Performance Sensitive Tasks\n"
     ]
    },
    {
     "name": "stderr",
     "output_type": "stream",
     "text": [
      " 33%|███████████▌                       | 1121/3396 [3:19:32<9:43:41, 15.39s/it]"
     ]
    },
    {
     "name": "stdout",
     "output_type": "stream",
     "text": [
      "Error in get citation for Variance Reducing Couplings for Random Features\n"
     ]
    },
    {
     "name": "stderr",
     "output_type": "stream",
     "text": [
      " 33%|███████████▋                       | 1131/3396 [3:20:22<3:21:45,  5.34s/it]"
     ]
    },
    {
     "name": "stdout",
     "output_type": "stream",
     "text": [
      "Error in get citation for CertainlyUncertain: A Benchmark and Metric for Multimodal Epistemic and Aleatoric Awareness\n"
     ]
    },
    {
     "name": "stderr",
     "output_type": "stream",
     "text": [
      " 35%|████████████                       | 1173/3396 [3:25:02<2:15:02,  3.64s/it]"
     ]
    },
    {
     "name": "stdout",
     "output_type": "stream",
     "text": [
      "Error in get citation for MoS: Unleashing Parameter Efficiency of Low Rank Adaptation with Mixture of Shards\n"
     ]
    },
    {
     "name": "stderr",
     "output_type": "stream",
     "text": [
      " 35%|████████████▏                      | 1182/3396 [3:25:43<2:10:10,  3.53s/it]"
     ]
    },
    {
     "name": "stdout",
     "output_type": "stream",
     "text": [
      "Error in get citation for NEAR: A Training Free Pre Estimator of Machine Learning Model Performance\n"
     ]
    },
    {
     "name": "stderr",
     "output_type": "stream",
     "text": [
      " 35%|████████████▏                      | 1188/3396 [3:26:15<2:45:58,  4.51s/it]"
     ]
    },
    {
     "name": "stdout",
     "output_type": "stream",
     "text": [
      "Error in get citation for Temporal Reasoning Transfer from Text to Video\n"
     ]
    },
    {
     "name": "stderr",
     "output_type": "stream",
     "text": [
      " 36%|████████████▌                      | 1216/3396 [3:29:18<2:30:32,  4.14s/it]"
     ]
    },
    {
     "name": "stdout",
     "output_type": "stream",
     "text": [
      "Error in get citation for GenXD: Generating Any 3D and 4D Scenes\n"
     ]
    },
    {
     "name": "stderr",
     "output_type": "stream",
     "text": [
      " 36%|████████████▌                      | 1219/3396 [3:29:43<4:02:03,  6.67s/it]"
     ]
    },
    {
     "name": "stdout",
     "output_type": "stream",
     "text": [
      "Error in get citation for Morphing Tokens Draw Strong Masked Image Models\n"
     ]
    },
    {
     "name": "stderr",
     "output_type": "stream",
     "text": [
      " 36%|████████████▋                      | 1231/3396 [3:30:39<1:57:25,  3.25s/it]"
     ]
    },
    {
     "name": "stdout",
     "output_type": "stream",
     "text": [
      "Error in get citation for A Statistical Approach for Controlled Training Data Detection\n"
     ]
    },
    {
     "name": "stderr",
     "output_type": "stream",
     "text": [
      " 37%|████████████▉                      | 1260/3396 [3:33:18<2:35:35,  4.37s/it]"
     ]
    },
    {
     "name": "stdout",
     "output_type": "stream",
     "text": [
      "Error in get citation for Neural Eulerian Scene Flow Fields\n"
     ]
    },
    {
     "name": "stderr",
     "output_type": "stream",
     "text": [
      " 37%|█████████████                      | 1263/3396 [3:33:37<2:57:52,  5.00s/it]"
     ]
    },
    {
     "name": "stdout",
     "output_type": "stream",
     "text": [
      "Error in get citation for Beyond Model Collapse: Scaling Up with Synthesized Data Requires Verification\n"
     ]
    },
    {
     "name": "stderr",
     "output_type": "stream",
     "text": [
      " 38%|█████████████▏                     | 1279/3396 [3:34:44<2:12:33,  3.76s/it]"
     ]
    },
    {
     "name": "stdout",
     "output_type": "stream",
     "text": [
      "Error in get citation for STAMP: Scalable Task  And Model agnostic Collaborative Perception\n"
     ]
    },
    {
     "name": "stderr",
     "output_type": "stream",
     "text": [
      " 38%|█████████████▎                     | 1294/3396 [3:35:59<2:40:06,  4.57s/it]"
     ]
    },
    {
     "name": "stdout",
     "output_type": "stream",
     "text": [
      "Error in get citation for Style Outweighs Substance: Failure Modes of LLM Judges in Alignment Benchmarking\n"
     ]
    },
    {
     "name": "stderr",
     "output_type": "stream",
     "text": [
      " 38%|█████████████▍                     | 1299/3396 [3:36:25<2:20:55,  4.03s/it]"
     ]
    },
    {
     "name": "stdout",
     "output_type": "stream",
     "text": [
      "Error in get citation for Aligned Better, Listen Better for Audio Visual Large Language Models\n"
     ]
    },
    {
     "name": "stderr",
     "output_type": "stream",
     "text": [
      " 38%|█████████████▍                     | 1305/3396 [3:36:52<1:59:49,  3.44s/it]"
     ]
    },
    {
     "name": "stdout",
     "output_type": "stream",
     "text": [
      "Error in get citation for Attention layers provably solve single location regression\n"
     ]
    },
    {
     "name": "stderr",
     "output_type": "stream",
     "text": [
      " 39%|█████████████▊                     | 1339/3396 [3:39:49<1:58:29,  3.46s/it]"
     ]
    },
    {
     "name": "stdout",
     "output_type": "stream",
     "text": [
      "Error in get citation for Autoregressive Video Generation without Vector Quantization\n"
     ]
    },
    {
     "name": "stderr",
     "output_type": "stream",
     "text": [
      " 40%|█████████████▉                     | 1354/3396 [3:40:57<2:29:05,  4.38s/it]"
     ]
    },
    {
     "name": "stdout",
     "output_type": "stream",
     "text": [
      "Error in get citation for N ForGOT: Towards Not forgetting and Generalization of Open Temporal Graph Learning\n"
     ]
    },
    {
     "name": "stderr",
     "output_type": "stream",
     "text": [
      " 41%|██████████████▏                    | 1378/3396 [3:42:26<2:14:15,  3.99s/it]"
     ]
    },
    {
     "name": "stdout",
     "output_type": "stream",
     "text": [
      "Error in get citation for Release the Powers of Prompt Tuning: Cross Modality Prompt Transfer\n"
     ]
    },
    {
     "name": "stderr",
     "output_type": "stream",
     "text": [
      " 41%|██████████████▎                    | 1384/3396 [3:42:50<2:10:01,  3.88s/it]"
     ]
    },
    {
     "name": "stdout",
     "output_type": "stream",
     "text": [
      "Error in get citation for Strategic Classification With Externalities\n"
     ]
    },
    {
     "name": "stderr",
     "output_type": "stream",
     "text": [
      " 41%|██████████████▎                    | 1390/3396 [3:43:17<1:59:38,  3.58s/it]"
     ]
    },
    {
     "name": "stdout",
     "output_type": "stream",
     "text": [
      "Error in get citation for Spatial Mamba: Effective Visual State Space Models via Structure Aware State Fusion\n"
     ]
    },
    {
     "name": "stderr",
     "output_type": "stream",
     "text": [
      " 41%|██████████████▎                    | 1391/3396 [3:43:29<3:27:22,  6.21s/it]"
     ]
    },
    {
     "name": "stdout",
     "output_type": "stream",
     "text": [
      "Error in get citation for On the Optimization Landscape of Low Rank Adaptation Methods for Large Language Models\n"
     ]
    },
    {
     "name": "stderr",
     "output_type": "stream",
     "text": [
      " 41%|██████████████▍                    | 1402/3396 [3:44:15<2:05:19,  3.77s/it]"
     ]
    },
    {
     "name": "stdout",
     "output_type": "stream",
     "text": [
      "Error in get citation for Estimation of single cell and tissue perturbation effect in spatial transcriptomics via Spatial Causal Disentanglement\n"
     ]
    },
    {
     "name": "stderr",
     "output_type": "stream",
     "text": [
      " 41%|██████████████▍                    | 1404/3396 [3:44:21<1:53:07,  3.41s/it]"
     ]
    },
    {
     "name": "stdout",
     "output_type": "stream",
     "text": [
      "Error in get citation for SINGER: Stochastic Network Graph Evolving Operator for High Dimensional PDEs\n"
     ]
    },
    {
     "name": "stderr",
     "output_type": "stream",
     "text": [
      " 42%|██████████████▌                    | 1415/3396 [3:45:05<2:24:56,  4.39s/it]"
     ]
    },
    {
     "name": "stdout",
     "output_type": "stream",
     "text": [
      "Error in get citation for Structuring Benchmark into Knowledge Graphs to Assist Large Language Models in Retrieving and Designing Models\n"
     ]
    },
    {
     "name": "stderr",
     "output_type": "stream",
     "text": [
      " 42%|██████████████▋                    | 1421/3396 [3:45:22<1:40:41,  3.06s/it]"
     ]
    },
    {
     "name": "stdout",
     "output_type": "stream",
     "text": [
      "Error in get citation for Prototype antithesis for biological few shot class incremental learning\n"
     ]
    },
    {
     "name": "stderr",
     "output_type": "stream",
     "text": [
      " 42%|██████████████▊                    | 1437/3396 [3:46:50<2:02:47,  3.76s/it]"
     ]
    },
    {
     "name": "stdout",
     "output_type": "stream",
     "text": [
      "Error in get citation for On Designing General and Expressive Quantum Graph Neural Networks with Applications to MILP Instance Representation\n"
     ]
    },
    {
     "name": "stderr",
     "output_type": "stream",
     "text": [
      " 42%|██████████████▊                    | 1441/3396 [3:47:08<2:15:29,  4.16s/it]"
     ]
    },
    {
     "name": "stdout",
     "output_type": "stream",
     "text": [
      "Error in get citation for pMoE: Prompting Diverse Experts Together Wins More in Visual Adaptation\n"
     ]
    },
    {
     "name": "stderr",
     "output_type": "stream",
     "text": [
      " 42%|██████████████▊                    | 1443/3396 [3:47:14<1:55:07,  3.54s/it]"
     ]
    },
    {
     "name": "stdout",
     "output_type": "stream",
     "text": [
      "Error in get citation for TSC Net: Prediction of Pedestrian Trajectories by Trajectory Scene Cell Classification\n"
     ]
    },
    {
     "name": "stderr",
     "output_type": "stream",
     "text": [
      " 43%|██████████████▉                    | 1444/3396 [3:47:17<1:49:32,  3.37s/it]"
     ]
    },
    {
     "name": "stdout",
     "output_type": "stream",
     "text": [
      "Error in get citation for RRM:  Robust Reward Model Training Mitigates Reward Hacking\n"
     ]
    },
    {
     "name": "stderr",
     "output_type": "stream",
     "text": [
      " 43%|██████████████▉                    | 1445/3396 [3:47:29<3:16:14,  6.04s/it]"
     ]
    },
    {
     "name": "stdout",
     "output_type": "stream",
     "text": [
      "Error in get citation for High Quality Joint Image and Video Tokenization with Causal VAE\n"
     ]
    },
    {
     "name": "stderr",
     "output_type": "stream",
     "text": [
      " 43%|██████████████▉                    | 1447/3396 [3:47:35<2:25:57,  4.49s/it]"
     ]
    },
    {
     "name": "stdout",
     "output_type": "stream",
     "text": [
      "Error in get citation for Bandit Learning in Matching Markets with Indifference\n"
     ]
    },
    {
     "name": "stderr",
     "output_type": "stream",
     "text": [
      " 43%|██████████████▉                    | 1452/3396 [3:47:50<1:45:44,  3.26s/it]"
     ]
    },
    {
     "name": "stdout",
     "output_type": "stream",
     "text": [
      "Error in get citation for HShare: Fast LLM Decoding by Hierarchical Key Value Sharing\n"
     ]
    },
    {
     "name": "stderr",
     "output_type": "stream",
     "text": [
      " 43%|██████████████▉                    | 1453/3396 [3:48:24<6:42:33, 12.43s/it]"
     ]
    },
    {
     "name": "stdout",
     "output_type": "stream",
     "text": [
      "Error in get citation for Do Vision & Language Decoders use Images and Text equally? How Self consistent are their Explanations?\n"
     ]
    },
    {
     "name": "stderr",
     "output_type": "stream",
     "text": [
      " 43%|███████████████                    | 1458/3396 [3:48:49<2:53:02,  5.36s/it]"
     ]
    },
    {
     "name": "stdout",
     "output_type": "stream",
     "text": [
      "Error in get citation for MMIU: Multimodal Multi image Understanding for Evaluating Large Vision Language Models\n"
     ]
    },
    {
     "name": "stderr",
     "output_type": "stream",
     "text": [
      " 43%|███████████████                    | 1465/3396 [3:50:54<5:42:01, 10.63s/it]"
     ]
    },
    {
     "name": "stdout",
     "output_type": "stream",
     "text": [
      "Error in get citation for Aligned Datasets Improve Detection of Latent Diffusion Generated Images\n"
     ]
    },
    {
     "name": "stderr",
     "output_type": "stream",
     "text": [
      " 43%|███████████████▏                   | 1471/3396 [3:51:33<3:41:29,  6.90s/it]"
     ]
    },
    {
     "name": "stdout",
     "output_type": "stream",
     "text": [
      "Error in get citation for Parameter and Memory Efficient Pretraining via Low rank Riemannian Optimization\n"
     ]
    },
    {
     "name": "stderr",
     "output_type": "stream",
     "text": [
      " 44%|███████████████▏                   | 1479/3396 [3:52:08<2:20:50,  4.41s/it]"
     ]
    },
    {
     "name": "stdout",
     "output_type": "stream",
     "text": [
      "Error in get citation for ST GCond: Self supervised and Transferable Graph Dataset Condensation\n"
     ]
    },
    {
     "name": "stderr",
     "output_type": "stream",
     "text": [
      " 44%|███████████████▎                   | 1491/3396 [3:53:04<2:13:31,  4.21s/it]"
     ]
    },
    {
     "name": "stdout",
     "output_type": "stream",
     "text": [
      "Error in get citation for Selective Attention Improves Transformer\n"
     ]
    },
    {
     "name": "stderr",
     "output_type": "stream",
     "text": [
      " 44%|███████████████▍                   | 1497/3396 [3:54:04<2:54:10,  5.50s/it]"
     ]
    },
    {
     "name": "stdout",
     "output_type": "stream",
     "text": [
      "Error in get citation for Cut the Crap: An Economical Communication Pipeline for LLM based Multi Agent Systems\n"
     ]
    },
    {
     "name": "stderr",
     "output_type": "stream",
     "text": [
      " 44%|███████████████▌                   | 1504/3396 [3:54:39<2:24:51,  4.59s/it]"
     ]
    },
    {
     "name": "stdout",
     "output_type": "stream",
     "text": [
      "Error in get citation for REMEDY: Recipe Merging Dynamics in Large Vision Language Models\n"
     ]
    },
    {
     "name": "stderr",
     "output_type": "stream",
     "text": [
      " 44%|███████████████▌                   | 1508/3396 [3:54:52<1:51:30,  3.54s/it]"
     ]
    },
    {
     "name": "stdout",
     "output_type": "stream",
     "text": [
      "Error in get citation for Long Sequence Recommendation Models Need Decoupled Embeddings\n"
     ]
    },
    {
     "name": "stderr",
     "output_type": "stream",
     "text": [
      " 45%|███████████████▌                   | 1513/3396 [3:55:16<1:55:39,  3.69s/it]"
     ]
    },
    {
     "name": "stdout",
     "output_type": "stream",
     "text": [
      "Error in get citation for Framer: Interactive Frame Interpolation\n"
     ]
    },
    {
     "name": "stderr",
     "output_type": "stream",
     "text": [
      " 45%|███████████████▋                   | 1517/3396 [3:55:44<2:45:26,  5.28s/it]"
     ]
    },
    {
     "name": "stdout",
     "output_type": "stream",
     "text": [
      "Error in get citation for BrainUICL: An Unsupervised Individual Continual Learning Framework for EEG Applications\n"
     ]
    },
    {
     "name": "stderr",
     "output_type": "stream",
     "text": [
      " 45%|███████████████▋                   | 1521/3396 [3:55:55<1:48:44,  3.48s/it]"
     ]
    },
    {
     "name": "stdout",
     "output_type": "stream",
     "text": [
      "Error in get citation for Learning Evolving Tools for Large Language Models\n"
     ]
    },
    {
     "name": "stderr",
     "output_type": "stream",
     "text": [
      " 45%|███████████████▋                   | 1524/3396 [3:56:13<2:17:38,  4.41s/it]"
     ]
    },
    {
     "name": "stdout",
     "output_type": "stream",
     "text": [
      "Error in get citation for Chain of Focus Prompting: Leveraging Sequential Visual Cues to Prompt Large Autoregressive Vision Models\n"
     ]
    },
    {
     "name": "stderr",
     "output_type": "stream",
     "text": [
      " 45%|███████████████▉                   | 1542/3396 [3:59:14<1:43:19,  3.34s/it]"
     ]
    },
    {
     "name": "stdout",
     "output_type": "stream",
     "text": [
      "Error in get citation for Model Free Offline Reinforcement Learning with Enhanced Robustness\n"
     ]
    },
    {
     "name": "stderr",
     "output_type": "stream",
     "text": [
      " 45%|███████████████▉                   | 1544/3396 [3:59:30<2:43:07,  5.28s/it]"
     ]
    },
    {
     "name": "stdout",
     "output_type": "stream",
     "text": [
      "Error in get citation for Let Your Features Tell The Differences: Understanding Graph Convolution By Feature Splitting\n"
     ]
    },
    {
     "name": "stderr",
     "output_type": "stream",
     "text": [
      " 46%|████████████████                   | 1559/3396 [4:00:48<4:09:06,  8.14s/it]"
     ]
    },
    {
     "name": "stdout",
     "output_type": "stream",
     "text": [
      "Error in get citation for Random Is All You Need: Random Noise Injection on Feature Statistics for Generalizable Deep Image Denoising\n"
     ]
    },
    {
     "name": "stderr",
     "output_type": "stream",
     "text": [
      " 46%|████████████████▏                  | 1573/3396 [4:02:09<2:54:42,  5.75s/it]"
     ]
    },
    {
     "name": "stdout",
     "output_type": "stream",
     "text": [
      "Error in get citation for Masked Temporal Interpolation Diffusion for Procedure Planning in Instructional Videos\n"
     ]
    },
    {
     "name": "stderr",
     "output_type": "stream",
     "text": [
      " 47%|████████████████▎                  | 1581/3396 [4:03:09<2:31:21,  5.00s/it]"
     ]
    },
    {
     "name": "stdout",
     "output_type": "stream",
     "text": [
      "Error in get citation for Scaling Autonomous Agents via Automatic Reward Modeling And Planning\n"
     ]
    },
    {
     "name": "stderr",
     "output_type": "stream",
     "text": [
      " 47%|████████████████▎                  | 1582/3396 [4:03:21<3:36:59,  7.18s/it]"
     ]
    },
    {
     "name": "stdout",
     "output_type": "stream",
     "text": [
      "Error in get citation for Generalized Video Moment Retrieval\n"
     ]
    },
    {
     "name": "stderr",
     "output_type": "stream",
     "text": [
      " 47%|████████████████▍                  | 1594/3396 [4:04:09<1:41:42,  3.39s/it]"
     ]
    },
    {
     "name": "stdout",
     "output_type": "stream",
     "text": [
      "Error in get citation for InstaSHAP: Interpretable Additive Models Explain Shapley Values Instantly\n"
     ]
    },
    {
     "name": "stderr",
     "output_type": "stream",
     "text": [
      " 47%|████████████████▍                  | 1596/3396 [4:04:24<2:33:10,  5.11s/it]"
     ]
    },
    {
     "name": "stdout",
     "output_type": "stream",
     "text": [
      "Error in get citation for M^3PC: Test time Model Predictive Control using Pretrained Masked Trajectory Model\n"
     ]
    },
    {
     "name": "stderr",
     "output_type": "stream",
     "text": [
      " 47%|████████████████▌                  | 1606/3396 [4:05:12<2:18:55,  4.66s/it]"
     ]
    },
    {
     "name": "stdout",
     "output_type": "stream",
     "text": [
      "Error in get citation for Salvage: Shapley distribution Approximation Learning Via Attribution Guided Exploration for Explainable Image Classification\n"
     ]
    },
    {
     "name": "stderr",
     "output_type": "stream",
     "text": [
      " 47%|████████████████▌                  | 1608/3396 [4:05:20<2:09:51,  4.36s/it]"
     ]
    },
    {
     "name": "stdout",
     "output_type": "stream",
     "text": [
      "Error in get citation for Uncertainty and Influence aware Reward Model Refinement for Reinforcement Learning from Human Feedback\n"
     ]
    },
    {
     "name": "stderr",
     "output_type": "stream",
     "text": [
      " 47%|████████████████▌                  | 1612/3396 [4:05:41<2:13:44,  4.50s/it]"
     ]
    },
    {
     "name": "stdout",
     "output_type": "stream",
     "text": [
      "Error in get citation for Manifold Constraint Reduces Exposure Bias in Accelerated Diffusion Sampling\n"
     ]
    },
    {
     "name": "stderr",
     "output_type": "stream",
     "text": [
      " 48%|████████████████▊                  | 1630/3396 [4:06:52<1:51:39,  3.79s/it]"
     ]
    },
    {
     "name": "stdout",
     "output_type": "stream",
     "text": [
      "Error in get citation for X NeMo: Expressive Neural Motion Reenactment via Disentangled Latent Attention\n"
     ]
    },
    {
     "name": "stderr",
     "output_type": "stream",
     "text": [
      " 48%|████████████████▊                  | 1634/3396 [4:07:06<1:48:54,  3.71s/it]"
     ]
    },
    {
     "name": "stdout",
     "output_type": "stream",
     "text": [
      "Error in get citation for MIA DPO: Multi Image Augmented Direct Preference Optimization For Large Vision Language Models\n"
     ]
    },
    {
     "name": "stderr",
     "output_type": "stream",
     "text": [
      " 48%|████████████████▉                  | 1638/3396 [4:07:42<3:32:18,  7.25s/it]"
     ]
    },
    {
     "name": "stdout",
     "output_type": "stream",
     "text": [
      "Error in get citation for THE ROBUSTNESS OF DIFFERENTIABLE CAUSAL DISCOVERY IN MISSPECIFIED SCENARIOS\n"
     ]
    },
    {
     "name": "stderr",
     "output_type": "stream",
     "text": [
      " 48%|████████████████▉                  | 1640/3396 [4:07:48<2:27:04,  5.03s/it]"
     ]
    },
    {
     "name": "stdout",
     "output_type": "stream",
     "text": [
      "Error in get citation for Neural Phylogeny: Fine Tuning Relationship Detection among Neural Networks\n"
     ]
    },
    {
     "name": "stderr",
     "output_type": "stream",
     "text": [
      " 48%|████████████████▉                  | 1645/3396 [4:08:17<2:11:50,  4.52s/it]"
     ]
    },
    {
     "name": "stdout",
     "output_type": "stream",
     "text": [
      "Error in get citation for CameraCtrl: Enabling Camera Control for Video Diffusion Models\n"
     ]
    },
    {
     "name": "stderr",
     "output_type": "stream",
     "text": [
      " 48%|████████████████▉                  | 1646/3396 [4:08:30<3:19:07,  6.83s/it]"
     ]
    },
    {
     "name": "stdout",
     "output_type": "stream",
     "text": [
      "Error in get citation for SSOLE: Rethinking Orthogonal Low rank Embedding for Self Supervised Learning\n"
     ]
    },
    {
     "name": "stderr",
     "output_type": "stream",
     "text": [
      " 49%|█████████████████                  | 1650/3396 [4:08:44<2:10:54,  4.50s/it]"
     ]
    },
    {
     "name": "stdout",
     "output_type": "stream",
     "text": [
      "Error in get citation for Order aware Interactive Segmentation\n"
     ]
    },
    {
     "name": "stderr",
     "output_type": "stream",
     "text": [
      " 49%|█████████████████                  | 1658/3396 [4:09:28<1:59:00,  4.11s/it]"
     ]
    },
    {
     "name": "stdout",
     "output_type": "stream",
     "text": [
      "Error in get citation for Active Learning for Neural PDE Solvers\n"
     ]
    },
    {
     "name": "stderr",
     "output_type": "stream",
     "text": [
      " 49%|█████████████████▏                 | 1670/3396 [4:11:00<3:01:35,  6.31s/it]"
     ]
    },
    {
     "name": "stdout",
     "output_type": "stream",
     "text": [
      "Error in get citation for Data Center Cooling System Optimization Using Offline Reinforcement Learning\n"
     ]
    },
    {
     "name": "stderr",
     "output_type": "stream",
     "text": [
      " 49%|█████████████████▎                 | 1674/3396 [4:11:29<2:56:43,  6.16s/it]"
     ]
    },
    {
     "name": "stdout",
     "output_type": "stream",
     "text": [
      "Error in get citation for TDDBench: A Benchmark for Training data detection\n"
     ]
    },
    {
     "name": "stderr",
     "output_type": "stream",
     "text": [
      " 50%|█████████████████▎                 | 1682/3396 [4:12:15<2:19:11,  4.87s/it]"
     ]
    },
    {
     "name": "stdout",
     "output_type": "stream",
     "text": [
      "Error in get citation for OBI Bench: Can LMMs Aid in Study of Ancient Script on Oracle Bones?\n"
     ]
    },
    {
     "name": "stderr",
     "output_type": "stream",
     "text": [
      " 50%|█████████████████▍                 | 1692/3396 [4:12:57<1:30:47,  3.20s/it]"
     ]
    },
    {
     "name": "stdout",
     "output_type": "stream",
     "text": [
      "Error in get citation for LLaMaFlex: Many in one LLMs via Generalized Pruning and Weight Sharing\n"
     ]
    },
    {
     "name": "stderr",
     "output_type": "stream",
     "text": [
      " 50%|█████████████████▌                 | 1708/3396 [4:13:57<1:34:50,  3.37s/it]"
     ]
    },
    {
     "name": "stdout",
     "output_type": "stream",
     "text": [
      "Error in get citation for HaDeMiF: Hallucination Detection and Mitigation in Large Language Models\n"
     ]
    },
    {
     "name": "stderr",
     "output_type": "stream",
     "text": [
      " 50%|█████████████████▋                 | 1713/3396 [4:14:13<1:27:44,  3.13s/it]"
     ]
    },
    {
     "name": "stdout",
     "output_type": "stream",
     "text": [
      "Error in get citation for GDrag:Towards General Purpose Interactive Editing with Anti ambiguity Point Diffusion\n"
     ]
    },
    {
     "name": "stderr",
     "output_type": "stream",
     "text": [
      " 51%|█████████████████▊                 | 1725/3396 [4:16:01<7:25:51, 16.01s/it]"
     ]
    },
    {
     "name": "stdout",
     "output_type": "stream",
     "text": [
      "Error in get citation for Learning Clustering based Prototypes for Compositional Zero Shot Learning\n"
     ]
    },
    {
     "name": "stderr",
     "output_type": "stream",
     "text": [
      " 51%|█████████████████▊                 | 1728/3396 [4:16:53<7:21:59, 15.90s/it]"
     ]
    },
    {
     "name": "stdout",
     "output_type": "stream",
     "text": [
      "Error in get citation for SPA: 3D Spatial Awareness Enables Effective Embodied Representation\n"
     ]
    },
    {
     "name": "stderr",
     "output_type": "stream",
     "text": [
      " 51%|█████████████████▊                 | 1731/3396 [4:18:12<9:07:46, 19.74s/it]"
     ]
    },
    {
     "name": "stdout",
     "output_type": "stream",
     "text": [
      "Error in get citation for Training Free Dataset Pruning for Instance Segmentation\n"
     ]
    },
    {
     "name": "stderr",
     "output_type": "stream",
     "text": [
      " 52%|██████████████████▏                | 1762/3396 [4:20:40<1:19:12,  2.91s/it]"
     ]
    },
    {
     "name": "stdout",
     "output_type": "stream",
     "text": [
      "Error in get citation for Asymmetric Factorized Bilinear Operation for Vision Transformer\n"
     ]
    },
    {
     "name": "stderr",
     "output_type": "stream",
     "text": [
      " 52%|██████████████████▏                | 1767/3396 [4:20:55<1:22:04,  3.02s/it]"
     ]
    },
    {
     "name": "stdout",
     "output_type": "stream",
     "text": [
      "Error in get citation for Field DiT: Diffusion Transformer on Unified Video, 3D, and Game Field Generation\n"
     ]
    },
    {
     "name": "stderr",
     "output_type": "stream",
     "text": [
      " 52%|██████████████████▎                | 1773/3396 [4:21:19<1:42:20,  3.78s/it]"
     ]
    },
    {
     "name": "stdout",
     "output_type": "stream",
     "text": [
      "Error in get citation for Understanding Long Videos with Multimodal Language Models\n"
     ]
    },
    {
     "name": "stderr",
     "output_type": "stream",
     "text": [
      " 52%|██████████████████▎                | 1775/3396 [4:21:35<2:23:44,  5.32s/it]"
     ]
    },
    {
     "name": "stdout",
     "output_type": "stream",
     "text": [
      "Error in get citation for Discrete Codebook World Models for Continuous Control\n"
     ]
    },
    {
     "name": "stderr",
     "output_type": "stream",
     "text": [
      " 52%|██████████████████▎                | 1776/3396 [4:21:47<3:19:49,  7.40s/it]"
     ]
    },
    {
     "name": "stdout",
     "output_type": "stream",
     "text": [
      "Error in get citation for Robots Pre train Robots: Manipulation Centric Robotic Representation from Large Scale Robot Datasets\n"
     ]
    },
    {
     "name": "stderr",
     "output_type": "stream",
     "text": [
      " 53%|██████████████████▍                | 1788/3396 [4:22:58<2:02:31,  4.57s/it]"
     ]
    },
    {
     "name": "stdout",
     "output_type": "stream",
     "text": [
      "Error in get citation for PT T2I/V: An Efficient Proxy Tokenized Diffusion Transformer for Text to Image/Video Task\n"
     ]
    },
    {
     "name": "stderr",
     "output_type": "stream",
     "text": [
      " 53%|██████████████████▍                | 1789/3396 [4:23:01<1:46:42,  3.98s/it]"
     ]
    },
    {
     "name": "stdout",
     "output_type": "stream",
     "text": [
      "Error in get citation for Fast Feedforward 3D Gaussian Splatting Compression\n"
     ]
    },
    {
     "name": "stderr",
     "output_type": "stream",
     "text": [
      " 53%|██████████████████▍                | 1792/3396 [4:23:19<2:06:16,  4.72s/it]"
     ]
    },
    {
     "name": "stdout",
     "output_type": "stream",
     "text": [
      "Error in get citation for Generating Physical Dynamics under Priors\n"
     ]
    },
    {
     "name": "stderr",
     "output_type": "stream",
     "text": [
      " 53%|██████████████████▍                | 1793/3396 [4:23:32<3:06:28,  6.98s/it]"
     ]
    },
    {
     "name": "stdout",
     "output_type": "stream",
     "text": [
      "Error in get citation for Denoising with a Joint Embedding Predictive Architecture\n"
     ]
    },
    {
     "name": "stderr",
     "output_type": "stream",
     "text": [
      " 53%|██████████████████▍                | 1794/3396 [4:23:44<3:48:36,  8.56s/it]"
     ]
    },
    {
     "name": "stdout",
     "output_type": "stream",
     "text": [
      "Error in get citation for Hyper Connections\n"
     ]
    },
    {
     "name": "stderr",
     "output_type": "stream",
     "text": [
      " 53%|██████████████████▌                | 1807/3396 [4:25:37<3:04:10,  6.95s/it]"
     ]
    },
    {
     "name": "stdout",
     "output_type": "stream",
     "text": [
      "Error in get citation for SleepSMC: Ubiquitous Sleep Staging via Supervised Multimodal Coordination\n"
     ]
    },
    {
     "name": "stderr",
     "output_type": "stream",
     "text": [
      " 53%|██████████████████▋                | 1810/3396 [4:25:51<2:21:05,  5.34s/it]"
     ]
    },
    {
     "name": "stdout",
     "output_type": "stream",
     "text": [
      "Error in get citation for Enhancing Document Understanding with Group Position Embedding: A Novel Approach to Incorporate Layout Information\n"
     ]
    },
    {
     "name": "stderr",
     "output_type": "stream",
     "text": [
      " 54%|██████████████████▊                | 1820/3396 [4:26:21<1:17:43,  2.96s/it]"
     ]
    },
    {
     "name": "stdout",
     "output_type": "stream",
     "text": [
      "Error in get citation for Breaking Neural Network Scaling Laws with Modularity\n"
     ]
    },
    {
     "name": "stderr",
     "output_type": "stream",
     "text": [
      " 54%|██████████████████▉                | 1835/3396 [4:27:34<1:36:01,  3.69s/it]"
     ]
    },
    {
     "name": "stdout",
     "output_type": "stream",
     "text": [
      "Error in get citation for CycleResearcher: Improving Automated Research via Automated Review\n"
     ]
    },
    {
     "name": "stderr",
     "output_type": "stream",
     "text": [
      " 54%|███████████████████                | 1845/3396 [4:28:31<2:18:21,  5.35s/it]"
     ]
    },
    {
     "name": "stdout",
     "output_type": "stream",
     "text": [
      "Error in get citation for Consistency Checks for Language Model Forecasters\n"
     ]
    },
    {
     "name": "stderr",
     "output_type": "stream",
     "text": [
      " 55%|███████████████████                | 1851/3396 [4:29:11<2:43:22,  6.34s/it]"
     ]
    },
    {
     "name": "stdout",
     "output_type": "stream",
     "text": [
      "Error in get citation for Scaling Laws for Precision\n"
     ]
    },
    {
     "name": "stderr",
     "output_type": "stream",
     "text": [
      " 55%|███████████████████▍               | 1884/3396 [4:32:40<2:32:15,  6.04s/it]"
     ]
    },
    {
     "name": "stdout",
     "output_type": "stream",
     "text": [
      "Error in get citation for Proteina: Scaling Flow based Protein Structure Generative Models\n"
     ]
    },
    {
     "name": "stderr",
     "output_type": "stream",
     "text": [
      " 56%|███████████████████▍               | 1886/3396 [4:32:57<2:50:20,  6.77s/it]"
     ]
    },
    {
     "name": "stdout",
     "output_type": "stream",
     "text": [
      "Error in get citation for Learning to Discretize Denoising Diffusion ODEs\n"
     ]
    },
    {
     "name": "stderr",
     "output_type": "stream",
     "text": [
      " 56%|███████████████████▌               | 1901/3396 [4:34:32<1:35:46,  3.84s/it]"
     ]
    },
    {
     "name": "stdout",
     "output_type": "stream",
     "text": [
      "Error in get citation for STAR: Synthesis of Tailored Architectures\n"
     ]
    },
    {
     "name": "stderr",
     "output_type": "stream",
     "text": [
      " 58%|████████████████████▏              | 1958/3396 [4:39:21<2:16:12,  5.68s/it]"
     ]
    },
    {
     "name": "stdout",
     "output_type": "stream",
     "text": [
      "Error in get citation for Robustness Inspired Graph Backdoor Defense\n"
     ]
    },
    {
     "name": "stderr",
     "output_type": "stream",
     "text": [
      " 58%|████████████████████▎              | 1975/3396 [4:41:09<1:37:30,  4.12s/it]"
     ]
    },
    {
     "name": "stdout",
     "output_type": "stream",
     "text": [
      "Error in get citation for Advantage Alignment Algorithms\n"
     ]
    },
    {
     "name": "stderr",
     "output_type": "stream",
     "text": [
      " 58%|████████████████████▍              | 1985/3396 [4:42:00<2:02:08,  5.19s/it]"
     ]
    },
    {
     "name": "stdout",
     "output_type": "stream",
     "text": [
      "Error in get citation for AI as Humanity’s Salieri: Quantifying Linguistic Creativity of Language Models via Systematic Attribution of Machine Text against Web Text\n"
     ]
    },
    {
     "name": "stderr",
     "output_type": "stream",
     "text": [
      " 59%|████████████████████▌              | 1998/3396 [4:44:31<4:03:57, 10.47s/it]"
     ]
    },
    {
     "name": "stdout",
     "output_type": "stream",
     "text": [
      "Error in get citation for Differential Transformer\n"
     ]
    },
    {
     "name": "stderr",
     "output_type": "stream",
     "text": [
      " 59%|████████████████████▋              | 2010/3396 [4:46:33<2:41:22,  6.99s/it]"
     ]
    },
    {
     "name": "stdout",
     "output_type": "stream",
     "text": [
      "Error in get citation for Mind the Gap: Examining the Self Improvement Capabilities of Large Language Models\n"
     ]
    },
    {
     "name": "stderr",
     "output_type": "stream",
     "text": [
      " 60%|████████████████████▉              | 2033/3396 [4:48:01<1:56:36,  5.13s/it]"
     ]
    },
    {
     "name": "stdout",
     "output_type": "stream",
     "text": [
      "Error in get citation for PhysBench: Benchmarking and Enhancing Vision Language Models for Physical World Understanding\n"
     ]
    },
    {
     "name": "stderr",
     "output_type": "stream",
     "text": [
      " 61%|█████████████████████▎             | 2062/3396 [4:50:09<2:02:51,  5.53s/it]"
     ]
    },
    {
     "name": "stdout",
     "output_type": "stream",
     "text": [
      "Error in get citation for MuseGNN: Forming Scalable, Convergent GNN Layers that Minimize a Sampling Based Energy\n"
     ]
    },
    {
     "name": "stderr",
     "output_type": "stream",
     "text": [
      " 62%|█████████████████████▌             | 2090/3396 [4:52:05<1:07:09,  3.09s/it]"
     ]
    },
    {
     "name": "stdout",
     "output_type": "stream",
     "text": [
      "Error in get citation for Generalizing Reasoning Problems to Longer Lengths\n"
     ]
    },
    {
     "name": "stderr",
     "output_type": "stream",
     "text": [
      " 62%|█████████████████████▊             | 2119/3396 [4:55:25<3:51:06, 10.86s/it]"
     ]
    },
    {
     "name": "stdout",
     "output_type": "stream",
     "text": [
      "Error in get citation for Generalizable Motion Planning via Operator Learning\n"
     ]
    },
    {
     "name": "stderr",
     "output_type": "stream",
     "text": [
      " 63%|██████████████████████             | 2136/3396 [4:57:07<2:46:35,  7.93s/it]"
     ]
    },
    {
     "name": "stdout",
     "output_type": "stream",
     "text": [
      "Error in get citation for Beyond Worst Case Dimensionality Reduction for Sparse Vectors\n"
     ]
    },
    {
     "name": "stderr",
     "output_type": "stream",
     "text": [
      " 64%|██████████████████████▎            | 2162/3396 [4:58:59<1:41:18,  4.93s/it]"
     ]
    },
    {
     "name": "stdout",
     "output_type": "stream",
     "text": [
      "Error in get citation for Semantic Aware Representation Learning for Lifelong Learning\n"
     ]
    },
    {
     "name": "stderr",
     "output_type": "stream",
     "text": [
      " 64%|██████████████████████▍            | 2180/3396 [5:00:07<1:20:18,  3.96s/it]"
     ]
    },
    {
     "name": "stdout",
     "output_type": "stream",
     "text": [
      "Error in get citation for Point based Instance Completion with Scene Constraints\n"
     ]
    },
    {
     "name": "stderr",
     "output_type": "stream",
     "text": [
      " 65%|██████████████████████▌            | 2191/3396 [5:01:04<1:08:36,  3.42s/it]"
     ]
    },
    {
     "name": "stdout",
     "output_type": "stream",
     "text": [
      "Error in get citation for Can We Talk Models Into Seeing the World Differently?\n"
     ]
    },
    {
     "name": "stderr",
     "output_type": "stream",
     "text": [
      " 65%|██████████████████████▋            | 2200/3396 [5:01:52<1:19:18,  3.98s/it]"
     ]
    },
    {
     "name": "stdout",
     "output_type": "stream",
     "text": [
      "Error in get citation for Conformalized Interactive Imitation Learning: Handling Expert Shift and Intermittent Feedback\n"
     ]
    },
    {
     "name": "stderr",
     "output_type": "stream",
     "text": [
      " 65%|██████████████████████▋            | 2207/3396 [5:02:24<1:13:13,  3.69s/it]"
     ]
    },
    {
     "name": "stdout",
     "output_type": "stream",
     "text": [
      "Error in get citation for Balancing Act: Diversity and Consistency in Large Language Model Ensembles\n"
     ]
    },
    {
     "name": "stderr",
     "output_type": "stream",
     "text": [
      " 65%|██████████████████████▉            | 2221/3396 [5:03:11<1:08:41,  3.51s/it]"
     ]
    },
    {
     "name": "stdout",
     "output_type": "stream",
     "text": [
      "Error in get citation for RepoGraph: Enhancing AI Software Engineering with Repository level Code Graph\n"
     ]
    },
    {
     "name": "stderr",
     "output_type": "stream",
     "text": [
      " 66%|███████████████████████            | 2240/3396 [5:04:27<1:07:58,  3.53s/it]"
     ]
    },
    {
     "name": "stdout",
     "output_type": "stream",
     "text": [
      "Error in get citation for Language Image Models with 3D Understanding\n"
     ]
    },
    {
     "name": "stderr",
     "output_type": "stream",
     "text": [
      " 67%|███████████████████████▎           | 2267/3396 [5:06:08<1:01:02,  3.24s/it]"
     ]
    },
    {
     "name": "stdout",
     "output_type": "stream",
     "text": [
      "Error in get citation for TimeInf: Time Series Data Contribution via Influence Functions\n"
     ]
    },
    {
     "name": "stderr",
     "output_type": "stream",
     "text": [
      " 67%|███████████████████████▍           | 2272/3396 [5:06:43<1:50:16,  5.89s/it]"
     ]
    },
    {
     "name": "stdout",
     "output_type": "stream",
     "text": [
      "Error in get citation for Repetition Improves Language Model Embeddings\n"
     ]
    },
    {
     "name": "stderr",
     "output_type": "stream",
     "text": [
      " 67%|███████████████████████▌           | 2285/3396 [5:07:46<1:27:46,  4.74s/it]"
     ]
    },
    {
     "name": "stdout",
     "output_type": "stream",
     "text": [
      "Error in get citation for Task Adaptive Pretrained Language Models via Clustered Importance Sampling\n"
     ]
    },
    {
     "name": "stderr",
     "output_type": "stream",
     "text": [
      " 67%|███████████████████████▌           | 2290/3396 [5:08:12<1:23:08,  4.51s/it]"
     ]
    },
    {
     "name": "stdout",
     "output_type": "stream",
     "text": [
      "Error in get citation for Composable Interventions for Language Models\n"
     ]
    },
    {
     "name": "stderr",
     "output_type": "stream",
     "text": [
      " 69%|████████████████████████           | 2334/3396 [5:11:14<1:03:57,  3.61s/it]"
     ]
    },
    {
     "name": "stdout",
     "output_type": "stream",
     "text": [
      "Error in get citation for Simulating Training Dynamics to Reconstruct Training Data from Deep Neural Networks\n"
     ]
    },
    {
     "name": "stderr",
     "output_type": "stream",
     "text": [
      " 71%|████████████████████████▊          | 2402/3396 [5:15:44<1:18:56,  4.76s/it]"
     ]
    },
    {
     "name": "stdout",
     "output_type": "stream",
     "text": [
      "Error in get citation for Factor Graph based Interpretable Neural Networks\n"
     ]
    },
    {
     "name": "stderr",
     "output_type": "stream",
     "text": [
      " 72%|██████████████████████████▍          | 2431/3396 [5:17:37<50:39,  3.15s/it]"
     ]
    },
    {
     "name": "stdout",
     "output_type": "stream",
     "text": [
      "Error in get citation for An Information Criterion for Controlled Disentanglement of Multimodal Data\n"
     ]
    },
    {
     "name": "stderr",
     "output_type": "stream",
     "text": [
      " 72%|██████████████████████████▋          | 2453/3396 [5:19:17<52:22,  3.33s/it]"
     ]
    },
    {
     "name": "stdout",
     "output_type": "stream",
     "text": [
      "Error in get citation for ViSAGe: Video to Spatial Audio Generation\n"
     ]
    },
    {
     "name": "stderr",
     "output_type": "stream",
     "text": [
      " 73%|███████████████████████████▏         | 2491/3396 [5:21:47<59:27,  3.94s/it]"
     ]
    },
    {
     "name": "stdout",
     "output_type": "stream",
     "text": [
      "Error in get citation for SAVA: Scalable Learning Agnostic Data Valuation\n"
     ]
    },
    {
     "name": "stderr",
     "output_type": "stream",
     "text": [
      " 76%|██████████████████████████▋        | 2590/3396 [5:33:35<2:54:34, 13.00s/it]"
     ]
    },
    {
     "name": "stdout",
     "output_type": "stream",
     "text": [
      "Error in get citation for Sharpness Aware Black Box Optimization\n"
     ]
    },
    {
     "name": "stderr",
     "output_type": "stream",
     "text": [
      " 78%|████████████████████████████▉        | 2652/3396 [5:37:33<46:59,  3.79s/it]"
     ]
    },
    {
     "name": "stdout",
     "output_type": "stream",
     "text": [
      "Error in get citation for Continuous Diffusion for Mixed Type Tabular Data\n"
     ]
    },
    {
     "name": "stderr",
     "output_type": "stream",
     "text": [
      " 79%|█████████████████████████████▏       | 2678/3396 [5:39:18<38:48,  3.24s/it]"
     ]
    },
    {
     "name": "stdout",
     "output_type": "stream",
     "text": [
      "Error in get citation for Mutual Reasoning Makes Smaller LLMs Stronger Problem Solver\n"
     ]
    },
    {
     "name": "stderr",
     "output_type": "stream",
     "text": [
      " 79%|█████████████████████████████▎       | 2690/3396 [5:40:35<39:43,  3.38s/it]"
     ]
    },
    {
     "name": "stdout",
     "output_type": "stream",
     "text": [
      "Error in get citation for 3D StreetUnveiler with Semantic aware 2DGS   a simple baseline\n"
     ]
    },
    {
     "name": "stderr",
     "output_type": "stream",
     "text": [
      " 80%|█████████████████████████████▌       | 2714/3396 [5:42:21<46:43,  4.11s/it]"
     ]
    },
    {
     "name": "stdout",
     "output_type": "stream",
     "text": [
      "Error in get citation for Adaptive Data Optimization: Dynamic Sample Selection with Scaling Laws\n"
     ]
    },
    {
     "name": "stderr",
     "output_type": "stream",
     "text": [
      " 80%|█████████████████████████████▋       | 2727/3396 [5:44:16<47:57,  4.30s/it]"
     ]
    },
    {
     "name": "stdout",
     "output_type": "stream",
     "text": [
      "Error in get citation for Analysis of Linear Mode Connectivity via Permutation Based Weight Matching: With Insights into Other Permutation Search Methods\n"
     ]
    },
    {
     "name": "stderr",
     "output_type": "stream",
     "text": [
      " 80%|█████████████████████████████▋       | 2730/3396 [5:44:30<48:05,  4.33s/it]"
     ]
    },
    {
     "name": "stdout",
     "output_type": "stream",
     "text": [
      "Error in get citation for Dobi SVD: Differentiable SVD for LLM Compression and Some New Perspectives\n"
     ]
    },
    {
     "name": "stderr",
     "output_type": "stream",
     "text": [
      " 82%|██████████████████████████████▎      | 2779/3396 [5:51:02<37:09,  3.61s/it]"
     ]
    },
    {
     "name": "stdout",
     "output_type": "stream",
     "text": [
      "Error in get citation for Less is More: Masking Elements in Image Condition Features Avoids Content Leakages in Style Transfer Diffusion Models\n"
     ]
    },
    {
     "name": "stderr",
     "output_type": "stream",
     "text": [
      " 82%|██████████████████████████████▎      | 2784/3396 [5:51:23<45:43,  4.48s/it]"
     ]
    },
    {
     "name": "stdout",
     "output_type": "stream",
     "text": [
      "Error in get citation for Towards Unbiased Learning in Semi Supervised Semantic Segmentation\n"
     ]
    },
    {
     "name": "stderr",
     "output_type": "stream",
     "text": [
      " 84%|███████████████████████████████      | 2853/3396 [5:58:35<36:19,  4.01s/it]"
     ]
    },
    {
     "name": "stdout",
     "output_type": "stream",
     "text": [
      "Error in get citation for Deep MMD Gradient Flow without adversarial training\n"
     ]
    },
    {
     "name": "stderr",
     "output_type": "stream",
     "text": [
      " 85%|███████████████████████████████▎     | 2875/3396 [6:00:30<29:07,  3.35s/it]"
     ]
    },
    {
     "name": "stdout",
     "output_type": "stream",
     "text": [
      "Error in get citation for NRGBoost: Energy Based Generative Boosted Trees\n"
     ]
    },
    {
     "name": "stderr",
     "output_type": "stream",
     "text": [
      " 85%|███████████████████████████████▋     | 2903/3396 [6:02:28<30:50,  3.75s/it]"
     ]
    },
    {
     "name": "stdout",
     "output_type": "stream",
     "text": [
      "Error in get citation for TEOChat: A Large Vision Language Assistant for Temporal Earth Observation Data\n"
     ]
    },
    {
     "name": "stderr",
     "output_type": "stream",
     "text": [
      " 86%|███████████████████████████████▉     | 2928/3396 [6:04:17<24:29,  3.14s/it]"
     ]
    },
    {
     "name": "stdout",
     "output_type": "stream",
     "text": [
      "Error in get citation for CHAMP: Conformalized 3D Human Multi Hypothesis Pose Estimators\n"
     ]
    },
    {
     "name": "stderr",
     "output_type": "stream",
     "text": [
      " 90%|█████████████████████████████████▍   | 3071/3396 [6:14:23<20:05,  3.71s/it]"
     ]
    },
    {
     "name": "stdout",
     "output_type": "stream",
     "text": [
      "Error in get citation for Token Statistics Transformer: Linear Time Attention via Variational Rate Reduction\n"
     ]
    },
    {
     "name": "stderr",
     "output_type": "stream",
     "text": [
      " 90%|█████████████████████████████████▍   | 3073/3396 [6:14:39<29:52,  5.55s/it]"
     ]
    },
    {
     "name": "stdout",
     "output_type": "stream",
     "text": [
      "Error in get citation for X ALMA: Plug & Play Modules and Adaptive Rejection for Quality Translation at Scale\n"
     ]
    },
    {
     "name": "stderr",
     "output_type": "stream",
     "text": [
      " 91%|█████████████████████████████████▌   | 3086/3396 [6:16:18<33:59,  6.58s/it]"
     ]
    },
    {
     "name": "stdout",
     "output_type": "stream",
     "text": [
      "Error in get citation for Streaming Algorithms For $\\ell_p$ Flows and $\\ell_p$ Regression\n"
     ]
    },
    {
     "name": "stderr",
     "output_type": "stream",
     "text": [
      " 91%|████████████████████████████████   | 3107/3396 [6:22:36<5:03:05, 62.93s/it]"
     ]
    },
    {
     "name": "stdout",
     "output_type": "stream",
     "text": [
      "Error in get citation for Learning Equivariant Non Local Electron Density Functionals\n"
     ]
    },
    {
     "name": "stderr",
     "output_type": "stream",
     "text": [
      " 92%|███████████████████████████████▏  | 3110/3396 [6:30:07<9:01:41, 113.64s/it]"
     ]
    },
    {
     "name": "stdout",
     "output_type": "stream",
     "text": [
      "Error in get citation for PETRA: Parallel End to end Training with Reversible Architectures\n"
     ]
    },
    {
     "name": "stderr",
     "output_type": "stream",
     "text": [
      " 92%|██████████████████████████████▎  | 3113/3396 [6:41:05<13:38:53, 173.62s/it]"
     ]
    },
    {
     "name": "stdout",
     "output_type": "stream",
     "text": [
      "Error in get citation for Physics aligned field reconstruction with diffusion bridge\n"
     ]
    },
    {
     "name": "stderr",
     "output_type": "stream",
     "text": [
      " 92%|██████████████████████████████▎  | 3114/3396 [6:45:46<16:07:20, 205.82s/it]"
     ]
    },
    {
     "name": "stdout",
     "output_type": "stream",
     "text": [
      "Error in get citation for RegMix: Data Mixture as Regression for Language Model Pre training\n"
     ]
    },
    {
     "name": "stderr",
     "output_type": "stream",
     "text": [
      " 92%|██████████████████████████████▎  | 3125/3396 [7:08:32<12:41:12, 168.53s/it]"
     ]
    },
    {
     "name": "stdout",
     "output_type": "stream",
     "text": [
      "Error in get citation for Improved Convergence Rate for Diffusion Probabilistic Models\n"
     ]
    },
    {
     "name": "stderr",
     "output_type": "stream",
     "text": [
      " 92%|████████████████████████████████▎  | 3131/3396 [7:16:38<5:58:17, 81.12s/it]"
     ]
    },
    {
     "name": "stdout",
     "output_type": "stream",
     "text": [
      "Error in get citation for Diffusion Attribution Score: Evaluating Training Data Influence in Diffusion Models\n"
     ]
    },
    {
     "name": "stderr",
     "output_type": "stream",
     "text": [
      " 93%|████████████████████████████████▍  | 3145/3396 [7:38:37<5:19:31, 76.38s/it]"
     ]
    },
    {
     "name": "stdout",
     "output_type": "stream",
     "text": [
      "Error in get citation for Linear Mode Connectivity in Differentiable Tree Ensembles\n"
     ]
    },
    {
     "name": "stderr",
     "output_type": "stream",
     "text": [
      " 93%|███████████████████████████████▍  | 3146/3396 [7:43:18<9:34:12, 137.81s/it]"
     ]
    },
    {
     "name": "stdout",
     "output_type": "stream",
     "text": [
      "Error in get citation for Overcoming False Illusions in Real World Face Restoration with Multi Modal Guided Diffusion Model\n"
     ]
    },
    {
     "name": "stderr",
     "output_type": "stream",
     "text": [
      " 93%|███████████████████████████████▌  | 3151/3396 [7:57:00<9:39:23, 141.89s/it]"
     ]
    },
    {
     "name": "stdout",
     "output_type": "stream",
     "text": [
      "Error in get citation for Presto! Distilling Steps and Layers for Accelerating Music Generation\n"
     ]
    },
    {
     "name": "stderr",
     "output_type": "stream",
     "text": [
      " 93%|████████████████████████████████▌  | 3160/3396 [8:09:21<4:16:05, 65.11s/it]"
     ]
    },
    {
     "name": "stdout",
     "output_type": "stream",
     "text": [
      "Error in get citation for ZAPBench: A Benchmark for Whole Brain Activity Prediction in Zebrafish\n"
     ]
    },
    {
     "name": "stderr",
     "output_type": "stream",
     "text": [
      " 93%|███████████████████████████████▋  | 3162/3396 [8:15:40<7:48:41, 120.18s/it]"
     ]
    },
    {
     "name": "stdout",
     "output_type": "stream",
     "text": [
      "Error in get citation for A Periodic Bayesian Flow for Material Generation\n"
     ]
    },
    {
     "name": "stderr",
     "output_type": "stream",
     "text": [
      " 94%|████████████████████████████████▉  | 3200/3396 [8:55:18<1:22:47, 25.34s/it]"
     ]
    },
    {
     "name": "stdout",
     "output_type": "stream",
     "text": [
      "Error in get citation for ReDeEP: Detecting Hallucination in Retrieval Augmented Generation via Mechanistic Interpretability\n"
     ]
    },
    {
     "name": "stderr",
     "output_type": "stream",
     "text": [
      " 94%|████████████████████████████████▉  | 3201/3396 [8:56:55<2:31:52, 46.73s/it]"
     ]
    },
    {
     "name": "stdout",
     "output_type": "stream",
     "text": [
      "Error in get citation for Accelerating Goal Conditioned Reinforcement Learning Algorithms and Research\n"
     ]
    },
    {
     "name": "stderr",
     "output_type": "stream",
     "text": [
      " 94%|█████████████████████████████████  | 3202/3396 [8:56:58<1:49:00, 33.71s/it]"
     ]
    },
    {
     "name": "stdout",
     "output_type": "stream",
     "text": [
      "Error in get citation for Transformers Learn to Implement Multi step Gradient Descent with Chain of Thought\n"
     ]
    },
    {
     "name": "stderr",
     "output_type": "stream",
     "text": [
      " 94%|█████████████████████████████████  | 3203/3396 [8:57:42<1:57:59, 36.68s/it]"
     ]
    },
    {
     "name": "stdout",
     "output_type": "stream",
     "text": [
      "Error in get citation for SimBa: Simplicity Bias for Scaling Up Parameters in Deep Reinforcement Learning\n"
     ]
    },
    {
     "name": "stderr",
     "output_type": "stream",
     "text": [
      " 94%|█████████████████████████████████  | 3204/3396 [8:57:54<1:33:55, 29.35s/it]"
     ]
    },
    {
     "name": "stdout",
     "output_type": "stream",
     "text": [
      "Error in get citation for Tuning Frequency Bias of State Space Models\n"
     ]
    },
    {
     "name": "stderr",
     "output_type": "stream",
     "text": [
      " 94%|█████████████████████████████████  | 3205/3396 [8:58:06<1:17:06, 24.22s/it]"
     ]
    },
    {
     "name": "stdout",
     "output_type": "stream",
     "text": [
      "Error in get citation for Planning in Natural Language Improves LLM Search for Code Generation\n"
     ]
    },
    {
     "name": "stderr",
     "output_type": "stream",
     "text": [
      " 94%|█████████████████████████████████  | 3206/3396 [8:58:19<1:05:37, 20.73s/it]"
     ]
    },
    {
     "name": "stdout",
     "output_type": "stream",
     "text": [
      "Error in get citation for Recovering Manifold Structure Using Ollivier Ricci Curvature\n"
     ]
    },
    {
     "name": "stderr",
     "output_type": "stream",
     "text": [
      " 94%|██████████████████████████████████▉  | 3207/3396 [8:58:31<57:29, 18.25s/it]"
     ]
    },
    {
     "name": "stdout",
     "output_type": "stream",
     "text": [
      "Error in get citation for Nonlinear multiregion neural dynamics with parametric impulse response communication channels\n"
     ]
    },
    {
     "name": "stderr",
     "output_type": "stream",
     "text": [
      " 94%|█████████████████████████████████  | 3208/3396 [8:59:15<1:21:02, 25.87s/it]"
     ]
    },
    {
     "name": "stdout",
     "output_type": "stream",
     "text": [
      "Error in get citation for Diffusion On Syntax Trees For Program Synthesis\n"
     ]
    },
    {
     "name": "stderr",
     "output_type": "stream",
     "text": [
      " 94%|█████████████████████████████████  | 3209/3396 [8:59:58<1:36:54, 31.09s/it]"
     ]
    },
    {
     "name": "stdout",
     "output_type": "stream",
     "text": [
      "Error in get citation for Scaling up the Banded Matrix Factorization Mechanism for Large Scale Differentially Private ML\n"
     ]
    },
    {
     "name": "stderr",
     "output_type": "stream",
     "text": [
      " 95%|█████████████████████████████████  | 3210/3396 [9:00:10<1:18:52, 25.44s/it]"
     ]
    },
    {
     "name": "stdout",
     "output_type": "stream",
     "text": [
      "Error in get citation for Self play with Execution Feedback: Improving Instruction following Capabilities of Large Language Models\n"
     ]
    },
    {
     "name": "stderr",
     "output_type": "stream",
     "text": [
      " 95%|██████████████████████████████████▉  | 3211/3396 [9:00:13<57:34, 18.67s/it]"
     ]
    },
    {
     "name": "stdout",
     "output_type": "stream",
     "text": [
      "Error in get citation for How Feature Learning Can Improve Neural Scaling Laws\n"
     ]
    },
    {
     "name": "stderr",
     "output_type": "stream",
     "text": [
      " 95%|█████████████████████████████████  | 3212/3396 [9:00:57<1:20:03, 26.10s/it]"
     ]
    },
    {
     "name": "stdout",
     "output_type": "stream",
     "text": [
      "Error in get citation for A CLIP Powered Framework for Robust and Generalizable Data Selection\n"
     ]
    },
    {
     "name": "stderr",
     "output_type": "stream",
     "text": [
      " 95%|█████████████████████████████████  | 3213/3396 [9:01:09<1:07:09, 22.02s/it]"
     ]
    },
    {
     "name": "stdout",
     "output_type": "stream",
     "text": [
      "Error in get citation for PABBO: Preferential Amortized Black Box Optimization\n"
     ]
    },
    {
     "name": "stderr",
     "output_type": "stream",
     "text": [
      " 95%|█████████████████████████████████  | 3214/3396 [9:01:43<1:18:01, 25.72s/it]"
     ]
    },
    {
     "name": "stdout",
     "output_type": "stream",
     "text": [
      "Error in get citation for Test time Alignment of Diffusion Models without Reward Over optimization\n"
     ]
    },
    {
     "name": "stderr",
     "output_type": "stream",
     "text": [
      " 95%|█████████████████████████████████▏ | 3215/3396 [9:02:58<2:01:52, 40.40s/it]"
     ]
    },
    {
     "name": "stdout",
     "output_type": "stream",
     "text": [
      "Error in get citation for Vision RWKV: Efficient and Scalable Visual Perception with RWKV Like Architectures\n"
     ]
    },
    {
     "name": "stderr",
     "output_type": "stream",
     "text": [
      " 95%|█████████████████████████████████▏ | 3216/3396 [9:03:10<1:35:52, 31.96s/it]"
     ]
    },
    {
     "name": "stdout",
     "output_type": "stream",
     "text": [
      "Error in get citation for GOLD: Graph Out of Distribution Detection via Implicit Adversarial Latent Generation\n"
     ]
    },
    {
     "name": "stderr",
     "output_type": "stream",
     "text": [
      " 95%|█████████████████████████████████▏ | 3217/3396 [9:03:23<1:17:42, 26.05s/it]"
     ]
    },
    {
     "name": "stdout",
     "output_type": "stream",
     "text": [
      "Error in get citation for Fine tuning with Reserved Majority for Noise Reduction\n"
     ]
    },
    {
     "name": "stderr",
     "output_type": "stream",
     "text": [
      " 95%|█████████████████████████████████▏ | 3218/3396 [9:04:07<1:34:03, 31.70s/it]"
     ]
    },
    {
     "name": "stdout",
     "output_type": "stream",
     "text": [
      "Error in get citation for LLaVA Interleave: Tackling Multi image, Video, and 3D in Large Multimodal Models\n"
     ]
    },
    {
     "name": "stderr",
     "output_type": "stream",
     "text": [
      " 95%|█████████████████████████████████▏ | 3219/3396 [9:04:20<1:16:18, 25.87s/it]"
     ]
    },
    {
     "name": "stdout",
     "output_type": "stream",
     "text": [
      "Error in get citation for ImpScore: A Learnable Metric For Quantifying The Implicitness Level of Sentences\n"
     ]
    },
    {
     "name": "stderr",
     "output_type": "stream",
     "text": [
      " 95%|█████████████████████████████████▏ | 3220/3396 [9:04:32<1:03:53, 21.78s/it]"
     ]
    },
    {
     "name": "stdout",
     "output_type": "stream",
     "text": [
      "Error in get citation for ADIFF: Explaining audio difference using natural language\n"
     ]
    },
    {
     "name": "stderr",
     "output_type": "stream",
     "text": [
      " 95%|█████████████████████████████████▏ | 3221/3396 [9:05:47<1:50:25, 37.86s/it]"
     ]
    },
    {
     "name": "stdout",
     "output_type": "stream",
     "text": [
      "Error in get citation for Enhancing Compositional Text to Image Generation with Reliable Random Seeds\n"
     ]
    },
    {
     "name": "stderr",
     "output_type": "stream",
     "text": [
      " 95%|█████████████████████████████████▏ | 3223/3396 [9:06:11<1:11:04, 24.65s/it]"
     ]
    },
    {
     "name": "stdout",
     "output_type": "stream",
     "text": [
      "Error in get citation for Large scale and Fine grained Vision language Pre training for Enhanced CT Image Understanding\n"
     ]
    },
    {
     "name": "stderr",
     "output_type": "stream",
     "text": [
      " 95%|█████████████████████████████████▎ | 3227/3396 [9:10:43<2:28:27, 52.71s/it]"
     ]
    },
    {
     "name": "stdout",
     "output_type": "stream",
     "text": [
      "Error in get citation for GETS: Ensemble Temperature Scaling for Calibration in Graph Neural Networks\n"
     ]
    },
    {
     "name": "stderr",
     "output_type": "stream",
     "text": [
      " 96%|████████████████████████████████▊ | 3276/3396 [10:00:32<1:09:49, 34.92s/it]"
     ]
    },
    {
     "name": "stdout",
     "output_type": "stream",
     "text": [
      "Error in get citation for Reti Diff: Illumination Degradation Image Restoration with Retinex based Latent Diffusion Model\n"
     ]
    },
    {
     "name": "stderr",
     "output_type": "stream",
     "text": [
      " 97%|██████████████████████████████████▉ | 3299/3396 [10:08:56<54:25, 33.67s/it]"
     ]
    },
    {
     "name": "stdout",
     "output_type": "stream",
     "text": [
      "Error in get citation for Learning to Adapt Frozen CLIP for Few Shot Test Time Domain Adaptation\n"
     ]
    },
    {
     "name": "stderr",
     "output_type": "stream",
     "text": [
      " 97%|███████████████████████████████████ | 3309/3396 [10:12:21<28:27, 19.62s/it]"
     ]
    },
    {
     "name": "stdout",
     "output_type": "stream",
     "text": [
      "Error in get citation for Unleashing the Power of Task Specific Directions in Parameter Efficient Fine tuning\n"
     ]
    },
    {
     "name": "stderr",
     "output_type": "stream",
     "text": [
      " 98%|███████████████████████████████████▎| 3329/3396 [10:14:08<06:12,  5.57s/it]"
     ]
    },
    {
     "name": "stdout",
     "output_type": "stream",
     "text": [
      "Error in get citation for GenDataAgent: On the fly Dataset Augmentation with Synthetic Data\n"
     ]
    },
    {
     "name": "stderr",
     "output_type": "stream",
     "text": [
      " 99%|███████████████████████████████████▌| 3357/3396 [10:18:51<32:40, 50.26s/it]"
     ]
    },
    {
     "name": "stdout",
     "output_type": "stream",
     "text": [
      "Error in get citation for Recovery of Causal Graph Involving Latent Variables via Homologous Surrogates\n"
     ]
    },
    {
     "name": "stderr",
     "output_type": "stream",
     "text": [
      " 99%|███████████████████████████████████▌| 3359/3396 [10:19:30<22:10, 35.97s/it]"
     ]
    },
    {
     "name": "stdout",
     "output_type": "stream",
     "text": [
      "Error in get citation for Efficient and Trustworthy Causal Discovery with Latent Variables and Complex Relations\n"
     ]
    },
    {
     "name": "stderr",
     "output_type": "stream",
     "text": [
      " 99%|███████████████████████████████████▋| 3365/3396 [10:21:52<13:18, 25.74s/it]"
     ]
    },
    {
     "name": "stdout",
     "output_type": "stream",
     "text": [
      "Error in get citation for Understanding and Mitigating Hallucination in Large Vision Language Models via Modular Attribution and Intervention\n"
     ]
    },
    {
     "name": "stderr",
     "output_type": "stream",
     "text": [
      " 99%|███████████████████████████████████▋| 3372/3396 [10:26:56<20:11, 50.46s/it]"
     ]
    },
    {
     "name": "stdout",
     "output_type": "stream",
     "text": [
      "Error in get citation for Linear Multistep Solver Distillation for Fast Sampling of Diffusion Models\n"
     ]
    },
    {
     "name": "stderr",
     "output_type": "stream",
     "text": [
      " 99%|███████████████████████████████████▊| 3378/3396 [10:27:16<02:38,  8.82s/it]"
     ]
    },
    {
     "name": "stdout",
     "output_type": "stream",
     "text": [
      "Error in get citation for PseDet: Revisiting the Power of Pseudo Label in Incremental Object Detection\n"
     ]
    },
    {
     "name": "stderr",
     "output_type": "stream",
     "text": [
      "100%|████████████████████████████████████| 3396/3396 [10:30:58<00:00, 11.15s/it]\n"
     ]
    },
    {
     "name": "stdout",
     "output_type": "stream",
     "text": [
      "Saved to data/2025/5_iclr.csv_topics.csv_emerging.xlsx\n"
     ]
    }
   ],
   "source": [
    "get_conf_topics(conf_path='data/2025/5_iclr.csv_topics.csv', topics=['graph', 'zero_few-shot', 'llm', 'generative model', 'transformer', 'Diffusion models', 'Flow matching', 'Flow', 'Agentic AI', 'Mathematical reasoning', 'splatting', 'diffusion transformer', 'state space model', 'Flow matching', 'RAG' ])"
   ]
  }
 ],
 "metadata": {
  "kernelspec": {
   "display_name": "AI-trend-env",
   "language": "python",
   "name": "python3"
  },
  "language_info": {
   "codemirror_mode": {
    "name": "ipython",
    "version": 3
   },
   "file_extension": ".py",
   "mimetype": "text/x-python",
   "name": "python",
   "nbconvert_exporter": "python",
   "pygments_lexer": "ipython3",
   "version": "3.7.12"
  }
 },
 "nbformat": 4,
 "nbformat_minor": 5
}
