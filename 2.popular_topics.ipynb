{
 "cells": [
  {
   "cell_type": "code",
   "execution_count": 32,
   "id": "8c4f4a1e-bd53-4d02-b947-c13a34e1f26e",
   "metadata": {},
   "outputs": [
    {
     "data": {
      "text/plain": [
       "(14323,\n",
       " Index(['title', 'year', 'source', 'authors', 'class', 'keywords', 'abstract',\n",
       "        'pdf_link', 'topic', 'google_scholar_link'],\n",
       "       dtype='object'))"
      ]
     },
     "execution_count": 32,
     "metadata": {},
     "output_type": "execute_result"
    }
   ],
   "source": [
    "import pandas as pd\n",
    "import glob\n",
    "from functools import reduce\n",
    "\n",
    "reprocess = False\n",
    "\n",
    "def read_year_df_topic(years=[2021, 2022, 2023]):\n",
    "    files = [f\"data/topics/{year}.csv\" for year in years]\n",
    "    df_list = [pd.read_csv(f) for f in files]\n",
    "    df = reduce(lambda df1, df2: df1.append(df2, ignore_index=True), df_list)\n",
    "    \n",
    "    # Add google scholar link by title\n",
    "    df['google_scholar_link'] = df['title'].apply(lambda x: 'https://scholar.google.com/scholar?q=' + x.replace(' ', '+'))\n",
    "\n",
    "    # Remove duplicates by title\n",
    "    df = df.drop_duplicates(subset=['title'])\n",
    "    return df\n",
    "\n",
    "df_all = read_year_df_topic([2021, 2022, 2023])\n",
    "df_all.to_csv('data/topics/all_topics.csv', index=False)\n",
    "len(df_all), df_all.columns"
   ]
  },
  {
   "attachments": {},
   "cell_type": "markdown",
   "id": "15d63550-6739-4c20-8286-51390c6baf87",
   "metadata": {
    "tags": []
   },
   "source": [
    "# Multi-modal"
   ]
  },
  {
   "cell_type": "code",
   "execution_count": 44,
   "id": "997b9056",
   "metadata": {},
   "outputs": [],
   "source": [
    "def filter_by_topic(df, topic):\n",
    "    return df[df['topic'].str.contains(topic, case=False, na=False)].copy()"
   ]
  },
  {
   "cell_type": "code",
   "execution_count": 49,
   "id": "a4aa89c3",
   "metadata": {},
   "outputs": [
    {
     "data": {
      "text/plain": [
       "(262, 6100)"
      ]
     },
     "execution_count": 49,
     "metadata": {},
     "output_type": "execute_result"
    }
   ],
   "source": [
    "df_2022 = pd.read_csv('data/topics/2022.csv')\n",
    "df_2022_multimodal = filter_by_topic(df_2022, 'multimodal')\n",
    "len(df_2022_multimodal), len(df_2022)"
   ]
  },
  {
   "cell_type": "code",
   "execution_count": 51,
   "id": "d41619ec",
   "metadata": {},
   "outputs": [],
   "source": [
    "# Convert to bibtex\n",
    "def save_to_bibtex(df, save_path='data/topics/2022_multimodal.bib'):\n",
    "    \n",
    "    bibtex = df.apply(lambda x: f\"@inproceedings{{{x['authors'].split(' ')[0].lower()}{x['year']}{x['title'].split(' ')[0].lower()},\\n\"\n",
    "                                        f\"  author = {{{x['authors']}}},\\n\"\n",
    "                                        f\"  title = {{{x['title']}}},\\n\"\n",
    "                                        f\"  conference = {{{x['source']}}},\\n\"\n",
    "                                        f\"  year = {{{x['year']}}},\\n\"\n",
    "                                        f\"  url = {{{x['pdf_link']}}},\\n\"\n",
    "                                        f\"}}\\n\", axis=1)\n",
    "    \n",
    "    with open(save_path, 'w') as f:\n",
    "        f.write('\\n'.join(bibtex))\n",
    "\n",
    "save_to_bibtex(df_2022_multimodal, save_path='data/topics/2022_multimodal.bib')\n"
   ]
  },
  {
   "attachments": {},
   "cell_type": "markdown",
   "id": "ca046299",
   "metadata": {},
   "source": [
    "# Diffusion models"
   ]
  },
  {
   "cell_type": "code",
   "execution_count": 15,
   "id": "9f2f0f54",
   "metadata": {},
   "outputs": [
    {
     "data": {
      "text/plain": [
       "113"
      ]
     },
     "execution_count": 15,
     "metadata": {},
     "output_type": "execute_result"
    }
   ],
   "source": [
    "df_diffm = filter_by_topic(df_all, 'diffusion models')\n",
    "df_diffm.to_csv('data/topics/diffm.csv', index=False)\n",
    "len(df_diffm)"
   ]
  },
  {
   "attachments": {},
   "cell_type": "markdown",
   "id": "0d32b2ee",
   "metadata": {},
   "source": [
    "# LLM"
   ]
  },
  {
   "cell_type": "code",
   "execution_count": 16,
   "id": "1daa121d",
   "metadata": {},
   "outputs": [
    {
     "data": {
      "text/plain": [
       "979"
      ]
     },
     "execution_count": 16,
     "metadata": {},
     "output_type": "execute_result"
    }
   ],
   "source": [
    "df_llm = filter_by_topic(df_all, 'llm')\n",
    "df_llm.to_csv('data/topics/llm.csv', index=False)\n",
    "len(df_llm)"
   ]
  },
  {
   "cell_type": "code",
   "execution_count": null,
   "id": "19163e34",
   "metadata": {},
   "outputs": [],
   "source": []
  }
 ],
 "metadata": {
  "kernelspec": {
   "display_name": "Python 3 (ipykernel)",
   "language": "python",
   "name": "python3"
  },
  "language_info": {
   "codemirror_mode": {
    "name": "ipython",
    "version": 3
   },
   "file_extension": ".py",
   "mimetype": "text/x-python",
   "name": "python",
   "nbconvert_exporter": "python",
   "pygments_lexer": "ipython3",
   "version": "3.7.12"
  }
 },
 "nbformat": 4,
 "nbformat_minor": 5
}
