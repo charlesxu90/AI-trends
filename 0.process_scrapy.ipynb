{
 "cells": [
  {
   "attachments": {},
   "cell_type": "markdown",
   "id": "888c6015",
   "metadata": {},
   "source": [
    "# Download with Scrapy\n",
    "\n",
    "Analyze the APIs of the following conferences on OpenReview. Download them with the 'scrapy_openreview' spider.\n",
    "- ICLR\n",
    "- ICML\n",
    "- NIPS\n"
   ]
  },
  {
   "attachments": {},
   "cell_type": "markdown",
   "id": "e7994a91",
   "metadata": {},
   "source": [
    "# Process the downloaded data"
   ]
  },
  {
   "cell_type": "code",
   "execution_count": 23,
   "id": "e169fa44",
   "metadata": {},
   "outputs": [],
   "source": [
    "import pandas as pd\n",
    "import glob\n",
    "from functools import reduce\n",
    "\n",
    "def read_folder_to_df(path='data/scrapy_raw/2021/'):\n",
    "    files = glob.glob(f\"{path}*.json\")\n",
    "    # print(files)\n",
    "    dfList = [pd.read_json(f) for f in files]\n",
    "    df = reduce(lambda df1, df2: df1.append(df2, ignore_index=True), dfList)\n",
    "    return df\n",
    "\n",
    "# read_folder_to_df()"
   ]
  },
  {
   "attachments": {},
   "cell_type": "markdown",
   "id": "8c62ae4a",
   "metadata": {},
   "source": [
    "## 2021"
   ]
  },
  {
   "cell_type": "code",
   "execution_count": 13,
   "id": "7786ef45",
   "metadata": {},
   "outputs": [
    {
     "data": {
      "text/plain": [
       "(5392, array(['ICML', 'NIPS', 'ICLR'], dtype=object))"
      ]
     },
     "execution_count": 13,
     "metadata": {},
     "output_type": "execute_result"
    }
   ],
   "source": [
    "df_2021 = read_folder_to_df(path='data/scrapy_raw/2021/')\n",
    "df_2021.to_csv('data/processed/2021.csv', index=False)\n",
    "len(df_2021), df_2021.source.unique()"
   ]
  },
  {
   "attachments": {},
   "cell_type": "markdown",
   "id": "25dba733",
   "metadata": {},
   "source": [
    "## 2022"
   ]
  },
  {
   "cell_type": "code",
   "execution_count": 14,
   "id": "8c74f14b",
   "metadata": {},
   "outputs": [
    {
     "data": {
      "text/plain": [
       "(4026, array(['ICML', 'ICLR', 'NIPS'], dtype=object))"
      ]
     },
     "execution_count": 14,
     "metadata": {},
     "output_type": "execute_result"
    }
   ],
   "source": [
    "df_2022 = read_folder_to_df(path='data/scrapy_raw/2022/')\n",
    "df_2022.to_csv('data/processed/2022.csv', index=False)\n",
    "len(df_2022), df_2022.source.unique()"
   ]
  },
  {
   "attachments": {},
   "cell_type": "markdown",
   "id": "4eaade36",
   "metadata": {},
   "source": [
    "## 2023"
   ]
  },
  {
   "cell_type": "code",
   "execution_count": 24,
   "id": "d28f00c7",
   "metadata": {},
   "outputs": [
    {
     "data": {
      "text/plain": [
       "(1572, array(['ICLR'], dtype=object))"
      ]
     },
     "execution_count": 24,
     "metadata": {},
     "output_type": "execute_result"
    }
   ],
   "source": [
    "df_2023 = read_folder_to_df(path='data/scrapy_raw/2023/')\n",
    "df_2023.to_csv('data/processed/2023.csv', index=False)\n",
    "len(df_2023), df_2023.source.unique()"
   ]
  },
  {
   "cell_type": "code",
   "execution_count": null,
   "id": "328772c9",
   "metadata": {},
   "outputs": [],
   "source": []
  }
 ],
 "metadata": {
  "kernelspec": {
   "display_name": "Python 3 (ipykernel)",
   "language": "python",
   "name": "python3"
  },
  "language_info": {
   "codemirror_mode": {
    "name": "ipython",
    "version": 3
   },
   "file_extension": ".py",
   "mimetype": "text/x-python",
   "name": "python",
   "nbconvert_exporter": "python",
   "pygments_lexer": "ipython3",
   "version": "3.7.12"
  }
 },
 "nbformat": 4,
 "nbformat_minor": 5
}
