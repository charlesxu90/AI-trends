{
 "cells": [
  {
   "attachments": {},
   "cell_type": "markdown",
   "id": "888c6015",
   "metadata": {},
   "source": [
    "# Download with Scrapy\n",
    "\n",
    "Analyze the APIs of the following conferences on OpenReview. Download them with the 'scrapy_openreview' spider.\n",
    "- ICLR\n",
    "- ICML\n",
    "- NIPS\n"
   ]
  },
  {
   "attachments": {},
   "cell_type": "markdown",
   "id": "e7994a91",
   "metadata": {},
   "source": [
    "# Process the downloaded data"
   ]
  },
  {
   "cell_type": "code",
   "execution_count": 2,
   "id": "e169fa44",
   "metadata": {},
   "outputs": [],
   "source": [
    "import pandas as pd\n",
    "import glob\n",
    "from functools import reduce\n",
    "\n",
    "reprocess = False\n",
    "\n",
    "def read_folder_to_df(path='data/scrapy_raw/2021/'):\n",
    "    files = glob.glob(f\"{path}*.json\")\n",
    "    # print(files)\n",
    "    dfList = [pd.read_json(f) for f in files]\n",
    "    df = reduce(lambda df1, df2: df1.append(df2, ignore_index=True), dfList)\n",
    "    return df\n",
    "\n",
    "# read_folder_to_df()"
   ]
  },
  {
   "attachments": {},
   "cell_type": "markdown",
   "id": "8c62ae4a",
   "metadata": {},
   "source": [
    "## 2021"
   ]
  },
  {
   "cell_type": "code",
   "execution_count": 3,
   "id": "e1e6d477",
   "metadata": {},
   "outputs": [
    {
     "data": {
      "text/plain": [
       "2595"
      ]
     },
     "execution_count": 3,
     "metadata": {},
     "output_type": "execute_result"
    }
   ],
   "source": [
    "# ICLR May, 2021\n",
    "df_ICLR_2021 = read_folder_to_df(path='data/scrapy_raw/2021/iclr')\n",
    "df_ICLR_2021.to_csv('data/2021/5_iclr.csv', index=False)\n",
    "len(df_ICLR_2021)"
   ]
  },
  {
   "cell_type": "code",
   "execution_count": 5,
   "id": "69c99a84",
   "metadata": {},
   "outputs": [
    {
     "data": {
      "text/plain": [
       "167"
      ]
     },
     "execution_count": 5,
     "metadata": {},
     "output_type": "execute_result"
    }
   ],
   "source": [
    "# ICML Jul, 2021\n",
    "df_ICML_2021 = read_folder_to_df(path='data/scrapy_raw/2021/icml')\n",
    "df_ICML_2021.to_csv('data/2021/7_icml.csv', index=False)\n",
    "len(df_ICML_2021)"
   ]
  },
  {
   "cell_type": "code",
   "execution_count": 6,
   "id": "ccc35378",
   "metadata": {},
   "outputs": [
    {
     "data": {
      "text/plain": [
       "2630"
      ]
     },
     "execution_count": 6,
     "metadata": {},
     "output_type": "execute_result"
    }
   ],
   "source": [
    "# NIPS Dec, 2021\n",
    "df_NIPS_2021 = read_folder_to_df(path='data/scrapy_raw/2021/nips')\n",
    "df_NIPS_2021.to_csv('data/2021/12_nips.csv', index=False)\n",
    "len(df_NIPS_2021)"
   ]
  },
  {
   "attachments": {},
   "cell_type": "markdown",
   "id": "25dba733",
   "metadata": {},
   "source": [
    "## 2022"
   ]
  },
  {
   "cell_type": "code",
   "execution_count": 7,
   "id": "986c03b0",
   "metadata": {},
   "outputs": [
    {
     "data": {
      "text/plain": [
       "1094"
      ]
     },
     "execution_count": 7,
     "metadata": {},
     "output_type": "execute_result"
    }
   ],
   "source": [
    "# ICLR Apr, 2022\n",
    "df_ICLR_2022 = read_folder_to_df(path='data/scrapy_raw/2022/iclr')\n",
    "df_ICLR_2022.to_csv('data/2022/4_iclr.csv', index=False)\n",
    "len(df_ICLR_2022)"
   ]
  },
  {
   "cell_type": "code",
   "execution_count": 8,
   "id": "a51b22ec",
   "metadata": {},
   "outputs": [
    {
     "data": {
      "text/plain": [
       "261"
      ]
     },
     "execution_count": 8,
     "metadata": {},
     "output_type": "execute_result"
    }
   ],
   "source": [
    "# ICML Jul, 2022\n",
    "df_ICML_2022 = read_folder_to_df(path='data/scrapy_raw/2022/icml')\n",
    "df_ICML_2022.to_csv('data/2022/7_icml.csv', index=False)\n",
    "len(df_ICML_2022)"
   ]
  },
  {
   "cell_type": "code",
   "execution_count": 9,
   "id": "b49a7ef0",
   "metadata": {},
   "outputs": [
    {
     "data": {
      "text/plain": [
       "2671"
      ]
     },
     "execution_count": 9,
     "metadata": {},
     "output_type": "execute_result"
    }
   ],
   "source": [
    "# NIPS Nov, 2022\n",
    "df_NIPS_2022 = read_folder_to_df(path='data/scrapy_raw/2022/nips')\n",
    "df_NIPS_2022.to_csv('data/2022/11_nips.csv', index=False)\n",
    "len(df_NIPS_2022)"
   ]
  },
  {
   "attachments": {},
   "cell_type": "markdown",
   "id": "4eaade36",
   "metadata": {},
   "source": [
    "## 2023"
   ]
  },
  {
   "cell_type": "code",
   "execution_count": 11,
   "id": "b5654b88",
   "metadata": {},
   "outputs": [
    {
     "data": {
      "text/plain": [
       "1572"
      ]
     },
     "execution_count": 11,
     "metadata": {},
     "output_type": "execute_result"
    }
   ],
   "source": [
    "# ICLR May, 2023\n",
    "df_ICLR_2023 = read_folder_to_df(path='data/scrapy_raw/2023/iclr')\n",
    "df_ICLR_2023.to_csv('data/2023/5_iclr.csv', index=False)\n",
    "len(df_ICLR_2023)"
   ]
  },
  {
   "cell_type": "code",
   "execution_count": null,
   "id": "847aeaae",
   "metadata": {},
   "outputs": [],
   "source": []
  }
 ],
 "metadata": {
  "kernelspec": {
   "display_name": "Python 3 (ipykernel)",
   "language": "python",
   "name": "python3"
  },
  "language_info": {
   "codemirror_mode": {
    "name": "ipython",
    "version": 3
   },
   "file_extension": ".py",
   "mimetype": "text/x-python",
   "name": "python",
   "nbconvert_exporter": "python",
   "pygments_lexer": "ipython3",
   "version": "3.7.12"
  }
 },
 "nbformat": 4,
 "nbformat_minor": 5
}
