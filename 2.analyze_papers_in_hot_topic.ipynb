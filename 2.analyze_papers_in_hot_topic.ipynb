{
 "cells": [
  {
   "cell_type": "code",
   "execution_count": 1,
   "id": "8c4f4a1e-bd53-4d02-b947-c13a34e1f26e",
   "metadata": {},
   "outputs": [],
   "source": [
    "import pandas as pd"
   ]
  },
  {
   "cell_type": "markdown",
   "id": "109f186b-5a1a-4f06-ab73-63f5e128f5cc",
   "metadata": {},
   "source": [
    "# Load and merge all data"
   ]
  },
  {
   "cell_type": "code",
   "execution_count": 2,
   "id": "42f4befe-86f7-40ca-bd7b-a488cacc5767",
   "metadata": {},
   "outputs": [],
   "source": [
    "AAAI22_path = './data/AAAI/AAAI-2022.txt'\n",
    "df_AAAI22 = pd.read_csv(AAAI22_path + '_df_classified.csv')"
   ]
  },
  {
   "cell_type": "code",
   "execution_count": 3,
   "id": "b249d7e0-d8a2-4163-bc9d-16645a495384",
   "metadata": {},
   "outputs": [],
   "source": [
    "ICML21_path = \"./data/ICML/ICML-21.txt\"\n",
    "df_ICML_21 = pd.read_csv(ICML21_path + '_df_classified.csv')\n",
    "\n",
    "ICML22_path = \"./data/ICML/ICML-22.txt\"\n",
    "df_ICML_22 = pd.read_csv(ICML22_path + '_df_classified.csv')"
   ]
  },
  {
   "cell_type": "code",
   "execution_count": 4,
   "id": "19af3f47-0930-492d-b6d1-18b3c7146eee",
   "metadata": {},
   "outputs": [],
   "source": [
    "NIPS21_path = \"./data/NeuralIPS/2021-NIPS\"\n",
    "df_NIPS_21 = pd.read_csv(NIPS21_path + '_df_classified.csv')"
   ]
  },
  {
   "cell_type": "code",
   "execution_count": 5,
   "id": "e35bec60-b83a-4d19-bd89-46b01f91e061",
   "metadata": {},
   "outputs": [],
   "source": [
    "ICLR21_path = \"./data/ICLR/2021-ICLR\"\n",
    "df_ICLR_21 = pd.read_csv(ICLR21_path + '_df_classified.csv')\n",
    "\n",
    "ICLR22_path = \"./data/ICLR/2022-ICLR\"\n",
    "df_ICLR_22 = pd.read_csv(ICLR22_path + '_df_classified.csv')"
   ]
  },
  {
   "cell_type": "code",
   "execution_count": 6,
   "id": "d2a08db1-7382-4a3f-af6a-8a0f554b0678",
   "metadata": {},
   "outputs": [
    {
     "data": {
      "text/plain": [
       "8479"
      ]
     },
     "execution_count": 6,
     "metadata": {},
     "output_type": "execute_result"
    }
   ],
   "source": [
    "df_all = pd.concat([df_AAAI22, df_ICML_21, df_ICML_22, df_NIPS_21, df_ICLR_21, df_ICLR_22])\n",
    "len(df_all)"
   ]
  },
  {
   "cell_type": "code",
   "execution_count": 7,
   "id": "b8253936-1ee0-4c34-a83e-4a8894b0026b",
   "metadata": {},
   "outputs": [
    {
     "data": {
      "text/html": [
       "<div>\n",
       "<style scoped>\n",
       "    .dataframe tbody tr th:only-of-type {\n",
       "        vertical-align: middle;\n",
       "    }\n",
       "\n",
       "    .dataframe tbody tr th {\n",
       "        vertical-align: top;\n",
       "    }\n",
       "\n",
       "    .dataframe thead th {\n",
       "        text-align: right;\n",
       "    }\n",
       "</style>\n",
       "<table border=\"1\" class=\"dataframe\">\n",
       "  <thead>\n",
       "    <tr style=\"text-align: right;\">\n",
       "      <th></th>\n",
       "      <th>Title</th>\n",
       "      <th>Year</th>\n",
       "      <th>Source</th>\n",
       "      <th>Authors</th>\n",
       "      <th>Class</th>\n",
       "      <th>topic</th>\n",
       "    </tr>\n",
       "  </thead>\n",
       "  <tbody>\n",
       "    <tr>\n",
       "      <th>0</th>\n",
       "      <td>Training a Resilient Q-Network against Observa...</td>\n",
       "      <td>2022</td>\n",
       "      <td>AAAI</td>\n",
       "      <td>Chao-Han Huck Yang, I-Te Danny Hung, Yi Ouyang...</td>\n",
       "      <td>MAIN TRACK</td>\n",
       "      <td>NaN</td>\n",
       "    </tr>\n",
       "    <tr>\n",
       "      <th>1</th>\n",
       "      <td>DeepAuth: A DNN Authentication Framework by Mo...</td>\n",
       "      <td>2022</td>\n",
       "      <td>AAAI</td>\n",
       "      <td>Yingjie Lao, Weijie Zhao, Peng Yang, Ping Li</td>\n",
       "      <td>MAIN TRACK</td>\n",
       "      <td>NaN</td>\n",
       "    </tr>\n",
       "    <tr>\n",
       "      <th>2</th>\n",
       "      <td>Hyperbolic Disentangled Representation for Fin...</td>\n",
       "      <td>2022</td>\n",
       "      <td>AAAI</td>\n",
       "      <td>Chang-You Tai, Ming-Yao Li, Lun-Wei Ku</td>\n",
       "      <td>MAIN TRACK</td>\n",
       "      <td>representation</td>\n",
       "    </tr>\n",
       "    <tr>\n",
       "      <th>3</th>\n",
       "      <td>SAIL: Self-Augmented Graph Contrastive Learning</td>\n",
       "      <td>2022</td>\n",
       "      <td>AAAI</td>\n",
       "      <td>Lu Yu, Shichao Pei, Lizhong Ding, Jun Zhou, Lo...</td>\n",
       "      <td>MAIN TRACK</td>\n",
       "      <td>graph/contrastive learning/augmentation</td>\n",
       "    </tr>\n",
       "    <tr>\n",
       "      <th>4</th>\n",
       "      <td>Inference and Learning with Model Uncertainty ...</td>\n",
       "      <td>2022</td>\n",
       "      <td>AAAI</td>\n",
       "      <td>Victor Verreet, Vincent Derkinderen, Pedro Zui...</td>\n",
       "      <td>MAIN TRACK</td>\n",
       "      <td>inference</td>\n",
       "    </tr>\n",
       "    <tr>\n",
       "      <th>...</th>\n",
       "      <td>...</td>\n",
       "      <td>...</td>\n",
       "      <td>...</td>\n",
       "      <td>...</td>\n",
       "      <td>...</td>\n",
       "      <td>...</td>\n",
       "    </tr>\n",
       "    <tr>\n",
       "      <th>1089</th>\n",
       "      <td>Multi-Critic Actor Learning: Teaching RL Polic...</td>\n",
       "      <td>2022</td>\n",
       "      <td>ICLR</td>\n",
       "      <td>Siddharth Mysore, George Cheng, Yunqi Zhao, Ka...</td>\n",
       "      <td>poster</td>\n",
       "      <td>NaN</td>\n",
       "    </tr>\n",
       "    <tr>\n",
       "      <th>1090</th>\n",
       "      <td>Clean Images are Hard to Reblur: Exploiting th...</td>\n",
       "      <td>2022</td>\n",
       "      <td>ICLR</td>\n",
       "      <td>Seungjun Nah, Sanghyun Son, Jaerin Lee, Kyoung...</td>\n",
       "      <td>poster</td>\n",
       "      <td>NaN</td>\n",
       "    </tr>\n",
       "    <tr>\n",
       "      <th>1091</th>\n",
       "      <td>Learning Disentangled Representation by Exploi...</td>\n",
       "      <td>2022</td>\n",
       "      <td>ICLR</td>\n",
       "      <td>Xuanchi Ren, Tao Yang, Yuwang Wang, Wenjun Zeng</td>\n",
       "      <td>poster</td>\n",
       "      <td>representation/generative model/contrastive le...</td>\n",
       "    </tr>\n",
       "    <tr>\n",
       "      <th>1092</th>\n",
       "      <td>Towards Building A Group-based Unsupervised Re...</td>\n",
       "      <td>2022</td>\n",
       "      <td>ICLR</td>\n",
       "      <td>Tao Yang, Xuanchi Ren, Yuwang Wang, Wenjun Zen...</td>\n",
       "      <td>poster</td>\n",
       "      <td>representation</td>\n",
       "    </tr>\n",
       "    <tr>\n",
       "      <th>1093</th>\n",
       "      <td>Learning Efficient Image Super-Resolution Netw...</td>\n",
       "      <td>2022</td>\n",
       "      <td>ICLR</td>\n",
       "      <td>Yulun Zhang, Huan Wang, Can Qin, Yun Fu</td>\n",
       "      <td>poster</td>\n",
       "      <td>NaN</td>\n",
       "    </tr>\n",
       "  </tbody>\n",
       "</table>\n",
       "<p>8479 rows × 6 columns</p>\n",
       "</div>"
      ],
      "text/plain": [
       "                                                  Title  Year Source  \\\n",
       "0     Training a Resilient Q-Network against Observa...  2022   AAAI   \n",
       "1     DeepAuth: A DNN Authentication Framework by Mo...  2022   AAAI   \n",
       "2     Hyperbolic Disentangled Representation for Fin...  2022   AAAI   \n",
       "3       SAIL: Self-Augmented Graph Contrastive Learning  2022   AAAI   \n",
       "4     Inference and Learning with Model Uncertainty ...  2022   AAAI   \n",
       "...                                                 ...   ...    ...   \n",
       "1089  Multi-Critic Actor Learning: Teaching RL Polic...  2022   ICLR   \n",
       "1090  Clean Images are Hard to Reblur: Exploiting th...  2022   ICLR   \n",
       "1091  Learning Disentangled Representation by Exploi...  2022   ICLR   \n",
       "1092  Towards Building A Group-based Unsupervised Re...  2022   ICLR   \n",
       "1093  Learning Efficient Image Super-Resolution Netw...  2022   ICLR   \n",
       "\n",
       "                                                Authors       Class  \\\n",
       "0     Chao-Han Huck Yang, I-Te Danny Hung, Yi Ouyang...  MAIN TRACK   \n",
       "1          Yingjie Lao, Weijie Zhao, Peng Yang, Ping Li  MAIN TRACK   \n",
       "2                Chang-You Tai, Ming-Yao Li, Lun-Wei Ku  MAIN TRACK   \n",
       "3     Lu Yu, Shichao Pei, Lizhong Ding, Jun Zhou, Lo...  MAIN TRACK   \n",
       "4     Victor Verreet, Vincent Derkinderen, Pedro Zui...  MAIN TRACK   \n",
       "...                                                 ...         ...   \n",
       "1089  Siddharth Mysore, George Cheng, Yunqi Zhao, Ka...      poster   \n",
       "1090  Seungjun Nah, Sanghyun Son, Jaerin Lee, Kyoung...      poster   \n",
       "1091    Xuanchi Ren, Tao Yang, Yuwang Wang, Wenjun Zeng      poster   \n",
       "1092  Tao Yang, Xuanchi Ren, Yuwang Wang, Wenjun Zen...      poster   \n",
       "1093            Yulun Zhang, Huan Wang, Can Qin, Yun Fu      poster   \n",
       "\n",
       "                                                  topic  \n",
       "0                                                   NaN  \n",
       "1                                                   NaN  \n",
       "2                                        representation  \n",
       "3               graph/contrastive learning/augmentation  \n",
       "4                                             inference  \n",
       "...                                                 ...  \n",
       "1089                                                NaN  \n",
       "1090                                                NaN  \n",
       "1091  representation/generative model/contrastive le...  \n",
       "1092                                     representation  \n",
       "1093                                                NaN  \n",
       "\n",
       "[8479 rows x 6 columns]"
      ]
     },
     "execution_count": 7,
     "metadata": {},
     "output_type": "execute_result"
    }
   ],
   "source": [
    "df_all"
   ]
  },
  {
   "cell_type": "markdown",
   "id": "a4976a68-52cd-489a-822f-77ce07ab5b43",
   "metadata": {},
   "source": [
    "# Topic specific data retrieval"
   ]
  },
  {
   "cell_type": "markdown",
   "id": "e507d188-7e34-4f74-b158-a04ec596e3f8",
   "metadata": {},
   "source": [
    "## Obatain data about Multi-agent RL"
   ]
  },
  {
   "cell_type": "code",
   "execution_count": 8,
   "id": "87baf41d-3931-42a9-bc86-d467d8455266",
   "metadata": {},
   "outputs": [
    {
     "data": {
      "text/plain": [
       "86"
      ]
     },
     "execution_count": 8,
     "metadata": {},
     "output_type": "execute_result"
    }
   ],
   "source": [
    "df_mul_agent = df_all[df_all.topic.str.contains('multi-agent', na=False)]\n",
    "len(df_mul_agent)"
   ]
  },
  {
   "cell_type": "code",
   "execution_count": 11,
   "id": "83ecd01e-5ed6-4965-8fad-fe22ec592f2e",
   "metadata": {},
   "outputs": [],
   "source": [
    "df_mul_agent.to_csv('./data/multi-agent.csv')"
   ]
  },
  {
   "cell_type": "markdown",
   "id": "ec3dc34c-5153-4b53-9714-dc244cf47d51",
   "metadata": {},
   "source": [
    "## Obtain data about Multimodal learning"
   ]
  },
  {
   "cell_type": "code",
   "execution_count": 12,
   "id": "195b7f18-b762-4045-b6e5-af1c29a7ca66",
   "metadata": {},
   "outputs": [
    {
     "data": {
      "text/plain": [
       "55"
      ]
     },
     "execution_count": 12,
     "metadata": {},
     "output_type": "execute_result"
    }
   ],
   "source": [
    "df_multimodal = df_all[df_all.topic.str.contains('multimodal', na=False)]\n",
    "len(df_multimodal)"
   ]
  },
  {
   "cell_type": "code",
   "execution_count": 13,
   "id": "084889a1-1743-486d-8180-9e970e3a8ce0",
   "metadata": {},
   "outputs": [],
   "source": [
    "df_multimodal.to_csv('./data/multimodal.csv')"
   ]
  },
  {
   "cell_type": "markdown",
   "id": "2484c6d1-a48e-40b3-96fd-e4aecf67bd7d",
   "metadata": {},
   "source": [
    "## Download metrics from Google scholar"
   ]
  },
  {
   "cell_type": "code",
   "execution_count": 10,
   "id": "2a868029-35d9-4cd0-b137-2f48ab9832a2",
   "metadata": {},
   "outputs": [],
   "source": [
    "# !pip install google-api-python-client"
   ]
  },
  {
   "cell_type": "code",
   "execution_count": null,
   "id": "41504a5d-8e65-46d1-bd71-45e4e2966ddd",
   "metadata": {},
   "outputs": [],
   "source": []
  }
 ],
 "metadata": {
  "kernelspec": {
   "display_name": "Python 3 (ipykernel)",
   "language": "python",
   "name": "python3"
  },
  "language_info": {
   "codemirror_mode": {
    "name": "ipython",
    "version": 3
   },
   "file_extension": ".py",
   "mimetype": "text/x-python",
   "name": "python",
   "nbconvert_exporter": "python",
   "pygments_lexer": "ipython3",
   "version": "3.7.12"
  }
 },
 "nbformat": 4,
 "nbformat_minor": 5
}
