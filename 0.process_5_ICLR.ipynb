{
 "cells": [
  {
   "attachments": {},
   "cell_type": "markdown",
   "id": "045c5ae1-e42d-47d7-8e1b-d703892d7d5a",
   "metadata": {
    "tags": []
   },
   "source": [
    "# ICLR"
   ]
  },
  {
   "cell_type": "code",
   "execution_count": 1,
   "id": "db4342ec-af47-4a8d-be84-b2149ca12415",
   "metadata": {
    "tags": []
   },
   "outputs": [],
   "source": [
    "import pandas as pd\n",
    "\n",
    "\n",
    "def format_ICLR_data_to_df(raw_path, source='ICLR', year=2022, present='oral'):\n",
    "    save_path = raw_path + '_df.csv'\n",
    "    \n",
    "    file1 = open(raw_path, 'r')\n",
    "    Lines = file1.readlines()\n",
    "\n",
    "    title, authors = [], []\n",
    "\n",
    "    record_counter = 1\n",
    "    # Strips the newline character\n",
    "    for line in Lines:\n",
    "        if record_counter == 1:\n",
    "            title.append(line.strip())\n",
    "        elif record_counter == 2:\n",
    "            authors.append(line.strip())\n",
    "        elif 'Show details' in line:\n",
    "            record_counter = 0\n",
    "        record_counter += 1\n",
    "\n",
    "    article_year = [year] * len(title)\n",
    "    article_source = [source] * len(title)\n",
    "    article_class = [present] * len(title)\n",
    "\n",
    "\n",
    "    data_frame = pd.DataFrame({'Title':title, 'Year': article_year, 'Source': article_source, 'Authors': authors, 'Class': article_class})\n",
    "    return data_frame\n",
    "\n",
    "def remove_duplicates(data_frame):\n",
    "    raw_length = len(data_frame)\n",
    "    data_frame = data_frame.drop_duplicates(subset = \"Title\")\n",
    "    print(f\"Totally {raw_length} papers, {len(data_frame)} left after remve duplicates.\")\n",
    "    return data_frame\n",
    "\n",
    "def merge_data2df(oral='./data/ICLR/2022-ICLR-oral.txt', poster='./data/ICLR/2022-ICLR-poster.txt', spotlight='./data/ICLR/2022-ICLR-spotlight.txt'):\n",
    "    df_ICLR_oral = format_ICLR_data_to_df(oral, present='oral')    \n",
    "    df_ICLR_poster = format_ICLR_data_to_df(poster, present='poster')\n",
    "    df_ICLR_spotlight = format_ICLR_data_to_df(spotlight, present='spotlight')\n",
    "\n",
    "    df_ICLR = pd.concat([df_ICLR_oral, df_ICLR_spotlight, df_ICLR_poster])\n",
    "    df_ICLR = remove_duplicates(df_ICLR)\n",
    "    return df_ICLR"
   ]
  },
  {
   "attachments": {},
   "cell_type": "markdown",
   "id": "ace41a49-6a91-4af9-9e52-c9ff8cdff058",
   "metadata": {
    "tags": []
   },
   "source": [
    "## ICLR 2021"
   ]
  },
  {
   "cell_type": "code",
   "execution_count": 2,
   "id": "2ad726bc-547f-4dbe-9e45-ddbb4520e401",
   "metadata": {},
   "outputs": [
    {
     "name": "stdout",
     "output_type": "stream",
     "text": [
      "Totally 860 papers, 860 left after remve duplicates.\n"
     ]
    }
   ],
   "source": [
    "df_ICLR_21 = merge_data2df(oral='./data/raw/ICLR/2021-ICLR-oral.txt', poster='./data/raw/ICLR/2021-ICLR-poster.txt', spotlight='./data/raw/ICLR/2021-ICLR-spotlight.txt')\n",
    "df_ICLR_21[['Title', 'Year', 'Source', 'Authors', 'Class']].to_csv('./data/2021/ICLR_21.csv', index=False)"
   ]
  },
  {
   "attachments": {},
   "cell_type": "markdown",
   "id": "f51f54e9-8b46-495e-a395-699a78dbd393",
   "metadata": {
    "tags": []
   },
   "source": [
    "## ICLR 2022"
   ]
  },
  {
   "cell_type": "code",
   "execution_count": 3,
   "id": "8d24e46e-ed35-4d58-9261-80969a61fe9d",
   "metadata": {},
   "outputs": [
    {
     "name": "stdout",
     "output_type": "stream",
     "text": [
      "Totally 1094 papers, 1094 left after remve duplicates.\n"
     ]
    }
   ],
   "source": [
    "df_ICLR_22 = merge_data2df(oral='./data/raw/ICLR/2022-ICLR-oral.txt', poster='./data/raw/ICLR/2022-ICLR-poster.txt', spotlight='./data/raw/ICLR/2022-ICLR-spotlight.txt')\n",
    "df_ICLR_22['title_lower'] = df_ICLR_22['Title'].map(lambda x: x.lower())\n",
    "df_ICLR_22[['Title', 'Year', 'Source', 'Authors', 'Class']].to_csv('./data/2022/ICLR_22.csv', index=False)"
   ]
  },
  {
   "cell_type": "code",
   "execution_count": null,
   "id": "e169fa44",
   "metadata": {},
   "outputs": [],
   "source": []
  }
 ],
 "metadata": {
  "kernelspec": {
   "display_name": "Python 3 (ipykernel)",
   "language": "python",
   "name": "python3"
  },
  "language_info": {
   "codemirror_mode": {
    "name": "ipython",
    "version": 3
   },
   "file_extension": ".py",
   "mimetype": "text/x-python",
   "name": "python",
   "nbconvert_exporter": "python",
   "pygments_lexer": "ipython3",
   "version": "3.7.12"
  }
 },
 "nbformat": 4,
 "nbformat_minor": 5
}
