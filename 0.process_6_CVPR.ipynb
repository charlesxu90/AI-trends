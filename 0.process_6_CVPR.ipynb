{
 "cells": [
  {
   "cell_type": "code",
   "execution_count": 8,
   "id": "1fb703fa",
   "metadata": {},
   "outputs": [],
   "source": [
    "import requests\n",
    "from bs4 import BeautifulSoup\n",
    "import pandas as pd\n",
    "\n",
    "\n",
    "def parse_paper_tag(tag):\n",
    "    title = tag.find('a').text\n",
    "    authors_list = tag.next_sibling.next_sibling.find_all('a')\n",
    "    authors = ';'.join([author.text for author in authors_list])\n",
    "    pdf_link = tag.next_sibling.next_sibling.next_sibling.next_sibling.find_all('a')[0]['href']\n",
    "\n",
    "    return title, authors, pdf_link\n",
    "\n",
    "def get_cv_papers(year=2022, conf='CVPR', month='6'):\n",
    "    r = requests.get(f'https://openaccess.thecvf.com/{conf}{year}?day=all' )\n",
    "    soup = BeautifulSoup(r.text, 'html.parser')\n",
    "    tags = soup.find_all('dt')\n",
    "\n",
    "    papers = []\n",
    "    for tag in tags:\n",
    "        title, authors, pdf_link = parse_paper_tag(tag)\n",
    "        papers.append([title, authors, pdf_link])\n",
    "\n",
    "    df = pd.DataFrame(papers, columns=['title', 'authors', 'pdf_link',])\n",
    "    df['year'] = year\n",
    "    df['source'] = 'CVPR'\n",
    "    df['abstract'] = None\n",
    "    df['keywords'] = None\n",
    "    df['class'] = None\n",
    "    df['pdf_link'] = df['pdf_link'].apply(lambda x: 'https://openaccess.thecvf.com' + x)\n",
    "    \n",
    "    # save with column order: title,year,source,authors,class,keywords,abstract,pdf_link\n",
    "    df[['title', 'year', 'source', 'authors', 'class', 'keywords', 'abstract', 'pdf_link']].to_csv(f'data/{year}/{month}_{conf}.csv', index=False)\n",
    "\n",
    "    return df"
   ]
  },
  {
   "cell_type": "code",
   "execution_count": 4,
   "id": "42ec85c2",
   "metadata": {},
   "outputs": [],
   "source": [
    "# df_cvpr_2021 = get_cv_papers(2021)\n",
    "# len(df_cvpr_2021) # 1660"
   ]
  },
  {
   "cell_type": "code",
   "execution_count": 5,
   "id": "30023418",
   "metadata": {},
   "outputs": [],
   "source": [
    "# df_cvpr_2022 = get_cv_papers(2022)\n",
    "# len(df_cvpr_2022) # 2074"
   ]
  },
  {
   "cell_type": "code",
   "execution_count": 6,
   "id": "e083c92b",
   "metadata": {},
   "outputs": [],
   "source": [
    "# df_cvpr_2023 = get_cv_papers(2023)\n",
    "# len(df_cvpr_2023) # 2359"
   ]
  },
  {
   "cell_type": "code",
   "execution_count": 9,
   "id": "aa065f93",
   "metadata": {},
   "outputs": [],
   "source": [
    "df_iccv_2023 = get_cv_papers(2023, conf='ICCV', month='10')"
   ]
  },
  {
   "cell_type": "code",
   "execution_count": null,
   "metadata": {},
   "outputs": [],
   "source": []
  }
 ],
 "metadata": {
  "kernelspec": {
   "display_name": "Python 3 (ipykernel)",
   "language": "python",
   "name": "python3"
  },
  "language_info": {
   "codemirror_mode": {
    "name": "ipython",
    "version": 3
   },
   "file_extension": ".py",
   "mimetype": "text/x-python",
   "name": "python",
   "nbconvert_exporter": "python",
   "pygments_lexer": "ipython3",
   "version": "3.7.12"
  }
 },
 "nbformat": 4,
 "nbformat_minor": 5
}
