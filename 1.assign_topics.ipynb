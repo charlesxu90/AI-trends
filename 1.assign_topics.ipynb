{
 "cells": [
  {
   "cell_type": "code",
   "execution_count": 2,
   "id": "8c4f4a1e-bd53-4d02-b947-c13a34e1f26e",
   "metadata": {},
   "outputs": [],
   "source": [
    "import pandas as pd\n",
    "import re"
   ]
  },
  {
   "attachments": {},
   "cell_type": "markdown",
   "id": "00f6a759",
   "metadata": {},
   "source": [
    "# Define and assign topics"
   ]
  },
  {
   "attachments": {},
   "cell_type": "markdown",
   "id": "8df3af52-6fa6-4010-8367-7352a58ce873",
   "metadata": {},
   "source": [
    "## Define topic by keywords\n",
    "This is based on the exploration of the article titles."
   ]
  },
  {
   "cell_type": "code",
   "execution_count": 3,
   "id": "5c5764d5",
   "metadata": {},
   "outputs": [],
   "source": [
    "useless_kw = {'learn', 'learning', 'era', 'network', 'neural', 'mode', 'model', 'networks', 'line', 'neural network', 'age', 'deep', 'train', 'red', 'neural networks', 'data', 'robust', 'models', 'gradient', 'rate', 'training', 'efficient', 'tent', 'near', 'supervised', 'class', 'adapt', 'linear', 'algorithm', 'non', 'dynamic', 'optimal', 'stochastic', 'time', 'generalization', 'policy', 'rl', 'bound', 'method', 'sim', 'distribution', 'label', 'bandit', 'structure', 'image', 'function', 'estimation', 'space', 'text', 'feature', 'process', 'object', 'fast', 'analysis', 'classification', 'task', 'local', 'prediction', 'formation', 'algorithms', 'bandits', 'convex', 'bias', 'towards', 'bounds', 'language', 'search', 'sample', 'robustness', 'mark', 'parameter', 'kernel', 'random', 'domain', 'sampling', 'improve', 'visual', 'control', 'representation learning', 'latent', 'machine', 'implicit', 'problem', 'regression', 'gaussian', 'code', 'detection', 'sco', 'vision', 'convergence', 'loss', 'high', 'information', 'methods', 'game', 'scale', 'private', 'framework', 'descent', 'unsupervised', 'edge', 'differential', 'convolution', 'layer', 'noise', 'dimension', 'variance', 'action', 'effect', 'rim', 'cluster', 'complex', 'rank', 'regularization', 'deep learning', 'continuous', 'dynamics', 'trained', 'attack', 'video', 'stem', 'problems', 'fair', 'embedding', 'approximation', 'gan', 'understanding', 'temporal', 'system', 'differentiable', 'exploration', 'rough', 'modeling', 'regret', 'program', 'knowledge', 'compress', 'free', 'large', 'composition', 'clustering', 'improved', 'exit', 'improving', 'architecture', 'encode', 'uncertainty', 'test', 'structured', 'scalable', 'probabilistic', 'level', 'selection', 'features', 'matrix', 'adaptation', 'games', 'gradient descent', 'global', 'gaussian process', 'human', 'convolutional', 'memory', 'smooth', 'attacks', 'continual', 'context', 'complexity', 'systems', 'arm', 'evaluation', 'machine learning', 'power', 'relation', 'risk', 'reward', 'synthesis', 'design', 'conditional', 'fusion', 'constrained', 'communication', 'distributed', 'theory', 'shift', 'model-based', 'matching', 'explanation', 'batch', 'mdp', 'semantic', 'post', 'reasoning', 'functions', 'noisy', 'deep neural', 'universal', 'rna', 'generalized', 'provably', 'core', 'imitation', 'construction', 'continual learning', 'sgd', 'neo', 'reconstruction', 'classifier', 'gradients', 'tree', 'perspective', 'flows', 'solution', 'compression', 'recurrent', 'partial', 'differentially', 'manifold', 'embeddings', 'minimization', 'group', 'multiple', 'spaces', 'mdps', 'decentralized', 'error', 'planning', 'tensor', 'calibration', 'sequence', 'benchmark', 'dependent', 'policies', 'inverse', 'nets', 'faster', 'diffusion', 'eec', 'reduction', 'deep neural networks', 'stability', 'thinking', 'privacy', 'tasks', 'box', 'identification', 'moment', 'recognition', 'performance', 'speech', 'computation', 'tuning', 'constraints', 'encoding', 'decomposition', 'rethinking', 'ensemble', 'theoretic', 'agnostic', 'sequential', 'distance', 'minima', 'semi-supervised', 'discrete', 'gaussian processes', 'modular', 'distributional', 'invariant', 'fairness', 'natural', 'out-of-distribution', 'explanations', 'adversarial robust', 'domain adaptation', 'effective', 'provable', 'discovery', 'neural architecture', 'hard', 'interpretable', 'poster', 'adversarial robustness', 'cate', 'dataset', 'relu', 'iterative', 'path', 'encoders', 'solving', 'early', 'shape', 'momentum', 'distributions', 'unified', 'transport', 'boost', 'environment', 'energy', 'examples', 'variable', 'spatial', 'accurate', 'soft', 'goal', 'time series', 'world', 'objective', 'gans', 'target', 'data augmentation', 'source', 'rates', 'supervision', 'layers', 'large-scale', 'exponential', 'spectral', 'similarity', 'lip', 'joint', 'autoregressive', 'correlation', 'bayesian optimization', 'social', 'lower', 'practical', 'rest', 'heterogeneous', 'function approximation', 'combinatorial', 'dense', 'cost', 'labels', 'contextual', 'feedback', 'propagation', 'effects', 'revisiting', 'projection', 'learned', 'pruning', 'applications', 'testing', 'score', 'margin', 'person', 'event', 'high-dimension', 'quantization', 'case', 'forecasting', 'deep networks', 'images', 'leveraging', 'dynamical', 'variational inference', 'consistency', 'odes', 'non-convex', 'density', 'vae', 'kernels', 'classifiers', 'boosting', 'sparsity', 'asymptotic', 'observation', 'compositional', 'end-to-end', 'maximization', 'invariance', 'divergence', 'functional', 'negative', 'scene', 'vector', 'self-supervised learning', 'geometric', 'gap', 'programming', 'resolution', 'regularized', 'media', 'side', 'input', 'translation', 'equilibrium', 'alignment', 'samples', 'environments', 'counterfactual', 'actions', 'aggregation', 'normalizing', 'block', 'predictive', 'teacher', 'cnn', 'map', 'ski', 'variational autoencoder', 'depth', 'point cloud', 'submodular', 'answering', 'treatment', 'study', 'perturbation', 'generalization bound', 'binary', 'ranking', 'residual', 'black-box', 'size', 'autoencoders', 'approximate', 'transfer learning', 'bottleneck', 'parameterized', 'minimax', 'diversity', 'sample complexity', 'riemannian', 'activation', 'posterior', 'location', 'self-attention', 'disentangled', 'optimality', 'recovery', 'reliable', 'novel', 'maximum', 'empirical', 'neighbor', 'importance', 'gradient methods', 'normalization', 'behavior', 'labeled', 'abstract', 'signal', 'hyperparameter', 'direction', 'infinite', 'likelihood', 'retrieval', 'manifolds', 'probability', 'task learning', 'semi-supervised learning', 'automatic', 'estimating', 'enhance', 'decision-making', 'nonlinear', 'generalization bounds', 'sketch', 'dynamical systems', 'width', 'deep generative', 'precision', 'reduce', 'priors', 'component', 'drop', 'geometry', 'mechanism', 'neural tangent kernel', 'latent space', 'adversarial training', 'parameterization', 'strong', 'q-learning', 'algorithmic', 'evaluating', 'intrinsic', 'multi-armed bandit', 'directional', 'differential equations', 'balanced', 'lower bounds', 'hyperbolic', 'inductive bias', 'symbolic', 'fields', 'uniform', 'weighted', 'optimisation', 'estimator', 'concept', 'finding', 'audio', 'delay', 'edit', 'synchronous', 'linear bandits', 'hamiltonian', 'quality', 'subspace', 'independent', 'programs', 'adversarial attack', 'pre-training', 'adversarial examples', 'biases', 'predictions', 'impact', 'architectures', 'symmetric', 'multi-task learning', 'denoising', 'model-based reinforcement learning', 'population', 'stable', 'interaction', 'small', 'generate', 'noisy label', 'sequences', 'discriminative', 'surrogate', 'lipschitz', 'diverse', 'accelerated', 'matrices', 'labeling', 'agents', 'image classification', 'trees', 'transformation', 'monte carlo', 'transition', 'partition', 'lottery', 'interpolation', 'expert', 'accuracy', 'zero-sum', 'demonstration', 'poisoning', 'weighting', 'disentanglement', 'differential privacy', 'nonconvex', 'interactive', 'acceleration', 'adversarially', 'natural language', 'asynchronous', 'automated', 'defense', 'loss function', 'allocation', 'collaborative', 'multi-armed bandits', 'individual', 'simulation', 'benefit', 'unknown', 'mutual', 'continuous-time', 'average', 'good', 'presence', 'relations', 'conformal', 'energy-based models', 'linear mode', 'domain generalization', 'randomized', 'measure', 'intervention', 'physical', 'ball', 'constant', 'trajectory', 'semantic segmentation', 'operator', 'distributionally', 'properties', 'center', 'curriculum', 'fourier', 'linear regression', 'unlabeled', 'pca', 'objects', 'neuron', 'expressive', 'message', 'spatio-temporal', 'optimizing', 'retraining', 'evolution', 'proximal', 'ensembles', 'graph convolution', 'accelerating', 'corruption', 'navigation', 'visual representation', 'text generation', 'convolutional networks', 'sharing', 'initialization', 'variance reduction', 'thompson sampling', 'averaging', 'smoothing', 'dropout', 'forgetting', 'sensitive', 'detecting', 'episodic', 'motion', 'rewards', 'enhanced', 'query', 'region', 'stochastic gradient descent', 'greedy', 'bid', 'surface', 'recommendation', 'personalized', 'streaming', 'neural representation', 'cnns', 'perception', 'distributionally robust', 'adversarial networks', 'incremental', 'dependence', 'missing', 'dimensionality', 'noisy labels', 'separation', 'valid', 'datasets', 'update', 'success', 'learner', 'sample-efficient', 'linear function approximation', 'structure learning', 'quadratic', 'neural ode', 'backdoor', 'style', 'multi-object', 'matters', 'correlated', 'tracking', 'compressed', 'coreset', 'dam', 'neural network training', 'adversarial attacks', 'protein', 'head', 'quantized', 'inverse problems', 'smoothness', 'decoupling', 'synthetic', 'convolutional neural networks', 'neighborhood', 'experience', 'reduced', 'explicit', 'arbitrary', 'session', 'rules', 'iteration', 'replay', 'marginal', 'bilevel', 'correspondence', 'strategies', 'localization', 'horizon', 'generalisation', 'routing', 'quantify', 'bootstrap', 'influence', 'life', 'resource', 'modelling', 'variables', 'explainability', 'parameters', 'targeted', 'mining', 'regret bounds', 'response', 'weights', 'graph representation', 'balancing', 'goals', 'pretraining', 'experimental', 'mask', 'strategic', 'physics', 'flat', 'density estimation', 'vision-and-language', 'oracle', 'symmetry', 'predicting', 'adversarially robust', 'point processes', 'pessimism', 'mutation', 'contextual bandits', 'formula', 'collaboration', 'module', 'pareto', 'langevin', 'projections', 'abstraction', 'learnable', 'matrix factorization', 'values', 'completion', 'channel', 'demonstrations', 'interpretation', 'slow', 'barycenter', 'bidirectional', 'certified', 'reducing', 'convolutions', 'research', 'estimators', 'coordination', 'heuristic', 'ridge', 'topology', 'first-order', 'bridging', 'graph-based', 'emergent', 'manipulation', 'lossless', 'solutions', 'out-of-distribution generalization', 'team', 'decision tree', 'hidden', 'covariate', 'generative modeling', 'risk minimization', 'concave', 'queries', 'covariance', 'rendering', 'imbalanced', 'particle', 'information bottleneck', 'text-to-speech', 'interpretability', 'gradient-based', 'attribution', 'quantifying', 'inductive biases', 'model selection', 'linear models', 'brain', 'domains', 'maps', 'image synthesis', 'curves', 'wasserstein distance', 'representational', 'progressive', 'fly', 'splitting', 'friend', 'entity', 'computational', 'unsupervised domain', 'integer', 'preference', 'videos', 'unlabeled data', 'successor', 'continuous control', 'solver', 'teaching', 'model-free', 'structural', 'learning models', 'schedule', 'primal', 'skill', 'quantile', 'non-asymptotic', 'auction', 'cape', 'learning dynamics', 'market', 'recovering', 'mesh', 'heterogeneity', 'decoding', 'pooling', 'pac-bayes', 'moving', 'mutual information', 'activations', 'losses', 'humans', 'metric learning', 'flex', 'invertible', 'series forecasting', 'super-resolution', 'words', 'positive', 'value function', 'unsupervised learning', 'persistent', 'disentangling', 'product', 'limits', 'self-training', 'worst', 'coresets', 'approximations', 'assessment', 'blind', 'topological', 'dnns', 'nested', 'patterns', 'discrepancy', 'machines', 'perturbations', 'subgoal', 'stochastic bandits', 'polynomial', 'interpreting', 'classes', 'capacity', 'catastrophic', 'optimism', 'sketching', 'metrics', 'capsule', 'mechanisms', 'complete', 'analyzing', 'relational', 'wild', 'experimental design', 'parsing', 'nlp', 'parameter-free', 'backpropagation', 'constructing', 'multi-hop', 'outliers', 'lifelong', 'interventions', 'wolfe', 'adaptivity', 'meta learning', 'graphical models', 'estimate', 'controllable', 'pairwise', 'scratch', 'decisions', 'meta-learning with', 'heavy-tail', 'collapse', 'belief', 'resnet', 'budget', 'languages', 'baseline', 'semantics', 'sufficient', 'ordered', 'audio-visual', 'riemannian manifold', 'inversion', 'secure', 'memorization', 'errors', 'potential', 'average-reward', 'correction', 'mixing', 'two-player', 'equivalence', 'loss functions', 'theorem', 'subgraph', 'emergence', 'fail', 'observed', 'asymptotics', 'generalization error', 'filtering', 'bellman', 'instance-dependent', 'induce', 'decomposable', 'lossless compression', 'client', 'teacher-student', 'conditions', 'coupled', 'shifts', 'experts', 'clouds', 'reverse', 'closing', 'decay', 'pipeline', 'multiclass', 'overparameterized', 'hypothesis', 'mapping', 'controlled', 'hypergraph', 'saliency', 'episode', 'validation', 'critical', 'amortized', 'non-autoregressive', 'causal inference', 'mlp', 'plasticity', 'learning task', 'learning rate', 'neural representations', 'permutation', 'predictors', 'activity', 'knowledge transfer', 'challenges', 'identifying', 'asymmetric', 'designing', 'transferability', 'tractable', 'improvement', 'aes', 'alternative', 'halfspaces', 'mixup', 'frank', 'scheduling', 'rotation', 'arms', 'abstractions', 'observations', 'private learning', 'multilingual', 'prototypical', 'normalize', 'point clouds', 'behavioral', 'dimensions', 'measures', 'byzantine', 'sparsification', 'adversarial', 'pac', 'variational', 'few-shot', 'wasserstein'}"
   ]
  },
  {
   "cell_type": "code",
   "execution_count": 4,
   "id": "3ccf511c",
   "metadata": {},
   "outputs": [],
   "source": [
    "topic2keywords= {\n",
    "    'reinforcement learning': ['reinforcement learning', 'deep reinforcement', 'agent',  'deep reinforcement learning', 'reinforcement', 'off-policy', 'actor-critic',  'markov decision process', 'markov decision processes'], # , 'rl'\n",
    "    'offline reinforcement learning': ['offline reinforcement learning', 'offline reinforcement', 'offline'],\n",
    "    'graph': ['graph', 'graphs',  'graph neural networks',  'knowledge graph',  'graph convolutional',  'graph convolutional network',  'graph representation learning', 'gnn',  'graph convolutional networks'],\n",
    "    'optimization': ['optimization',  'constrain',],\n",
    "    'zero_few-shot': ['low',  'shot learning',  'zero-shot',  'weak', 'few-shot learning', 'self-supervised',],\n",
    "    'transformer': ['transformer', 'attention',  'vision transformer',  'transformers',  'bert', 'scaling', 'vision transformers'], #  \n",
    "    'representation': ['representation', 'graph representation learning',  'representations',],\n",
    "    'vae': ['variational autoencoders', 'vae',],\n",
    "    'generative model': ['generative model','generation', 'generative', 'generative models',  'deep generative models', 'image generation'] ,\n",
    "    'online learning': ['online learning', 'online'],\n",
    "    'adaptive': ['adaptive'],\n",
    "    'bayesian': ['bayes', 'bayesian'],  # new\n",
    "    'contrastive learning': ['contrastive',  'contrastive learning',  'contrastive representation'], \n",
    "    'inference': ['inference'],\n",
    "    'metric': ['metric'],\n",
    "    'meta-learning': ['meta-learning', 'meta'],\n",
    "    'sparse': ['sparse'],\n",
    "    'transfer learning': ['transfer',  'transferable'],\n",
    "    'active learning': ['active',  'active learning',],\n",
    "    'flow': ['flow'],\n",
    "    'augmentation': ['augmentation', 'augmented'],\n",
    "    'federated learning': ['federated learning', ],\n",
    "    'distillation':  [ 'distillation', 'knowledge distillation',  'distil'],\n",
    "    'multi-agent': ['multi-agent',  'multi-agent reinforcement learning'], # \n",
    "    'segmentation': ['segmentation'],\n",
    "    'multi-task': ['multi-task'],\n",
    "    'multimodal':  ['multimodal', 'multi-modal'],\n",
    "    'imitation learning': ['imitation learning'],  # new\n",
    "    'low-rank': ['low-rank'],\n",
    "    'multi-view': ['multi-view'],\n",
    "    'diffusion models': [ 'diffusion models'],  # new\n",
    "    'curriculum learning': ['curriculum learning'],  # new\n",
    "    'decision trees': [ 'decision trees'],  # old\n",
    "    '3d': [ '3d'],  # new\n",
    "} ## to be recalled for any occorence\n"
   ]
  },
  {
   "cell_type": "code",
   "execution_count": 5,
   "id": "4b123aef",
   "metadata": {},
   "outputs": [],
   "source": [
    "def update_topic2keywords(topic2keywords, topic2keywords_2add):\n",
    "    for key in topic2keywords_2add.keys():\n",
    "        if key in topic2keywords.keys():\n",
    "            topic2keywords[key] = topic2keywords[key] + topic2keywords_2add[key]\n",
    "        else:\n",
    "            topic2keywords[key] = topic2keywords_2add[key]\n",
    "    return topic2keywords"
   ]
  },
  {
   "attachments": {},
   "cell_type": "markdown",
   "id": "e12ea297-ab3d-4327-a720-e6f938e0354e",
   "metadata": {},
   "source": [
    "## Explore keywords and add new topics:"
   ]
  },
  {
   "cell_type": "code",
   "execution_count": 6,
   "id": "16c258a3",
   "metadata": {},
   "outputs": [],
   "source": [
    "# ! pip install spacy"
   ]
  },
  {
   "cell_type": "code",
   "execution_count": 7,
   "id": "f2215aed-9724-4ff3-92b1-dad28b0b2b12",
   "metadata": {},
   "outputs": [],
   "source": [
    "import spacy\n",
    "from spacy import displacy\n",
    "from collections import Counter\n",
    "import operator\n",
    "\n",
    "def get_keyword_by_spacy(text):\n",
    "    # Obtain keywords\n",
    "    nlp = spacy.load(\"data/spacy-en_core_sci_lg-0.5.1\")\n",
    "    doc = nlp(text)\n",
    "    keywords = [X.text for X in doc.ents]\n",
    "    return keywords\n",
    "\n",
    "def count_keywords(titles, kw):\n",
    "    return sum([1 for title in titles if kw in title ])\n",
    "\n",
    "def obtain_cadidate_keywords(titles: list, threshould=5):\n",
    "    full_titles = '. '.join(titles)\n",
    "    keywords = list(set(get_keyword_by_spacy(full_titles)))\n",
    "\n",
    "    known_topic_kws = set.union(*map(set, topic2keywords.values()))\n",
    "\n",
    "    keywords = [kw for kw in keywords if kw not in known_topic_kws] # remove know keywords\n",
    "    keywords = [kw for kw in keywords if kw not in useless_kw] # remove useless keywords\n",
    "    \n",
    "    kw_counts = {kw: count_keywords(titles, kw)for kw in keywords}\n",
    "    kw_cadidate_counts = { kw: kw_counts[kw] for kw in kw_counts.keys() if kw_counts[kw] > threshould}\n",
    "\n",
    "    # explore this dict to obtain topic2keyword\n",
    "    kw_cadidate_counts_sorted = dict(sorted(kw_cadidate_counts.items(), key=operator.itemgetter(1),reverse=True)) \n",
    "\n",
    "    print(f\"total {len(kw_counts)} keywords, {len(kw_cadidate_counts_sorted)} candidates after filtering\")\n",
    "    return kw_cadidate_counts_sorted"
   ]
  },
  {
   "attachments": {},
   "cell_type": "markdown",
   "id": "36891289",
   "metadata": {},
   "source": [
    "### 2021"
   ]
  },
  {
   "cell_type": "code",
   "execution_count": 8,
   "id": "9c1ec4f8",
   "metadata": {},
   "outputs": [],
   "source": [
    "## 2021 keywords\n",
    "useless_kw_21add = [\n",
    "    'ip', 'detect', 'variation', 'plan', 'sign', 'augment', 'norm', 'approach', 'weight', 'actor', 'dise', 'fine', 'erm', 'state', 'zero', 'hierarchical', 'application', 'sets', 'teac', 'equivariant', 'critic', 'centralized', 'adversarial network', 'balance', 'progress', 'entropy', 'optimize', 'initial', 'hybrid', 'fix', 'roga', 'measuring', 'frequency', 'extract', 'change', 'trade', 'medical', 'robot', 'theoretical', 'imbalance', 'patch', 'slice', 'signals', 'orthogonal', 'correct', 'trust', 'learning model', 'processing', 'coupling', 'bayesian neural network', 'speed', 'backprop', 'prototype', 'boundary', 'sequence model', 'extraction', 'categoric', 'long-tail', 'data-driven', 'learning agents', 'knowledge graphs', 'gaussian mixture', 'anomaly', 'program synthesis', 'deterministic', 'coverage', 'coarse', 'adversarial perturbations', 'quantum', 'optimizers', 'updates', 'empirical study', 'improves', 'probabilistic model', 'iot', 'deep convolution', 'benchmarks', 'causal discovery', 'searching', 'unsupervised object', 'masking', 'relaxation', 'lens', 'long-tailed', 'benchmarking', 'efficiency', 'flexible', 'deep convolutional', 'spatiotemporal', 'forcing', 'convergent', 'universal approximation', 'automl', 'task-agnostic', 'augmentations', 'deform', 'observable', 'mitigating', 'trade-off', 'pixels', 'refinement', 'connection', 'calibrated', 'long-term', 'transformations', 'states', 'landscape', 'quantification', 'discrimination', 'neural machine', 'deep ensemble', 'tabular data', 'effects of', 'auto-encoder', 'medical image', 'relationship', 'benefits', 'ascent', 'bug', 'overfitting', 'synthetic data', 'min-max optimization', 'deep model', 'neurons', 'difficulty', 'texture', 'safety', 'threshold', 'multivariate', 'neural odes', 'locality', 'stop', 'reinforcement learning agents', 'adversaries', 'options', 'faces', 'compact', 'content', 'speech recognition', 'populations', 'double q-learning', 'retrosynthesis', 'higher-order', 'adversarial defense', 'stack', 'deep ensembles', 'delayed', 'tradeoff', 'numerical', 'covariate shift', 'risk-sensitive', 'text classification', 'multitask', 'editing', 'timescale', 'sensitivity', 'neural nets', 'operators', 'cross-lingual', 'predictive coding', 'dynamic graph', 'siamese', 'high-resolution', 'double descent', 'paths', 'fuse', 'convergence analysis', 'corruptions', 'rapid', 'cad', 'tickets', 'utility', 'massive', 'probabilistic models', 'routing problems', 'controls', 'sequence modeling', 'formulation', 'restricted', 'nonsmooth', 'statistics', 'detectors', 'generative networks', 'time-series', 'summarization', 'intrinsic control', 'gan training', 'family', 'learning rates', 'vaes', 'regions', 'dependency', 'low-dimensional', 'effectiveness', 'reweighting', 'trajectories', 'adder', 'tam', 'defending', 'component analysis', 'compositionality', 'outcome', 'heuristics', 'reward-free', 'extended', 'sensor', 'disease progression', 'lifelong learning', 'wide', \n",
    "]\n",
    "topic2keywords_21add = {'multimodal': ['cross-modal', 'cross-domain', 'cross-lingual', 'aligned'],\n",
    "                        'diffusion models': [ 'diffusion model'], \n",
    "                        'graph': ['knowledge graphs', 'gcn', 'graph generation', 'gin',  'graph learning', 'graph representations', 'graph networks', 'random graph', ],\n",
    "                        'multi-agent': ['markov game', 'markov games', 'cooperative multi-agent', ],\n",
    "                        'meta-learning': [ 'meta-reinforcement', 'meta-reinforcement learning', ],\n",
    "                        'self-supervision': ['self-supervision', ], \n",
    "                        }\n",
    "\n",
    "useless_kw.update(useless_kw_21add)\n",
    "topic2keywords = update_topic2keywords(topic2keywords, topic2keywords_21add)"
   ]
  },
  {
   "attachments": {},
   "cell_type": "markdown",
   "id": "81625414",
   "metadata": {},
   "source": [
    "### 2022"
   ]
  },
  {
   "cell_type": "code",
   "execution_count": 9,
   "id": "eba4a7d4",
   "metadata": {},
   "outputs": [],
   "source": [
    "# 2022 keywords\n",
    "useless_kw_22add =  ['res', 'ica', 'ner', 'force', 'detect', 'ip', 'king', 'student', 'self-', 'plan', 'owl', 'ability', 'fed', 'cross', 'oral', 'air', 'cover', 'approach', 'variant', 'condition', 'weight', 'position', 'decision', 'uncertain', 'logic', 'interact', 'ctin', 'dive', 'nations', 'election', 'application', 'hierarchical', 'actor', 'gains', 'state', 'car', 'face', 'norm', 'equivariant', 'logical', 'cloud', 'black', 'instance', 'lora', 'counter', 'single', 'reference', 'actual', 'erfact', 'coding', 'sets', 'pre-trained', 'balance', 'pretrain', 'central', 'iou', 'hybrid', 'extraction', 'distribute', 'dialog', 'oriented', 'parallel', 'node', 'entropy', 'differentially private', 'user', 'cooperative', 'pois', 'fine-grained', 're-id', 'difference', 'limited', 'sharp', 'extreme', 'optimize', 'kill', 're-identification', 'verification', 'misc', 'improves', 'prototype', 'nearest', 'anomaly', 'imbalance', 'gating', 'stage', 'initial', 'learning framework', 'document', 'statistical', 'land', 'exploiting', 'frequency', 'multi-label', 'nonparametric', 'medical', 'neural architecture search', 'heal', 'adversarial network', 'distribution shift', 'efficiently', 'communication-efficient', 'theoretical', 'progress', 'pattern', 'tam', 'adversarial example', 'grounding', 'emotion', 'commonsense', 'health', 'artificial', 'fake', 'fixed', 'branch', 'property', 'sources', 'conversation', 'dialogue', 'face recognition', 'learners', 'near-optimal', 'enhancement', 'voting', 'measuring', 'summarization', 'convergent', 'conditioned', 'structures', 'tickets', 'hand', 'efficiency', 'interactions', 'long-tail', 'traffic', 'editing', 'attention network', 'data-driven', 'assignment', 'refine', 'card', 'modality', 'real-time', 'stationary', 'differentiation', 'updates', 'pde', 'pixel', 'signals', 'incorporating', 'calibrated', 'rich', 'facial', 'effects of', 'decision making', 'delayed', 'real-world', 'lens', 'loop', 'flexible', 'induced', 'partially', 'scene graph', 'enhancing', 'action recognition', 'multi-scale', 'preferences', 'sentence', 'vision-language', 'dynamical system', 'expression', 'users', 'comparison', 'cad', 'artificial intelligence', 'news', 'time-series', 'image retrieval', 'long-tailed', 'molecule', 'generic', 'imaging', 'model-agnostic', 'concepts', 'single image', 'self-supervision', 'switch', 'suboptimal', 'patch', 'results', 'restoration', 'description', 'mobile', 'implicit bias', 'covariate shift', 'defending', 'treat', 'lane', 'lens of', 'spherical', 'content', 'learning approach', 'landscape', 'counting', 'mirror', 'crowds', 'paradigm', 'invert', 'conditioning', 'distribution generalization', 'price', 'voice', 'integrate', 'water', 'randomized smoothing', 'grounded', 'threshold', 'registration', 'documents', 'overlap', 'rally', 'top-k', 'mitigating', 'monocular', 'paths', 'data poisoning', 'measurement', 'incentive', 'identifiability', 'science', 'security', 'sharpness', 'color', 'backdoor attack', 'composite', 'data-efficient', 'clip', 'detr', 'task-oriented', 'hardware', 'social aspects', 'walk', 'sentiment', 'distances', 'neural machine', 'regime', 'heuristics', 'deepfake', 'deterministic', 'public', 'backdoors', 'quantum', 'probing', 'medical image', 'backprop', 'imagenet', 'shortest', 'preservation', 'resources', 'caption', 'nature', 'imperfect', 'causality', 'gates', 'biasing', 'sensitivity', 'incomplete', 'disease', 'speech recognition', 'sampler', 'controlling', 'equivariance','texts', 'connection', 'hash', 'recommender systems', 'biological']\n",
    "\n",
    "topic2keywords_22add = {'multimodal': ['cross-modal', 'cross-domain', 'cross-lingual', 'aligned'],\n",
    "                        'diffusion models': [ 'diffusion model'], \n",
    "                        'graph': ['knowledge graphs', 'gcn', 'graph generation'],\n",
    "                        'multi-agent': ['markov game', 'markov games', ],\n",
    "                        'meta-learning': [ 'meta-reinforcement',],\n",
    "                        }\n",
    "\n",
    "useless_kw.update(useless_kw_22add)\n",
    "topic2keywords = update_topic2keywords(topic2keywords, topic2keywords_22add)"
   ]
  },
  {
   "cell_type": "code",
   "execution_count": 10,
   "id": "c639d3aa",
   "metadata": {},
   "outputs": [],
   "source": [
    "def show_example_papers(df, kw):\n",
    "    df_kw = df[df.title.str.contains(kw, case=False)]\n",
    "    print(f'keyword: {kw}, number of papers: {len(df_kw)}')\n",
    "    pd.set_option('display.max_colwidth', None)\n",
    "    display(df_kw['title'].tolist())"
   ]
  },
  {
   "attachments": {},
   "cell_type": "markdown",
   "id": "8eafa6eb",
   "metadata": {},
   "source": [
    "### 2023"
   ]
  },
  {
   "cell_type": "code",
   "execution_count": 11,
   "id": "20682995",
   "metadata": {},
   "outputs": [],
   "source": [
    "# 2023 ICLR\n",
    "useless_kw_23add =  ['nce', 'federated', 'optima', 're-training', 'quant', 'segment', 'autoencoder', 'fit', 'rgi', 'top', 'recon', 'iss', 'test-time', 'factor', 'multi-objective', 'mean', 'state space', 'gnns', 'pseudo-label', 'word', 'systematic', 'neural processes', 'preserving']\n",
    "topic2keywords_23add = {'llm': ['prompt', 'vit', 'large language model']}\n",
    "\n",
    "useless_kw.update(useless_kw_23add)\n",
    "topic2keywords = update_topic2keywords(topic2keywords, topic2keywords_23add)"
   ]
  },
  {
   "cell_type": "code",
   "execution_count": 12,
   "id": "776cabcd",
   "metadata": {},
   "outputs": [],
   "source": [
    "# 2023 CVPR\n",
    "useless_kw_23_cvpr =  ['ac', 'gen', 'imp', 'cat', 'modal', 'mic', 'radiance', 'fusion model', 'masked', 'disc', 'pre-train', '3d object', 'match', 'prior', 'pace', 'cur',  'standing',  'gres', 'camera', 'generalize', 'fidelity', 'stereo', 'lidar', 'photo', 'rgb', 'avatar', 'high-fidelity', 'vocabulary', 'scenes', 'driving', 'volume', 'blur', 'text-to-image', 'open-vocabulary', 'image super-resolution', 'prompting', 'image segmentation', 'notation', 'ice', 'medic', 'plane', '3d point', 'annotation', 'category', 'captioning', 'regress', 'avatars', 'lana', 'appearance', 'autonomous driving', '3d point cloud', 'signed', 'paint', 'temporal action', 'image restoration', '3d reconstruction', 'eye', '4d', 'filter', 'virtual', 'frame interpolation', 'deformable', 'volumetric', '3d-aware', 'rare', 'deblur', 'distilling', 'visual recognition', 'ray', 'panoptic', 'infrared', 'open-set', 'egocentric', 'parts', 'image diffusion', 'mae', 'image modeling', 'talking', 'surfaces', 'indoor', 'relight', 'deblurring', 'unsupervised domain adaptation', 'animation', 'adjust', 'photorealistic', 'voxel', 'degradation', 'face reconstruction', 'seeing', 'style transfer', 'instruction', 'body', 'high-quality', 'salient', 'high-res', 'uncertainty-aware', 'class-incremental', 'spatial-temporal', 'image editing', 'shapes', 'skeleton', 'human-object', 'inpainting', 'cross-view', 'lighting', 'anchor', 'video anomaly', 'pyramid', 'distortion', 'shadow', 'single-view', 'clothed', 'aligning', 'pha', 'optical flow', \"bird's\", 'visible', 'hands', 'low-light', 'mixed', 'annotations', 'video frame interpolation', 'expansion', 'raw', 'multi-view images', 'fine-tuning', 'editable', 'tokens', 'human reconstruction', 'relighting', 'human-object interaction', 'pathology', 'identity', 'gait recognition', 'bottle', 'removal', 'local feature', 'grid', 'post-training', 'forgery', 'glass', 'spatially', 'event-based', 'stylegan', 'hdr', 'bundle', 'landmark', 'movie', 'weakly-supervised temporal action localization', 'harp', 'open-world', 'semantic scene', '360deg', 'self-train', 'image compression', 'debiasing', 'sound', 'decouple', 'arbitrary-scale', 'large-scale dataset', 'categories', 'stereo matching', 'image quality', 'class incremental', 'lifting', 'background', 'multi-view 3d']\n",
    "topic2keywords_23_cvpr = {'motion': ['motion'], \n",
    "                        'radiance field':['radiance field', 'neural field', 'radiance'],\n",
    "                        'multimodal': ['vision-language model', 'video-language', 'vision-language models', 'vision-and-language navigation', 'language-image', 'image-text', 'video transformer', 'video generation', ]}\n",
    "\n",
    "useless_kw.update(useless_kw_23_cvpr)\n",
    "topic2keywords = update_topic2keywords(topic2keywords, topic2keywords_23_cvpr)"
   ]
  },
  {
   "cell_type": "code",
   "execution_count": 33,
   "id": "144ecf41",
   "metadata": {},
   "outputs": [],
   "source": [
    "# 2023 ICML\n",
    "useless_kw_23_icml =  ['men', 'ratio', 'rge', 'sam', 'gat', 'back', 'esc', 'feed', 'discover', 'certainty', 'stein', 'coder', 'hiera', 'dimensional', 'lever', 'regularize', 'molecular', 'ctr', 'achieving', 'laws', 'monotonic', 'non-stationary', 'online reinforcement learning', 'fitting', 'row', 'specification', 'equilibria', 'mist', 'causal effect']\n",
    "\n",
    "useless_kw.update(useless_kw_23_icml)"
   ]
  },
  {
   "cell_type": "code",
   "execution_count": 35,
   "id": "b808d0ac",
   "metadata": {},
   "outputs": [],
   "source": [
    "# file_path = 'data/2023/7_icml.csv'\n",
    "# df = pd.read_csv(file_path)\n",
    "# df['title_lower'] = df['title'].str.lower()\n",
    "\n",
    "# kw2counts = obtain_cadidate_keywords(df['title_lower'])\n",
    "# kw2counts.keys()"
   ]
  },
  {
   "cell_type": "code",
   "execution_count": 36,
   "id": "1551c20d",
   "metadata": {},
   "outputs": [],
   "source": [
    "# show_example_papers(df, 'causal effect')"
   ]
  },
  {
   "attachments": {},
   "cell_type": "markdown",
   "id": "e08dbb0e",
   "metadata": {},
   "source": [
    "## Assign topics"
   ]
  },
  {
   "cell_type": "code",
   "execution_count": 15,
   "id": "d89be774",
   "metadata": {},
   "outputs": [],
   "source": [
    "# Assign topics\n",
    "def obtain_topic_for_text(text):\n",
    "    topic = []\n",
    "    for t in topic2keywords.keys():\n",
    "        for key in topic2keywords[t]:\n",
    "            if key in text:\n",
    "                topic.append(t)\n",
    "                break\n",
    "    return ';'.join(topic)\n",
    "\n",
    "def assign_topics(df):\n",
    "    title_list = df.title.str.lower().tolist()\n",
    "    abstract_list = [s.lower() if isinstance(s, str) else None for s in df.abstract ]\n",
    "\n",
    "    df['topic'] = [obtain_topic_for_text(f'{t} {a}') for t, a in zip(title_list, abstract_list)]\n",
    "    return df"
   ]
  },
  {
   "cell_type": "code",
   "execution_count": 16,
   "id": "c85c13e3",
   "metadata": {},
   "outputs": [],
   "source": [
    "# for file in ['data/2021/5_iclr.csv', 'data/2021/6_cvpr.csv', 'data/2021/7_icml.csv', 'data/2021/12_nips.csv']:\n",
    "#     df = pd.read_csv(file)\n",
    "#     df = assign_topics(df)\n",
    "#     df.to_csv(file + '_topics.csv', index=False)"
   ]
  },
  {
   "cell_type": "code",
   "execution_count": 17,
   "id": "0ee98bef",
   "metadata": {},
   "outputs": [],
   "source": [
    "# for file in ['data/2022/4_iclr.csv', 'data/2022/6_cvpr.csv', 'data/2022/7_icml.csv', 'data/2022/11_nips.csv']:\n",
    "#     df = pd.read_csv(file)\n",
    "#     df = assign_topics(df)\n",
    "#     df.to_csv(file + '_topics.csv', index=False)"
   ]
  },
  {
   "cell_type": "code",
   "execution_count": 37,
   "id": "6c9eac78",
   "metadata": {},
   "outputs": [],
   "source": [
    "for file in ['data/2023/7_icml.csv']: # 'data/2023/5_iclr.csv', 'data/2023/6_cvpr.csv'\n",
    "    df = pd.read_csv(file)\n",
    "    df = assign_topics(df)\n",
    "    df.to_csv(file + '_topics.csv', index=False)"
   ]
  },
  {
   "attachments": {},
   "cell_type": "markdown",
   "id": "15d63550-6739-4c20-8286-51390c6baf87",
   "metadata": {
    "tags": []
   },
   "source": [
    "# Analyze Trend"
   ]
  },
  {
   "cell_type": "code",
   "execution_count": 19,
   "id": "17667900",
   "metadata": {},
   "outputs": [],
   "source": [
    "import pandas as pd\n",
    "import glob\n",
    "from functools import reduce\n",
    "\n",
    "reprocess = False\n",
    "\n",
    "def read_year_df_topic(year='2021', conference='*'):\n",
    "    files = glob.glob(f\"data/{year}/{conference}.csv_topics.csv\")\n",
    "    df_list = [pd.read_csv(f) for f in files]\n",
    "    df = reduce(lambda df1, df2: df1.append(df2, ignore_index=True), df_list)\n",
    "    return df"
   ]
  },
  {
   "cell_type": "code",
   "execution_count": 20,
   "id": "f9b5a66d",
   "metadata": {},
   "outputs": [],
   "source": [
    "def calculate_topic_frequency_ratio(df):\n",
    "    topic2counts = {topic: 0 for topic in topic2keywords.keys()}\n",
    "    for a_topic in df['topic']:\n",
    "        topics = str(a_topic).split(';')\n",
    "        for topic in topics:\n",
    "            if topic == '' or topic == 'nan':\n",
    "                break\n",
    "            topic2counts[topic] += 1\n",
    "\n",
    "    return pd.DataFrame({'topic': list(topic2counts.keys()), 'count': list(topic2counts.values())}).sort_values(by='count', ascending=False)"
   ]
  },
  {
   "attachments": {},
   "cell_type": "markdown",
   "id": "efd1e70b-9617-41db-a7ec-74f0fe7e80df",
   "metadata": {},
   "source": [
    "## 2021"
   ]
  },
  {
   "cell_type": "code",
   "execution_count": 21,
   "id": "d9fb636f",
   "metadata": {},
   "outputs": [],
   "source": [
    "# df_2021 = read_year_df_topic(year='2021')\n",
    "# # df_2021.to_csv('data/topics/2021.csv', index=False)\n",
    "\n",
    "# df_2021_topics = calculate_topic_frequency_ratio(df_2021)\n",
    "# df_2021_topics.columns = ['topic', 'count_2021']\n",
    "# df_2021_topics.head(5)"
   ]
  },
  {
   "attachments": {},
   "cell_type": "markdown",
   "id": "6c9ca9b2",
   "metadata": {},
   "source": [
    "## 2022"
   ]
  },
  {
   "cell_type": "code",
   "execution_count": 22,
   "id": "b86b71ec",
   "metadata": {},
   "outputs": [],
   "source": [
    "# df_2022 = read_year_df_topic(year='2022')\n",
    "# # df_2022.to_csv('data/topics/2022.csv', index=False)\n",
    "\n",
    "# df_2022_topics = calculate_topic_frequency_ratio(df_2022)\n",
    "# df_2022_topics.columns = ['topic', 'count_2022']\n",
    "\n",
    "# # Top 5 topics\n",
    "# df_2022_topics.head(5)"
   ]
  },
  {
   "cell_type": "code",
   "execution_count": 23,
   "id": "8d139f17",
   "metadata": {},
   "outputs": [],
   "source": [
    "# # join df_2022 and df_2021 by 'topic'\n",
    "# df_2021_2022_topics = pd.merge(df_2021_topics, df_2022_topics, on='topic', how='outer')\n",
    "# df_2021_2022_topics['change'] = df_2021_2022_topics['count_2022'] - df_2021_2022_topics['count_2021']\n",
    "# df_2021_2022_topics['change_ratio'] = df_2021_2022_topics['change'] / df_2021_2022_topics['count_2021']\n",
    "\n",
    "# # Emerging topics\n",
    "# display(df_2021_2022_topics.sort_values(by='change_ratio', ascending=False).head(5))\n",
    "\n",
    "# # Fading topics\n",
    "# display(df_2021_2022_topics.sort_values(by='change_ratio', ascending=True).head(5))"
   ]
  },
  {
   "attachments": {},
   "cell_type": "markdown",
   "id": "4f89a02f",
   "metadata": {},
   "source": [
    "## 2023"
   ]
  },
  {
   "cell_type": "code",
   "execution_count": 41,
   "id": "b2398882",
   "metadata": {},
   "outputs": [
    {
     "name": "stdout",
     "output_type": "stream",
     "text": [
      "['zero_few-shot', 'graph', 'optimization', 'reinforcement learning', 'representation']\n"
     ]
    }
   ],
   "source": [
    "# conf = '6_cvpr'\n",
    "conf = '7_icml'\n",
    "df_2022 = read_year_df_topic(year='2022', conference=conf)\n",
    "df_2023 = read_year_df_topic(year='2023', conference=conf)\n",
    "\n",
    "df_2022_topics = calculate_topic_frequency_ratio(df_2022)\n",
    "df_2023_topics = calculate_topic_frequency_ratio(df_2023)\n",
    "print(df_2023_topics.topic.head(5).tolist())"
   ]
  },
  {
   "cell_type": "code",
   "execution_count": 42,
   "id": "86c906fc",
   "metadata": {},
   "outputs": [
    {
     "name": "stdout",
     "output_type": "stream",
     "text": [
      "['motion', 'decision trees', 'radiance field', 'diffusion models', 'federated learning']\n",
      "['self-supervision', 'multi-agent', 'contrastive learning', 'meta-learning', 'transfer learning']\n"
     ]
    }
   ],
   "source": [
    "df_2022_topics.columns = ['topic', 'count_2022']\n",
    "df_2023_topics.columns = ['topic', 'count_2023']\n",
    "df_2022_2023_topics = pd.merge(df_2023_topics, df_2022_topics, on='topic', how='outer')\n",
    "\n",
    "df_2022_2023_topics['change'] = df_2022_2023_topics['count_2023'] - df_2022_2023_topics['count_2022']\n",
    "df_2022_2023_topics['change_ratio'] = df_2022_2023_topics['change'] / df_2022_2023_topics['count_2022']\n",
    "\n",
    "# Emerging topics\n",
    "print(str(df_2022_2023_topics.sort_values(by='change_ratio', ascending=False).topic.head(5).tolist()))\n",
    "\n",
    "# Fading topics\n",
    "print(str(df_2022_2023_topics.sort_values(by='change_ratio', ascending=True).topic.head(5).tolist()))"
   ]
  },
  {
   "cell_type": "code",
   "execution_count": null,
   "id": "b107255f",
   "metadata": {},
   "outputs": [],
   "source": []
  }
 ],
 "metadata": {
  "kernelspec": {
   "display_name": "Python 3 (ipykernel)",
   "language": "python",
   "name": "python3"
  },
  "language_info": {
   "codemirror_mode": {
    "name": "ipython",
    "version": 3
   },
   "file_extension": ".py",
   "mimetype": "text/x-python",
   "name": "python",
   "nbconvert_exporter": "python",
   "pygments_lexer": "ipython3",
   "version": "3.7.12"
  }
 },
 "nbformat": 4,
 "nbformat_minor": 5
}
