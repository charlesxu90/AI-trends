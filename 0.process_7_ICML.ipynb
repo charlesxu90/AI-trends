{
 "cells": [
  {
   "attachments": {},
   "cell_type": "markdown",
   "id": "c9549c84-8127-47e7-99fc-fd5e0abf4aa9",
   "metadata": {
    "tags": []
   },
   "source": [
    "# ICML"
   ]
  },
  {
   "cell_type": "code",
   "execution_count": 6,
   "id": "8c4f4a1e-bd53-4d02-b947-c13a34e1f26e",
   "metadata": {},
   "outputs": [],
   "source": [
    "import pandas as pd\n",
    "import re"
   ]
  },
  {
   "cell_type": "code",
   "execution_count": 7,
   "id": "231cadc4-24bd-41c9-bab5-bed042aee922",
   "metadata": {
    "tags": []
   },
   "outputs": [],
   "source": [
    "def format_ICML_data_to_df(raw_path, source='ICML', year=2022):    \n",
    "    file1 = open(raw_path, 'r')\n",
    "    Lines = file1.readlines()\n",
    "\n",
    "    title, authors, article_class = [], [], []\n",
    "\n",
    "    record_counter = 0\n",
    "    for line in Lines:        \n",
    "        if bool(re.search(r\"\\d{1,2}:\\d{1,2}\", line)): # Start with the line with time\n",
    "            record_counter = 1\n",
    "        elif record_counter == 1 and 'Coffee Break' not in line and 'Lunch' not in line and 'Registration' not in line and 'Expo Demonstration' not in line and 'Workshop' not in line and '·' not in line:\n",
    "            for i in range(len(title) - len(authors) - 1):\n",
    "                authors.append(\"\")\n",
    "            for i in range(len(title) - len(article_class) - 1):\n",
    "                article_class.append(\"\")\n",
    "            \n",
    "            title.append(line.strip())\n",
    "            record_counter += 1\n",
    "        elif record_counter == 2:\n",
    "            authors.append(line.strip())\n",
    "            record_counter += 1\n",
    "        elif record_counter == 3:\n",
    "            article_class.append(line.strip())\n",
    "            record_counter += 1\n",
    "        else:\n",
    "            \"Some randome line here, just ignore\"\n",
    "        \n",
    "    \n",
    "    for i in range(len(title) - len(authors)):\n",
    "        authors.append(\"\")\n",
    "    for i in range(len(title) - len(article_class)):\n",
    "        article_class.append(\"\")\n",
    "    \n",
    "    article_year = [year] * len(title)\n",
    "    article_source = [source] * len(title)\n",
    "\n",
    "    data_frame = pd.DataFrame({'Title':title, 'Year': article_year, 'Source': article_source, 'Authors': authors, 'Class': article_class})\n",
    "    return data_frame"
   ]
  },
  {
   "cell_type": "code",
   "execution_count": 8,
   "id": "27a735a0",
   "metadata": {},
   "outputs": [],
   "source": [
    "def remove_duplicates(data_frame):\n",
    "    raw_length = len(data_frame)\n",
    "    data_frame = data_frame.drop_duplicates(subset = \"Title\")\n",
    "    print(f\"Totally {raw_length} papers, {len(data_frame)} left after remve duplicates.\")\n",
    "    return data_frame"
   ]
  },
  {
   "attachments": {},
   "cell_type": "markdown",
   "id": "9d4b4c3a-17a6-4b44-a441-0557c840f9f6",
   "metadata": {},
   "source": [
    "## ICML 2022"
   ]
  },
  {
   "cell_type": "code",
   "execution_count": 9,
   "id": "c336c044-2762-4ec6-8b65-6997407fdc4a",
   "metadata": {},
   "outputs": [
    {
     "name": "stdout",
     "output_type": "stream",
     "text": [
      "Totally 2649 papers, 1379 left after remve duplicates.\n"
     ]
    }
   ],
   "source": [
    "df_ICML_22 = format_ICML_data_to_df(\"./data/raw/ICML/ICML-22.txt\", source='ICML', year=2022)\n",
    "df_ICML_22 = remove_duplicates(df_ICML_22)\n",
    "df_ICML_22[['Title', 'Year', 'Source', 'Authors', 'Class']].to_csv('./data/2022/ICML_22.csv', index=False)"
   ]
  },
  {
   "attachments": {},
   "cell_type": "markdown",
   "id": "6e8e6981-18f5-4cba-bfb9-4b419e67d989",
   "metadata": {},
   "source": [
    "## ICML 2021"
   ]
  },
  {
   "cell_type": "code",
   "execution_count": 10,
   "id": "cfd95466-cc0e-4426-8f7a-28c917edb63d",
   "metadata": {},
   "outputs": [
    {
     "name": "stdout",
     "output_type": "stream",
     "text": [
      "Totally 2617 papers, 1261 left after remve duplicates.\n"
     ]
    }
   ],
   "source": [
    "df_ICML_21 = format_ICML_data_to_df(\"./data/raw/ICML/ICML-21.txt\", source='ICML', year=2021)\n",
    "df_ICML_21 = remove_duplicates(df_ICML_21)\n",
    "df_ICML_21[['Title', 'Year', 'Source', 'Authors', 'Class']].to_csv('./data/2021/ICML_21.csv', index=False)"
   ]
  },
  {
   "cell_type": "code",
   "execution_count": null,
   "id": "4e7e140f-eac6-4437-be07-beee0e75ec6e",
   "metadata": {},
   "outputs": [],
   "source": []
  }
 ],
 "metadata": {
  "kernelspec": {
   "display_name": "Python 3 (ipykernel)",
   "language": "python",
   "name": "python3"
  },
  "language_info": {
   "codemirror_mode": {
    "name": "ipython",
    "version": 3
   },
   "file_extension": ".py",
   "mimetype": "text/x-python",
   "name": "python",
   "nbconvert_exporter": "python",
   "pygments_lexer": "ipython3",
   "version": "3.7.12"
  }
 },
 "nbformat": 4,
 "nbformat_minor": 5
}
